{
 "cells": [
  {
   "cell_type": "markdown",
   "id": "a863f596",
   "metadata": {
    "lines_to_next_cell": 2
   },
   "source": [
    "# Antenna toolkit example\n",
    "\n",
    "This example demonstrates how to use the ``ToolkitBackend`` class.\n",
    "It initiates AEDT through PyAEDT, sets up an empty HFSS design, and proceeds to create the antenna."
   ]
  },
  {
   "cell_type": "markdown",
   "id": "d53a4f4a",
   "metadata": {},
   "source": [
    "## Perform required imports"
   ]
  },
  {
   "cell_type": "code",
   "execution_count": 1,
   "id": "08db4ee5",
   "metadata": {
    "execution": {
     "iopub.execute_input": "2024-10-14T17:25:50.497100Z",
     "iopub.status.busy": "2024-10-14T17:25:50.497100Z",
     "iopub.status.idle": "2024-10-14T17:25:50.512681Z",
     "shell.execute_reply": "2024-10-14T17:25:50.512681Z"
    }
   },
   "outputs": [],
   "source": [
    "import sys\n",
    "import tempfile"
   ]
  },
  {
   "cell_type": "code",
   "execution_count": 2,
   "id": "644ad7a9",
   "metadata": {
    "execution": {
     "iopub.execute_input": "2024-10-14T17:25:50.512681Z",
     "iopub.status.busy": "2024-10-14T17:25:50.512681Z",
     "iopub.status.idle": "2024-10-14T17:25:51.637762Z",
     "shell.execute_reply": "2024-10-14T17:25:51.637762Z"
    }
   },
   "outputs": [
    {
     "ename": "ModuleNotFoundError",
     "evalue": "No module named 'ansys.aedt.core.generic.farfield_visualization'",
     "output_type": "error",
     "traceback": [
      "\u001b[1;31m---------------------------------------------------------------------------\u001b[0m",
      "\u001b[1;31mModuleNotFoundError\u001b[0m                       Traceback (most recent call last)",
      "Cell \u001b[1;32mIn[2], line 2\u001b[0m\n\u001b[0;32m      1\u001b[0m \u001b[38;5;28;01mfrom\u001b[39;00m \u001b[38;5;21;01mansys\u001b[39;00m\u001b[38;5;21;01m.\u001b[39;00m\u001b[38;5;21;01maedt\u001b[39;00m\u001b[38;5;21;01m.\u001b[39;00m\u001b[38;5;21;01mcore\u001b[39;00m \u001b[38;5;28;01mimport\u001b[39;00m generate_unique_project_name\n\u001b[1;32m----> 2\u001b[0m \u001b[38;5;28;01mfrom\u001b[39;00m \u001b[38;5;21;01mansys\u001b[39;00m\u001b[38;5;21;01m.\u001b[39;00m\u001b[38;5;21;01maedt\u001b[39;00m\u001b[38;5;21;01m.\u001b[39;00m\u001b[38;5;21;01mcore\u001b[39;00m\u001b[38;5;21;01m.\u001b[39;00m\u001b[38;5;21;01mgeneric\u001b[39;00m\u001b[38;5;21;01m.\u001b[39;00m\u001b[38;5;21;01mfarfield_visualization\u001b[39;00m \u001b[38;5;28;01mimport\u001b[39;00m FfdSolutionData\n",
      "\u001b[1;31mModuleNotFoundError\u001b[0m: No module named 'ansys.aedt.core.generic.farfield_visualization'"
     ]
    }
   ],
   "source": [
    "from ansys.aedt.core import generate_unique_project_name\n",
    "from ansys.aedt.core.generic.farfield_visualization import FfdSolutionData"
   ]
  },
  {
   "cell_type": "code",
   "execution_count": 3,
   "id": "f4d070c9",
   "metadata": {
    "execution": {
     "iopub.execute_input": "2024-10-14T17:25:51.637762Z",
     "iopub.status.busy": "2024-10-14T17:25:51.637762Z",
     "iopub.status.idle": "2024-10-14T17:25:53.887823Z",
     "shell.execute_reply": "2024-10-14T17:25:53.887823Z"
    }
   },
   "outputs": [],
   "source": [
    "from ansys.aedt.toolkits.antenna.backend.api import ToolkitBackend\n",
    "from ansys.aedt.toolkits.antenna.backend.models import properties"
   ]
  },
  {
   "cell_type": "markdown",
   "id": "82b912ae",
   "metadata": {},
   "source": [
    "##  Set AEDT version\n",
    "\n",
    "Set AEDT version."
   ]
  },
  {
   "cell_type": "code",
   "execution_count": 4,
   "id": "a99f19b8",
   "metadata": {
    "execution": {
     "iopub.execute_input": "2024-10-14T17:25:53.887823Z",
     "iopub.status.busy": "2024-10-14T17:25:53.887823Z",
     "iopub.status.idle": "2024-10-14T17:25:53.903392Z",
     "shell.execute_reply": "2024-10-14T17:25:53.903392Z"
    }
   },
   "outputs": [],
   "source": [
    "aedt_version = \"2024.2\""
   ]
  },
  {
   "cell_type": "markdown",
   "id": "0b45ce31",
   "metadata": {},
   "source": [
    "## Set non-graphical mode\n",
    "\n",
    "Set non-graphical mode."
   ]
  },
  {
   "cell_type": "code",
   "execution_count": 5,
   "id": "81c167c4",
   "metadata": {
    "execution": {
     "iopub.execute_input": "2024-10-14T17:25:53.903392Z",
     "iopub.status.busy": "2024-10-14T17:25:53.903392Z",
     "iopub.status.idle": "2024-10-14T17:25:53.919017Z",
     "shell.execute_reply": "2024-10-14T17:25:53.919017Z"
    }
   },
   "outputs": [],
   "source": [
    "non_graphical = True"
   ]
  },
  {
   "cell_type": "markdown",
   "id": "06d1db50",
   "metadata": {},
   "source": [
    "## Create temporary directory"
   ]
  },
  {
   "cell_type": "code",
   "execution_count": 6,
   "id": "997135b7",
   "metadata": {
    "execution": {
     "iopub.execute_input": "2024-10-14T17:25:53.919017Z",
     "iopub.status.busy": "2024-10-14T17:25:53.919017Z",
     "iopub.status.idle": "2024-10-14T17:25:53.934642Z",
     "shell.execute_reply": "2024-10-14T17:25:53.934642Z"
    }
   },
   "outputs": [],
   "source": [
    "temp_dir = tempfile.TemporaryDirectory(suffix=\"_ansys\")\n",
    "project_name = generate_unique_project_name(root_name=temp_dir.name, project_name=\"antenna_toolkit\")"
   ]
  },
  {
   "cell_type": "markdown",
   "id": "3b136abb",
   "metadata": {},
   "source": [
    "## Set default properties"
   ]
  },
  {
   "cell_type": "code",
   "execution_count": 7,
   "id": "066a2857",
   "metadata": {
    "execution": {
     "iopub.execute_input": "2024-10-14T17:25:53.934642Z",
     "iopub.status.busy": "2024-10-14T17:25:53.934642Z",
     "iopub.status.idle": "2024-10-14T17:25:53.950266Z",
     "shell.execute_reply": "2024-10-14T17:25:53.950266Z"
    }
   },
   "outputs": [],
   "source": [
    "properties.aedt_version = aedt_version\n",
    "properties.non_graphical = non_graphical\n",
    "properties.active_project = project_name"
   ]
  },
  {
   "cell_type": "markdown",
   "id": "6195cf27",
   "metadata": {},
   "source": [
    "## Initialize toolkit\n",
    "\n",
    "Initialize the toolkit."
   ]
  },
  {
   "cell_type": "code",
   "execution_count": 8,
   "id": "894fbd97",
   "metadata": {
    "execution": {
     "iopub.execute_input": "2024-10-14T17:25:53.950266Z",
     "iopub.status.busy": "2024-10-14T17:25:53.950266Z",
     "iopub.status.idle": "2024-10-14T17:25:53.965893Z",
     "shell.execute_reply": "2024-10-14T17:25:53.965893Z"
    }
   },
   "outputs": [],
   "source": [
    "toolkit_api = ToolkitBackend()"
   ]
  },
  {
   "cell_type": "markdown",
   "id": "df88364e",
   "metadata": {},
   "source": [
    "## Get available_antennas"
   ]
  },
  {
   "cell_type": "code",
   "execution_count": 9,
   "id": "d09052a5",
   "metadata": {
    "execution": {
     "iopub.execute_input": "2024-10-14T17:25:53.965893Z",
     "iopub.status.busy": "2024-10-14T17:25:53.965893Z",
     "iopub.status.idle": "2024-10-14T17:25:53.981518Z",
     "shell.execute_reply": "2024-10-14T17:25:53.981518Z"
    }
   },
   "outputs": [
    {
     "name": "stdout",
     "output_type": "stream",
     "text": [
      "['BowTieNormal', 'BowTieRounded', 'BowTieSlot', 'Archimedean', 'Log', 'Sinuous', 'AxialMode', 'Conical', 'Corrugated', 'EPlane', 'Elliptical', 'HPlane', 'Pyramidal', 'PyramidalRidged', 'QuadRidged', 'RectangularPatchEdge', 'RectangularPatchInset', 'RectangularPatchProbe']\n"
     ]
    }
   ],
   "source": [
    "print(toolkit_api.available_antennas)"
   ]
  },
  {
   "cell_type": "markdown",
   "id": "25b723aa",
   "metadata": {},
   "source": [
    "## Get default properties"
   ]
  },
  {
   "cell_type": "code",
   "execution_count": 10,
   "id": "c7abe377",
   "metadata": {
    "execution": {
     "iopub.execute_input": "2024-10-14T17:25:53.981518Z",
     "iopub.status.busy": "2024-10-14T17:25:53.981518Z",
     "iopub.status.idle": "2024-10-14T17:25:53.997142Z",
     "shell.execute_reply": "2024-10-14T17:25:53.997142Z"
    }
   },
   "outputs": [],
   "source": [
    "backend_properties = toolkit_api.get_properties()\n",
    "frequency = backend_properties[\"antenna\"][\"synthesis\"][\"frequency\"]\n",
    "frequency_units = backend_properties[\"antenna\"][\"synthesis\"][\"frequency_unit\"]\n",
    "length_unit = backend_properties[\"antenna\"][\"synthesis\"][\"length_unit\"]"
   ]
  },
  {
   "cell_type": "markdown",
   "id": "463ce63c",
   "metadata": {},
   "source": [
    "## Modify default length units"
   ]
  },
  {
   "cell_type": "code",
   "execution_count": 11,
   "id": "91d220ca",
   "metadata": {
    "execution": {
     "iopub.execute_input": "2024-10-14T17:25:53.997142Z",
     "iopub.status.busy": "2024-10-14T17:25:53.997142Z",
     "iopub.status.idle": "2024-10-14T17:25:54.012771Z",
     "shell.execute_reply": "2024-10-14T17:25:54.012771Z"
    }
   },
   "outputs": [],
   "source": [
    "properties.antenna.synthesis.length_unit = \"cm\""
   ]
  },
  {
   "cell_type": "markdown",
   "id": "08bdf40b",
   "metadata": {},
   "source": [
    "## Create antenna object only for synthesis\n",
    "\n",
    "Create antenna object."
   ]
  },
  {
   "cell_type": "code",
   "execution_count": 12,
   "id": "36eea424",
   "metadata": {
    "execution": {
     "iopub.execute_input": "2024-10-14T17:25:54.012771Z",
     "iopub.status.busy": "2024-10-14T17:25:54.012771Z",
     "iopub.status.idle": "2024-10-14T17:25:54.169076Z",
     "shell.execute_reply": "2024-10-14T17:25:54.169076Z"
    }
   },
   "outputs": [
    {
     "name": "stderr",
     "output_type": "stream",
     "text": [
      "INFO - AEDT is released.\n"
     ]
    }
   ],
   "source": [
    "antenna_parameters_1 = toolkit_api.get_antenna(\"RectangularPatchProbe\", synth_only=True)"
   ]
  },
  {
   "cell_type": "code",
   "execution_count": 13,
   "id": "34b47a92",
   "metadata": {
    "execution": {
     "iopub.execute_input": "2024-10-14T17:25:54.169076Z",
     "iopub.status.busy": "2024-10-14T17:25:54.169076Z",
     "iopub.status.idle": "2024-10-14T17:25:54.184723Z",
     "shell.execute_reply": "2024-10-14T17:25:54.184723Z"
    }
   },
   "outputs": [
    {
     "name": "stdout",
     "output_type": "stream",
     "text": [
      "Patch X length: 0.912871meter at 10.0GHz\n"
     ]
    }
   ],
   "source": [
    "print(\n",
    "    \"Patch X length: {}{} at {}{}\".format(\n",
    "        str(antenna_parameters_1[\"patch_x\"]),\n",
    "        length_unit,\n",
    "        frequency,\n",
    "        frequency_units,\n",
    "    )\n",
    ")"
   ]
  },
  {
   "cell_type": "markdown",
   "id": "dd5791cb",
   "metadata": {},
   "source": [
    "## Change synthesis frequency\n",
    "\n",
    "Modify resonance frequency and modify parameters with the ``set_properties()`` method."
   ]
  },
  {
   "cell_type": "code",
   "execution_count": 14,
   "id": "4f98a12a",
   "metadata": {
    "execution": {
     "iopub.execute_input": "2024-10-14T17:25:54.184723Z",
     "iopub.status.busy": "2024-10-14T17:25:54.184723Z",
     "iopub.status.idle": "2024-10-14T17:25:54.200276Z",
     "shell.execute_reply": "2024-10-14T17:25:54.200276Z"
    }
   },
   "outputs": [
    {
     "name": "stderr",
     "output_type": "stream",
     "text": [
      "INFO - Updating internal properties.\n"
     ]
    },
    {
     "name": "stderr",
     "output_type": "stream",
     "text": [
      "DEBUG - Updating 'frequency' with value 12.0\n"
     ]
    },
    {
     "name": "stderr",
     "output_type": "stream",
     "text": [
      "DEBUG - Properties were updated successfully.\n"
     ]
    },
    {
     "data": {
      "text/plain": [
       "(True, 'Properties were updated successfully.')"
      ]
     },
     "execution_count": 14,
     "metadata": {},
     "output_type": "execute_result"
    }
   ],
   "source": [
    "new_frequency1 = 12.0\n",
    "new_properties = {\"frequency\": new_frequency1}\n",
    "toolkit_api.set_properties(new_properties)"
   ]
  },
  {
   "cell_type": "code",
   "execution_count": 15,
   "id": "32fdd155",
   "metadata": {
    "execution": {
     "iopub.execute_input": "2024-10-14T17:25:54.200276Z",
     "iopub.status.busy": "2024-10-14T17:25:54.200276Z",
     "iopub.status.idle": "2024-10-14T17:25:54.340958Z",
     "shell.execute_reply": "2024-10-14T17:25:54.340958Z"
    }
   },
   "outputs": [
    {
     "name": "stderr",
     "output_type": "stream",
     "text": [
      "INFO - AEDT is released.\n"
     ]
    }
   ],
   "source": [
    "antenna_parameters_2 = toolkit_api.get_antenna(\"RectangularPatchProbe\", synth_only=True)"
   ]
  },
  {
   "cell_type": "code",
   "execution_count": 16,
   "id": "8f91b605",
   "metadata": {
    "execution": {
     "iopub.execute_input": "2024-10-14T17:25:54.340958Z",
     "iopub.status.busy": "2024-10-14T17:25:54.340958Z",
     "iopub.status.idle": "2024-10-14T17:25:54.356583Z",
     "shell.execute_reply": "2024-10-14T17:25:54.356583Z"
    }
   },
   "outputs": [
    {
     "name": "stdout",
     "output_type": "stream",
     "text": [
      "Patch X length: 0.760726meter at 12.0GHz\n"
     ]
    }
   ],
   "source": [
    "print(\n",
    "    \"Patch X length: {}{} at {}{}\".format(\n",
    "        str(antenna_parameters_2[\"patch_x\"]),\n",
    "        length_unit,\n",
    "        new_frequency1,\n",
    "        frequency_units,\n",
    "    )\n",
    ")"
   ]
  },
  {
   "cell_type": "markdown",
   "id": "46e1914e",
   "metadata": {},
   "source": [
    "## Change synthesis frequency\n",
    "\n",
    "Modify resonance frequency with properties directly."
   ]
  },
  {
   "cell_type": "code",
   "execution_count": 17,
   "id": "f2955b38",
   "metadata": {
    "execution": {
     "iopub.execute_input": "2024-10-14T17:25:54.356583Z",
     "iopub.status.busy": "2024-10-14T17:25:54.356583Z",
     "iopub.status.idle": "2024-10-14T17:25:54.372229Z",
     "shell.execute_reply": "2024-10-14T17:25:54.372229Z"
    }
   },
   "outputs": [],
   "source": [
    "new_frequency2 = 15.0\n",
    "properties.antenna.synthesis.frequency = new_frequency2"
   ]
  },
  {
   "cell_type": "code",
   "execution_count": 18,
   "id": "1ba0d3a0",
   "metadata": {
    "execution": {
     "iopub.execute_input": "2024-10-14T17:25:54.372229Z",
     "iopub.status.busy": "2024-10-14T17:25:54.372229Z",
     "iopub.status.idle": "2024-10-14T17:25:54.528463Z",
     "shell.execute_reply": "2024-10-14T17:25:54.528463Z"
    }
   },
   "outputs": [
    {
     "name": "stderr",
     "output_type": "stream",
     "text": [
      "INFO - AEDT is released.\n"
     ]
    }
   ],
   "source": [
    "antenna_parameters_3 = toolkit_api.get_antenna(\"RectangularPatchProbe\", synth_only=True)"
   ]
  },
  {
   "cell_type": "code",
   "execution_count": 19,
   "id": "1063cb27",
   "metadata": {
    "execution": {
     "iopub.execute_input": "2024-10-14T17:25:54.528463Z",
     "iopub.status.busy": "2024-10-14T17:25:54.528463Z",
     "iopub.status.idle": "2024-10-14T17:25:54.544089Z",
     "shell.execute_reply": "2024-10-14T17:25:54.544089Z"
    }
   },
   "outputs": [
    {
     "name": "stdout",
     "output_type": "stream",
     "text": [
      "Patch X length: 0.608581meter at 15.0GHz\n"
     ]
    }
   ],
   "source": [
    "print(\n",
    "    \"Patch X length: {}{} at {}{}\".format(\n",
    "        str(antenna_parameters_3[\"patch_x\"]),\n",
    "        length_unit,\n",
    "        new_frequency2,\n",
    "        frequency_units,\n",
    "    )\n",
    ")"
   ]
  },
  {
   "cell_type": "markdown",
   "id": "acf507c3",
   "metadata": {},
   "source": [
    "## Initialize AEDT\n",
    "\n",
    "Launch a new AEDT session in a thread."
   ]
  },
  {
   "cell_type": "code",
   "execution_count": 20,
   "id": "e45491c8",
   "metadata": {
    "execution": {
     "iopub.execute_input": "2024-10-14T17:25:54.544089Z",
     "iopub.status.busy": "2024-10-14T17:25:54.544089Z",
     "iopub.status.idle": "2024-10-14T17:25:54.559658Z",
     "shell.execute_reply": "2024-10-14T17:25:54.559658Z"
    }
   },
   "outputs": [
    {
     "name": "stderr",
     "output_type": "stream",
     "text": [
      "DEBUG - Starting thread: Toolkit_Thread\n"
     ]
    },
    {
     "name": "stderr",
     "output_type": "stream",
     "text": [
      "DEBUG - Toolkit is not connected to AEDT.\n"
     ]
    },
    {
     "name": "stderr",
     "output_type": "stream",
     "text": [
      "DEBUG - Launching AEDT.\n"
     ]
    },
    {
     "name": "stdout",
     "output_type": "stream",
     "text": [
      "PyAEDT INFO: Python version 3.10.11 (tags/v3.10.11:7d4cc5a, Apr  5 2023, 00:38:17) [MSC v.1929 64 bit (AMD64)]\n"
     ]
    },
    {
     "name": "stdout",
     "output_type": "stream",
     "text": [
      "PyAEDT INFO: PyAEDT version 0.11.0.\n"
     ]
    },
    {
     "name": "stdout",
     "output_type": "stream",
     "text": [
      "PyAEDT INFO: Initializing new Desktop session.\n"
     ]
    }
   ],
   "source": [
    "thread_msg = toolkit_api.launch_thread(toolkit_api.launch_aedt)"
   ]
  },
  {
   "cell_type": "markdown",
   "id": "4fac403f",
   "metadata": {},
   "source": [
    "## Wait for the toolkit thread to be idle\n",
    "\n",
    "Wait for the toolkit thread to be idle and ready to accept a new task."
   ]
  },
  {
   "cell_type": "code",
   "execution_count": 21,
   "id": "0de4fb8b",
   "metadata": {
    "execution": {
     "iopub.execute_input": "2024-10-14T17:25:54.559658Z",
     "iopub.status.busy": "2024-10-14T17:25:54.559658Z",
     "iopub.status.idle": "2024-10-14T17:26:00.614585Z",
     "shell.execute_reply": "2024-10-14T17:26:00.613379Z"
    }
   },
   "outputs": [
    {
     "name": "stderr",
     "output_type": "stream",
     "text": [
      "DEBUG - Toolkit is busy and processing a task.\n"
     ]
    },
    {
     "name": "stderr",
     "output_type": "stream",
     "text": [
      "DEBUG - Toolkit is busy and processing a task.\n"
     ]
    },
    {
     "name": "stderr",
     "output_type": "stream",
     "text": [
      "DEBUG - Toolkit is busy and processing a task.\n"
     ]
    },
    {
     "name": "stderr",
     "output_type": "stream",
     "text": [
      "DEBUG - Toolkit is busy and processing a task.\n"
     ]
    },
    {
     "name": "stderr",
     "output_type": "stream",
     "text": [
      "DEBUG - Toolkit is busy and processing a task.\n"
     ]
    },
    {
     "name": "stderr",
     "output_type": "stream",
     "text": [
      "DEBUG - Toolkit is idle and ready to accept a new task.\n"
     ]
    }
   ],
   "source": [
    "idle = toolkit_api.wait_to_be_idle()\n",
    "if not idle:\n",
    "    print(\"AEDT not initialized.\")\n",
    "    sys.exit()"
   ]
  },
  {
   "cell_type": "markdown",
   "id": "98f55c61",
   "metadata": {},
   "source": [
    "## Connect to HFSS design\n",
    "\n",
    "Create an HFSS design."
   ]
  },
  {
   "cell_type": "code",
   "execution_count": 22,
   "id": "cd0ece60",
   "metadata": {
    "execution": {
     "iopub.execute_input": "2024-10-14T17:26:00.614585Z",
     "iopub.status.busy": "2024-10-14T17:26:00.614585Z",
     "iopub.status.idle": "2024-10-14T17:26:32.625175Z",
     "shell.execute_reply": "2024-10-14T17:26:32.625175Z"
    }
   },
   "outputs": [
    {
     "name": "stderr",
     "output_type": "stream",
     "text": [
      "DEBUG - Toolkit is not connected to AEDT.\n"
     ]
    },
    {
     "name": "stderr",
     "output_type": "stream",
     "text": [
      "DEBUG - Connecting AEDT.\n"
     ]
    },
    {
     "name": "stdout",
     "output_type": "stream",
     "text": [
      "PyAEDT INFO: Python version 3.10.11 (tags/v3.10.11:7d4cc5a, Apr  5 2023, 00:38:17) [MSC v.1929 64 bit (AMD64)]\n"
     ]
    },
    {
     "name": "stdout",
     "output_type": "stream",
     "text": [
      "PyAEDT INFO: PyAEDT version 0.11.0.\n"
     ]
    },
    {
     "name": "stdout",
     "output_type": "stream",
     "text": [
      "PyAEDT INFO: Initializing new Desktop session.\n"
     ]
    },
    {
     "name": "stdout",
     "output_type": "stream",
     "text": [
      "PyAEDT WARNING: Argument `specified_version` is deprecated for method `__init__`; use `version` instead.\n"
     ]
    },
    {
     "name": "stdout",
     "output_type": "stream",
     "text": [
      "PyAEDT WARNING: Argument `new_desktop_session` is deprecated for method `__init__`; use `new_desktop` instead.\n"
     ]
    },
    {
     "name": "stdout",
     "output_type": "stream",
     "text": [
      "PyAEDT INFO: Log on console is enabled.\n"
     ]
    },
    {
     "name": "stdout",
     "output_type": "stream",
     "text": [
      "PyAEDT INFO: Log on file C:\\Users\\ansys\\AppData\\Local\\Temp\\pyaedt_ansys_720f8afc-9987-41e8-9947-0e20ae867ddc.log is enabled.\n"
     ]
    },
    {
     "name": "stdout",
     "output_type": "stream",
     "text": [
      "PyAEDT INFO: Log on AEDT is disabled.\n"
     ]
    },
    {
     "name": "stdout",
     "output_type": "stream",
     "text": [
      "PyAEDT INFO: Debug logger is disabled. PyAEDT methods will not be logged.\n"
     ]
    },
    {
     "name": "stdout",
     "output_type": "stream",
     "text": [
      "PyAEDT INFO: Launching PyAEDT with gRPC plugin.\n"
     ]
    },
    {
     "name": "stdout",
     "output_type": "stream",
     "text": [
      "PyAEDT INFO: Connecting to AEDT session on gRPC port 58149\n"
     ]
    },
    {
     "name": "stdout",
     "output_type": "stream",
     "text": [
      "PyAEDT INFO: AEDT installation Path C:\\Program Files\\AnsysEM\\v242\\Win64\n"
     ]
    },
    {
     "name": "stderr",
     "output_type": "stream",
     "text": [
      "DEBUG - Toolkit is connected to AEDT.\n"
     ]
    },
    {
     "name": "stdout",
     "output_type": "stream",
     "text": [
      "PyAEDT WARNING: Argument `designname` is deprecated for method `__init__`; use `design` instead.\n"
     ]
    },
    {
     "name": "stdout",
     "output_type": "stream",
     "text": [
      "PyAEDT WARNING: Argument `projectname` is deprecated for method `__init__`; use `project` instead.\n"
     ]
    },
    {
     "name": "stdout",
     "output_type": "stream",
     "text": [
      "PyAEDT WARNING: Argument `specified_version` is deprecated for method `__init__`; use `version` instead.\n"
     ]
    },
    {
     "name": "stdout",
     "output_type": "stream",
     "text": [
      "PyAEDT WARNING: Argument `new_desktop_session` is deprecated for method `__init__`; use `new_desktop` instead.\n"
     ]
    },
    {
     "name": "stdout",
     "output_type": "stream",
     "text": [
      "PyAEDT INFO: Python version 3.10.11 (tags/v3.10.11:7d4cc5a, Apr  5 2023, 00:38:17) [MSC v.1929 64 bit (AMD64)]\n"
     ]
    },
    {
     "name": "stdout",
     "output_type": "stream",
     "text": [
      "PyAEDT INFO: PyAEDT version 0.11.0.\n"
     ]
    },
    {
     "name": "stdout",
     "output_type": "stream",
     "text": [
      "PyAEDT INFO: Returning found Desktop session with PID 1288!\n"
     ]
    },
    {
     "name": "stdout",
     "output_type": "stream",
     "text": [
      "PyAEDT INFO: Project antenna_toolkit has been created.\n"
     ]
    },
    {
     "name": "stdout",
     "output_type": "stream",
     "text": [
      "PyAEDT INFO: Added design 'HFSS_WCR9NB' of type HFSS.\n"
     ]
    },
    {
     "name": "stdout",
     "output_type": "stream",
     "text": [
      "PyAEDT INFO: Aedt Objects correctly read\n"
     ]
    },
    {
     "name": "stdout",
     "output_type": "stream",
     "text": [
      "PyAEDT INFO: Project antenna_toolkit Saved correctly\n"
     ]
    },
    {
     "name": "stderr",
     "output_type": "stream",
     "text": [
      "DEBUG - Project name: antenna_toolkit\n"
     ]
    },
    {
     "name": "stderr",
     "output_type": "stream",
     "text": [
      "INFO - Updating internal properties.\n"
     ]
    },
    {
     "name": "stderr",
     "output_type": "stream",
     "text": [
      "DEBUG - Updating 'project_list' with value ['C:/Users/ansys/AppData/Local/Temp/tmpq7o18hpv_ansys/pyaedt_prj_8HB/antenna_toolkit.aedt']\n"
     ]
    },
    {
     "name": "stderr",
     "output_type": "stream",
     "text": [
      "DEBUG - Updating 'active_design' with value HFSS_WCR9NB\n"
     ]
    },
    {
     "name": "stderr",
     "output_type": "stream",
     "text": [
      "DEBUG - Updating 'active_project' with value C:/Users/ansys/AppData/Local/Temp/tmpq7o18hpv_ansys/pyaedt_prj_8HB/antenna_toolkit.aedt\n"
     ]
    },
    {
     "name": "stderr",
     "output_type": "stream",
     "text": [
      "DEBUG - Updating 'design_list' with value {'antenna_toolkit': ['HFSS_WCR9NB']}\n"
     ]
    },
    {
     "name": "stderr",
     "output_type": "stream",
     "text": [
      "DEBUG - Properties were updated successfully.\n"
     ]
    },
    {
     "name": "stderr",
     "output_type": "stream",
     "text": [
      "INFO - Toolkit is connected to AEDT design.\n"
     ]
    },
    {
     "data": {
      "text/plain": [
       "True"
      ]
     },
     "execution_count": 22,
     "metadata": {},
     "output_type": "execute_result"
    }
   ],
   "source": [
    "toolkit_api.connect_design(\"HFSS\")"
   ]
  },
  {
   "cell_type": "markdown",
   "id": "3e9a7938",
   "metadata": {},
   "source": [
    "## Create setup when antenna is created\n",
    "\n",
    "Set ``create_setup`` property."
   ]
  },
  {
   "cell_type": "code",
   "execution_count": 23,
   "id": "ccdc0717",
   "metadata": {
    "execution": {
     "iopub.execute_input": "2024-10-14T17:26:32.625175Z",
     "iopub.status.busy": "2024-10-14T17:26:32.625175Z",
     "iopub.status.idle": "2024-10-14T17:26:32.640850Z",
     "shell.execute_reply": "2024-10-14T17:26:32.640850Z"
    }
   },
   "outputs": [],
   "source": [
    "properties.antenna.setup.create_setup = True\n",
    "properties.antenna.synthesis.outer_boundary = \"Radiation\""
   ]
  },
  {
   "cell_type": "markdown",
   "id": "782bab4b",
   "metadata": {},
   "source": [
    "## Create antenna in HFSS\n",
    "\n",
    "Create antenna and set up in HFSS."
   ]
  },
  {
   "cell_type": "code",
   "execution_count": 24,
   "id": "03378716",
   "metadata": {
    "execution": {
     "iopub.execute_input": "2024-10-14T17:26:32.640850Z",
     "iopub.status.busy": "2024-10-14T17:26:32.640850Z",
     "iopub.status.idle": "2024-10-14T17:26:39.141398Z",
     "shell.execute_reply": "2024-10-14T17:26:39.141398Z"
    }
   },
   "outputs": [
    {
     "name": "stdout",
     "output_type": "stream",
     "text": [
      "PyAEDT INFO: Modeler class has been initialized! Elapsed time: 0m 3sec\n"
     ]
    },
    {
     "name": "stdout",
     "output_type": "stream",
     "text": [
      "PyAEDT INFO: Materials class has been initialized! Elapsed time: 0m 0sec\n"
     ]
    },
    {
     "name": "stdout",
     "output_type": "stream",
     "text": [
      "PyAEDT INFO: Open Region correctly created.\n"
     ]
    },
    {
     "name": "stdout",
     "output_type": "stream",
     "text": [
      "PyAEDT INFO: Project antenna_toolkit Saved correctly\n"
     ]
    },
    {
     "name": "stdout",
     "output_type": "stream",
     "text": [
      "PyAEDT WARNING: Argument `cs_plane` is deprecated for method `create_circle`; use `orientation` instead.\n"
     ]
    },
    {
     "name": "stdout",
     "output_type": "stream",
     "text": [
      "PyAEDT WARNING: Argument `cs_plane` is deprecated for method `create_circle`; use `orientation` instead.\n"
     ]
    },
    {
     "name": "stdout",
     "output_type": "stream",
     "text": [
      "PyAEDT INFO: Boundary Perfect E PerfE_HHH1P6 has been correctly created.\n"
     ]
    },
    {
     "name": "stdout",
     "output_type": "stream",
     "text": [
      "PyAEDT INFO: Boundary Perfect E PerfE_QE7AUQ has been correctly created.\n"
     ]
    },
    {
     "name": "stdout",
     "output_type": "stream",
     "text": [
      "PyAEDT INFO: Boundary Perfect E PerfE_JHR0TQ has been correctly created.\n"
     ]
    },
    {
     "name": "stdout",
     "output_type": "stream",
     "text": [
      "PyAEDT INFO: Boundary AutoIdentify port_Patch_P0JQ4A_1 has been correctly created.\n"
     ]
    },
    {
     "name": "stdout",
     "output_type": "stream",
     "text": [
      "PyAEDT INFO: Project antenna_toolkit Saved correctly\n"
     ]
    },
    {
     "name": "stdout",
     "output_type": "stream",
     "text": [
      "PyAEDT INFO: Desktop has been released.\n"
     ]
    },
    {
     "name": "stderr",
     "output_type": "stream",
     "text": [
      "INFO - AEDT is released.\n"
     ]
    }
   ],
   "source": [
    "antenna_parameter = toolkit_api.get_antenna(\"RectangularPatchProbe\")"
   ]
  },
  {
   "cell_type": "markdown",
   "id": "9b7265e7",
   "metadata": {},
   "source": [
    "## Try. to create antenna\n",
    "\n",
    "The AEDT Antenna Toolkit API does not allow the creation of more than one antenna. However, you can use the antenna\n",
    "model's API to create more than one antenna."
   ]
  },
  {
   "cell_type": "code",
   "execution_count": 25,
   "id": "c153cd87",
   "metadata": {
    "execution": {
     "iopub.execute_input": "2024-10-14T17:26:39.141398Z",
     "iopub.status.busy": "2024-10-14T17:26:39.141398Z",
     "iopub.status.idle": "2024-10-14T17:26:39.157000Z",
     "shell.execute_reply": "2024-10-14T17:26:39.157000Z"
    }
   },
   "outputs": [
    {
     "name": "stderr",
     "output_type": "stream",
     "text": [
      "DEBUG - Antenna is already created.\n"
     ]
    }
   ],
   "source": [
    "new_antenna = toolkit_api.get_antenna(\"BowTie\")"
   ]
  },
  {
   "cell_type": "code",
   "execution_count": 26,
   "id": "7cd338cd",
   "metadata": {
    "execution": {
     "iopub.execute_input": "2024-10-14T17:26:39.157000Z",
     "iopub.status.busy": "2024-10-14T17:26:39.157000Z",
     "iopub.status.idle": "2024-10-14T17:26:39.172625Z",
     "shell.execute_reply": "2024-10-14T17:26:39.172625Z"
    }
   },
   "outputs": [
    {
     "name": "stdout",
     "output_type": "stream",
     "text": [
      "False\n"
     ]
    }
   ],
   "source": [
    "print(new_antenna)"
   ]
  },
  {
   "cell_type": "markdown",
   "id": "c268061f",
   "metadata": {},
   "source": [
    "## Set properties\n",
    "\n",
    "Move antenna X position"
   ]
  },
  {
   "cell_type": "code",
   "execution_count": 27,
   "id": "472614cd",
   "metadata": {
    "execution": {
     "iopub.execute_input": "2024-10-14T17:26:39.172625Z",
     "iopub.status.busy": "2024-10-14T17:26:39.172625Z",
     "iopub.status.idle": "2024-10-14T17:26:39.867421Z",
     "shell.execute_reply": "2024-10-14T17:26:39.867421Z"
    }
   },
   "outputs": [
    {
     "name": "stderr",
     "output_type": "stream",
     "text": [
      "DEBUG - Toolkit is not connected to AEDT.\n"
     ]
    },
    {
     "name": "stderr",
     "output_type": "stream",
     "text": [
      "DEBUG - Connecting AEDT.\n"
     ]
    },
    {
     "name": "stdout",
     "output_type": "stream",
     "text": [
      "PyAEDT INFO: Python version 3.10.11 (tags/v3.10.11:7d4cc5a, Apr  5 2023, 00:38:17) [MSC v.1929 64 bit (AMD64)]\n"
     ]
    },
    {
     "name": "stdout",
     "output_type": "stream",
     "text": [
      "PyAEDT INFO: PyAEDT version 0.11.0.\n"
     ]
    },
    {
     "name": "stdout",
     "output_type": "stream",
     "text": [
      "PyAEDT INFO: Initializing new Desktop session.\n"
     ]
    },
    {
     "name": "stdout",
     "output_type": "stream",
     "text": [
      "PyAEDT WARNING: Argument `specified_version` is deprecated for method `__init__`; use `version` instead.\n"
     ]
    },
    {
     "name": "stdout",
     "output_type": "stream",
     "text": [
      "PyAEDT WARNING: Argument `new_desktop_session` is deprecated for method `__init__`; use `new_desktop` instead.\n"
     ]
    },
    {
     "name": "stdout",
     "output_type": "stream",
     "text": [
      "PyAEDT INFO: Log on console is enabled.\n"
     ]
    },
    {
     "name": "stdout",
     "output_type": "stream",
     "text": [
      "PyAEDT INFO: Log on file C:\\Users\\ansys\\AppData\\Local\\Temp\\pyaedt_ansys_720f8afc-9987-41e8-9947-0e20ae867ddc.log is enabled.\n"
     ]
    },
    {
     "name": "stdout",
     "output_type": "stream",
     "text": [
      "PyAEDT INFO: Log on AEDT is disabled.\n"
     ]
    },
    {
     "name": "stdout",
     "output_type": "stream",
     "text": [
      "PyAEDT INFO: Debug logger is disabled. PyAEDT methods will not be logged.\n"
     ]
    },
    {
     "name": "stdout",
     "output_type": "stream",
     "text": [
      "PyAEDT INFO: Launching PyAEDT with gRPC plugin.\n"
     ]
    },
    {
     "name": "stdout",
     "output_type": "stream",
     "text": [
      "PyAEDT INFO: Connecting to AEDT session on gRPC port 58149\n"
     ]
    },
    {
     "name": "stdout",
     "output_type": "stream",
     "text": [
      "PyAEDT INFO: AEDT installation Path C:\\Program Files\\AnsysEM\\v242\\Win64\n"
     ]
    },
    {
     "name": "stderr",
     "output_type": "stream",
     "text": [
      "DEBUG - Toolkit is connected to AEDT.\n"
     ]
    },
    {
     "name": "stdout",
     "output_type": "stream",
     "text": [
      "PyAEDT INFO: Python version 3.10.11 (tags/v3.10.11:7d4cc5a, Apr  5 2023, 00:38:17) [MSC v.1929 64 bit (AMD64)]\n"
     ]
    },
    {
     "name": "stdout",
     "output_type": "stream",
     "text": [
      "PyAEDT INFO: PyAEDT version 0.11.0.\n"
     ]
    },
    {
     "name": "stdout",
     "output_type": "stream",
     "text": [
      "PyAEDT INFO: Returning found Desktop session with PID 1288!\n"
     ]
    },
    {
     "name": "stdout",
     "output_type": "stream",
     "text": [
      "PyAEDT INFO: Project antenna_toolkit set to active.\n"
     ]
    },
    {
     "name": "stdout",
     "output_type": "stream",
     "text": [
      "PyAEDT INFO: Aedt Objects correctly read\n"
     ]
    },
    {
     "name": "stderr",
     "output_type": "stream",
     "text": [
      "INFO - Toolkit is connected to AEDT design.\n"
     ]
    },
    {
     "name": "stdout",
     "output_type": "stream",
     "text": [
      "PyAEDT INFO: Desktop has been released.\n"
     ]
    },
    {
     "name": "stderr",
     "output_type": "stream",
     "text": [
      "INFO - AEDT is released.\n"
     ]
    },
    {
     "data": {
      "text/plain": [
       "True"
      ]
     },
     "execution_count": 27,
     "metadata": {},
     "output_type": "execute_result"
    }
   ],
   "source": [
    "toolkit_api.update_hfss_parameters(\"pos_x\", \"20\")"
   ]
  },
  {
   "cell_type": "markdown",
   "id": "bab30b59",
   "metadata": {},
   "source": [
    "## Fit all"
   ]
  },
  {
   "cell_type": "code",
   "execution_count": 28,
   "id": "84afc643",
   "metadata": {
    "execution": {
     "iopub.execute_input": "2024-10-14T17:26:39.867421Z",
     "iopub.status.busy": "2024-10-14T17:26:39.867421Z",
     "iopub.status.idle": "2024-10-14T17:26:40.121107Z",
     "shell.execute_reply": "2024-10-14T17:26:40.121107Z"
    }
   },
   "outputs": [
    {
     "name": "stderr",
     "output_type": "stream",
     "text": [
      "DEBUG - Toolkit is not connected to AEDT.\n"
     ]
    },
    {
     "name": "stderr",
     "output_type": "stream",
     "text": [
      "DEBUG - Connecting AEDT.\n"
     ]
    },
    {
     "name": "stdout",
     "output_type": "stream",
     "text": [
      "PyAEDT INFO: Python version 3.10.11 (tags/v3.10.11:7d4cc5a, Apr  5 2023, 00:38:17) [MSC v.1929 64 bit (AMD64)]\n"
     ]
    },
    {
     "name": "stdout",
     "output_type": "stream",
     "text": [
      "PyAEDT INFO: PyAEDT version 0.11.0.\n"
     ]
    },
    {
     "name": "stdout",
     "output_type": "stream",
     "text": [
      "PyAEDT INFO: Initializing new Desktop session.\n"
     ]
    },
    {
     "name": "stdout",
     "output_type": "stream",
     "text": [
      "PyAEDT WARNING: Argument `specified_version` is deprecated for method `__init__`; use `version` instead.\n"
     ]
    },
    {
     "name": "stdout",
     "output_type": "stream",
     "text": [
      "PyAEDT WARNING: Argument `new_desktop_session` is deprecated for method `__init__`; use `new_desktop` instead.\n"
     ]
    },
    {
     "name": "stdout",
     "output_type": "stream",
     "text": [
      "PyAEDT INFO: Log on console is enabled.\n"
     ]
    },
    {
     "name": "stdout",
     "output_type": "stream",
     "text": [
      "PyAEDT INFO: Log on file C:\\Users\\ansys\\AppData\\Local\\Temp\\pyaedt_ansys_720f8afc-9987-41e8-9947-0e20ae867ddc.log is enabled.\n"
     ]
    },
    {
     "name": "stdout",
     "output_type": "stream",
     "text": [
      "PyAEDT INFO: Log on AEDT is disabled.\n"
     ]
    },
    {
     "name": "stdout",
     "output_type": "stream",
     "text": [
      "PyAEDT INFO: Debug logger is disabled. PyAEDT methods will not be logged.\n"
     ]
    },
    {
     "name": "stdout",
     "output_type": "stream",
     "text": [
      "PyAEDT INFO: Launching PyAEDT with gRPC plugin.\n"
     ]
    },
    {
     "name": "stdout",
     "output_type": "stream",
     "text": [
      "PyAEDT INFO: Connecting to AEDT session on gRPC port 58149\n"
     ]
    },
    {
     "name": "stdout",
     "output_type": "stream",
     "text": [
      "PyAEDT INFO: AEDT installation Path C:\\Program Files\\AnsysEM\\v242\\Win64\n"
     ]
    },
    {
     "name": "stderr",
     "output_type": "stream",
     "text": [
      "DEBUG - Toolkit is connected to AEDT.\n"
     ]
    },
    {
     "name": "stdout",
     "output_type": "stream",
     "text": [
      "PyAEDT INFO: Python version 3.10.11 (tags/v3.10.11:7d4cc5a, Apr  5 2023, 00:38:17) [MSC v.1929 64 bit (AMD64)]\n"
     ]
    },
    {
     "name": "stdout",
     "output_type": "stream",
     "text": [
      "PyAEDT INFO: PyAEDT version 0.11.0.\n"
     ]
    },
    {
     "name": "stdout",
     "output_type": "stream",
     "text": [
      "PyAEDT INFO: Returning found Desktop session with PID 1288!\n"
     ]
    },
    {
     "name": "stdout",
     "output_type": "stream",
     "text": [
      "PyAEDT INFO: Project antenna_toolkit set to active.\n"
     ]
    },
    {
     "name": "stdout",
     "output_type": "stream",
     "text": [
      "PyAEDT INFO: Aedt Objects correctly read\n"
     ]
    },
    {
     "name": "stderr",
     "output_type": "stream",
     "text": [
      "INFO - Toolkit is connected to AEDT design.\n"
     ]
    },
    {
     "data": {
      "text/plain": [
       "True"
      ]
     },
     "execution_count": 28,
     "metadata": {},
     "output_type": "execute_result"
    }
   ],
   "source": [
    "toolkit_api.connect_design()"
   ]
  },
  {
   "cell_type": "code",
   "execution_count": 29,
   "id": "69b6d6fd",
   "metadata": {
    "execution": {
     "iopub.execute_input": "2024-10-14T17:26:40.121107Z",
     "iopub.status.busy": "2024-10-14T17:26:40.121107Z",
     "iopub.status.idle": "2024-10-14T17:26:40.152378Z",
     "shell.execute_reply": "2024-10-14T17:26:40.152378Z"
    }
   },
   "outputs": [
    {
     "name": "stdout",
     "output_type": "stream",
     "text": [
      "PyAEDT INFO: Modeler class has been initialized! Elapsed time: 0m 0sec\n"
     ]
    }
   ],
   "source": [
    "toolkit_api.aedtapp.modeler.fit_all()"
   ]
  },
  {
   "cell_type": "code",
   "execution_count": 30,
   "id": "f317fc54",
   "metadata": {
    "execution": {
     "iopub.execute_input": "2024-10-14T17:26:40.152378Z",
     "iopub.status.busy": "2024-10-14T17:26:40.152378Z",
     "iopub.status.idle": "2024-10-14T17:26:40.499899Z",
     "shell.execute_reply": "2024-10-14T17:26:40.499899Z"
    }
   },
   "outputs": [
    {
     "name": "stdout",
     "output_type": "stream",
     "text": [
      "PyAEDT INFO: Desktop has been released.\n"
     ]
    },
    {
     "name": "stderr",
     "output_type": "stream",
     "text": [
      "INFO - AEDT is released.\n"
     ]
    },
    {
     "data": {
      "text/plain": [
       "True"
      ]
     },
     "execution_count": 30,
     "metadata": {},
     "output_type": "execute_result"
    }
   ],
   "source": [
    "toolkit_api.release_aedt(False, False)"
   ]
  },
  {
   "cell_type": "markdown",
   "id": "e2db75aa",
   "metadata": {},
   "source": [
    "## Set properties\n",
    "\n",
    "Move antenna X position to origin"
   ]
  },
  {
   "cell_type": "code",
   "execution_count": 31,
   "id": "396e1051",
   "metadata": {
    "execution": {
     "iopub.execute_input": "2024-10-14T17:26:40.499899Z",
     "iopub.status.busy": "2024-10-14T17:26:40.499899Z",
     "iopub.status.idle": "2024-10-14T17:26:41.211670Z",
     "shell.execute_reply": "2024-10-14T17:26:41.210507Z"
    }
   },
   "outputs": [
    {
     "name": "stderr",
     "output_type": "stream",
     "text": [
      "DEBUG - Toolkit is not connected to AEDT.\n"
     ]
    },
    {
     "name": "stderr",
     "output_type": "stream",
     "text": [
      "DEBUG - Connecting AEDT.\n"
     ]
    },
    {
     "name": "stdout",
     "output_type": "stream",
     "text": [
      "PyAEDT INFO: Python version 3.10.11 (tags/v3.10.11:7d4cc5a, Apr  5 2023, 00:38:17) [MSC v.1929 64 bit (AMD64)]\n"
     ]
    },
    {
     "name": "stdout",
     "output_type": "stream",
     "text": [
      "PyAEDT INFO: PyAEDT version 0.11.0.\n"
     ]
    },
    {
     "name": "stdout",
     "output_type": "stream",
     "text": [
      "PyAEDT INFO: Initializing new Desktop session.\n"
     ]
    },
    {
     "name": "stdout",
     "output_type": "stream",
     "text": [
      "PyAEDT WARNING: Argument `specified_version` is deprecated for method `__init__`; use `version` instead.\n"
     ]
    },
    {
     "name": "stdout",
     "output_type": "stream",
     "text": [
      "PyAEDT WARNING: Argument `new_desktop_session` is deprecated for method `__init__`; use `new_desktop` instead.\n"
     ]
    },
    {
     "name": "stdout",
     "output_type": "stream",
     "text": [
      "PyAEDT INFO: Log on console is enabled.\n"
     ]
    },
    {
     "name": "stdout",
     "output_type": "stream",
     "text": [
      "PyAEDT INFO: Log on file C:\\Users\\ansys\\AppData\\Local\\Temp\\pyaedt_ansys_720f8afc-9987-41e8-9947-0e20ae867ddc.log is enabled.\n"
     ]
    },
    {
     "name": "stdout",
     "output_type": "stream",
     "text": [
      "PyAEDT INFO: Log on AEDT is disabled.\n"
     ]
    },
    {
     "name": "stdout",
     "output_type": "stream",
     "text": [
      "PyAEDT INFO: Debug logger is disabled. PyAEDT methods will not be logged.\n"
     ]
    },
    {
     "name": "stdout",
     "output_type": "stream",
     "text": [
      "PyAEDT INFO: Launching PyAEDT with gRPC plugin.\n"
     ]
    },
    {
     "name": "stdout",
     "output_type": "stream",
     "text": [
      "PyAEDT INFO: Connecting to AEDT session on gRPC port 58149\n"
     ]
    },
    {
     "name": "stdout",
     "output_type": "stream",
     "text": [
      "PyAEDT INFO: AEDT installation Path C:\\Program Files\\AnsysEM\\v242\\Win64\n"
     ]
    },
    {
     "name": "stderr",
     "output_type": "stream",
     "text": [
      "DEBUG - Toolkit is connected to AEDT.\n"
     ]
    },
    {
     "name": "stdout",
     "output_type": "stream",
     "text": [
      "PyAEDT INFO: Python version 3.10.11 (tags/v3.10.11:7d4cc5a, Apr  5 2023, 00:38:17) [MSC v.1929 64 bit (AMD64)]\n"
     ]
    },
    {
     "name": "stdout",
     "output_type": "stream",
     "text": [
      "PyAEDT INFO: PyAEDT version 0.11.0.\n"
     ]
    },
    {
     "name": "stdout",
     "output_type": "stream",
     "text": [
      "PyAEDT INFO: Returning found Desktop session with PID 1288!\n"
     ]
    },
    {
     "name": "stdout",
     "output_type": "stream",
     "text": [
      "PyAEDT INFO: Project antenna_toolkit set to active.\n"
     ]
    },
    {
     "name": "stdout",
     "output_type": "stream",
     "text": [
      "PyAEDT INFO: Aedt Objects correctly read\n"
     ]
    },
    {
     "name": "stderr",
     "output_type": "stream",
     "text": [
      "INFO - Toolkit is connected to AEDT design.\n"
     ]
    },
    {
     "name": "stdout",
     "output_type": "stream",
     "text": [
      "PyAEDT INFO: Desktop has been released.\n"
     ]
    },
    {
     "name": "stderr",
     "output_type": "stream",
     "text": [
      "INFO - AEDT is released.\n"
     ]
    },
    {
     "data": {
      "text/plain": [
       "True"
      ]
     },
     "execution_count": 31,
     "metadata": {},
     "output_type": "execute_result"
    }
   ],
   "source": [
    "toolkit_api.update_hfss_parameters(\"pos_x\", \"0\")"
   ]
  },
  {
   "cell_type": "markdown",
   "id": "2b3bfe31",
   "metadata": {},
   "source": [
    "## Analyze design in batch mode"
   ]
  },
  {
   "cell_type": "code",
   "execution_count": 32,
   "id": "a6b2eeab",
   "metadata": {
    "execution": {
     "iopub.execute_input": "2024-10-14T17:26:41.211670Z",
     "iopub.status.busy": "2024-10-14T17:26:41.211670Z",
     "iopub.status.idle": "2024-10-14T17:27:46.162466Z",
     "shell.execute_reply": "2024-10-14T17:27:46.162466Z"
    }
   },
   "outputs": [
    {
     "name": "stderr",
     "output_type": "stream",
     "text": [
      "DEBUG - Toolkit is not connected to AEDT.\n"
     ]
    },
    {
     "name": "stderr",
     "output_type": "stream",
     "text": [
      "DEBUG - Connecting AEDT.\n"
     ]
    },
    {
     "name": "stdout",
     "output_type": "stream",
     "text": [
      "PyAEDT INFO: Python version 3.10.11 (tags/v3.10.11:7d4cc5a, Apr  5 2023, 00:38:17) [MSC v.1929 64 bit (AMD64)]\n"
     ]
    },
    {
     "name": "stdout",
     "output_type": "stream",
     "text": [
      "PyAEDT INFO: PyAEDT version 0.11.0.\n"
     ]
    },
    {
     "name": "stdout",
     "output_type": "stream",
     "text": [
      "PyAEDT INFO: Initializing new Desktop session.\n"
     ]
    },
    {
     "name": "stdout",
     "output_type": "stream",
     "text": [
      "PyAEDT WARNING: Argument `specified_version` is deprecated for method `__init__`; use `version` instead.\n"
     ]
    },
    {
     "name": "stdout",
     "output_type": "stream",
     "text": [
      "PyAEDT WARNING: Argument `new_desktop_session` is deprecated for method `__init__`; use `new_desktop` instead.\n"
     ]
    },
    {
     "name": "stdout",
     "output_type": "stream",
     "text": [
      "PyAEDT INFO: Log on console is enabled.\n"
     ]
    },
    {
     "name": "stdout",
     "output_type": "stream",
     "text": [
      "PyAEDT INFO: Log on file C:\\Users\\ansys\\AppData\\Local\\Temp\\pyaedt_ansys_720f8afc-9987-41e8-9947-0e20ae867ddc.log is enabled.\n"
     ]
    },
    {
     "name": "stdout",
     "output_type": "stream",
     "text": [
      "PyAEDT INFO: Log on AEDT is disabled.\n"
     ]
    },
    {
     "name": "stdout",
     "output_type": "stream",
     "text": [
      "PyAEDT INFO: Debug logger is disabled. PyAEDT methods will not be logged.\n"
     ]
    },
    {
     "name": "stdout",
     "output_type": "stream",
     "text": [
      "PyAEDT INFO: Launching PyAEDT with gRPC plugin.\n"
     ]
    },
    {
     "name": "stdout",
     "output_type": "stream",
     "text": [
      "PyAEDT INFO: Connecting to AEDT session on gRPC port 58149\n"
     ]
    },
    {
     "name": "stdout",
     "output_type": "stream",
     "text": [
      "PyAEDT INFO: AEDT installation Path C:\\Program Files\\AnsysEM\\v242\\Win64\n"
     ]
    },
    {
     "name": "stderr",
     "output_type": "stream",
     "text": [
      "DEBUG - Toolkit is connected to AEDT.\n"
     ]
    },
    {
     "name": "stdout",
     "output_type": "stream",
     "text": [
      "PyAEDT INFO: Python version 3.10.11 (tags/v3.10.11:7d4cc5a, Apr  5 2023, 00:38:17) [MSC v.1929 64 bit (AMD64)]\n"
     ]
    },
    {
     "name": "stdout",
     "output_type": "stream",
     "text": [
      "PyAEDT INFO: PyAEDT version 0.11.0.\n"
     ]
    },
    {
     "name": "stdout",
     "output_type": "stream",
     "text": [
      "PyAEDT INFO: Returning found Desktop session with PID 1288!\n"
     ]
    },
    {
     "name": "stdout",
     "output_type": "stream",
     "text": [
      "PyAEDT INFO: Project antenna_toolkit set to active.\n"
     ]
    },
    {
     "name": "stdout",
     "output_type": "stream",
     "text": [
      "PyAEDT INFO: Aedt Objects correctly read\n"
     ]
    },
    {
     "name": "stderr",
     "output_type": "stream",
     "text": [
      "INFO - Toolkit is connected to AEDT design.\n"
     ]
    },
    {
     "name": "stdout",
     "output_type": "stream",
     "text": [
      "PyAEDT INFO: Project antenna_toolkit Saved correctly\n"
     ]
    },
    {
     "name": "stdout",
     "output_type": "stream",
     "text": [
      "PyAEDT WARNING: Argument `num_cores` is deprecated for method `analyze`; use `cores` instead.\n"
     ]
    },
    {
     "name": "stdout",
     "output_type": "stream",
     "text": [
      "PyAEDT INFO: Key Desktop/ActiveDSOConfigurations/HFSS correctly changed.\n"
     ]
    },
    {
     "name": "stdout",
     "output_type": "stream",
     "text": [
      "PyAEDT INFO: Solving all design setups.\n"
     ]
    },
    {
     "name": "stdout",
     "output_type": "stream",
     "text": [
      "PyAEDT INFO: Key Desktop/ActiveDSOConfigurations/HFSS correctly changed.\n"
     ]
    },
    {
     "name": "stdout",
     "output_type": "stream",
     "text": [
      "PyAEDT INFO: Design setup None solved correctly in 0.0h 1.0m 4.0s\n"
     ]
    },
    {
     "name": "stdout",
     "output_type": "stream",
     "text": [
      "PyAEDT INFO: Desktop has been released.\n"
     ]
    },
    {
     "name": "stderr",
     "output_type": "stream",
     "text": [
      "INFO - AEDT is released.\n"
     ]
    },
    {
     "data": {
      "text/plain": [
       "True"
      ]
     },
     "execution_count": 32,
     "metadata": {},
     "output_type": "execute_result"
    }
   ],
   "source": [
    "toolkit_api.analyze()"
   ]
  },
  {
   "cell_type": "markdown",
   "id": "f1eec51d",
   "metadata": {},
   "source": [
    "## Get scattering results"
   ]
  },
  {
   "cell_type": "code",
   "execution_count": 33,
   "id": "d57f93a3",
   "metadata": {
    "execution": {
     "iopub.execute_input": "2024-10-14T17:27:46.162466Z",
     "iopub.status.busy": "2024-10-14T17:27:46.162466Z",
     "iopub.status.idle": "2024-10-14T17:27:47.173292Z",
     "shell.execute_reply": "2024-10-14T17:27:47.173292Z"
    }
   },
   "outputs": [
    {
     "name": "stderr",
     "output_type": "stream",
     "text": [
      "DEBUG - Toolkit is not connected to AEDT.\n"
     ]
    },
    {
     "name": "stderr",
     "output_type": "stream",
     "text": [
      "DEBUG - Connecting AEDT.\n"
     ]
    },
    {
     "name": "stdout",
     "output_type": "stream",
     "text": [
      "PyAEDT INFO: Python version 3.10.11 (tags/v3.10.11:7d4cc5a, Apr  5 2023, 00:38:17) [MSC v.1929 64 bit (AMD64)]\n"
     ]
    },
    {
     "name": "stdout",
     "output_type": "stream",
     "text": [
      "PyAEDT INFO: PyAEDT version 0.11.0.\n"
     ]
    },
    {
     "name": "stdout",
     "output_type": "stream",
     "text": [
      "PyAEDT INFO: Initializing new Desktop session.\n"
     ]
    },
    {
     "name": "stdout",
     "output_type": "stream",
     "text": [
      "PyAEDT WARNING: Argument `specified_version` is deprecated for method `__init__`; use `version` instead.\n"
     ]
    },
    {
     "name": "stdout",
     "output_type": "stream",
     "text": [
      "PyAEDT WARNING: Argument `new_desktop_session` is deprecated for method `__init__`; use `new_desktop` instead.\n"
     ]
    },
    {
     "name": "stdout",
     "output_type": "stream",
     "text": [
      "PyAEDT INFO: Log on console is enabled.\n"
     ]
    },
    {
     "name": "stdout",
     "output_type": "stream",
     "text": [
      "PyAEDT INFO: Log on file C:\\Users\\ansys\\AppData\\Local\\Temp\\pyaedt_ansys_720f8afc-9987-41e8-9947-0e20ae867ddc.log is enabled.\n"
     ]
    },
    {
     "name": "stdout",
     "output_type": "stream",
     "text": [
      "PyAEDT INFO: Log on AEDT is disabled.\n"
     ]
    },
    {
     "name": "stdout",
     "output_type": "stream",
     "text": [
      "PyAEDT INFO: Debug logger is disabled. PyAEDT methods will not be logged.\n"
     ]
    },
    {
     "name": "stdout",
     "output_type": "stream",
     "text": [
      "PyAEDT INFO: Launching PyAEDT with gRPC plugin.\n"
     ]
    },
    {
     "name": "stdout",
     "output_type": "stream",
     "text": [
      "PyAEDT INFO: Connecting to AEDT session on gRPC port 58149\n"
     ]
    },
    {
     "name": "stdout",
     "output_type": "stream",
     "text": [
      "PyAEDT INFO: AEDT installation Path C:\\Program Files\\AnsysEM\\v242\\Win64\n"
     ]
    },
    {
     "name": "stderr",
     "output_type": "stream",
     "text": [
      "DEBUG - Toolkit is connected to AEDT.\n"
     ]
    },
    {
     "name": "stdout",
     "output_type": "stream",
     "text": [
      "PyAEDT INFO: Python version 3.10.11 (tags/v3.10.11:7d4cc5a, Apr  5 2023, 00:38:17) [MSC v.1929 64 bit (AMD64)]\n"
     ]
    },
    {
     "name": "stdout",
     "output_type": "stream",
     "text": [
      "PyAEDT INFO: PyAEDT version 0.11.0.\n"
     ]
    },
    {
     "name": "stdout",
     "output_type": "stream",
     "text": [
      "PyAEDT INFO: Returning found Desktop session with PID 1288!\n"
     ]
    },
    {
     "name": "stdout",
     "output_type": "stream",
     "text": [
      "PyAEDT INFO: Project antenna_toolkit set to active.\n"
     ]
    },
    {
     "name": "stdout",
     "output_type": "stream",
     "text": [
      "PyAEDT INFO: Aedt Objects correctly read\n"
     ]
    },
    {
     "name": "stderr",
     "output_type": "stream",
     "text": [
      "INFO - Toolkit is connected to AEDT design.\n"
     ]
    },
    {
     "name": "stdout",
     "output_type": "stream",
     "text": [
      "PyAEDT INFO: Parsing C:/Users/ansys/AppData/Local/Temp/tmpq7o18hpv_ansys/pyaedt_prj_8HB/antenna_toolkit.aedt.\n"
     ]
    },
    {
     "name": "stdout",
     "output_type": "stream",
     "text": [
      "PyAEDT INFO: File C:/Users/ansys/AppData/Local/Temp/tmpq7o18hpv_ansys/pyaedt_prj_8HB/antenna_toolkit.aedt correctly loaded. Elapsed time: 0m 0sec\n"
     ]
    },
    {
     "name": "stdout",
     "output_type": "stream",
     "text": [
      "PyAEDT INFO: aedt file load time 0.032499074935913086\n"
     ]
    },
    {
     "name": "stdout",
     "output_type": "stream",
     "text": [
      "PyAEDT INFO: Modeler class has been initialized! Elapsed time: 0m 0sec\n"
     ]
    },
    {
     "name": "stdout",
     "output_type": "stream",
     "text": [
      "PyAEDT INFO: PostProcessor class has been initialized! Elapsed time: 0m 0sec\n"
     ]
    },
    {
     "name": "stdout",
     "output_type": "stream",
     "text": [
      "PyAEDT INFO: Post class has been initialized! Elapsed time: 0m 0sec\n"
     ]
    },
    {
     "name": "stdout",
     "output_type": "stream",
     "text": [
      "PyAEDT INFO: Solution Data Correctly Loaded.\n"
     ]
    },
    {
     "name": "stdout",
     "output_type": "stream",
     "text": [
      "PyAEDT INFO: Desktop has been released.\n"
     ]
    },
    {
     "name": "stderr",
     "output_type": "stream",
     "text": [
      "INFO - AEDT is released.\n"
     ]
    }
   ],
   "source": [
    "scattering_data = toolkit_api.scattering_results()"
   ]
  },
  {
   "cell_type": "markdown",
   "id": "80a2819d",
   "metadata": {},
   "source": [
    "## Get farfield results"
   ]
  },
  {
   "cell_type": "code",
   "execution_count": 34,
   "id": "93d86a78",
   "metadata": {
    "execution": {
     "iopub.execute_input": "2024-10-14T17:27:47.173292Z",
     "iopub.status.busy": "2024-10-14T17:27:47.173292Z",
     "iopub.status.idle": "2024-10-14T17:27:50.569874Z",
     "shell.execute_reply": "2024-10-14T17:27:50.569874Z"
    }
   },
   "outputs": [
    {
     "name": "stderr",
     "output_type": "stream",
     "text": [
      "DEBUG - Toolkit is not connected to AEDT.\n"
     ]
    },
    {
     "name": "stderr",
     "output_type": "stream",
     "text": [
      "DEBUG - Connecting AEDT.\n"
     ]
    },
    {
     "name": "stdout",
     "output_type": "stream",
     "text": [
      "PyAEDT INFO: Python version 3.10.11 (tags/v3.10.11:7d4cc5a, Apr  5 2023, 00:38:17) [MSC v.1929 64 bit (AMD64)]\n"
     ]
    },
    {
     "name": "stdout",
     "output_type": "stream",
     "text": [
      "PyAEDT INFO: PyAEDT version 0.11.0.\n"
     ]
    },
    {
     "name": "stdout",
     "output_type": "stream",
     "text": [
      "PyAEDT INFO: Initializing new Desktop session.\n"
     ]
    },
    {
     "name": "stdout",
     "output_type": "stream",
     "text": [
      "PyAEDT WARNING: Argument `specified_version` is deprecated for method `__init__`; use `version` instead.\n"
     ]
    },
    {
     "name": "stdout",
     "output_type": "stream",
     "text": [
      "PyAEDT WARNING: Argument `new_desktop_session` is deprecated for method `__init__`; use `new_desktop` instead.\n"
     ]
    },
    {
     "name": "stdout",
     "output_type": "stream",
     "text": [
      "PyAEDT INFO: Log on console is enabled.\n"
     ]
    },
    {
     "name": "stdout",
     "output_type": "stream",
     "text": [
      "PyAEDT INFO: Log on file C:\\Users\\ansys\\AppData\\Local\\Temp\\pyaedt_ansys_720f8afc-9987-41e8-9947-0e20ae867ddc.log is enabled.\n"
     ]
    },
    {
     "name": "stdout",
     "output_type": "stream",
     "text": [
      "PyAEDT INFO: Log on AEDT is disabled.\n"
     ]
    },
    {
     "name": "stdout",
     "output_type": "stream",
     "text": [
      "PyAEDT INFO: Debug logger is disabled. PyAEDT methods will not be logged.\n"
     ]
    },
    {
     "name": "stdout",
     "output_type": "stream",
     "text": [
      "PyAEDT INFO: Launching PyAEDT with gRPC plugin.\n"
     ]
    },
    {
     "name": "stdout",
     "output_type": "stream",
     "text": [
      "PyAEDT INFO: Connecting to AEDT session on gRPC port 58149\n"
     ]
    },
    {
     "name": "stdout",
     "output_type": "stream",
     "text": [
      "PyAEDT INFO: AEDT installation Path C:\\Program Files\\AnsysEM\\v242\\Win64\n"
     ]
    },
    {
     "name": "stderr",
     "output_type": "stream",
     "text": [
      "DEBUG - Toolkit is connected to AEDT.\n"
     ]
    },
    {
     "name": "stdout",
     "output_type": "stream",
     "text": [
      "PyAEDT INFO: Python version 3.10.11 (tags/v3.10.11:7d4cc5a, Apr  5 2023, 00:38:17) [MSC v.1929 64 bit (AMD64)]\n"
     ]
    },
    {
     "name": "stdout",
     "output_type": "stream",
     "text": [
      "PyAEDT INFO: PyAEDT version 0.11.0.\n"
     ]
    },
    {
     "name": "stdout",
     "output_type": "stream",
     "text": [
      "PyAEDT INFO: Returning found Desktop session with PID 1288!\n"
     ]
    },
    {
     "name": "stdout",
     "output_type": "stream",
     "text": [
      "PyAEDT INFO: Project antenna_toolkit set to active.\n"
     ]
    },
    {
     "name": "stdout",
     "output_type": "stream",
     "text": [
      "PyAEDT INFO: Aedt Objects correctly read\n"
     ]
    },
    {
     "name": "stderr",
     "output_type": "stream",
     "text": [
      "INFO - Toolkit is connected to AEDT design.\n"
     ]
    },
    {
     "name": "stdout",
     "output_type": "stream",
     "text": [
      "PyAEDT INFO: Project antenna_toolkit Saved correctly\n"
     ]
    },
    {
     "name": "stdout",
     "output_type": "stream",
     "text": [
      "PyAEDT INFO: Parsing C:/Users/ansys/AppData/Local/Temp/tmpq7o18hpv_ansys/pyaedt_prj_8HB/antenna_toolkit.aedt.\n"
     ]
    },
    {
     "name": "stdout",
     "output_type": "stream",
     "text": [
      "PyAEDT INFO: File C:/Users/ansys/AppData/Local/Temp/tmpq7o18hpv_ansys/pyaedt_prj_8HB/antenna_toolkit.aedt correctly loaded. Elapsed time: 0m 0sec\n"
     ]
    },
    {
     "name": "stdout",
     "output_type": "stream",
     "text": [
      "PyAEDT INFO: aedt file load time 0.032289743423461914\n"
     ]
    },
    {
     "name": "stdout",
     "output_type": "stream",
     "text": [
      "PyAEDT INFO: Far field sphere 3D is assigned\n"
     ]
    },
    {
     "name": "stdout",
     "output_type": "stream",
     "text": [
      "PyAEDT INFO: Exporting antenna metadata...\n"
     ]
    },
    {
     "name": "stdout",
     "output_type": "stream",
     "text": [
      "PyAEDT INFO: Modeler class has been initialized! Elapsed time: 0m 0sec\n"
     ]
    },
    {
     "name": "stdout",
     "output_type": "stream",
     "text": [
      "PyAEDT INFO: PostProcessor class has been initialized! Elapsed time: 0m 0sec\n"
     ]
    },
    {
     "name": "stdout",
     "output_type": "stream",
     "text": [
      "PyAEDT INFO: Post class has been initialized! Elapsed time: 0m 0sec\n"
     ]
    },
    {
     "name": "stdout",
     "output_type": "stream",
     "text": [
      "PyAEDT INFO: Antenna metadata exported.\n"
     ]
    },
    {
     "name": "stdout",
     "output_type": "stream",
     "text": [
      "PyAEDT INFO: Exporting geometry...\n"
     ]
    },
    {
     "name": "stdout",
     "output_type": "stream",
     "text": [
      "PyAEDT INFO: Exporting embedded element patterns.... Done: 1.8640027046203613 seconds\n"
     ]
    },
    {
     "name": "stdout",
     "output_type": "stream",
     "text": [
      "PyAEDT INFO: Desktop has been released.\n"
     ]
    },
    {
     "name": "stderr",
     "output_type": "stream",
     "text": [
      "INFO - AEDT is released.\n"
     ]
    }
   ],
   "source": [
    "frequency_str = str(properties.antenna.synthesis.frequency) + properties.antenna.synthesis.frequency_unit\n",
    "farfield_metadata, farfield_frequency = toolkit_api.export_farfield(\n",
    "    frequencies=frequency_str, sphere=\"3D\", encode=False\n",
    ")"
   ]
  },
  {
   "cell_type": "markdown",
   "id": "04010ec5",
   "metadata": {},
   "source": [
    "## Get antenna model"
   ]
  },
  {
   "cell_type": "code",
   "execution_count": 35,
   "id": "5a2086d2",
   "metadata": {
    "execution": {
     "iopub.execute_input": "2024-10-14T17:27:50.569874Z",
     "iopub.status.busy": "2024-10-14T17:27:50.569874Z",
     "iopub.status.idle": "2024-10-14T17:27:51.533964Z",
     "shell.execute_reply": "2024-10-14T17:27:51.532918Z"
    }
   },
   "outputs": [
    {
     "name": "stderr",
     "output_type": "stream",
     "text": [
      "DEBUG - Toolkit is not connected to AEDT.\n"
     ]
    },
    {
     "name": "stderr",
     "output_type": "stream",
     "text": [
      "DEBUG - Connecting AEDT.\n"
     ]
    },
    {
     "name": "stdout",
     "output_type": "stream",
     "text": [
      "PyAEDT INFO: Python version 3.10.11 (tags/v3.10.11:7d4cc5a, Apr  5 2023, 00:38:17) [MSC v.1929 64 bit (AMD64)]\n"
     ]
    },
    {
     "name": "stdout",
     "output_type": "stream",
     "text": [
      "PyAEDT INFO: PyAEDT version 0.11.0.\n"
     ]
    },
    {
     "name": "stdout",
     "output_type": "stream",
     "text": [
      "PyAEDT INFO: Initializing new Desktop session.\n"
     ]
    },
    {
     "name": "stdout",
     "output_type": "stream",
     "text": [
      "PyAEDT WARNING: Argument `specified_version` is deprecated for method `__init__`; use `version` instead.\n"
     ]
    },
    {
     "name": "stdout",
     "output_type": "stream",
     "text": [
      "PyAEDT WARNING: Argument `new_desktop_session` is deprecated for method `__init__`; use `new_desktop` instead.\n"
     ]
    },
    {
     "name": "stdout",
     "output_type": "stream",
     "text": [
      "PyAEDT INFO: Log on console is enabled.\n"
     ]
    },
    {
     "name": "stdout",
     "output_type": "stream",
     "text": [
      "PyAEDT INFO: Log on file C:\\Users\\ansys\\AppData\\Local\\Temp\\pyaedt_ansys_720f8afc-9987-41e8-9947-0e20ae867ddc.log is enabled.\n"
     ]
    },
    {
     "name": "stdout",
     "output_type": "stream",
     "text": [
      "PyAEDT INFO: Log on AEDT is disabled.\n"
     ]
    },
    {
     "name": "stdout",
     "output_type": "stream",
     "text": [
      "PyAEDT INFO: Debug logger is disabled. PyAEDT methods will not be logged.\n"
     ]
    },
    {
     "name": "stdout",
     "output_type": "stream",
     "text": [
      "PyAEDT INFO: Launching PyAEDT with gRPC plugin.\n"
     ]
    },
    {
     "name": "stdout",
     "output_type": "stream",
     "text": [
      "PyAEDT INFO: Connecting to AEDT session on gRPC port 58149\n"
     ]
    },
    {
     "name": "stdout",
     "output_type": "stream",
     "text": [
      "PyAEDT INFO: AEDT installation Path C:\\Program Files\\AnsysEM\\v242\\Win64\n"
     ]
    },
    {
     "name": "stderr",
     "output_type": "stream",
     "text": [
      "DEBUG - Toolkit is connected to AEDT.\n"
     ]
    },
    {
     "name": "stdout",
     "output_type": "stream",
     "text": [
      "PyAEDT INFO: Python version 3.10.11 (tags/v3.10.11:7d4cc5a, Apr  5 2023, 00:38:17) [MSC v.1929 64 bit (AMD64)]\n"
     ]
    },
    {
     "name": "stdout",
     "output_type": "stream",
     "text": [
      "PyAEDT INFO: PyAEDT version 0.11.0.\n"
     ]
    },
    {
     "name": "stdout",
     "output_type": "stream",
     "text": [
      "PyAEDT INFO: Returning found Desktop session with PID 1288!\n"
     ]
    },
    {
     "name": "stdout",
     "output_type": "stream",
     "text": [
      "PyAEDT INFO: Project antenna_toolkit set to active.\n"
     ]
    },
    {
     "name": "stdout",
     "output_type": "stream",
     "text": [
      "PyAEDT INFO: Aedt Objects correctly read\n"
     ]
    },
    {
     "name": "stderr",
     "output_type": "stream",
     "text": [
      "INFO - Toolkit is connected to AEDT design.\n"
     ]
    },
    {
     "name": "stdout",
     "output_type": "stream",
     "text": [
      "PyAEDT INFO: Project antenna_toolkit Saved correctly\n"
     ]
    },
    {
     "name": "stdout",
     "output_type": "stream",
     "text": [
      "PyAEDT INFO: Parsing C:/Users/ansys/AppData/Local/Temp/tmpq7o18hpv_ansys/pyaedt_prj_8HB/antenna_toolkit.aedt.\n"
     ]
    },
    {
     "name": "stdout",
     "output_type": "stream",
     "text": [
      "PyAEDT INFO: File C:/Users/ansys/AppData/Local/Temp/tmpq7o18hpv_ansys/pyaedt_prj_8HB/antenna_toolkit.aedt correctly loaded. Elapsed time: 0m 0sec\n"
     ]
    },
    {
     "name": "stdout",
     "output_type": "stream",
     "text": [
      "PyAEDT INFO: aedt file load time 0.04700016975402832\n"
     ]
    },
    {
     "name": "stdout",
     "output_type": "stream",
     "text": [
      "PyAEDT INFO: Modeler class has been initialized! Elapsed time: 0m 0sec\n"
     ]
    },
    {
     "name": "stdout",
     "output_type": "stream",
     "text": [
      "PyAEDT INFO: PostProcessor class has been initialized! Elapsed time: 0m 0sec\n"
     ]
    },
    {
     "name": "stdout",
     "output_type": "stream",
     "text": [
      "PyAEDT INFO: Post class has been initialized! Elapsed time: 0m 0sec\n"
     ]
    },
    {
     "name": "stdout",
     "output_type": "stream",
     "text": [
      "PyAEDT INFO: Desktop has been released.\n"
     ]
    },
    {
     "name": "stderr",
     "output_type": "stream",
     "text": [
      "INFO - AEDT is released.\n"
     ]
    }
   ],
   "source": [
    "files = toolkit_api.export_aedt_model(encode=False)"
   ]
  },
  {
   "cell_type": "markdown",
   "id": "0ebefbff",
   "metadata": {},
   "source": [
    "## Release AEDT\n",
    "\n",
    "Release AEDT."
   ]
  },
  {
   "cell_type": "code",
   "execution_count": 36,
   "id": "9dd1ea61",
   "metadata": {
    "execution": {
     "iopub.execute_input": "2024-10-14T17:27:51.533964Z",
     "iopub.status.busy": "2024-10-14T17:27:51.533964Z",
     "iopub.status.idle": "2024-10-14T17:27:53.738848Z",
     "shell.execute_reply": "2024-10-14T17:27:53.738848Z"
    }
   },
   "outputs": [
    {
     "name": "stderr",
     "output_type": "stream",
     "text": [
      "DEBUG - Toolkit is not connected to AEDT.\n"
     ]
    },
    {
     "name": "stderr",
     "output_type": "stream",
     "text": [
      "DEBUG - Connecting AEDT.\n"
     ]
    },
    {
     "name": "stdout",
     "output_type": "stream",
     "text": [
      "PyAEDT INFO: Python version 3.10.11 (tags/v3.10.11:7d4cc5a, Apr  5 2023, 00:38:17) [MSC v.1929 64 bit (AMD64)]\n"
     ]
    },
    {
     "name": "stdout",
     "output_type": "stream",
     "text": [
      "PyAEDT INFO: PyAEDT version 0.11.0.\n"
     ]
    },
    {
     "name": "stdout",
     "output_type": "stream",
     "text": [
      "PyAEDT INFO: Initializing new Desktop session.\n"
     ]
    },
    {
     "name": "stdout",
     "output_type": "stream",
     "text": [
      "PyAEDT WARNING: Argument `specified_version` is deprecated for method `__init__`; use `version` instead.\n"
     ]
    },
    {
     "name": "stdout",
     "output_type": "stream",
     "text": [
      "PyAEDT WARNING: Argument `new_desktop_session` is deprecated for method `__init__`; use `new_desktop` instead.\n"
     ]
    },
    {
     "name": "stdout",
     "output_type": "stream",
     "text": [
      "PyAEDT INFO: Log on console is enabled.\n"
     ]
    },
    {
     "name": "stdout",
     "output_type": "stream",
     "text": [
      "PyAEDT INFO: Log on file C:\\Users\\ansys\\AppData\\Local\\Temp\\pyaedt_ansys_720f8afc-9987-41e8-9947-0e20ae867ddc.log is enabled.\n"
     ]
    },
    {
     "name": "stdout",
     "output_type": "stream",
     "text": [
      "PyAEDT INFO: Log on AEDT is disabled.\n"
     ]
    },
    {
     "name": "stdout",
     "output_type": "stream",
     "text": [
      "PyAEDT INFO: Debug logger is disabled. PyAEDT methods will not be logged.\n"
     ]
    },
    {
     "name": "stdout",
     "output_type": "stream",
     "text": [
      "PyAEDT INFO: Launching PyAEDT with gRPC plugin.\n"
     ]
    },
    {
     "name": "stdout",
     "output_type": "stream",
     "text": [
      "PyAEDT INFO: Connecting to AEDT session on gRPC port 58149\n"
     ]
    },
    {
     "name": "stdout",
     "output_type": "stream",
     "text": [
      "PyAEDT INFO: AEDT installation Path C:\\Program Files\\AnsysEM\\v242\\Win64\n"
     ]
    },
    {
     "name": "stderr",
     "output_type": "stream",
     "text": [
      "DEBUG - Toolkit is connected to AEDT.\n"
     ]
    },
    {
     "name": "stdout",
     "output_type": "stream",
     "text": [
      "PyAEDT INFO: Desktop has been released and closed.\n"
     ]
    },
    {
     "name": "stderr",
     "output_type": "stream",
     "text": [
      "INFO - AEDT is released.\n"
     ]
    },
    {
     "data": {
      "text/plain": [
       "True"
      ]
     },
     "execution_count": 36,
     "metadata": {},
     "output_type": "execute_result"
    }
   ],
   "source": [
    "toolkit_api.release_aedt(True, True)"
   ]
  },
  {
   "cell_type": "markdown",
   "id": "27f64ec2",
   "metadata": {},
   "source": [
    "## Plot results"
   ]
  },
  {
   "cell_type": "markdown",
   "id": "9b9152b8",
   "metadata": {},
   "source": [
    "Plot exported files"
   ]
  },
  {
   "cell_type": "code",
   "execution_count": 37,
   "id": "78e6c0aa",
   "metadata": {
    "execution": {
     "iopub.execute_input": "2024-10-14T17:27:53.738848Z",
     "iopub.status.busy": "2024-10-14T17:27:53.738848Z",
     "iopub.status.idle": "2024-10-14T17:27:54.082612Z",
     "shell.execute_reply": "2024-10-14T17:27:54.082612Z"
    }
   },
   "outputs": [
    {
     "ename": "ModuleNotFoundError",
     "evalue": "No module named 'ansys.aedt.core.generic.plot'",
     "output_type": "error",
     "traceback": [
      "\u001b[1;31m---------------------------------------------------------------------------\u001b[0m",
      "\u001b[1;31mModuleNotFoundError\u001b[0m                       Traceback (most recent call last)",
      "Cell \u001b[1;32mIn[37], line 1\u001b[0m\n\u001b[1;32m----> 1\u001b[0m \u001b[38;5;28;01mfrom\u001b[39;00m \u001b[38;5;21;01mansys\u001b[39;00m\u001b[38;5;21;01m.\u001b[39;00m\u001b[38;5;21;01maedt\u001b[39;00m\u001b[38;5;21;01m.\u001b[39;00m\u001b[38;5;21;01mcore\u001b[39;00m\u001b[38;5;21;01m.\u001b[39;00m\u001b[38;5;21;01mgeneric\u001b[39;00m\u001b[38;5;21;01m.\u001b[39;00m\u001b[38;5;21;01mplot\u001b[39;00m \u001b[38;5;28;01mimport\u001b[39;00m ModelPlotter\n",
      "\u001b[1;31mModuleNotFoundError\u001b[0m: No module named 'ansys.aedt.core.generic.plot'"
     ]
    }
   ],
   "source": [
    "from ansys.aedt.core.generic.plot import ModelPlotter"
   ]
  },
  {
   "cell_type": "code",
   "execution_count": 38,
   "id": "645ef3c8",
   "metadata": {
    "execution": {
     "iopub.execute_input": "2024-10-14T17:27:54.082612Z",
     "iopub.status.busy": "2024-10-14T17:27:54.082612Z",
     "iopub.status.idle": "2024-10-14T17:27:54.129481Z",
     "shell.execute_reply": "2024-10-14T17:27:54.129481Z"
    }
   },
   "outputs": [
    {
     "ename": "NameError",
     "evalue": "name 'ModelPlotter' is not defined",
     "output_type": "error",
     "traceback": [
      "\u001b[1;31m---------------------------------------------------------------------------\u001b[0m",
      "\u001b[1;31mNameError\u001b[0m                                 Traceback (most recent call last)",
      "Cell \u001b[1;32mIn[38], line 1\u001b[0m\n\u001b[1;32m----> 1\u001b[0m model \u001b[38;5;241m=\u001b[39m \u001b[43mModelPlotter\u001b[49m()\n\u001b[0;32m      2\u001b[0m \u001b[38;5;28;01mfor\u001b[39;00m file \u001b[38;5;129;01min\u001b[39;00m files:\n\u001b[0;32m      3\u001b[0m     model\u001b[38;5;241m.\u001b[39madd_object(file[\u001b[38;5;241m0\u001b[39m], file[\u001b[38;5;241m1\u001b[39m], file[\u001b[38;5;241m2\u001b[39m])\n",
      "\u001b[1;31mNameError\u001b[0m: name 'ModelPlotter' is not defined"
     ]
    }
   ],
   "source": [
    "model = ModelPlotter()\n",
    "for file in files:\n",
    "    model.add_object(file[0], file[1], file[2])"
   ]
  },
  {
   "cell_type": "code",
   "execution_count": 39,
   "id": "da6472ff",
   "metadata": {
    "execution": {
     "iopub.execute_input": "2024-10-14T17:27:54.129481Z",
     "iopub.status.busy": "2024-10-14T17:27:54.129481Z",
     "iopub.status.idle": "2024-10-14T17:27:54.160733Z",
     "shell.execute_reply": "2024-10-14T17:27:54.160733Z"
    }
   },
   "outputs": [
    {
     "ename": "NameError",
     "evalue": "name 'model' is not defined",
     "output_type": "error",
     "traceback": [
      "\u001b[1;31m---------------------------------------------------------------------------\u001b[0m",
      "\u001b[1;31mNameError\u001b[0m                                 Traceback (most recent call last)",
      "Cell \u001b[1;32mIn[39], line 1\u001b[0m\n\u001b[1;32m----> 1\u001b[0m \u001b[43mmodel\u001b[49m\u001b[38;5;241m.\u001b[39mplot(show\u001b[38;5;241m=\u001b[39m\u001b[38;5;28;01mFalse\u001b[39;00m)\n",
      "\u001b[1;31mNameError\u001b[0m: name 'model' is not defined"
     ]
    }
   ],
   "source": [
    "model.plot(show=False)"
   ]
  },
  {
   "cell_type": "markdown",
   "id": "12682f4e",
   "metadata": {},
   "source": [
    "## Load far field"
   ]
  },
  {
   "cell_type": "code",
   "execution_count": 40,
   "id": "1c26463f",
   "metadata": {
    "execution": {
     "iopub.execute_input": "2024-10-14T17:27:54.160733Z",
     "iopub.status.busy": "2024-10-14T17:27:54.160733Z",
     "iopub.status.idle": "2024-10-14T17:27:54.191982Z",
     "shell.execute_reply": "2024-10-14T17:27:54.191982Z"
    }
   },
   "outputs": [
    {
     "ename": "NameError",
     "evalue": "name 'FfdSolutionData' is not defined",
     "output_type": "error",
     "traceback": [
      "\u001b[1;31m---------------------------------------------------------------------------\u001b[0m",
      "\u001b[1;31mNameError\u001b[0m                                 Traceback (most recent call last)",
      "Cell \u001b[1;32mIn[40], line 1\u001b[0m\n\u001b[1;32m----> 1\u001b[0m farfield_data \u001b[38;5;241m=\u001b[39m \u001b[43mFfdSolutionData\u001b[49m(farfield_metadata)\n",
      "\u001b[1;31mNameError\u001b[0m: name 'FfdSolutionData' is not defined"
     ]
    }
   ],
   "source": [
    "farfield_data = FfdSolutionData(farfield_metadata)"
   ]
  },
  {
   "cell_type": "markdown",
   "id": "2fad5a76",
   "metadata": {},
   "source": [
    "## Plot far field"
   ]
  },
  {
   "cell_type": "code",
   "execution_count": 41,
   "id": "5e690e0a",
   "metadata": {
    "execution": {
     "iopub.execute_input": "2024-10-14T17:27:54.191982Z",
     "iopub.status.busy": "2024-10-14T17:27:54.191982Z",
     "iopub.status.idle": "2024-10-14T17:27:54.223235Z",
     "shell.execute_reply": "2024-10-14T17:27:54.223235Z"
    }
   },
   "outputs": [
    {
     "ename": "NameError",
     "evalue": "name 'farfield_data' is not defined",
     "output_type": "error",
     "traceback": [
      "\u001b[1;31m---------------------------------------------------------------------------\u001b[0m",
      "\u001b[1;31mNameError\u001b[0m                                 Traceback (most recent call last)",
      "Cell \u001b[1;32mIn[41], line 1\u001b[0m\n\u001b[1;32m----> 1\u001b[0m data \u001b[38;5;241m=\u001b[39m \u001b[43mfarfield_data\u001b[49m\u001b[38;5;241m.\u001b[39mplot_3d(show\u001b[38;5;241m=\u001b[39m\u001b[38;5;28;01mFalse\u001b[39;00m)\n",
      "\u001b[1;31mNameError\u001b[0m: name 'farfield_data' is not defined"
     ]
    }
   ],
   "source": [
    "data = farfield_data.plot_3d(show=False)"
   ]
  },
  {
   "cell_type": "markdown",
   "id": "361ffc7c",
   "metadata": {},
   "source": [
    "## Clean temporary directory"
   ]
  },
  {
   "cell_type": "code",
   "execution_count": 42,
   "id": "28d80051",
   "metadata": {
    "execution": {
     "iopub.execute_input": "2024-10-14T17:27:54.223235Z",
     "iopub.status.busy": "2024-10-14T17:27:54.223235Z",
     "iopub.status.idle": "2024-10-14T17:27:54.316986Z",
     "shell.execute_reply": "2024-10-14T17:27:54.316986Z"
    }
   },
   "outputs": [],
   "source": [
    "temp_dir.cleanup()"
   ]
  }
 ],
 "metadata": {
  "jupytext": {
   "cell_metadata_filter": "-all",
   "main_language": "python",
   "notebook_metadata_filter": "-all",
   "text_representation": {
    "extension": ".py",
    "format_name": "light"
   }
  },
  "language_info": {
   "codemirror_mode": {
    "name": "ipython",
    "version": 3
   },
   "file_extension": ".py",
   "mimetype": "text/x-python",
   "name": "python",
   "nbconvert_exporter": "python",
   "pygments_lexer": "ipython3",
   "version": "3.10.11"
  }
 },
 "nbformat": 4,
 "nbformat_minor": 5
}
