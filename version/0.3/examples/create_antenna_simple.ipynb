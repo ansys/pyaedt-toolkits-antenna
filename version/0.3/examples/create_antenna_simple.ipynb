{
 "cells": [
  {
   "cell_type": "markdown",
   "id": "07fee886",
   "metadata": {
    "lines_to_next_cell": 2
   },
   "source": [
    "# Bowtie antenna synthesis\n",
    "\n",
    "This example demonstrates how to synthesize a bowtie antenna using the ``BowTieRounded`` class.\n",
    "It initiates AEDT through PyAEDT, sets up an empty HFSS design, and proceeds to create the antenna."
   ]
  },
  {
   "cell_type": "markdown",
   "id": "bff038c8",
   "metadata": {},
   "source": [
    "## Perform required imports\n",
    "\n",
    "Import the antenna toolkit class and PyAEDT."
   ]
  },
  {
   "cell_type": "code",
   "execution_count": 1,
   "id": "292492e1",
   "metadata": {
    "execution": {
     "iopub.execute_input": "2024-10-14T17:28:01.732298Z",
     "iopub.status.busy": "2024-10-14T17:28:01.732298Z",
     "iopub.status.idle": "2024-10-14T17:28:01.747866Z",
     "shell.execute_reply": "2024-10-14T17:28:01.747866Z"
    }
   },
   "outputs": [],
   "source": [
    "import tempfile"
   ]
  },
  {
   "cell_type": "code",
   "execution_count": 2,
   "id": "ac4d9da9",
   "metadata": {
    "execution": {
     "iopub.execute_input": "2024-10-14T17:28:01.747866Z",
     "iopub.status.busy": "2024-10-14T17:28:01.747866Z",
     "iopub.status.idle": "2024-10-14T17:28:02.418564Z",
     "shell.execute_reply": "2024-10-14T17:28:02.418564Z"
    }
   },
   "outputs": [],
   "source": [
    "import ansys.aedt.core"
   ]
  },
  {
   "cell_type": "code",
   "execution_count": 3,
   "id": "f64ed2ac",
   "metadata": {
    "execution": {
     "iopub.execute_input": "2024-10-14T17:28:02.418564Z",
     "iopub.status.busy": "2024-10-14T17:28:02.418564Z",
     "iopub.status.idle": "2024-10-14T17:28:02.652941Z",
     "shell.execute_reply": "2024-10-14T17:28:02.652941Z"
    }
   },
   "outputs": [],
   "source": [
    "from ansys.aedt.toolkits.antenna.backend.antenna_models.bowtie import BowTieRounded"
   ]
  },
  {
   "cell_type": "markdown",
   "id": "318211b8",
   "metadata": {},
   "source": [
    "##  Set AEDT version\n",
    "\n",
    "Set AEDT version."
   ]
  },
  {
   "cell_type": "code",
   "execution_count": 4,
   "id": "53121b1e",
   "metadata": {
    "execution": {
     "iopub.execute_input": "2024-10-14T17:28:02.652941Z",
     "iopub.status.busy": "2024-10-14T17:28:02.652941Z",
     "iopub.status.idle": "2024-10-14T17:28:02.668564Z",
     "shell.execute_reply": "2024-10-14T17:28:02.668564Z"
    }
   },
   "outputs": [],
   "source": [
    "aedt_version = \"2024.2\""
   ]
  },
  {
   "cell_type": "markdown",
   "id": "d7cb1098",
   "metadata": {},
   "source": [
    "## Set non-graphical mode\n",
    "\n",
    "Set non-graphical mode."
   ]
  },
  {
   "cell_type": "code",
   "execution_count": 5,
   "id": "9fc788d4",
   "metadata": {
    "execution": {
     "iopub.execute_input": "2024-10-14T17:28:02.668564Z",
     "iopub.status.busy": "2024-10-14T17:28:02.668564Z",
     "iopub.status.idle": "2024-10-14T17:28:02.684190Z",
     "shell.execute_reply": "2024-10-14T17:28:02.684190Z"
    }
   },
   "outputs": [],
   "source": [
    "non_graphical = True"
   ]
  },
  {
   "cell_type": "markdown",
   "id": "408a9eeb",
   "metadata": {},
   "source": [
    "## Create temporary directory"
   ]
  },
  {
   "cell_type": "code",
   "execution_count": 6,
   "id": "43f0cd6e",
   "metadata": {
    "execution": {
     "iopub.execute_input": "2024-10-14T17:28:02.684190Z",
     "iopub.status.busy": "2024-10-14T17:28:02.684190Z",
     "iopub.status.idle": "2024-10-14T17:28:02.699834Z",
     "shell.execute_reply": "2024-10-14T17:28:02.699834Z"
    }
   },
   "outputs": [],
   "source": [
    "temp_dir = tempfile.TemporaryDirectory(suffix=\"_ansys\")\n",
    "project_name = ansys.aedt.core.generate_unique_project_name(root_name=temp_dir.name, project_name=\"bowtie_example\")"
   ]
  },
  {
   "cell_type": "markdown",
   "id": "41623eef",
   "metadata": {},
   "source": [
    "## Create antenna object only for synthesis\n",
    "\n",
    "Create antenna object."
   ]
  },
  {
   "cell_type": "code",
   "execution_count": 7,
   "id": "cc01a281",
   "metadata": {
    "execution": {
     "iopub.execute_input": "2024-10-14T17:28:02.699834Z",
     "iopub.status.busy": "2024-10-14T17:28:02.699834Z",
     "iopub.status.idle": "2024-10-14T17:28:02.715438Z",
     "shell.execute_reply": "2024-10-14T17:28:02.715438Z"
    }
   },
   "outputs": [
    {
     "name": "stdout",
     "output_type": "stream",
     "text": [
      "Arm length: 3.7mm at 10.0GHz\n"
     ]
    }
   ],
   "source": [
    "oantenna1 = BowTieRounded(None)\n",
    "print(\n",
    "    \"Arm length: {}{} at {}{}\".format(\n",
    "        str(oantenna1.synthesis_parameters.arm_length.value),\n",
    "        oantenna1.length_unit,\n",
    "        oantenna1.frequency,\n",
    "        oantenna1.frequency_unit,\n",
    "    )\n",
    ")"
   ]
  },
  {
   "cell_type": "markdown",
   "id": "e9b720e1",
   "metadata": {},
   "source": [
    "## Change synthesis frequency\n",
    "\n",
    "Modify resonance frequency and modify parameters."
   ]
  },
  {
   "cell_type": "code",
   "execution_count": 8,
   "id": "18a6ac0a",
   "metadata": {
    "execution": {
     "iopub.execute_input": "2024-10-14T17:28:02.715438Z",
     "iopub.status.busy": "2024-10-14T17:28:02.715438Z",
     "iopub.status.idle": "2024-10-14T17:28:02.731071Z",
     "shell.execute_reply": "2024-10-14T17:28:02.731071Z"
    }
   },
   "outputs": [
    {
     "name": "stdout",
     "output_type": "stream",
     "text": [
      "Arm length: 3.03mm at 12.0GHz\n"
     ]
    }
   ],
   "source": [
    "oantenna1.frequency = 12.0\n",
    "print(\n",
    "    \"Arm length: {}{} at {}{}\".format(\n",
    "        str(oantenna1.synthesis_parameters.arm_length.value),\n",
    "        oantenna1.length_unit,\n",
    "        oantenna1.frequency,\n",
    "        oantenna1.frequency_unit,\n",
    "    )\n",
    ")"
   ]
  },
  {
   "cell_type": "markdown",
   "id": "8a7211e2",
   "metadata": {},
   "source": [
    "## Create an empty HFSS design\n",
    "\n",
    "Create an empty HFSS design."
   ]
  },
  {
   "cell_type": "code",
   "execution_count": 9,
   "id": "e5cf13fa",
   "metadata": {
    "execution": {
     "iopub.execute_input": "2024-10-14T17:28:02.731071Z",
     "iopub.status.busy": "2024-10-14T17:28:02.731071Z",
     "iopub.status.idle": "2024-10-14T17:28:39.623143Z",
     "shell.execute_reply": "2024-10-14T17:28:39.623143Z"
    }
   },
   "outputs": [
    {
     "name": "stdout",
     "output_type": "stream",
     "text": [
      "PyAEDT INFO: Python version 3.10.11 (tags/v3.10.11:7d4cc5a, Apr  5 2023, 00:38:17) [MSC v.1929 64 bit (AMD64)]\n"
     ]
    },
    {
     "name": "stdout",
     "output_type": "stream",
     "text": [
      "PyAEDT INFO: PyAEDT version 0.11.0.\n"
     ]
    },
    {
     "name": "stdout",
     "output_type": "stream",
     "text": [
      "PyAEDT INFO: Initializing new Desktop session.\n"
     ]
    },
    {
     "name": "stdout",
     "output_type": "stream",
     "text": [
      "PyAEDT INFO: Log on console is enabled.\n"
     ]
    },
    {
     "name": "stdout",
     "output_type": "stream",
     "text": [
      "PyAEDT INFO: Log on file C:\\Users\\ansys\\AppData\\Local\\Temp\\pyaedt_ansys_997fc55a-9ab3-4770-876a-f00fdab9125f.log is enabled.\n"
     ]
    },
    {
     "name": "stdout",
     "output_type": "stream",
     "text": [
      "PyAEDT INFO: Log on AEDT is enabled.\n"
     ]
    },
    {
     "name": "stdout",
     "output_type": "stream",
     "text": [
      "PyAEDT INFO: Debug logger is disabled. PyAEDT methods will not be logged.\n"
     ]
    },
    {
     "name": "stdout",
     "output_type": "stream",
     "text": [
      "PyAEDT INFO: Launching PyAEDT with gRPC plugin.\n"
     ]
    },
    {
     "name": "stdout",
     "output_type": "stream",
     "text": [
      "PyAEDT INFO: New AEDT session is starting on gRPC port 58536\n"
     ]
    },
    {
     "name": "stdout",
     "output_type": "stream",
     "text": [
      "PyAEDT INFO: AEDT installation Path C:\\Program Files\\AnsysEM\\v242\\Win64\n"
     ]
    },
    {
     "name": "stdout",
     "output_type": "stream",
     "text": [
      "PyAEDT INFO: Ansoft.ElectronicsDesktop.2024.2 version started with process ID 1288.\n"
     ]
    },
    {
     "name": "stdout",
     "output_type": "stream",
     "text": [
      "PyAEDT INFO: Project bowtie_example has been created.\n"
     ]
    },
    {
     "name": "stdout",
     "output_type": "stream",
     "text": [
      "PyAEDT INFO: No design is present. Inserting a new design.\n"
     ]
    },
    {
     "name": "stdout",
     "output_type": "stream",
     "text": [
      "PyAEDT INFO: Added design 'HFSS_LM2' of type HFSS.\n"
     ]
    },
    {
     "name": "stdout",
     "output_type": "stream",
     "text": [
      "PyAEDT INFO: Aedt Objects correctly read\n"
     ]
    }
   ],
   "source": [
    "app = ansys.aedt.core.Hfss(project=project_name, version=aedt_version, non_graphical=non_graphical)"
   ]
  },
  {
   "cell_type": "markdown",
   "id": "e9ee1c93",
   "metadata": {},
   "source": [
    "## Create antenna in HFSS\n",
    "\n",
    "Create antenna object, change frequency synthesis, create antenna, and set up in HFSS."
   ]
  },
  {
   "cell_type": "code",
   "execution_count": 10,
   "id": "38b371c0",
   "metadata": {
    "execution": {
     "iopub.execute_input": "2024-10-14T17:28:39.623143Z",
     "iopub.status.busy": "2024-10-14T17:28:39.623143Z",
     "iopub.status.idle": "2024-10-14T17:28:42.120029Z",
     "shell.execute_reply": "2024-10-14T17:28:42.118743Z"
    }
   },
   "outputs": [
    {
     "name": "stdout",
     "output_type": "stream",
     "text": [
      "PyAEDT INFO: Modeler class has been initialized! Elapsed time: 0m 1sec\n"
     ]
    },
    {
     "name": "stdout",
     "output_type": "stream",
     "text": [
      "PyAEDT INFO: Materials class has been initialized! Elapsed time: 0m 0sec\n"
     ]
    }
   ],
   "source": [
    "oantenna1 = BowTieRounded(app)"
   ]
  },
  {
   "cell_type": "code",
   "execution_count": 11,
   "id": "7080c57c",
   "metadata": {
    "execution": {
     "iopub.execute_input": "2024-10-14T17:28:42.120029Z",
     "iopub.status.busy": "2024-10-14T17:28:42.120029Z",
     "iopub.status.idle": "2024-10-14T17:28:42.972187Z",
     "shell.execute_reply": "2024-10-14T17:28:42.972187Z"
    }
   },
   "outputs": [
    {
     "name": "stdout",
     "output_type": "stream",
     "text": [
      "PyAEDT INFO: Parsing design objects. This operation can take time\n"
     ]
    },
    {
     "name": "stdout",
     "output_type": "stream",
     "text": [
      "PyAEDT INFO: Parsing C:/Users/ansys/AppData/Local/Temp/tmpiysekmbo_ansys/pyaedt_prj_EEM/bowtie_example.aedt.\n"
     ]
    },
    {
     "name": "stdout",
     "output_type": "stream",
     "text": [
      "PyAEDT INFO: File C:/Users/ansys/AppData/Local/Temp/tmpiysekmbo_ansys/pyaedt_prj_EEM/bowtie_example.aedt correctly loaded. Elapsed time: 0m 0sec\n"
     ]
    },
    {
     "name": "stdout",
     "output_type": "stream",
     "text": [
      "PyAEDT INFO: aedt file load time 0.015619993209838867\n"
     ]
    },
    {
     "name": "stdout",
     "output_type": "stream",
     "text": [
      "PyAEDT INFO: 3D Modeler objects parsed. Elapsed time: 0m 0sec\n"
     ]
    },
    {
     "name": "stdout",
     "output_type": "stream",
     "text": [
      "PyAEDT INFO: Union of 2 objects has been executed.\n"
     ]
    }
   ],
   "source": [
    "# Create antenna in HFSS.\n",
    "oantenna1.model_hfss()"
   ]
  },
  {
   "cell_type": "markdown",
   "id": "f1d8b89d",
   "metadata": {},
   "source": [
    "Create antenna setup."
   ]
  },
  {
   "cell_type": "code",
   "execution_count": 12,
   "id": "4337986b",
   "metadata": {
    "execution": {
     "iopub.execute_input": "2024-10-14T17:28:42.972187Z",
     "iopub.status.busy": "2024-10-14T17:28:42.972187Z",
     "iopub.status.idle": "2024-10-14T17:28:43.115349Z",
     "shell.execute_reply": "2024-10-14T17:28:43.114076Z"
    }
   },
   "outputs": [
    {
     "name": "stdout",
     "output_type": "stream",
     "text": [
      "PyAEDT INFO: Boundary Perfect E PerfE_9FMDNS has been correctly created.\n"
     ]
    },
    {
     "name": "stdout",
     "output_type": "stream",
     "text": [
      "PyAEDT INFO: Boundary Perfect E PerfE_X11TSU has been correctly created.\n"
     ]
    },
    {
     "name": "stdout",
     "output_type": "stream",
     "text": [
      "PyAEDT INFO: Boundary AutoIdentify port_Patch_48OHEW_1 has been correctly created.\n"
     ]
    },
    {
     "data": {
      "text/plain": [
       "True"
      ]
     },
     "execution_count": 12,
     "metadata": {},
     "output_type": "execute_result"
    }
   ],
   "source": [
    "oantenna1.setup_hfss()"
   ]
  },
  {
   "cell_type": "markdown",
   "id": "fe7be44c",
   "metadata": {},
   "source": [
    "Change default name."
   ]
  },
  {
   "cell_type": "code",
   "execution_count": 13,
   "id": "a7017e4c",
   "metadata": {
    "execution": {
     "iopub.execute_input": "2024-10-14T17:28:43.115349Z",
     "iopub.status.busy": "2024-10-14T17:28:43.115349Z",
     "iopub.status.idle": "2024-10-14T17:28:43.146678Z",
     "shell.execute_reply": "2024-10-14T17:28:43.146678Z"
    }
   },
   "outputs": [],
   "source": [
    "oantenna1.name = \"MyAmazingAntenna\""
   ]
  },
  {
   "cell_type": "markdown",
   "id": "bd6e527d",
   "metadata": {},
   "source": [
    "## Create antenna in HFSS\n",
    "\n",
    "Create antenna object, change origin parameter in the antenna definition, create antenna, and set up in HFSS."
   ]
  },
  {
   "cell_type": "code",
   "execution_count": 14,
   "id": "dc9c880d",
   "metadata": {
    "execution": {
     "iopub.execute_input": "2024-10-14T17:28:43.146678Z",
     "iopub.status.busy": "2024-10-14T17:28:43.146678Z",
     "iopub.status.idle": "2024-10-14T17:28:43.920711Z",
     "shell.execute_reply": "2024-10-14T17:28:43.920711Z"
    }
   },
   "outputs": [
    {
     "name": "stdout",
     "output_type": "stream",
     "text": [
      "PyAEDT INFO: Union of 2 objects has been executed.\n"
     ]
    },
    {
     "name": "stdout",
     "output_type": "stream",
     "text": [
      "PyAEDT INFO: Boundary Perfect E PerfE_M15FXX has been correctly created.\n"
     ]
    },
    {
     "name": "stdout",
     "output_type": "stream",
     "text": [
      "PyAEDT INFO: Boundary Perfect E PerfE_F94RWY has been correctly created.\n"
     ]
    },
    {
     "name": "stdout",
     "output_type": "stream",
     "text": [
      "PyAEDT INFO: Boundary AutoIdentify port_MyAntenna_1 has been correctly created.\n"
     ]
    },
    {
     "data": {
      "text/plain": [
       "True"
      ]
     },
     "execution_count": 14,
     "metadata": {},
     "output_type": "execute_result"
    }
   ],
   "source": [
    "oantenna2 = BowTieRounded(app, origin=[2, 5, 0], name=\"MyAntenna\")\n",
    "oantenna2.model_hfss()\n",
    "oantenna2.setup_hfss()"
   ]
  },
  {
   "cell_type": "markdown",
   "id": "42cd7308",
   "metadata": {},
   "source": [
    "## Plot HFSS model\n",
    "\n",
    "Plot geometry with PyVista."
   ]
  },
  {
   "cell_type": "code",
   "execution_count": 15,
   "id": "9810b21b",
   "metadata": {
    "execution": {
     "iopub.execute_input": "2024-10-14T17:28:43.920711Z",
     "iopub.status.busy": "2024-10-14T17:28:43.920711Z",
     "iopub.status.idle": "2024-10-14T17:28:46.118954Z",
     "shell.execute_reply": "2024-10-14T17:28:46.118954Z"
    }
   },
   "outputs": [
    {
     "name": "stdout",
     "output_type": "stream",
     "text": [
      "PyAEDT INFO: PostProcessor class has been initialized! Elapsed time: 0m 0sec\n"
     ]
    },
    {
     "name": "stdout",
     "output_type": "stream",
     "text": [
      "PyAEDT INFO: Post class has been initialized! Elapsed time: 0m 0sec\n"
     ]
    },
    {
     "name": "stderr",
     "output_type": "stream",
     "text": [
      "C:\\Users\\Public\\actions-runner\\_work\\pyaedt-toolkits-antenna\\pyaedt-toolkits-antenna\\.venv\\lib\\site-packages\\pyvista\\jupyter\\notebook.py:37: UserWarning: Failed to use notebook backend: \n",
      "\n",
      "No module named 'trame'\n",
      "\n",
      "Falling back to a static output.\n",
      "  warnings.warn(\n"
     ]
    },
    {
     "data": {
      "image/jpeg": "[encoded data removed]",
      "image/png": "[encoded data removed]",
      "text/plain": [
       "<PIL.Image.Image image mode=RGB size=600x600>"
      ]
     },
     "metadata": {},
     "output_type": "display_data"
    },
    {
     "data": {
      "text/plain": [
       "<ansys.aedt.core.visualization.plot.pyvista.ModelPlotter at 0x178d13dc6b0>"
      ]
     },
     "execution_count": 15,
     "metadata": {},
     "output_type": "execute_result"
    }
   ],
   "source": [
    "app.plot()"
   ]
  },
  {
   "cell_type": "markdown",
   "id": "6d436f9f",
   "metadata": {},
   "source": [
    "## Release AEDT\n",
    "\n",
    "Release AEDT."
   ]
  },
  {
   "cell_type": "code",
   "execution_count": 16,
   "id": "d4147a69",
   "metadata": {
    "execution": {
     "iopub.execute_input": "2024-10-14T17:28:46.118954Z",
     "iopub.status.busy": "2024-10-14T17:28:46.118954Z",
     "iopub.status.idle": "2024-10-14T17:28:50.208939Z",
     "shell.execute_reply": "2024-10-14T17:28:50.208939Z"
    }
   },
   "outputs": [
    {
     "name": "stdout",
     "output_type": "stream",
     "text": [
      "PyAEDT INFO: Desktop has been released and closed.\n"
     ]
    },
    {
     "data": {
      "text/plain": [
       "True"
      ]
     },
     "execution_count": 16,
     "metadata": {},
     "output_type": "execute_result"
    }
   ],
   "source": [
    "app.release_desktop(True, True)"
   ]
  },
  {
   "cell_type": "markdown",
   "id": "6359c051",
   "metadata": {},
   "source": [
    "## Clean temporary directory"
   ]
  },
  {
   "cell_type": "code",
   "execution_count": 17,
   "id": "44de3876",
   "metadata": {
    "execution": {
     "iopub.execute_input": "2024-10-14T17:28:50.208939Z",
     "iopub.status.busy": "2024-10-14T17:28:50.208939Z",
     "iopub.status.idle": "2024-10-14T17:28:50.224560Z",
     "shell.execute_reply": "2024-10-14T17:28:50.224560Z"
    }
   },
   "outputs": [],
   "source": [
    "temp_dir.cleanup()"
   ]
  }
 ],
 "metadata": {
  "jupytext": {
   "cell_metadata_filter": "-all",
   "main_language": "python",
   "notebook_metadata_filter": "-all",
   "text_representation": {
    "extension": ".py",
    "format_name": "light"
   }
  },
  "language_info": {
   "codemirror_mode": {
    "name": "ipython",
    "version": 3
   },
   "file_extension": ".py",
   "mimetype": "text/x-python",
   "name": "python",
   "nbconvert_exporter": "python",
   "pygments_lexer": "ipython3",
   "version": "3.10.11"
  }
 },
 "nbformat": 4,
 "nbformat_minor": 5
}
