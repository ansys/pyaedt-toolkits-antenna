{
 "cells": [
  {
   "cell_type": "markdown",
   "id": "2f314bc9",
   "metadata": {},
   "source": [
    "\n",
    "Copyright (C) 2023 - 2025 ANSYS, Inc. and/or its affiliates.\n",
    "SPDX-License-Identifier: MIT\n",
    "\n",
    "\n",
    "Permission is hereby granted, free of charge, to any person obtaining a copy\n",
    "of this software and associated documentation files (the \"Software\"), to deal\n",
    "in the Software without restriction, including without limitation the rights\n",
    "to use, copy, modify, merge, publish, distribute, sublicense, and/or sell\n",
    "copies of the Software, and to permit persons to whom the Software is\n",
    "furnished to do so, subject to the following conditions:\n",
    "\n",
    "The above copyright notice and this permission notice shall be included in all\n",
    "copies or substantial portions of the Software.\n",
    "\n",
    "THE SOFTWARE IS PROVIDED \"AS IS\", WITHOUT WARRANTY OF ANY KIND, EXPRESS OR\n",
    "IMPLIED, INCLUDING BUT NOT LIMITED TO THE WARRANTIES OF MERCHANTABILITY,\n",
    "FITNESS FOR A PARTICULAR PURPOSE AND NONINFRINGEMENT. IN NO EVENT SHALL THE\n",
    "AUTHORS OR COPYRIGHT HOLDERS BE LIABLE FOR ANY CLAIM, DAMAGES OR OTHER\n",
    "LIABILITY, WHETHER IN AN ACTION OF CONTRACT, TORT OR OTHERWISE, ARISING FROM,\n",
    "OUT OF OR IN CONNECTION WITH THE SOFTWARE OR THE USE OR OTHER DEALINGS IN THE\n",
    "SOFTWARE."
   ]
  },
  {
   "cell_type": "markdown",
   "id": "07bc0e16",
   "metadata": {
    "lines_to_next_cell": 2
   },
   "source": [
    "# Bowtie antenna synthesis\n",
    "\n",
    "This example demonstrates how to synthesize a bowtie antenna using the ``BowTieRounded`` class.\n",
    "It initiates AEDT through PyAEDT, sets up an empty HFSS design, and proceeds to create the antenna."
   ]
  },
  {
   "cell_type": "markdown",
   "id": "11e1a43f",
   "metadata": {},
   "source": [
    "## Perform required imports\n",
    "\n",
    "Import the antenna toolkit class and PyAEDT."
   ]
  },
  {
   "cell_type": "code",
   "execution_count": 1,
   "id": "525a0b81",
   "metadata": {
    "execution": {
     "iopub.execute_input": "2025-05-08T20:16:39.267464Z",
     "iopub.status.busy": "2025-05-08T20:16:39.267464Z",
     "iopub.status.idle": "2025-05-08T20:16:39.298705Z",
     "shell.execute_reply": "2025-05-08T20:16:39.298705Z"
    }
   },
   "outputs": [],
   "source": [
    "import tempfile"
   ]
  },
  {
   "cell_type": "code",
   "execution_count": 2,
   "id": "d74dfc91",
   "metadata": {
    "execution": {
     "iopub.execute_input": "2025-05-08T20:16:39.298705Z",
     "iopub.status.busy": "2025-05-08T20:16:39.298705Z",
     "iopub.status.idle": "2025-05-08T20:16:40.095596Z",
     "shell.execute_reply": "2025-05-08T20:16:40.095596Z"
    }
   },
   "outputs": [],
   "source": [
    "import ansys.aedt.core"
   ]
  },
  {
   "cell_type": "code",
   "execution_count": 3,
   "id": "1285c454",
   "metadata": {
    "execution": {
     "iopub.execute_input": "2025-05-08T20:16:40.095596Z",
     "iopub.status.busy": "2025-05-08T20:16:40.095596Z",
     "iopub.status.idle": "2025-05-08T20:16:40.408110Z",
     "shell.execute_reply": "2025-05-08T20:16:40.408110Z"
    }
   },
   "outputs": [],
   "source": [
    "from ansys.aedt.toolkits.antenna.backend.antenna_models.bowtie import BowTieRounded"
   ]
  },
  {
   "cell_type": "markdown",
   "id": "50947a7f",
   "metadata": {},
   "source": [
    "##  Set AEDT version\n",
    "\n",
    "Set AEDT version."
   ]
  },
  {
   "cell_type": "code",
   "execution_count": 4,
   "id": "e91f104d",
   "metadata": {
    "execution": {
     "iopub.execute_input": "2025-05-08T20:16:40.408110Z",
     "iopub.status.busy": "2025-05-08T20:16:40.408110Z",
     "iopub.status.idle": "2025-05-08T20:16:40.423732Z",
     "shell.execute_reply": "2025-05-08T20:16:40.423732Z"
    }
   },
   "outputs": [],
   "source": [
    "aedt_version = \"2025.1\""
   ]
  },
  {
   "cell_type": "markdown",
   "id": "12693cdb",
   "metadata": {},
   "source": [
    "## Set non-graphical mode\n",
    "\n",
    "Set non-graphical mode."
   ]
  },
  {
   "cell_type": "code",
   "execution_count": 5,
   "id": "377dac76",
   "metadata": {
    "execution": {
     "iopub.execute_input": "2025-05-08T20:16:40.423732Z",
     "iopub.status.busy": "2025-05-08T20:16:40.423732Z",
     "iopub.status.idle": "2025-05-08T20:16:40.439361Z",
     "shell.execute_reply": "2025-05-08T20:16:40.439361Z"
    }
   },
   "outputs": [],
   "source": [
    "non_graphical = True"
   ]
  },
  {
   "cell_type": "markdown",
   "id": "af1a43be",
   "metadata": {},
   "source": [
    "## Create temporary directory"
   ]
  },
  {
   "cell_type": "code",
   "execution_count": 6,
   "id": "0057d6e0",
   "metadata": {
    "execution": {
     "iopub.execute_input": "2025-05-08T20:16:40.439361Z",
     "iopub.status.busy": "2025-05-08T20:16:40.439361Z",
     "iopub.status.idle": "2025-05-08T20:16:40.454981Z",
     "shell.execute_reply": "2025-05-08T20:16:40.454981Z"
    }
   },
   "outputs": [],
   "source": [
    "temp_dir = tempfile.TemporaryDirectory(suffix=\"_ansys\")\n",
    "project_name = ansys.aedt.core.generate_unique_project_name(root_name=temp_dir.name, project_name=\"bowtie_example\")"
   ]
  },
  {
   "cell_type": "markdown",
   "id": "1998005e",
   "metadata": {},
   "source": [
    "## Create antenna object only for synthesis\n",
    "\n",
    "Create antenna object."
   ]
  },
  {
   "cell_type": "code",
   "execution_count": 7,
   "id": "1ba1de70",
   "metadata": {
    "execution": {
     "iopub.execute_input": "2025-05-08T20:16:40.454981Z",
     "iopub.status.busy": "2025-05-08T20:16:40.454981Z",
     "iopub.status.idle": "2025-05-08T20:16:40.470614Z",
     "shell.execute_reply": "2025-05-08T20:16:40.470614Z"
    }
   },
   "outputs": [
    {
     "name": "stdout",
     "output_type": "stream",
     "text": [
      "Arm length: 3.7mm at 10.0GHz\n"
     ]
    }
   ],
   "source": [
    "oantenna1 = BowTieRounded(None)\n",
    "print(\n",
    "    \"Arm length: {}{} at {}{}\".format(\n",
    "        str(oantenna1.synthesis_parameters.arm_length.value),\n",
    "        oantenna1.length_unit,\n",
    "        oantenna1.frequency,\n",
    "        oantenna1.frequency_unit,\n",
    "    )\n",
    ")"
   ]
  },
  {
   "cell_type": "markdown",
   "id": "ed371774",
   "metadata": {},
   "source": [
    "## Change synthesis frequency\n",
    "\n",
    "Modify resonance frequency and modify parameters."
   ]
  },
  {
   "cell_type": "code",
   "execution_count": 8,
   "id": "3977e9fc",
   "metadata": {
    "execution": {
     "iopub.execute_input": "2025-05-08T20:16:40.470614Z",
     "iopub.status.busy": "2025-05-08T20:16:40.470614Z",
     "iopub.status.idle": "2025-05-08T20:16:40.486238Z",
     "shell.execute_reply": "2025-05-08T20:16:40.486238Z"
    }
   },
   "outputs": [
    {
     "name": "stdout",
     "output_type": "stream",
     "text": [
      "Arm length: 3.03mm at 12.0GHz\n"
     ]
    }
   ],
   "source": [
    "oantenna1.frequency = 12.0\n",
    "print(\n",
    "    \"Arm length: {}{} at {}{}\".format(\n",
    "        str(oantenna1.synthesis_parameters.arm_length.value),\n",
    "        oantenna1.length_unit,\n",
    "        oantenna1.frequency,\n",
    "        oantenna1.frequency_unit,\n",
    "    )\n",
    ")"
   ]
  },
  {
   "cell_type": "markdown",
   "id": "469d2459",
   "metadata": {},
   "source": [
    "## Create an empty HFSS design\n",
    "\n",
    "Create an empty HFSS design."
   ]
  },
  {
   "cell_type": "code",
   "execution_count": 9,
   "id": "99a41511",
   "metadata": {
    "execution": {
     "iopub.execute_input": "2025-05-08T20:16:40.486238Z",
     "iopub.status.busy": "2025-05-08T20:16:40.486238Z",
     "iopub.status.idle": "2025-05-08T20:17:17.565795Z",
     "shell.execute_reply": "2025-05-08T20:17:17.565795Z"
    }
   },
   "outputs": [
    {
     "name": "stdout",
     "output_type": "stream",
     "text": [
      "PyAEDT INFO: Python version 3.10.11 (tags/v3.10.11:7d4cc5a, Apr  5 2023, 00:38:17) [MSC v.1929 64 bit (AMD64)].\n"
     ]
    },
    {
     "name": "stdout",
     "output_type": "stream",
     "text": [
      "PyAEDT INFO: PyAEDT version 0.16.1.\n"
     ]
    },
    {
     "name": "stdout",
     "output_type": "stream",
     "text": [
      "PyAEDT INFO: Initializing new Desktop session.\n"
     ]
    },
    {
     "name": "stdout",
     "output_type": "stream",
     "text": [
      "PyAEDT INFO: Log on console is enabled.\n"
     ]
    },
    {
     "name": "stdout",
     "output_type": "stream",
     "text": [
      "PyAEDT INFO: Log on file C:\\Users\\ansys\\AppData\\Local\\Temp\\pyaedt_ansys_cd27eead-4452-4d9f-87a4-9dd5f8566b3b.log is enabled.\n"
     ]
    },
    {
     "name": "stdout",
     "output_type": "stream",
     "text": [
      "PyAEDT INFO: Log on AEDT is disabled.\n"
     ]
    },
    {
     "name": "stdout",
     "output_type": "stream",
     "text": [
      "PyAEDT INFO: Debug logger is disabled. PyAEDT methods will not be logged.\n"
     ]
    },
    {
     "name": "stdout",
     "output_type": "stream",
     "text": [
      "PyAEDT INFO: Launching PyAEDT with gRPC plugin.\n"
     ]
    },
    {
     "name": "stdout",
     "output_type": "stream",
     "text": [
      "PyAEDT INFO: New AEDT session is starting on gRPC port 61578.\n"
     ]
    },
    {
     "name": "stdout",
     "output_type": "stream",
     "text": [
      "PyAEDT INFO: Electronics Desktop started on gRPC port: 61578 after 6.14632248878479 seconds.\n"
     ]
    },
    {
     "name": "stdout",
     "output_type": "stream",
     "text": [
      "PyAEDT INFO: AEDT installation Path C:\\Program Files\\ANSYS Inc\\v251\\AnsysEM\n"
     ]
    },
    {
     "name": "stdout",
     "output_type": "stream",
     "text": [
      "PyAEDT INFO: Ansoft.ElectronicsDesktop.2025.1 version started with process ID 9748.\n"
     ]
    },
    {
     "name": "stdout",
     "output_type": "stream",
     "text": [
      "PyAEDT INFO: Project bowtie_example has been created.\n"
     ]
    },
    {
     "name": "stdout",
     "output_type": "stream",
     "text": [
      "PyAEDT INFO: No design is present. Inserting a new design.\n"
     ]
    },
    {
     "name": "stdout",
     "output_type": "stream",
     "text": [
      "PyAEDT INFO: Added design 'HFSS_YBW' of type HFSS.\n"
     ]
    },
    {
     "name": "stdout",
     "output_type": "stream",
     "text": [
      "PyAEDT INFO: Aedt Objects correctly read\n"
     ]
    }
   ],
   "source": [
    "app = ansys.aedt.core.Hfss(project=project_name, version=aedt_version, non_graphical=non_graphical)"
   ]
  },
  {
   "cell_type": "markdown",
   "id": "20bc4a94",
   "metadata": {},
   "source": [
    "## Create antenna in HFSS\n",
    "\n",
    "Create antenna object, change frequency synthesis, create antenna, and set up in HFSS."
   ]
  },
  {
   "cell_type": "code",
   "execution_count": 10,
   "id": "ef259a64",
   "metadata": {
    "execution": {
     "iopub.execute_input": "2025-05-08T20:17:17.565795Z",
     "iopub.status.busy": "2025-05-08T20:17:17.565795Z",
     "iopub.status.idle": "2025-05-08T20:17:20.801573Z",
     "shell.execute_reply": "2025-05-08T20:17:20.801573Z"
    }
   },
   "outputs": [
    {
     "name": "stdout",
     "output_type": "stream",
     "text": [
      "PyAEDT INFO: Modeler class has been initialized! Elapsed time: 0m 1sec\n"
     ]
    },
    {
     "name": "stdout",
     "output_type": "stream",
     "text": [
      "PyAEDT INFO: Materials class has been initialized! Elapsed time: 0m 0sec\n"
     ]
    }
   ],
   "source": [
    "oantenna1 = BowTieRounded(app)"
   ]
  },
  {
   "cell_type": "code",
   "execution_count": 11,
   "id": "d50d64f5",
   "metadata": {
    "execution": {
     "iopub.execute_input": "2025-05-08T20:17:20.801573Z",
     "iopub.status.busy": "2025-05-08T20:17:20.801573Z",
     "iopub.status.idle": "2025-05-08T20:17:21.837682Z",
     "shell.execute_reply": "2025-05-08T20:17:21.837682Z"
    }
   },
   "outputs": [
    {
     "name": "stdout",
     "output_type": "stream",
     "text": [
      "PyAEDT WARNING: Property Command is read-only.\n"
     ]
    },
    {
     "name": "stdout",
     "output_type": "stream",
     "text": [
      "PyAEDT INFO: Parsing design objects. This operation can take time\n"
     ]
    },
    {
     "name": "stdout",
     "output_type": "stream",
     "text": [
      "PyAEDT INFO: Refreshing bodies from Object Info\n"
     ]
    },
    {
     "name": "stdout",
     "output_type": "stream",
     "text": [
      "PyAEDT INFO: Bodies Info Refreshed Elapsed time: 0m 0sec\n"
     ]
    },
    {
     "name": "stdout",
     "output_type": "stream",
     "text": [
      "PyAEDT INFO: 3D Modeler objects parsed. Elapsed time: 0m 0sec\n"
     ]
    },
    {
     "name": "stdout",
     "output_type": "stream",
     "text": [
      "PyAEDT INFO: Union of 2 objects has been executed.\n"
     ]
    },
    {
     "name": "stdout",
     "output_type": "stream",
     "text": [
      "PyAEDT WARNING: Property Command is read-only.\n"
     ]
    },
    {
     "name": "stdout",
     "output_type": "stream",
     "text": [
      "PyAEDT WARNING: Property Command is read-only.\n"
     ]
    }
   ],
   "source": [
    "# Create antenna in HFSS.\n",
    "oantenna1.model_hfss()"
   ]
  },
  {
   "cell_type": "markdown",
   "id": "2b2bd729",
   "metadata": {},
   "source": [
    "Create antenna setup."
   ]
  },
  {
   "cell_type": "code",
   "execution_count": 12,
   "id": "4a041aaa",
   "metadata": {
    "execution": {
     "iopub.execute_input": "2025-05-08T20:17:21.837682Z",
     "iopub.status.busy": "2025-05-08T20:17:21.837682Z",
     "iopub.status.idle": "2025-05-08T20:17:22.156852Z",
     "shell.execute_reply": "2025-05-08T20:17:22.156852Z"
    }
   },
   "outputs": [
    {
     "name": "stdout",
     "output_type": "stream",
     "text": [
      "PyAEDT INFO: Boundary Perfect E PerfE_26P0FB has been created.\n"
     ]
    },
    {
     "name": "stdout",
     "output_type": "stream",
     "text": [
      "PyAEDT INFO: Boundary Perfect E PerfE_XQ83SE has been created.\n"
     ]
    },
    {
     "name": "stdout",
     "output_type": "stream",
     "text": [
      "PyAEDT INFO: Boundary AutoIdentify port_Patch_Y2DH4T_1 has been created.\n"
     ]
    },
    {
     "data": {
      "text/plain": [
       "True"
      ]
     },
     "execution_count": 12,
     "metadata": {},
     "output_type": "execute_result"
    }
   ],
   "source": [
    "oantenna1.setup_hfss()"
   ]
  },
  {
   "cell_type": "markdown",
   "id": "c1839104",
   "metadata": {},
   "source": [
    "Change default name."
   ]
  },
  {
   "cell_type": "code",
   "execution_count": 13,
   "id": "0ad14b2c",
   "metadata": {
    "execution": {
     "iopub.execute_input": "2025-05-08T20:17:22.156852Z",
     "iopub.status.busy": "2025-05-08T20:17:22.156852Z",
     "iopub.status.idle": "2025-05-08T20:17:22.188050Z",
     "shell.execute_reply": "2025-05-08T20:17:22.188050Z"
    }
   },
   "outputs": [],
   "source": [
    "oantenna1.name = \"MyAmazingAntenna\""
   ]
  },
  {
   "cell_type": "markdown",
   "id": "d24066ee",
   "metadata": {},
   "source": [
    "## Create antenna in HFSS\n",
    "\n",
    "Create antenna object, change origin parameter in the antenna definition, create antenna, and set up in HFSS."
   ]
  },
  {
   "cell_type": "code",
   "execution_count": 14,
   "id": "833fb078",
   "metadata": {
    "execution": {
     "iopub.execute_input": "2025-05-08T20:17:22.188050Z",
     "iopub.status.busy": "2025-05-08T20:17:22.188050Z",
     "iopub.status.idle": "2025-05-08T20:17:23.304616Z",
     "shell.execute_reply": "2025-05-08T20:17:23.304616Z"
    }
   },
   "outputs": [
    {
     "name": "stdout",
     "output_type": "stream",
     "text": [
      "PyAEDT WARNING: Property Command is read-only.\n"
     ]
    },
    {
     "name": "stdout",
     "output_type": "stream",
     "text": [
      "PyAEDT INFO: Parsing design objects. This operation can take time\n"
     ]
    },
    {
     "name": "stdout",
     "output_type": "stream",
     "text": [
      "PyAEDT INFO: Refreshing bodies from Object Info\n"
     ]
    },
    {
     "name": "stdout",
     "output_type": "stream",
     "text": [
      "PyAEDT INFO: Bodies Info Refreshed Elapsed time: 0m 0sec\n"
     ]
    },
    {
     "name": "stdout",
     "output_type": "stream",
     "text": [
      "PyAEDT INFO: 3D Modeler objects parsed. Elapsed time: 0m 0sec\n"
     ]
    },
    {
     "name": "stdout",
     "output_type": "stream",
     "text": [
      "PyAEDT INFO: Union of 2 objects has been executed.\n"
     ]
    },
    {
     "name": "stdout",
     "output_type": "stream",
     "text": [
      "PyAEDT WARNING: Property Command is read-only.\n"
     ]
    },
    {
     "name": "stdout",
     "output_type": "stream",
     "text": [
      "PyAEDT WARNING: Property Command is read-only.\n"
     ]
    },
    {
     "name": "stdout",
     "output_type": "stream",
     "text": [
      "PyAEDT INFO: Boundary Perfect E PerfE_C27FDY has been created.\n"
     ]
    },
    {
     "name": "stdout",
     "output_type": "stream",
     "text": [
      "PyAEDT INFO: Boundary Perfect E PerfE_2FW9SW has been created.\n"
     ]
    },
    {
     "name": "stdout",
     "output_type": "stream",
     "text": [
      "PyAEDT INFO: Boundary AutoIdentify port_MyAntenna_1 has been created.\n"
     ]
    },
    {
     "data": {
      "text/plain": [
       "True"
      ]
     },
     "execution_count": 14,
     "metadata": {},
     "output_type": "execute_result"
    }
   ],
   "source": [
    "oantenna2 = BowTieRounded(app, origin=[2, 5, 0], name=\"MyAntenna\")\n",
    "oantenna2.model_hfss()\n",
    "oantenna2.setup_hfss()"
   ]
  },
  {
   "cell_type": "markdown",
   "id": "e347795f",
   "metadata": {},
   "source": [
    "## Plot HFSS model\n",
    "\n",
    "Plot geometry with PyVista."
   ]
  },
  {
   "cell_type": "code",
   "execution_count": 15,
   "id": "c2dc531c",
   "metadata": {
    "execution": {
     "iopub.execute_input": "2025-05-08T20:17:23.304616Z",
     "iopub.status.busy": "2025-05-08T20:17:23.304616Z",
     "iopub.status.idle": "2025-05-08T20:17:26.972684Z",
     "shell.execute_reply": "2025-05-08T20:17:26.972684Z"
    }
   },
   "outputs": [
    {
     "name": "stdout",
     "output_type": "stream",
     "text": [
      "PyAEDT INFO: Parsing C:/Users/ansys/AppData/Local/Temp/tmpjrixa8w8_ansys/pyaedt_prj_OE0/bowtie_example.aedt.\n"
     ]
    },
    {
     "name": "stdout",
     "output_type": "stream",
     "text": [
      "PyAEDT INFO: File C:/Users/ansys/AppData/Local/Temp/tmpjrixa8w8_ansys/pyaedt_prj_OE0/bowtie_example.aedt correctly loaded. Elapsed time: 0m 0sec\n"
     ]
    },
    {
     "name": "stdout",
     "output_type": "stream",
     "text": [
      "PyAEDT INFO: aedt file load time 0.0\n"
     ]
    },
    {
     "name": "stdout",
     "output_type": "stream",
     "text": [
      "PyAEDT INFO: PostProcessor class has been initialized! Elapsed time: 0m 0sec\n"
     ]
    },
    {
     "name": "stdout",
     "output_type": "stream",
     "text": [
      "PyAEDT INFO: PostProcessor class has been initialized! Elapsed time: 0m 0sec\n"
     ]
    },
    {
     "name": "stdout",
     "output_type": "stream",
     "text": [
      "PyAEDT INFO: Post class has been initialized! Elapsed time: 0m 0sec\n"
     ]
    },
    {
     "data": {
      "application/vnd.jupyter.widget-view+json": {
       "model_id": "69b50008716b428ba0778e55a3388c70",
       "version_major": 2,
       "version_minor": 0
      },
      "text/plain": [
       "Widget(value='<iframe src=\"http://localhost:61624/index.html?ui=P_0x28a6965cb40_0&reconnect=auto\" class=\"pyvis…"
      ]
     },
     "metadata": {},
     "output_type": "display_data"
    },
    {
     "data": {
      "text/plain": [
       "<ansys.aedt.core.visualization.plot.pyvista.ModelPlotter at 0x28a6ad5b7b0>"
      ]
     },
     "execution_count": 15,
     "metadata": {},
     "output_type": "execute_result"
    }
   ],
   "source": [
    "app.plot()"
   ]
  },
  {
   "cell_type": "markdown",
   "id": "04690ff9",
   "metadata": {},
   "source": [
    "## Release AEDT\n",
    "\n",
    "Release AEDT."
   ]
  },
  {
   "cell_type": "code",
   "execution_count": 16,
   "id": "d5caf130",
   "metadata": {
    "execution": {
     "iopub.execute_input": "2025-05-08T20:17:26.972684Z",
     "iopub.status.busy": "2025-05-08T20:17:26.972684Z",
     "iopub.status.idle": "2025-05-08T20:17:40.503482Z",
     "shell.execute_reply": "2025-05-08T20:17:40.503482Z"
    }
   },
   "outputs": [
    {
     "name": "stdout",
     "output_type": "stream",
     "text": [
      "PyAEDT INFO: Desktop has been released and closed.\n"
     ]
    },
    {
     "data": {
      "text/plain": [
       "True"
      ]
     },
     "execution_count": 16,
     "metadata": {},
     "output_type": "execute_result"
    }
   ],
   "source": [
    "app.release_desktop(True, True)"
   ]
  },
  {
   "cell_type": "markdown",
   "id": "9cd5ba0c",
   "metadata": {},
   "source": [
    "## Clean temporary directory"
   ]
  },
  {
   "cell_type": "code",
   "execution_count": 17,
   "id": "78c68d5e",
   "metadata": {
    "execution": {
     "iopub.execute_input": "2025-05-08T20:17:40.503482Z",
     "iopub.status.busy": "2025-05-08T20:17:40.503482Z",
     "iopub.status.idle": "2025-05-08T20:17:40.534737Z",
     "shell.execute_reply": "2025-05-08T20:17:40.534737Z"
    }
   },
   "outputs": [],
   "source": [
    "temp_dir.cleanup()"
   ]
  }
 ],
 "metadata": {
  "jupytext": {
   "cell_metadata_filter": "-all",
   "encoding": "# -*- coding: utf-8 -*-",
   "main_language": "python",
   "notebook_metadata_filter": "-all",
   "text_representation": {
    "extension": ".py",
    "format_name": "light"
   }
  },
  "language_info": {
   "codemirror_mode": {
    "name": "ipython",
    "version": 3
   },
   "file_extension": ".py",
   "mimetype": "text/x-python",
   "name": "python",
   "nbconvert_exporter": "python",
   "pygments_lexer": "ipython3",
   "version": "3.10.11"
  },
  "widgets": {
   "application/vnd.jupyter.widget-state+json": {
    "state": {
     "01893da3bc5c494b8e4ddc9e818fb2d7": {
      "model_module": "@jupyter-widgets/base",
      "model_module_version": "1.2.0",
      "model_name": "LayoutModel",
      "state": {
       "_model_module": "@jupyter-widgets/base",
       "_model_module_version": "1.2.0",
       "_model_name": "LayoutModel",
       "_view_count": null,
       "_view_module": "@jupyter-widgets/base",
       "_view_module_version": "1.2.0",
       "_view_name": "LayoutView",
       "align_content": null,
       "align_items": null,
       "align_self": null,
       "border": null,
       "bottom": null,
       "display": null,
       "flex": null,
       "flex_flow": null,
       "grid_area": null,
       "grid_auto_columns": null,
       "grid_auto_flow": null,
       "grid_auto_rows": null,
       "grid_column": null,
       "grid_gap": null,
       "grid_row": null,
       "grid_template_areas": null,
       "grid_template_columns": null,
       "grid_template_rows": null,
       "height": null,
       "justify_content": null,
       "justify_items": null,
       "left": null,
       "margin": null,
       "max_height": null,
       "max_width": null,
       "min_height": null,
       "min_width": null,
       "object_fit": null,
       "object_position": null,
       "order": null,
       "overflow": null,
       "overflow_x": null,
       "overflow_y": null,
       "padding": null,
       "right": null,
       "top": null,
       "visibility": null,
       "width": null
      }
     },
     "69b50008716b428ba0778e55a3388c70": {
      "model_module": "@jupyter-widgets/controls",
      "model_module_version": "1.5.0",
      "model_name": "HTMLModel",
      "state": {
       "_dom_classes": [],
       "_model_module": "@jupyter-widgets/controls",
       "_model_module_version": "1.5.0",
       "_model_name": "HTMLModel",
       "_view_count": null,
       "_view_module": "@jupyter-widgets/controls",
       "_view_module_version": "1.5.0",
       "_view_name": "HTMLView",
       "description": "",
       "description_tooltip": null,
       "layout": "IPY_MODEL_01893da3bc5c494b8e4ddc9e818fb2d7",
       "placeholder": "​",
       "style": "IPY_MODEL_f707da28e7b64659b1ead866f65d6211",
       "value": "<iframe src=\"http://localhost:61624/index.html?ui=P_0x28a6965cb40_0&reconnect=auto\" class=\"pyvista\" style=\"width: 600px; height: 600px; border: 1px solid rgb(221,221,221);\"></iframe>"
      }
     },
     "f707da28e7b64659b1ead866f65d6211": {
      "model_module": "@jupyter-widgets/controls",
      "model_module_version": "1.5.0",
      "model_name": "DescriptionStyleModel",
      "state": {
       "_model_module": "@jupyter-widgets/controls",
       "_model_module_version": "1.5.0",
       "_model_name": "DescriptionStyleModel",
       "_view_count": null,
       "_view_module": "@jupyter-widgets/base",
       "_view_module_version": "1.2.0",
       "_view_name": "StyleView",
       "description_width": ""
      }
     }
    },
    "version_major": 2,
    "version_minor": 0
   }
  }
 },
 "nbformat": 4,
 "nbformat_minor": 5
}
