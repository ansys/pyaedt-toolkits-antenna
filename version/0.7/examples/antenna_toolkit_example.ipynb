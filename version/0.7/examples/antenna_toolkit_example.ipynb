{
 "cells": [
  {
   "cell_type": "markdown",
   "id": "afff3c80",
   "metadata": {},
   "source": [
    "\n",
    "Copyright (C) 2023 - 2025 ANSYS, Inc. and/or its affiliates.\n",
    "SPDX-License-Identifier: MIT\n",
    "\n",
    "\n",
    "Permission is hereby granted, free of charge, to any person obtaining a copy\n",
    "of this software and associated documentation files (the \"Software\"), to deal\n",
    "in the Software without restriction, including without limitation the rights\n",
    "to use, copy, modify, merge, publish, distribute, sublicense, and/or sell\n",
    "copies of the Software, and to permit persons to whom the Software is\n",
    "furnished to do so, subject to the following conditions:\n",
    "\n",
    "The above copyright notice and this permission notice shall be included in all\n",
    "copies or substantial portions of the Software.\n",
    "\n",
    "THE SOFTWARE IS PROVIDED \"AS IS\", WITHOUT WARRANTY OF ANY KIND, EXPRESS OR\n",
    "IMPLIED, INCLUDING BUT NOT LIMITED TO THE WARRANTIES OF MERCHANTABILITY,\n",
    "FITNESS FOR A PARTICULAR PURPOSE AND NONINFRINGEMENT. IN NO EVENT SHALL THE\n",
    "AUTHORS OR COPYRIGHT HOLDERS BE LIABLE FOR ANY CLAIM, DAMAGES OR OTHER\n",
    "LIABILITY, WHETHER IN AN ACTION OF CONTRACT, TORT OR OTHERWISE, ARISING FROM,\n",
    "OUT OF OR IN CONNECTION WITH THE SOFTWARE OR THE USE OR OTHER DEALINGS IN THE\n",
    "SOFTWARE."
   ]
  },
  {
   "cell_type": "markdown",
   "id": "6f1a3c44",
   "metadata": {
    "lines_to_next_cell": 2
   },
   "source": [
    "# Antenna toolkit example\n",
    "\n",
    "This example demonstrates how to use the ``ToolkitBackend`` class.\n",
    "It initiates AEDT through PyAEDT, sets up an empty HFSS design, and proceeds to create the antenna."
   ]
  },
  {
   "cell_type": "markdown",
   "id": "f4adf96d",
   "metadata": {},
   "source": [
    "## Perform required imports"
   ]
  },
  {
   "cell_type": "code",
   "execution_count": 1,
   "id": "97e19332",
   "metadata": {
    "execution": {
     "iopub.execute_input": "2025-05-08T20:14:11.453898Z",
     "iopub.status.busy": "2025-05-08T20:14:11.453898Z",
     "iopub.status.idle": "2025-05-08T20:14:11.485146Z",
     "shell.execute_reply": "2025-05-08T20:14:11.485146Z"
    }
   },
   "outputs": [],
   "source": [
    "import sys\n",
    "import tempfile"
   ]
  },
  {
   "cell_type": "code",
   "execution_count": 2,
   "id": "d2c8aa55",
   "metadata": {
    "execution": {
     "iopub.execute_input": "2025-05-08T20:14:11.485146Z",
     "iopub.status.busy": "2025-05-08T20:14:11.485146Z",
     "iopub.status.idle": "2025-05-08T20:14:19.022580Z",
     "shell.execute_reply": "2025-05-08T20:14:19.022580Z"
    }
   },
   "outputs": [],
   "source": [
    "from ansys.aedt.core import generate_unique_project_name\n",
    "from ansys.aedt.core.visualization.advanced.farfield_visualization import FfdSolutionData"
   ]
  },
  {
   "cell_type": "code",
   "execution_count": 3,
   "id": "f4e7c9c3",
   "metadata": {
    "execution": {
     "iopub.execute_input": "2025-05-08T20:14:19.022580Z",
     "iopub.status.busy": "2025-05-08T20:14:19.022580Z",
     "iopub.status.idle": "2025-05-08T20:14:19.413254Z",
     "shell.execute_reply": "2025-05-08T20:14:19.413254Z"
    }
   },
   "outputs": [],
   "source": [
    "from ansys.aedt.toolkits.antenna.backend.api import ToolkitBackend\n",
    "from ansys.aedt.toolkits.antenna.backend.models import properties"
   ]
  },
  {
   "cell_type": "markdown",
   "id": "1bdff23a",
   "metadata": {},
   "source": [
    "##  Set AEDT version\n",
    "\n",
    "Set AEDT version."
   ]
  },
  {
   "cell_type": "code",
   "execution_count": 4,
   "id": "d3f9d850",
   "metadata": {
    "execution": {
     "iopub.execute_input": "2025-05-08T20:14:19.413254Z",
     "iopub.status.busy": "2025-05-08T20:14:19.413254Z",
     "iopub.status.idle": "2025-05-08T20:14:19.428881Z",
     "shell.execute_reply": "2025-05-08T20:14:19.428881Z"
    }
   },
   "outputs": [],
   "source": [
    "aedt_version = \"2025.1\""
   ]
  },
  {
   "cell_type": "markdown",
   "id": "cfdfb1b5",
   "metadata": {},
   "source": [
    "## Set non-graphical mode\n",
    "\n",
    "Set non-graphical mode."
   ]
  },
  {
   "cell_type": "code",
   "execution_count": 5,
   "id": "183fa394",
   "metadata": {
    "execution": {
     "iopub.execute_input": "2025-05-08T20:14:19.428881Z",
     "iopub.status.busy": "2025-05-08T20:14:19.428881Z",
     "iopub.status.idle": "2025-05-08T20:14:19.444575Z",
     "shell.execute_reply": "2025-05-08T20:14:19.444575Z"
    }
   },
   "outputs": [],
   "source": [
    "non_graphical = True"
   ]
  },
  {
   "cell_type": "markdown",
   "id": "268fd2d2",
   "metadata": {},
   "source": [
    "## Create temporary directory"
   ]
  },
  {
   "cell_type": "code",
   "execution_count": 6,
   "id": "2c27b646",
   "metadata": {
    "execution": {
     "iopub.execute_input": "2025-05-08T20:14:19.444575Z",
     "iopub.status.busy": "2025-05-08T20:14:19.444575Z",
     "iopub.status.idle": "2025-05-08T20:14:19.460129Z",
     "shell.execute_reply": "2025-05-08T20:14:19.460129Z"
    }
   },
   "outputs": [],
   "source": [
    "temp_dir = tempfile.TemporaryDirectory(suffix=\"_ansys\")\n",
    "project_name = generate_unique_project_name(root_name=temp_dir.name, project_name=\"antenna_toolkit\")"
   ]
  },
  {
   "cell_type": "markdown",
   "id": "6c6943d8",
   "metadata": {},
   "source": [
    "## Set default properties"
   ]
  },
  {
   "cell_type": "code",
   "execution_count": 7,
   "id": "6134b8d3",
   "metadata": {
    "execution": {
     "iopub.execute_input": "2025-05-08T20:14:19.460129Z",
     "iopub.status.busy": "2025-05-08T20:14:19.460129Z",
     "iopub.status.idle": "2025-05-08T20:14:19.475785Z",
     "shell.execute_reply": "2025-05-08T20:14:19.475785Z"
    }
   },
   "outputs": [],
   "source": [
    "properties.aedt_version = aedt_version\n",
    "properties.non_graphical = non_graphical\n",
    "properties.active_project = project_name"
   ]
  },
  {
   "cell_type": "markdown",
   "id": "8f4d625a",
   "metadata": {},
   "source": [
    "## Initialize toolkit\n",
    "\n",
    "Initialize the toolkit."
   ]
  },
  {
   "cell_type": "code",
   "execution_count": 8,
   "id": "1fece680",
   "metadata": {
    "execution": {
     "iopub.execute_input": "2025-05-08T20:14:19.475785Z",
     "iopub.status.busy": "2025-05-08T20:14:19.475785Z",
     "iopub.status.idle": "2025-05-08T20:14:19.491474Z",
     "shell.execute_reply": "2025-05-08T20:14:19.491474Z"
    }
   },
   "outputs": [],
   "source": [
    "toolkit_api = ToolkitBackend()"
   ]
  },
  {
   "cell_type": "markdown",
   "id": "8fc6d9c4",
   "metadata": {},
   "source": [
    "## Get available_antennas"
   ]
  },
  {
   "cell_type": "code",
   "execution_count": 9,
   "id": "d731dd28",
   "metadata": {
    "execution": {
     "iopub.execute_input": "2025-05-08T20:14:19.491474Z",
     "iopub.status.busy": "2025-05-08T20:14:19.491474Z",
     "iopub.status.idle": "2025-05-08T20:14:19.507173Z",
     "shell.execute_reply": "2025-05-08T20:14:19.507173Z"
    }
   },
   "outputs": [
    {
     "name": "stdout",
     "output_type": "stream",
     "text": [
      "['BowTieNormal', 'BowTieRounded', 'BowTieSlot', 'Archimedean', 'Log', 'Sinuous', 'AxialMode', 'Conical', 'Corrugated', 'EPlane', 'Elliptical', 'HPlane', 'Pyramidal', 'PyramidalRidged', 'QuadRidged', 'RectangularPatchEdge', 'RectangularPatchInset', 'RectangularPatchProbe']\n"
     ]
    }
   ],
   "source": [
    "print(toolkit_api.available_antennas)"
   ]
  },
  {
   "cell_type": "markdown",
   "id": "b606ded3",
   "metadata": {},
   "source": [
    "## Get default properties"
   ]
  },
  {
   "cell_type": "code",
   "execution_count": 10,
   "id": "2f1e3272",
   "metadata": {
    "execution": {
     "iopub.execute_input": "2025-05-08T20:14:19.507173Z",
     "iopub.status.busy": "2025-05-08T20:14:19.507173Z",
     "iopub.status.idle": "2025-05-08T20:14:19.522741Z",
     "shell.execute_reply": "2025-05-08T20:14:19.522741Z"
    }
   },
   "outputs": [],
   "source": [
    "backend_properties = toolkit_api.get_properties()\n",
    "frequency = backend_properties[\"antenna\"][\"synthesis\"][\"frequency\"]\n",
    "frequency_units = backend_properties[\"antenna\"][\"synthesis\"][\"frequency_unit\"]\n",
    "length_unit = backend_properties[\"antenna\"][\"synthesis\"][\"length_unit\"]"
   ]
  },
  {
   "cell_type": "markdown",
   "id": "78fe5ddb",
   "metadata": {},
   "source": [
    "## Modify default length units"
   ]
  },
  {
   "cell_type": "code",
   "execution_count": 11,
   "id": "c27e5ef5",
   "metadata": {
    "execution": {
     "iopub.execute_input": "2025-05-08T20:14:19.522741Z",
     "iopub.status.busy": "2025-05-08T20:14:19.522741Z",
     "iopub.status.idle": "2025-05-08T20:14:19.538370Z",
     "shell.execute_reply": "2025-05-08T20:14:19.538370Z"
    }
   },
   "outputs": [],
   "source": [
    "properties.antenna.synthesis.length_unit = \"cm\""
   ]
  },
  {
   "cell_type": "markdown",
   "id": "c245a424",
   "metadata": {},
   "source": [
    "## Create antenna object only for synthesis\n",
    "\n",
    "Create antenna object."
   ]
  },
  {
   "cell_type": "code",
   "execution_count": 12,
   "id": "f17d8dfd",
   "metadata": {
    "execution": {
     "iopub.execute_input": "2025-05-08T20:14:19.538370Z",
     "iopub.status.busy": "2025-05-08T20:14:19.538370Z",
     "iopub.status.idle": "2025-05-08T20:14:19.710297Z",
     "shell.execute_reply": "2025-05-08T20:14:19.710297Z"
    }
   },
   "outputs": [
    {
     "name": "stderr",
     "output_type": "stream",
     "text": [
      "INFO - AEDT is released.\n"
     ]
    }
   ],
   "source": [
    "antenna_parameters_1 = toolkit_api.get_antenna(\"RectangularPatchProbe\", synth_only=True)"
   ]
  },
  {
   "cell_type": "code",
   "execution_count": 13,
   "id": "39def6d0",
   "metadata": {
    "execution": {
     "iopub.execute_input": "2025-05-08T20:14:19.710297Z",
     "iopub.status.busy": "2025-05-08T20:14:19.710297Z",
     "iopub.status.idle": "2025-05-08T20:14:19.725876Z",
     "shell.execute_reply": "2025-05-08T20:14:19.725876Z"
    }
   },
   "outputs": [
    {
     "name": "stdout",
     "output_type": "stream",
     "text": [
      "Patch X length: 0.912871meter at 10.0GHz\n"
     ]
    }
   ],
   "source": [
    "print(\n",
    "    \"Patch X length: {}{} at {}{}\".format(\n",
    "        str(antenna_parameters_1[\"patch_x\"]),\n",
    "        length_unit,\n",
    "        frequency,\n",
    "        frequency_units,\n",
    "    )\n",
    ")"
   ]
  },
  {
   "cell_type": "markdown",
   "id": "e4abb614",
   "metadata": {},
   "source": [
    "## Change synthesis frequency\n",
    "\n",
    "Modify resonance frequency and modify parameters with the ``set_properties()`` method."
   ]
  },
  {
   "cell_type": "code",
   "execution_count": 14,
   "id": "decfec03",
   "metadata": {
    "execution": {
     "iopub.execute_input": "2025-05-08T20:14:19.725876Z",
     "iopub.status.busy": "2025-05-08T20:14:19.725876Z",
     "iopub.status.idle": "2025-05-08T20:14:19.741496Z",
     "shell.execute_reply": "2025-05-08T20:14:19.741496Z"
    }
   },
   "outputs": [
    {
     "name": "stderr",
     "output_type": "stream",
     "text": [
      "INFO - Updating internal properties.\n"
     ]
    },
    {
     "name": "stderr",
     "output_type": "stream",
     "text": [
      "DEBUG - Updating 'frequency' with value 12.0\n"
     ]
    },
    {
     "name": "stderr",
     "output_type": "stream",
     "text": [
      "DEBUG - Properties were updated successfully.\n"
     ]
    },
    {
     "data": {
      "text/plain": [
       "(True, 'Properties were updated successfully.')"
      ]
     },
     "execution_count": 14,
     "metadata": {},
     "output_type": "execute_result"
    }
   ],
   "source": [
    "new_frequency1 = 12.0\n",
    "new_properties = {\"frequency\": new_frequency1}\n",
    "toolkit_api.set_properties(new_properties)"
   ]
  },
  {
   "cell_type": "code",
   "execution_count": 15,
   "id": "08ae35cc",
   "metadata": {
    "execution": {
     "iopub.execute_input": "2025-05-08T20:14:19.741496Z",
     "iopub.status.busy": "2025-05-08T20:14:19.741496Z",
     "iopub.status.idle": "2025-05-08T20:14:19.913376Z",
     "shell.execute_reply": "2025-05-08T20:14:19.913376Z"
    }
   },
   "outputs": [
    {
     "name": "stderr",
     "output_type": "stream",
     "text": [
      "INFO - AEDT is released.\n"
     ]
    }
   ],
   "source": [
    "antenna_parameters_2 = toolkit_api.get_antenna(\"RectangularPatchProbe\", synth_only=True)"
   ]
  },
  {
   "cell_type": "code",
   "execution_count": 16,
   "id": "612f7b61",
   "metadata": {
    "execution": {
     "iopub.execute_input": "2025-05-08T20:14:19.913376Z",
     "iopub.status.busy": "2025-05-08T20:14:19.913376Z",
     "iopub.status.idle": "2025-05-08T20:14:19.928999Z",
     "shell.execute_reply": "2025-05-08T20:14:19.928999Z"
    }
   },
   "outputs": [
    {
     "name": "stdout",
     "output_type": "stream",
     "text": [
      "Patch X length: 0.760726meter at 12.0GHz\n"
     ]
    }
   ],
   "source": [
    "print(\n",
    "    \"Patch X length: {}{} at {}{}\".format(\n",
    "        str(antenna_parameters_2[\"patch_x\"]),\n",
    "        length_unit,\n",
    "        new_frequency1,\n",
    "        frequency_units,\n",
    "    )\n",
    ")"
   ]
  },
  {
   "cell_type": "markdown",
   "id": "5ce902de",
   "metadata": {},
   "source": [
    "## Change synthesis frequency\n",
    "\n",
    "Modify resonance frequency with properties directly."
   ]
  },
  {
   "cell_type": "code",
   "execution_count": 17,
   "id": "c9621560",
   "metadata": {
    "execution": {
     "iopub.execute_input": "2025-05-08T20:14:19.928999Z",
     "iopub.status.busy": "2025-05-08T20:14:19.928999Z",
     "iopub.status.idle": "2025-05-08T20:14:19.944625Z",
     "shell.execute_reply": "2025-05-08T20:14:19.944625Z"
    }
   },
   "outputs": [],
   "source": [
    "new_frequency2 = 15.0\n",
    "properties.antenna.synthesis.frequency = new_frequency2"
   ]
  },
  {
   "cell_type": "code",
   "execution_count": 18,
   "id": "eba4247a",
   "metadata": {
    "execution": {
     "iopub.execute_input": "2025-05-08T20:14:19.944625Z",
     "iopub.status.busy": "2025-05-08T20:14:19.944625Z",
     "iopub.status.idle": "2025-05-08T20:14:20.116563Z",
     "shell.execute_reply": "2025-05-08T20:14:20.116563Z"
    }
   },
   "outputs": [
    {
     "name": "stderr",
     "output_type": "stream",
     "text": [
      "INFO - AEDT is released.\n"
     ]
    }
   ],
   "source": [
    "antenna_parameters_3 = toolkit_api.get_antenna(\"RectangularPatchProbe\", synth_only=True)"
   ]
  },
  {
   "cell_type": "code",
   "execution_count": 19,
   "id": "8947df39",
   "metadata": {
    "execution": {
     "iopub.execute_input": "2025-05-08T20:14:20.116563Z",
     "iopub.status.busy": "2025-05-08T20:14:20.116563Z",
     "iopub.status.idle": "2025-05-08T20:14:20.132211Z",
     "shell.execute_reply": "2025-05-08T20:14:20.132211Z"
    }
   },
   "outputs": [
    {
     "name": "stdout",
     "output_type": "stream",
     "text": [
      "Patch X length: 0.608581meter at 15.0GHz\n"
     ]
    }
   ],
   "source": [
    "print(\n",
    "    \"Patch X length: {}{} at {}{}\".format(\n",
    "        str(antenna_parameters_3[\"patch_x\"]),\n",
    "        length_unit,\n",
    "        new_frequency2,\n",
    "        frequency_units,\n",
    "    )\n",
    ")"
   ]
  },
  {
   "cell_type": "markdown",
   "id": "1f4bfa1b",
   "metadata": {},
   "source": [
    "## Initialize AEDT\n",
    "\n",
    "Launch a new AEDT session in a thread."
   ]
  },
  {
   "cell_type": "code",
   "execution_count": 20,
   "id": "e7205a0c",
   "metadata": {
    "execution": {
     "iopub.execute_input": "2025-05-08T20:14:20.132211Z",
     "iopub.status.busy": "2025-05-08T20:14:20.132211Z",
     "iopub.status.idle": "2025-05-08T20:14:20.147758Z",
     "shell.execute_reply": "2025-05-08T20:14:20.147758Z"
    }
   },
   "outputs": [
    {
     "name": "stderr",
     "output_type": "stream",
     "text": [
      "DEBUG - Starting thread: Toolkit_Thread\n"
     ]
    },
    {
     "name": "stderr",
     "output_type": "stream",
     "text": [
      "DEBUG - Toolkit is not connected to AEDT.\n"
     ]
    },
    {
     "name": "stderr",
     "output_type": "stream",
     "text": [
      "DEBUG - Launching AEDT.\n"
     ]
    },
    {
     "name": "stdout",
     "output_type": "stream",
     "text": [
      "PyAEDT INFO: Python version 3.10.11 (tags/v3.10.11:7d4cc5a, Apr  5 2023, 00:38:17) [MSC v.1929 64 bit (AMD64)].\n"
     ]
    },
    {
     "name": "stdout",
     "output_type": "stream",
     "text": [
      "PyAEDT INFO: PyAEDT version 0.16.1.\n"
     ]
    }
   ],
   "source": [
    "thread_msg = toolkit_api.launch_thread(toolkit_api.launch_aedt)"
   ]
  },
  {
   "cell_type": "markdown",
   "id": "e8165cd4",
   "metadata": {},
   "source": [
    "## Wait for the toolkit thread to be idle\n",
    "\n",
    "Wait for the toolkit thread to be idle and ready to accept a new task."
   ]
  },
  {
   "cell_type": "code",
   "execution_count": 21,
   "id": "20a85a0a",
   "metadata": {
    "execution": {
     "iopub.execute_input": "2025-05-08T20:14:20.147758Z",
     "iopub.status.busy": "2025-05-08T20:14:20.147758Z",
     "iopub.status.idle": "2025-05-08T20:14:28.208464Z",
     "shell.execute_reply": "2025-05-08T20:14:28.208464Z"
    }
   },
   "outputs": [
    {
     "name": "stderr",
     "output_type": "stream",
     "text": [
      "DEBUG - Toolkit is busy and processing a task.\n"
     ]
    },
    {
     "name": "stderr",
     "output_type": "stream",
     "text": [
      "DEBUG - Toolkit is busy and processing a task.\n"
     ]
    },
    {
     "name": "stderr",
     "output_type": "stream",
     "text": [
      "DEBUG - Toolkit is busy and processing a task.\n"
     ]
    },
    {
     "name": "stderr",
     "output_type": "stream",
     "text": [
      "DEBUG - Toolkit is busy and processing a task.\n"
     ]
    },
    {
     "name": "stderr",
     "output_type": "stream",
     "text": [
      "DEBUG - Toolkit is busy and processing a task.\n"
     ]
    },
    {
     "name": "stderr",
     "output_type": "stream",
     "text": [
      "DEBUG - Toolkit is busy and processing a task.\n"
     ]
    },
    {
     "name": "stderr",
     "output_type": "stream",
     "text": [
      "DEBUG - Toolkit is busy and processing a task.\n"
     ]
    },
    {
     "name": "stderr",
     "output_type": "stream",
     "text": [
      "DEBUG - Toolkit is idle and ready to accept a new task.\n"
     ]
    }
   ],
   "source": [
    "idle = toolkit_api.wait_to_be_idle()\n",
    "if not idle:\n",
    "    print(\"AEDT not initialized.\")\n",
    "    sys.exit()"
   ]
  },
  {
   "cell_type": "markdown",
   "id": "31e3d4e7",
   "metadata": {},
   "source": [
    "## Connect to HFSS design\n",
    "\n",
    "Create an HFSS design."
   ]
  },
  {
   "cell_type": "code",
   "execution_count": 22,
   "id": "a3da066a",
   "metadata": {
    "execution": {
     "iopub.execute_input": "2025-05-08T20:14:28.208464Z",
     "iopub.status.busy": "2025-05-08T20:14:28.208464Z",
     "iopub.status.idle": "2025-05-08T20:15:00.002539Z",
     "shell.execute_reply": "2025-05-08T20:15:00.002539Z"
    }
   },
   "outputs": [
    {
     "name": "stderr",
     "output_type": "stream",
     "text": [
      "DEBUG - Toolkit is not connected to AEDT.\n"
     ]
    },
    {
     "name": "stderr",
     "output_type": "stream",
     "text": [
      "DEBUG - Connecting AEDT.\n"
     ]
    },
    {
     "name": "stdout",
     "output_type": "stream",
     "text": [
      "PyAEDT INFO: Python version 3.10.11 (tags/v3.10.11:7d4cc5a, Apr  5 2023, 00:38:17) [MSC v.1929 64 bit (AMD64)].\n"
     ]
    },
    {
     "name": "stdout",
     "output_type": "stream",
     "text": [
      "PyAEDT INFO: PyAEDT version 0.16.1.\n"
     ]
    },
    {
     "name": "stdout",
     "output_type": "stream",
     "text": [
      "PyAEDT INFO: Initializing new Desktop session.\n"
     ]
    },
    {
     "name": "stdout",
     "output_type": "stream",
     "text": [
      "PyAEDT INFO: Log on console is enabled.\n"
     ]
    },
    {
     "name": "stdout",
     "output_type": "stream",
     "text": [
      "PyAEDT INFO: Log on file C:\\Users\\ansys\\AppData\\Local\\Temp\\pyaedt_ansys_a6c5ae58-7ff3-4566-9b8d-95eeeda0e356.log is enabled.\n"
     ]
    },
    {
     "name": "stdout",
     "output_type": "stream",
     "text": [
      "PyAEDT INFO: Log on AEDT is disabled.\n"
     ]
    },
    {
     "name": "stdout",
     "output_type": "stream",
     "text": [
      "PyAEDT INFO: Debug logger is disabled. PyAEDT methods will not be logged.\n"
     ]
    },
    {
     "name": "stdout",
     "output_type": "stream",
     "text": [
      "PyAEDT INFO: Launching PyAEDT with gRPC plugin.\n"
     ]
    },
    {
     "name": "stdout",
     "output_type": "stream",
     "text": [
      "PyAEDT INFO: Connecting to AEDT session on gRPC port 61145.\n"
     ]
    },
    {
     "name": "stdout",
     "output_type": "stream",
     "text": [
      "PyAEDT INFO: AEDT installation Path C:\\Program Files\\ANSYS Inc\\v251\\AnsysEM\n"
     ]
    },
    {
     "name": "stderr",
     "output_type": "stream",
     "text": [
      "DEBUG - Toolkit is connected to AEDT.\n"
     ]
    },
    {
     "name": "stdout",
     "output_type": "stream",
     "text": [
      "PyAEDT INFO: Python version 3.10.11 (tags/v3.10.11:7d4cc5a, Apr  5 2023, 00:38:17) [MSC v.1929 64 bit (AMD64)].\n"
     ]
    },
    {
     "name": "stdout",
     "output_type": "stream",
     "text": [
      "PyAEDT INFO: PyAEDT version 0.16.1.\n"
     ]
    },
    {
     "name": "stdout",
     "output_type": "stream",
     "text": [
      "PyAEDT INFO: Returning found Desktop session with PID 5192!\n"
     ]
    },
    {
     "name": "stdout",
     "output_type": "stream",
     "text": [
      "PyAEDT INFO: Project antenna_toolkit has been created.\n"
     ]
    },
    {
     "name": "stdout",
     "output_type": "stream",
     "text": [
      "PyAEDT INFO: Added design 'HFSS_1NOBYQ' of type HFSS.\n"
     ]
    },
    {
     "name": "stdout",
     "output_type": "stream",
     "text": [
      "PyAEDT INFO: Aedt Objects correctly read\n"
     ]
    },
    {
     "name": "stdout",
     "output_type": "stream",
     "text": [
      "PyAEDT INFO: Project antenna_toolkit Saved correctly\n"
     ]
    },
    {
     "name": "stdout",
     "output_type": "stream",
     "text": [
      "PyAEDT INFO: Active Design set to HFSS_1NOBYQ\n"
     ]
    },
    {
     "name": "stderr",
     "output_type": "stream",
     "text": [
      "DEBUG - Project name: antenna_toolkit\n"
     ]
    },
    {
     "name": "stderr",
     "output_type": "stream",
     "text": [
      "INFO - Updating internal properties.\n"
     ]
    },
    {
     "name": "stderr",
     "output_type": "stream",
     "text": [
      "DEBUG - Updating 'project_list' with value ['C:/Users/ansys/AppData/Local/Temp/tmphnlxaugy_ansys/pyaedt_prj_LE7/antenna_toolkit.aedt']\n"
     ]
    },
    {
     "name": "stderr",
     "output_type": "stream",
     "text": [
      "DEBUG - Updating 'active_design' with value HFSS_1NOBYQ\n"
     ]
    },
    {
     "name": "stderr",
     "output_type": "stream",
     "text": [
      "DEBUG - Updating 'active_project' with value C:/Users/ansys/AppData/Local/Temp/tmphnlxaugy_ansys/pyaedt_prj_LE7/antenna_toolkit.aedt\n"
     ]
    },
    {
     "name": "stderr",
     "output_type": "stream",
     "text": [
      "DEBUG - Updating 'design_list' with value {'antenna_toolkit': ['HFSS_1NOBYQ']}\n"
     ]
    },
    {
     "name": "stderr",
     "output_type": "stream",
     "text": [
      "DEBUG - Properties were updated successfully.\n"
     ]
    },
    {
     "name": "stderr",
     "output_type": "stream",
     "text": [
      "INFO - Toolkit is connected to AEDT design.\n"
     ]
    },
    {
     "data": {
      "text/plain": [
       "True"
      ]
     },
     "execution_count": 22,
     "metadata": {},
     "output_type": "execute_result"
    }
   ],
   "source": [
    "toolkit_api.connect_design(\"HFSS\")"
   ]
  },
  {
   "cell_type": "markdown",
   "id": "4724e598",
   "metadata": {},
   "source": [
    "## Create setup when antenna is created\n",
    "\n",
    "Set ``create_setup`` property."
   ]
  },
  {
   "cell_type": "code",
   "execution_count": 23,
   "id": "665be6b3",
   "metadata": {
    "execution": {
     "iopub.execute_input": "2025-05-08T20:15:00.002539Z",
     "iopub.status.busy": "2025-05-08T20:15:00.002539Z",
     "iopub.status.idle": "2025-05-08T20:15:00.018164Z",
     "shell.execute_reply": "2025-05-08T20:15:00.018164Z"
    }
   },
   "outputs": [],
   "source": [
    "properties.antenna.setup.create_setup = True\n",
    "properties.antenna.synthesis.outer_boundary = \"Radiation\""
   ]
  },
  {
   "cell_type": "markdown",
   "id": "36870d2c",
   "metadata": {},
   "source": [
    "## Create antenna in HFSS\n",
    "\n",
    "Create antenna and set up in HFSS."
   ]
  },
  {
   "cell_type": "code",
   "execution_count": 24,
   "id": "15b1e26a",
   "metadata": {
    "execution": {
     "iopub.execute_input": "2025-05-08T20:15:00.018164Z",
     "iopub.status.busy": "2025-05-08T20:15:00.018164Z",
     "iopub.status.idle": "2025-05-08T20:15:04.657710Z",
     "shell.execute_reply": "2025-05-08T20:15:04.657710Z"
    }
   },
   "outputs": [
    {
     "name": "stdout",
     "output_type": "stream",
     "text": [
      "PyAEDT INFO: Modeler class has been initialized! Elapsed time: 0m 0sec\n"
     ]
    },
    {
     "name": "stdout",
     "output_type": "stream",
     "text": [
      "PyAEDT INFO: Materials class has been initialized! Elapsed time: 0m 0sec\n"
     ]
    },
    {
     "name": "stdout",
     "output_type": "stream",
     "text": [
      "PyAEDT INFO: Open Region correctly created.\n"
     ]
    },
    {
     "name": "stdout",
     "output_type": "stream",
     "text": [
      "PyAEDT INFO: Project antenna_toolkit Saved correctly\n"
     ]
    },
    {
     "name": "stdout",
     "output_type": "stream",
     "text": [
      "PyAEDT WARNING: Property Command is read-only.\n"
     ]
    },
    {
     "name": "stdout",
     "output_type": "stream",
     "text": [
      "PyAEDT WARNING: Property Command is read-only.\n"
     ]
    },
    {
     "name": "stdout",
     "output_type": "stream",
     "text": [
      "PyAEDT WARNING: Property Command is read-only.\n"
     ]
    },
    {
     "name": "stdout",
     "output_type": "stream",
     "text": [
      "PyAEDT WARNING: Argument `cs_plane` is deprecated for method `create_circle`; use `orientation` instead.\n"
     ]
    },
    {
     "name": "stdout",
     "output_type": "stream",
     "text": [
      "PyAEDT WARNING: Property Command is read-only.\n"
     ]
    },
    {
     "name": "stdout",
     "output_type": "stream",
     "text": [
      "PyAEDT WARNING: Property Command is read-only.\n"
     ]
    },
    {
     "name": "stdout",
     "output_type": "stream",
     "text": [
      "PyAEDT WARNING: Property Command is read-only.\n"
     ]
    },
    {
     "name": "stdout",
     "output_type": "stream",
     "text": [
      "PyAEDT WARNING: Property Command is read-only.\n"
     ]
    },
    {
     "name": "stdout",
     "output_type": "stream",
     "text": [
      "PyAEDT WARNING: Argument `cs_plane` is deprecated for method `create_circle`; use `orientation` instead.\n"
     ]
    },
    {
     "name": "stdout",
     "output_type": "stream",
     "text": [
      "PyAEDT WARNING: Property Command is read-only.\n"
     ]
    },
    {
     "name": "stdout",
     "output_type": "stream",
     "text": [
      "PyAEDT INFO: Parsing design objects. This operation can take time\n"
     ]
    },
    {
     "name": "stdout",
     "output_type": "stream",
     "text": [
      "PyAEDT INFO: Refreshing bodies from Object Info\n"
     ]
    },
    {
     "name": "stdout",
     "output_type": "stream",
     "text": [
      "PyAEDT INFO: Bodies Info Refreshed Elapsed time: 0m 0sec\n"
     ]
    },
    {
     "name": "stdout",
     "output_type": "stream",
     "text": [
      "PyAEDT INFO: 3D Modeler objects parsed. Elapsed time: 0m 0sec\n"
     ]
    },
    {
     "name": "stdout",
     "output_type": "stream",
     "text": [
      "PyAEDT INFO: Boundary Perfect E PerfE_NR65ZC has been created.\n"
     ]
    },
    {
     "name": "stdout",
     "output_type": "stream",
     "text": [
      "PyAEDT INFO: Boundary Perfect E PerfE_8GF3EO has been created.\n"
     ]
    },
    {
     "name": "stdout",
     "output_type": "stream",
     "text": [
      "PyAEDT INFO: Boundary Perfect E PerfE_URJMXW has been created.\n"
     ]
    },
    {
     "name": "stdout",
     "output_type": "stream",
     "text": [
      "PyAEDT INFO: Boundary AutoIdentify port_Patch_QRLXTZ_1 has been created.\n"
     ]
    },
    {
     "name": "stdout",
     "output_type": "stream",
     "text": [
      "PyAEDT INFO: Parsing C:/Users/ansys/AppData/Local/Temp/tmphnlxaugy_ansys/pyaedt_prj_LE7/antenna_toolkit.aedt.\n"
     ]
    },
    {
     "name": "stdout",
     "output_type": "stream",
     "text": [
      "PyAEDT INFO: File C:/Users/ansys/AppData/Local/Temp/tmphnlxaugy_ansys/pyaedt_prj_LE7/antenna_toolkit.aedt correctly loaded. Elapsed time: 0m 0sec\n"
     ]
    },
    {
     "name": "stdout",
     "output_type": "stream",
     "text": [
      "PyAEDT INFO: aedt file load time 0.015613794326782227\n"
     ]
    },
    {
     "name": "stdout",
     "output_type": "stream",
     "text": [
      "PyAEDT INFO: Project antenna_toolkit Saved correctly\n"
     ]
    },
    {
     "name": "stdout",
     "output_type": "stream",
     "text": [
      "PyAEDT INFO: Desktop has been released.\n"
     ]
    },
    {
     "name": "stderr",
     "output_type": "stream",
     "text": [
      "INFO - AEDT is released.\n"
     ]
    }
   ],
   "source": [
    "antenna_parameter = toolkit_api.get_antenna(\"RectangularPatchProbe\")"
   ]
  },
  {
   "cell_type": "markdown",
   "id": "2aa01e60",
   "metadata": {},
   "source": [
    "## Try. to create antenna\n",
    "\n",
    "The AEDT Antenna Toolkit API does not allow the creation of more than one antenna. However, you can use the antenna\n",
    "model's API to create more than one antenna."
   ]
  },
  {
   "cell_type": "code",
   "execution_count": 25,
   "id": "2a4a39ea",
   "metadata": {
    "execution": {
     "iopub.execute_input": "2025-05-08T20:15:04.657710Z",
     "iopub.status.busy": "2025-05-08T20:15:04.657710Z",
     "iopub.status.idle": "2025-05-08T20:15:04.673342Z",
     "shell.execute_reply": "2025-05-08T20:15:04.673342Z"
    }
   },
   "outputs": [
    {
     "name": "stderr",
     "output_type": "stream",
     "text": [
      "DEBUG - Antenna is already created.\n"
     ]
    }
   ],
   "source": [
    "new_antenna = toolkit_api.get_antenna(\"BowTie\")"
   ]
  },
  {
   "cell_type": "code",
   "execution_count": 26,
   "id": "025d6bb6",
   "metadata": {
    "execution": {
     "iopub.execute_input": "2025-05-08T20:15:04.673342Z",
     "iopub.status.busy": "2025-05-08T20:15:04.673342Z",
     "iopub.status.idle": "2025-05-08T20:15:04.688961Z",
     "shell.execute_reply": "2025-05-08T20:15:04.688961Z"
    }
   },
   "outputs": [
    {
     "name": "stdout",
     "output_type": "stream",
     "text": [
      "False\n"
     ]
    }
   ],
   "source": [
    "print(new_antenna)"
   ]
  },
  {
   "cell_type": "markdown",
   "id": "b068fde2",
   "metadata": {},
   "source": [
    "## Set properties\n",
    "\n",
    "Move antenna X position"
   ]
  },
  {
   "cell_type": "code",
   "execution_count": 27,
   "id": "b9dc040a",
   "metadata": {
    "execution": {
     "iopub.execute_input": "2025-05-08T20:15:04.688961Z",
     "iopub.status.busy": "2025-05-08T20:15:04.688961Z",
     "iopub.status.idle": "2025-05-08T20:15:05.477940Z",
     "shell.execute_reply": "2025-05-08T20:15:05.476746Z"
    }
   },
   "outputs": [
    {
     "name": "stderr",
     "output_type": "stream",
     "text": [
      "DEBUG - Toolkit is not connected to AEDT.\n"
     ]
    },
    {
     "name": "stderr",
     "output_type": "stream",
     "text": [
      "DEBUG - Connecting AEDT.\n"
     ]
    },
    {
     "name": "stdout",
     "output_type": "stream",
     "text": [
      "PyAEDT INFO: Python version 3.10.11 (tags/v3.10.11:7d4cc5a, Apr  5 2023, 00:38:17) [MSC v.1929 64 bit (AMD64)].\n"
     ]
    },
    {
     "name": "stdout",
     "output_type": "stream",
     "text": [
      "PyAEDT INFO: PyAEDT version 0.16.1.\n"
     ]
    },
    {
     "name": "stdout",
     "output_type": "stream",
     "text": [
      "PyAEDT INFO: Initializing new Desktop session.\n"
     ]
    },
    {
     "name": "stdout",
     "output_type": "stream",
     "text": [
      "PyAEDT INFO: Log on console is enabled.\n"
     ]
    },
    {
     "name": "stdout",
     "output_type": "stream",
     "text": [
      "PyAEDT INFO: Log on file C:\\Users\\ansys\\AppData\\Local\\Temp\\pyaedt_ansys_a6c5ae58-7ff3-4566-9b8d-95eeeda0e356.log is enabled.\n"
     ]
    },
    {
     "name": "stdout",
     "output_type": "stream",
     "text": [
      "PyAEDT INFO: Log on AEDT is disabled.\n"
     ]
    },
    {
     "name": "stdout",
     "output_type": "stream",
     "text": [
      "PyAEDT INFO: Debug logger is disabled. PyAEDT methods will not be logged.\n"
     ]
    },
    {
     "name": "stdout",
     "output_type": "stream",
     "text": [
      "PyAEDT INFO: Launching PyAEDT with gRPC plugin.\n"
     ]
    },
    {
     "name": "stdout",
     "output_type": "stream",
     "text": [
      "PyAEDT INFO: Connecting to AEDT session on gRPC port 61145.\n"
     ]
    },
    {
     "name": "stdout",
     "output_type": "stream",
     "text": [
      "PyAEDT INFO: AEDT installation Path C:\\Program Files\\ANSYS Inc\\v251\\AnsysEM\n"
     ]
    },
    {
     "name": "stderr",
     "output_type": "stream",
     "text": [
      "DEBUG - Toolkit is connected to AEDT.\n"
     ]
    },
    {
     "name": "stdout",
     "output_type": "stream",
     "text": [
      "PyAEDT INFO: Python version 3.10.11 (tags/v3.10.11:7d4cc5a, Apr  5 2023, 00:38:17) [MSC v.1929 64 bit (AMD64)].\n"
     ]
    },
    {
     "name": "stdout",
     "output_type": "stream",
     "text": [
      "PyAEDT INFO: PyAEDT version 0.16.1.\n"
     ]
    },
    {
     "name": "stdout",
     "output_type": "stream",
     "text": [
      "PyAEDT INFO: Returning found Desktop session with PID 5192!\n"
     ]
    },
    {
     "name": "stdout",
     "output_type": "stream",
     "text": [
      "PyAEDT INFO: Project antenna_toolkit set to active.\n"
     ]
    },
    {
     "name": "stdout",
     "output_type": "stream",
     "text": [
      "PyAEDT INFO: Active Design set to HFSS_1NOBYQ\n"
     ]
    },
    {
     "name": "stdout",
     "output_type": "stream",
     "text": [
      "PyAEDT INFO: Aedt Objects correctly read\n"
     ]
    },
    {
     "name": "stderr",
     "output_type": "stream",
     "text": [
      "INFO - Toolkit is connected to AEDT design.\n"
     ]
    },
    {
     "name": "stdout",
     "output_type": "stream",
     "text": [
      "PyAEDT INFO: Desktop has been released.\n"
     ]
    },
    {
     "name": "stderr",
     "output_type": "stream",
     "text": [
      "INFO - AEDT is released.\n"
     ]
    },
    {
     "data": {
      "text/plain": [
       "True"
      ]
     },
     "execution_count": 27,
     "metadata": {},
     "output_type": "execute_result"
    }
   ],
   "source": [
    "toolkit_api.update_hfss_parameters(\"pos_x\", \"20\")"
   ]
  },
  {
   "cell_type": "markdown",
   "id": "284f2591",
   "metadata": {},
   "source": [
    "## Fit all"
   ]
  },
  {
   "cell_type": "code",
   "execution_count": 28,
   "id": "ac04f5a6",
   "metadata": {
    "execution": {
     "iopub.execute_input": "2025-05-08T20:15:05.480935Z",
     "iopub.status.busy": "2025-05-08T20:15:05.480935Z",
     "iopub.status.idle": "2025-05-08T20:15:05.774070Z",
     "shell.execute_reply": "2025-05-08T20:15:05.774070Z"
    }
   },
   "outputs": [
    {
     "name": "stderr",
     "output_type": "stream",
     "text": [
      "DEBUG - Toolkit is not connected to AEDT.\n"
     ]
    },
    {
     "name": "stderr",
     "output_type": "stream",
     "text": [
      "DEBUG - Connecting AEDT.\n"
     ]
    },
    {
     "name": "stdout",
     "output_type": "stream",
     "text": [
      "PyAEDT INFO: Python version 3.10.11 (tags/v3.10.11:7d4cc5a, Apr  5 2023, 00:38:17) [MSC v.1929 64 bit (AMD64)].\n"
     ]
    },
    {
     "name": "stdout",
     "output_type": "stream",
     "text": [
      "PyAEDT INFO: PyAEDT version 0.16.1.\n"
     ]
    },
    {
     "name": "stdout",
     "output_type": "stream",
     "text": [
      "PyAEDT INFO: Initializing new Desktop session.\n"
     ]
    },
    {
     "name": "stdout",
     "output_type": "stream",
     "text": [
      "PyAEDT INFO: Log on console is enabled.\n"
     ]
    },
    {
     "name": "stdout",
     "output_type": "stream",
     "text": [
      "PyAEDT INFO: Log on file C:\\Users\\ansys\\AppData\\Local\\Temp\\pyaedt_ansys_a6c5ae58-7ff3-4566-9b8d-95eeeda0e356.log is enabled.\n"
     ]
    },
    {
     "name": "stdout",
     "output_type": "stream",
     "text": [
      "PyAEDT INFO: Log on AEDT is disabled.\n"
     ]
    },
    {
     "name": "stdout",
     "output_type": "stream",
     "text": [
      "PyAEDT INFO: Debug logger is disabled. PyAEDT methods will not be logged.\n"
     ]
    },
    {
     "name": "stdout",
     "output_type": "stream",
     "text": [
      "PyAEDT INFO: Launching PyAEDT with gRPC plugin.\n"
     ]
    },
    {
     "name": "stdout",
     "output_type": "stream",
     "text": [
      "PyAEDT INFO: Connecting to AEDT session on gRPC port 61145.\n"
     ]
    },
    {
     "name": "stdout",
     "output_type": "stream",
     "text": [
      "PyAEDT INFO: AEDT installation Path C:\\Program Files\\ANSYS Inc\\v251\\AnsysEM\n"
     ]
    },
    {
     "name": "stderr",
     "output_type": "stream",
     "text": [
      "DEBUG - Toolkit is connected to AEDT.\n"
     ]
    },
    {
     "name": "stdout",
     "output_type": "stream",
     "text": [
      "PyAEDT INFO: Python version 3.10.11 (tags/v3.10.11:7d4cc5a, Apr  5 2023, 00:38:17) [MSC v.1929 64 bit (AMD64)].\n"
     ]
    },
    {
     "name": "stdout",
     "output_type": "stream",
     "text": [
      "PyAEDT INFO: PyAEDT version 0.16.1.\n"
     ]
    },
    {
     "name": "stdout",
     "output_type": "stream",
     "text": [
      "PyAEDT INFO: Returning found Desktop session with PID 5192!\n"
     ]
    },
    {
     "name": "stdout",
     "output_type": "stream",
     "text": [
      "PyAEDT INFO: Project antenna_toolkit set to active.\n"
     ]
    },
    {
     "name": "stdout",
     "output_type": "stream",
     "text": [
      "PyAEDT INFO: Active Design set to HFSS_1NOBYQ\n"
     ]
    },
    {
     "name": "stdout",
     "output_type": "stream",
     "text": [
      "PyAEDT INFO: Aedt Objects correctly read\n"
     ]
    },
    {
     "name": "stderr",
     "output_type": "stream",
     "text": [
      "INFO - Toolkit is connected to AEDT design.\n"
     ]
    },
    {
     "data": {
      "text/plain": [
       "True"
      ]
     },
     "execution_count": 28,
     "metadata": {},
     "output_type": "execute_result"
    }
   ],
   "source": [
    "toolkit_api.connect_design()"
   ]
  },
  {
   "cell_type": "code",
   "execution_count": 29,
   "id": "ba65574d",
   "metadata": {
    "execution": {
     "iopub.execute_input": "2025-05-08T20:15:05.774070Z",
     "iopub.status.busy": "2025-05-08T20:15:05.774070Z",
     "iopub.status.idle": "2025-05-08T20:15:05.806471Z",
     "shell.execute_reply": "2025-05-08T20:15:05.805459Z"
    }
   },
   "outputs": [
    {
     "name": "stdout",
     "output_type": "stream",
     "text": [
      "PyAEDT INFO: Modeler class has been initialized! Elapsed time: 0m 0sec\n"
     ]
    }
   ],
   "source": [
    "toolkit_api.aedtapp.modeler.fit_all()"
   ]
  },
  {
   "cell_type": "code",
   "execution_count": 30,
   "id": "cd765e29",
   "metadata": {
    "execution": {
     "iopub.execute_input": "2025-05-08T20:15:05.807507Z",
     "iopub.status.busy": "2025-05-08T20:15:05.807507Z",
     "iopub.status.idle": "2025-05-08T20:15:06.190169Z",
     "shell.execute_reply": "2025-05-08T20:15:06.190169Z"
    }
   },
   "outputs": [
    {
     "name": "stdout",
     "output_type": "stream",
     "text": [
      "PyAEDT INFO: Desktop has been released.\n"
     ]
    },
    {
     "name": "stderr",
     "output_type": "stream",
     "text": [
      "INFO - AEDT is released.\n"
     ]
    },
    {
     "data": {
      "text/plain": [
       "True"
      ]
     },
     "execution_count": 30,
     "metadata": {},
     "output_type": "execute_result"
    }
   ],
   "source": [
    "toolkit_api.release_aedt(False, False)"
   ]
  },
  {
   "cell_type": "markdown",
   "id": "2772b7b1",
   "metadata": {},
   "source": [
    "## Set properties\n",
    "\n",
    "Move antenna X position to origin"
   ]
  },
  {
   "cell_type": "code",
   "execution_count": 31,
   "id": "70f00891",
   "metadata": {
    "execution": {
     "iopub.execute_input": "2025-05-08T20:15:06.190169Z",
     "iopub.status.busy": "2025-05-08T20:15:06.190169Z",
     "iopub.status.idle": "2025-05-08T20:15:06.958557Z",
     "shell.execute_reply": "2025-05-08T20:15:06.958557Z"
    }
   },
   "outputs": [
    {
     "name": "stderr",
     "output_type": "stream",
     "text": [
      "DEBUG - Toolkit is not connected to AEDT.\n"
     ]
    },
    {
     "name": "stderr",
     "output_type": "stream",
     "text": [
      "DEBUG - Connecting AEDT.\n"
     ]
    },
    {
     "name": "stdout",
     "output_type": "stream",
     "text": [
      "PyAEDT INFO: Python version 3.10.11 (tags/v3.10.11:7d4cc5a, Apr  5 2023, 00:38:17) [MSC v.1929 64 bit (AMD64)].\n"
     ]
    },
    {
     "name": "stdout",
     "output_type": "stream",
     "text": [
      "PyAEDT INFO: PyAEDT version 0.16.1.\n"
     ]
    },
    {
     "name": "stdout",
     "output_type": "stream",
     "text": [
      "PyAEDT INFO: Initializing new Desktop session.\n"
     ]
    },
    {
     "name": "stdout",
     "output_type": "stream",
     "text": [
      "PyAEDT INFO: Log on console is enabled.\n"
     ]
    },
    {
     "name": "stdout",
     "output_type": "stream",
     "text": [
      "PyAEDT INFO: Log on file C:\\Users\\ansys\\AppData\\Local\\Temp\\pyaedt_ansys_a6c5ae58-7ff3-4566-9b8d-95eeeda0e356.log is enabled.\n"
     ]
    },
    {
     "name": "stdout",
     "output_type": "stream",
     "text": [
      "PyAEDT INFO: Log on AEDT is disabled.\n"
     ]
    },
    {
     "name": "stdout",
     "output_type": "stream",
     "text": [
      "PyAEDT INFO: Debug logger is disabled. PyAEDT methods will not be logged.\n"
     ]
    },
    {
     "name": "stdout",
     "output_type": "stream",
     "text": [
      "PyAEDT INFO: Launching PyAEDT with gRPC plugin.\n"
     ]
    },
    {
     "name": "stdout",
     "output_type": "stream",
     "text": [
      "PyAEDT INFO: Connecting to AEDT session on gRPC port 61145.\n"
     ]
    },
    {
     "name": "stdout",
     "output_type": "stream",
     "text": [
      "PyAEDT INFO: AEDT installation Path C:\\Program Files\\ANSYS Inc\\v251\\AnsysEM\n"
     ]
    },
    {
     "name": "stderr",
     "output_type": "stream",
     "text": [
      "DEBUG - Toolkit is connected to AEDT.\n"
     ]
    },
    {
     "name": "stdout",
     "output_type": "stream",
     "text": [
      "PyAEDT INFO: Python version 3.10.11 (tags/v3.10.11:7d4cc5a, Apr  5 2023, 00:38:17) [MSC v.1929 64 bit (AMD64)].\n"
     ]
    },
    {
     "name": "stdout",
     "output_type": "stream",
     "text": [
      "PyAEDT INFO: PyAEDT version 0.16.1.\n"
     ]
    },
    {
     "name": "stdout",
     "output_type": "stream",
     "text": [
      "PyAEDT INFO: Returning found Desktop session with PID 5192!\n"
     ]
    },
    {
     "name": "stdout",
     "output_type": "stream",
     "text": [
      "PyAEDT INFO: Project antenna_toolkit set to active.\n"
     ]
    },
    {
     "name": "stdout",
     "output_type": "stream",
     "text": [
      "PyAEDT INFO: Active Design set to HFSS_1NOBYQ\n"
     ]
    },
    {
     "name": "stdout",
     "output_type": "stream",
     "text": [
      "PyAEDT INFO: Aedt Objects correctly read\n"
     ]
    },
    {
     "name": "stderr",
     "output_type": "stream",
     "text": [
      "INFO - Toolkit is connected to AEDT design.\n"
     ]
    },
    {
     "name": "stdout",
     "output_type": "stream",
     "text": [
      "PyAEDT INFO: Desktop has been released.\n"
     ]
    },
    {
     "name": "stderr",
     "output_type": "stream",
     "text": [
      "INFO - AEDT is released.\n"
     ]
    },
    {
     "data": {
      "text/plain": [
       "True"
      ]
     },
     "execution_count": 31,
     "metadata": {},
     "output_type": "execute_result"
    }
   ],
   "source": [
    "toolkit_api.update_hfss_parameters(\"pos_x\", \"0\")"
   ]
  },
  {
   "cell_type": "markdown",
   "id": "48d2d53b",
   "metadata": {},
   "source": [
    "## Analyze design in batch mode"
   ]
  },
  {
   "cell_type": "code",
   "execution_count": 32,
   "id": "5f9d76f5",
   "metadata": {
    "execution": {
     "iopub.execute_input": "2025-05-08T20:15:06.958557Z",
     "iopub.status.busy": "2025-05-08T20:15:06.958557Z",
     "iopub.status.idle": "2025-05-08T20:16:15.489020Z",
     "shell.execute_reply": "2025-05-08T20:16:15.489020Z"
    }
   },
   "outputs": [
    {
     "name": "stderr",
     "output_type": "stream",
     "text": [
      "DEBUG - Toolkit is not connected to AEDT.\n"
     ]
    },
    {
     "name": "stderr",
     "output_type": "stream",
     "text": [
      "DEBUG - Connecting AEDT.\n"
     ]
    },
    {
     "name": "stdout",
     "output_type": "stream",
     "text": [
      "PyAEDT INFO: Python version 3.10.11 (tags/v3.10.11:7d4cc5a, Apr  5 2023, 00:38:17) [MSC v.1929 64 bit (AMD64)].\n"
     ]
    },
    {
     "name": "stdout",
     "output_type": "stream",
     "text": [
      "PyAEDT INFO: PyAEDT version 0.16.1.\n"
     ]
    },
    {
     "name": "stdout",
     "output_type": "stream",
     "text": [
      "PyAEDT INFO: Initializing new Desktop session.\n"
     ]
    },
    {
     "name": "stdout",
     "output_type": "stream",
     "text": [
      "PyAEDT INFO: Log on console is enabled.\n"
     ]
    },
    {
     "name": "stdout",
     "output_type": "stream",
     "text": [
      "PyAEDT INFO: Log on file C:\\Users\\ansys\\AppData\\Local\\Temp\\pyaedt_ansys_a6c5ae58-7ff3-4566-9b8d-95eeeda0e356.log is enabled.\n"
     ]
    },
    {
     "name": "stdout",
     "output_type": "stream",
     "text": [
      "PyAEDT INFO: Log on AEDT is disabled.\n"
     ]
    },
    {
     "name": "stdout",
     "output_type": "stream",
     "text": [
      "PyAEDT INFO: Debug logger is disabled. PyAEDT methods will not be logged.\n"
     ]
    },
    {
     "name": "stdout",
     "output_type": "stream",
     "text": [
      "PyAEDT INFO: Launching PyAEDT with gRPC plugin.\n"
     ]
    },
    {
     "name": "stdout",
     "output_type": "stream",
     "text": [
      "PyAEDT INFO: Connecting to AEDT session on gRPC port 61145.\n"
     ]
    },
    {
     "name": "stdout",
     "output_type": "stream",
     "text": [
      "PyAEDT INFO: AEDT installation Path C:\\Program Files\\ANSYS Inc\\v251\\AnsysEM\n"
     ]
    },
    {
     "name": "stderr",
     "output_type": "stream",
     "text": [
      "DEBUG - Toolkit is connected to AEDT.\n"
     ]
    },
    {
     "name": "stdout",
     "output_type": "stream",
     "text": [
      "PyAEDT INFO: Python version 3.10.11 (tags/v3.10.11:7d4cc5a, Apr  5 2023, 00:38:17) [MSC v.1929 64 bit (AMD64)].\n"
     ]
    },
    {
     "name": "stdout",
     "output_type": "stream",
     "text": [
      "PyAEDT INFO: PyAEDT version 0.16.1.\n"
     ]
    },
    {
     "name": "stdout",
     "output_type": "stream",
     "text": [
      "PyAEDT INFO: Returning found Desktop session with PID 5192!\n"
     ]
    },
    {
     "name": "stdout",
     "output_type": "stream",
     "text": [
      "PyAEDT INFO: Project antenna_toolkit set to active.\n"
     ]
    },
    {
     "name": "stdout",
     "output_type": "stream",
     "text": [
      "PyAEDT INFO: Active Design set to HFSS_1NOBYQ\n"
     ]
    },
    {
     "name": "stdout",
     "output_type": "stream",
     "text": [
      "PyAEDT INFO: Aedt Objects correctly read\n"
     ]
    },
    {
     "name": "stderr",
     "output_type": "stream",
     "text": [
      "INFO - Toolkit is connected to AEDT design.\n"
     ]
    },
    {
     "name": "stdout",
     "output_type": "stream",
     "text": [
      "PyAEDT INFO: Project antenna_toolkit Saved correctly\n"
     ]
    },
    {
     "name": "stdout",
     "output_type": "stream",
     "text": [
      "PyAEDT INFO: Key Desktop/ActiveDSOConfigurations/HFSS correctly changed.\n"
     ]
    },
    {
     "name": "stdout",
     "output_type": "stream",
     "text": [
      "PyAEDT INFO: Solving all design setups.\n"
     ]
    },
    {
     "name": "stdout",
     "output_type": "stream",
     "text": [
      "PyAEDT INFO: Key Desktop/ActiveDSOConfigurations/HFSS correctly changed.\n"
     ]
    },
    {
     "name": "stdout",
     "output_type": "stream",
     "text": [
      "PyAEDT INFO: Design setup None solved correctly in 0.0h 1.0m 8.0s\n"
     ]
    },
    {
     "name": "stdout",
     "output_type": "stream",
     "text": [
      "PyAEDT INFO: Desktop has been released.\n"
     ]
    },
    {
     "name": "stderr",
     "output_type": "stream",
     "text": [
      "INFO - AEDT is released.\n"
     ]
    },
    {
     "data": {
      "text/plain": [
       "True"
      ]
     },
     "execution_count": 32,
     "metadata": {},
     "output_type": "execute_result"
    }
   ],
   "source": [
    "toolkit_api.analyze()"
   ]
  },
  {
   "cell_type": "markdown",
   "id": "a9934f08",
   "metadata": {},
   "source": [
    "## Get scattering results"
   ]
  },
  {
   "cell_type": "code",
   "execution_count": 33,
   "id": "135409ae",
   "metadata": {
    "execution": {
     "iopub.execute_input": "2025-05-08T20:16:15.489020Z",
     "iopub.status.busy": "2025-05-08T20:16:15.489020Z",
     "iopub.status.idle": "2025-05-08T20:16:16.635788Z",
     "shell.execute_reply": "2025-05-08T20:16:16.635788Z"
    }
   },
   "outputs": [
    {
     "name": "stderr",
     "output_type": "stream",
     "text": [
      "DEBUG - Toolkit is not connected to AEDT.\n"
     ]
    },
    {
     "name": "stderr",
     "output_type": "stream",
     "text": [
      "DEBUG - Connecting AEDT.\n"
     ]
    },
    {
     "name": "stdout",
     "output_type": "stream",
     "text": [
      "PyAEDT INFO: Python version 3.10.11 (tags/v3.10.11:7d4cc5a, Apr  5 2023, 00:38:17) [MSC v.1929 64 bit (AMD64)].\n"
     ]
    },
    {
     "name": "stdout",
     "output_type": "stream",
     "text": [
      "PyAEDT INFO: PyAEDT version 0.16.1.\n"
     ]
    },
    {
     "name": "stdout",
     "output_type": "stream",
     "text": [
      "PyAEDT INFO: Initializing new Desktop session.\n"
     ]
    },
    {
     "name": "stdout",
     "output_type": "stream",
     "text": [
      "PyAEDT INFO: Log on console is enabled.\n"
     ]
    },
    {
     "name": "stdout",
     "output_type": "stream",
     "text": [
      "PyAEDT INFO: Log on file C:\\Users\\ansys\\AppData\\Local\\Temp\\pyaedt_ansys_a6c5ae58-7ff3-4566-9b8d-95eeeda0e356.log is enabled.\n"
     ]
    },
    {
     "name": "stdout",
     "output_type": "stream",
     "text": [
      "PyAEDT INFO: Log on AEDT is disabled.\n"
     ]
    },
    {
     "name": "stdout",
     "output_type": "stream",
     "text": [
      "PyAEDT INFO: Debug logger is disabled. PyAEDT methods will not be logged.\n"
     ]
    },
    {
     "name": "stdout",
     "output_type": "stream",
     "text": [
      "PyAEDT INFO: Launching PyAEDT with gRPC plugin.\n"
     ]
    },
    {
     "name": "stdout",
     "output_type": "stream",
     "text": [
      "PyAEDT INFO: Connecting to AEDT session on gRPC port 61145.\n"
     ]
    },
    {
     "name": "stdout",
     "output_type": "stream",
     "text": [
      "PyAEDT INFO: AEDT installation Path C:\\Program Files\\ANSYS Inc\\v251\\AnsysEM\n"
     ]
    },
    {
     "name": "stderr",
     "output_type": "stream",
     "text": [
      "DEBUG - Toolkit is connected to AEDT.\n"
     ]
    },
    {
     "name": "stdout",
     "output_type": "stream",
     "text": [
      "PyAEDT INFO: Python version 3.10.11 (tags/v3.10.11:7d4cc5a, Apr  5 2023, 00:38:17) [MSC v.1929 64 bit (AMD64)].\n"
     ]
    },
    {
     "name": "stdout",
     "output_type": "stream",
     "text": [
      "PyAEDT INFO: PyAEDT version 0.16.1.\n"
     ]
    },
    {
     "name": "stdout",
     "output_type": "stream",
     "text": [
      "PyAEDT INFO: Returning found Desktop session with PID 5192!\n"
     ]
    },
    {
     "name": "stdout",
     "output_type": "stream",
     "text": [
      "PyAEDT INFO: Project antenna_toolkit set to active.\n"
     ]
    },
    {
     "name": "stdout",
     "output_type": "stream",
     "text": [
      "PyAEDT INFO: Active Design set to HFSS_1NOBYQ\n"
     ]
    },
    {
     "name": "stdout",
     "output_type": "stream",
     "text": [
      "PyAEDT INFO: Aedt Objects correctly read\n"
     ]
    },
    {
     "name": "stderr",
     "output_type": "stream",
     "text": [
      "INFO - Toolkit is connected to AEDT design.\n"
     ]
    },
    {
     "name": "stdout",
     "output_type": "stream",
     "text": [
      "PyAEDT INFO: Parsing C:/Users/ansys/AppData/Local/Temp/tmphnlxaugy_ansys/pyaedt_prj_LE7/antenna_toolkit.aedt.\n"
     ]
    },
    {
     "name": "stdout",
     "output_type": "stream",
     "text": [
      "PyAEDT INFO: File C:/Users/ansys/AppData/Local/Temp/tmphnlxaugy_ansys/pyaedt_prj_LE7/antenna_toolkit.aedt correctly loaded. Elapsed time: 0m 0sec\n"
     ]
    },
    {
     "name": "stdout",
     "output_type": "stream",
     "text": [
      "PyAEDT INFO: aedt file load time 0.03125357627868652\n"
     ]
    },
    {
     "name": "stdout",
     "output_type": "stream",
     "text": [
      "PyAEDT INFO: PostProcessor class has been initialized! Elapsed time: 0m 0sec\n"
     ]
    },
    {
     "name": "stdout",
     "output_type": "stream",
     "text": [
      "PyAEDT INFO: PostProcessor class has been initialized! Elapsed time: 0m 0sec\n"
     ]
    },
    {
     "name": "stdout",
     "output_type": "stream",
     "text": [
      "PyAEDT INFO: Post class has been initialized! Elapsed time: 0m 0sec\n"
     ]
    },
    {
     "name": "stdout",
     "output_type": "stream",
     "text": [
      "PyAEDT INFO: Solution Data Correctly Loaded.\n"
     ]
    },
    {
     "name": "stdout",
     "output_type": "stream",
     "text": [
      "PyAEDT INFO: Desktop has been released.\n"
     ]
    },
    {
     "name": "stderr",
     "output_type": "stream",
     "text": [
      "INFO - AEDT is released.\n"
     ]
    }
   ],
   "source": [
    "scattering_data = toolkit_api.scattering_results()"
   ]
  },
  {
   "cell_type": "markdown",
   "id": "41702b74",
   "metadata": {},
   "source": [
    "## Get farfield results"
   ]
  },
  {
   "cell_type": "code",
   "execution_count": 34,
   "id": "8334c375",
   "metadata": {
    "execution": {
     "iopub.execute_input": "2025-05-08T20:16:16.635788Z",
     "iopub.status.busy": "2025-05-08T20:16:16.635788Z",
     "iopub.status.idle": "2025-05-08T20:16:20.332828Z",
     "shell.execute_reply": "2025-05-08T20:16:20.332828Z"
    }
   },
   "outputs": [
    {
     "name": "stderr",
     "output_type": "stream",
     "text": [
      "DEBUG - Toolkit is not connected to AEDT.\n"
     ]
    },
    {
     "name": "stderr",
     "output_type": "stream",
     "text": [
      "DEBUG - Connecting AEDT.\n"
     ]
    },
    {
     "name": "stdout",
     "output_type": "stream",
     "text": [
      "PyAEDT INFO: Python version 3.10.11 (tags/v3.10.11:7d4cc5a, Apr  5 2023, 00:38:17) [MSC v.1929 64 bit (AMD64)].\n"
     ]
    },
    {
     "name": "stdout",
     "output_type": "stream",
     "text": [
      "PyAEDT INFO: PyAEDT version 0.16.1.\n"
     ]
    },
    {
     "name": "stdout",
     "output_type": "stream",
     "text": [
      "PyAEDT INFO: Initializing new Desktop session.\n"
     ]
    },
    {
     "name": "stdout",
     "output_type": "stream",
     "text": [
      "PyAEDT INFO: Log on console is enabled.\n"
     ]
    },
    {
     "name": "stdout",
     "output_type": "stream",
     "text": [
      "PyAEDT INFO: Log on file C:\\Users\\ansys\\AppData\\Local\\Temp\\pyaedt_ansys_a6c5ae58-7ff3-4566-9b8d-95eeeda0e356.log is enabled.\n"
     ]
    },
    {
     "name": "stdout",
     "output_type": "stream",
     "text": [
      "PyAEDT INFO: Log on AEDT is disabled.\n"
     ]
    },
    {
     "name": "stdout",
     "output_type": "stream",
     "text": [
      "PyAEDT INFO: Debug logger is disabled. PyAEDT methods will not be logged.\n"
     ]
    },
    {
     "name": "stdout",
     "output_type": "stream",
     "text": [
      "PyAEDT INFO: Launching PyAEDT with gRPC plugin.\n"
     ]
    },
    {
     "name": "stdout",
     "output_type": "stream",
     "text": [
      "PyAEDT INFO: Connecting to AEDT session on gRPC port 61145.\n"
     ]
    },
    {
     "name": "stdout",
     "output_type": "stream",
     "text": [
      "PyAEDT INFO: AEDT installation Path C:\\Program Files\\ANSYS Inc\\v251\\AnsysEM\n"
     ]
    },
    {
     "name": "stderr",
     "output_type": "stream",
     "text": [
      "DEBUG - Toolkit is connected to AEDT.\n"
     ]
    },
    {
     "name": "stdout",
     "output_type": "stream",
     "text": [
      "PyAEDT INFO: Python version 3.10.11 (tags/v3.10.11:7d4cc5a, Apr  5 2023, 00:38:17) [MSC v.1929 64 bit (AMD64)].\n"
     ]
    },
    {
     "name": "stdout",
     "output_type": "stream",
     "text": [
      "PyAEDT INFO: PyAEDT version 0.16.1.\n"
     ]
    },
    {
     "name": "stdout",
     "output_type": "stream",
     "text": [
      "PyAEDT INFO: Returning found Desktop session with PID 5192!\n"
     ]
    },
    {
     "name": "stdout",
     "output_type": "stream",
     "text": [
      "PyAEDT INFO: Project antenna_toolkit set to active.\n"
     ]
    },
    {
     "name": "stdout",
     "output_type": "stream",
     "text": [
      "PyAEDT INFO: Active Design set to HFSS_1NOBYQ\n"
     ]
    },
    {
     "name": "stdout",
     "output_type": "stream",
     "text": [
      "PyAEDT INFO: Aedt Objects correctly read\n"
     ]
    },
    {
     "name": "stderr",
     "output_type": "stream",
     "text": [
      "INFO - Toolkit is connected to AEDT design.\n"
     ]
    },
    {
     "name": "stdout",
     "output_type": "stream",
     "text": [
      "PyAEDT INFO: Project antenna_toolkit Saved correctly\n"
     ]
    },
    {
     "name": "stdout",
     "output_type": "stream",
     "text": [
      "PyAEDT INFO: Far field sphere 3D is assigned\n"
     ]
    },
    {
     "name": "stdout",
     "output_type": "stream",
     "text": [
      "PyAEDT INFO: Exporting antenna metadata...\n"
     ]
    },
    {
     "name": "stdout",
     "output_type": "stream",
     "text": [
      "PyAEDT INFO: Parsing C:/Users/ansys/AppData/Local/Temp/tmphnlxaugy_ansys/pyaedt_prj_LE7/antenna_toolkit.aedt.\n"
     ]
    },
    {
     "name": "stdout",
     "output_type": "stream",
     "text": [
      "PyAEDT INFO: File C:/Users/ansys/AppData/Local/Temp/tmphnlxaugy_ansys/pyaedt_prj_LE7/antenna_toolkit.aedt correctly loaded. Elapsed time: 0m 0sec\n"
     ]
    },
    {
     "name": "stdout",
     "output_type": "stream",
     "text": [
      "PyAEDT INFO: aedt file load time 0.04687929153442383\n"
     ]
    },
    {
     "name": "stdout",
     "output_type": "stream",
     "text": [
      "PyAEDT INFO: PostProcessor class has been initialized! Elapsed time: 0m 0sec\n"
     ]
    },
    {
     "name": "stdout",
     "output_type": "stream",
     "text": [
      "PyAEDT INFO: PostProcessor class has been initialized! Elapsed time: 0m 0sec\n"
     ]
    },
    {
     "name": "stdout",
     "output_type": "stream",
     "text": [
      "PyAEDT INFO: Post class has been initialized! Elapsed time: 0m 0sec\n"
     ]
    },
    {
     "name": "stdout",
     "output_type": "stream",
     "text": [
      "PyAEDT INFO: Antenna metadata exported.\n"
     ]
    },
    {
     "name": "stdout",
     "output_type": "stream",
     "text": [
      "PyAEDT INFO: Exporting geometry...\n"
     ]
    },
    {
     "name": "stdout",
     "output_type": "stream",
     "text": [
      "PyAEDT INFO: Modeler class has been initialized! Elapsed time: 0m 0sec\n"
     ]
    },
    {
     "name": "stdout",
     "output_type": "stream",
     "text": [
      "PyAEDT INFO: Exporting embedded element patterns.... Done: 2.26198410987854 seconds\n"
     ]
    },
    {
     "name": "stdout",
     "output_type": "stream",
     "text": [
      "PyAEDT INFO: Desktop has been released.\n"
     ]
    },
    {
     "name": "stderr",
     "output_type": "stream",
     "text": [
      "INFO - AEDT is released.\n"
     ]
    }
   ],
   "source": [
    "frequency_str = [str(properties.antenna.synthesis.frequency) + properties.antenna.synthesis.frequency_unit]\n",
    "farfield_metadata, farfield_frequency = toolkit_api.export_farfield(\n",
    "    frequencies=frequency_str, sphere=\"3D\", encode=False\n",
    ")"
   ]
  },
  {
   "cell_type": "markdown",
   "id": "2c7b214e",
   "metadata": {},
   "source": [
    "## Get antenna model"
   ]
  },
  {
   "cell_type": "code",
   "execution_count": 35,
   "id": "8152cabb",
   "metadata": {
    "execution": {
     "iopub.execute_input": "2025-05-08T20:16:20.332828Z",
     "iopub.status.busy": "2025-05-08T20:16:20.332828Z",
     "iopub.status.idle": "2025-05-08T20:16:21.548123Z",
     "shell.execute_reply": "2025-05-08T20:16:21.548123Z"
    }
   },
   "outputs": [
    {
     "name": "stderr",
     "output_type": "stream",
     "text": [
      "DEBUG - Toolkit is not connected to AEDT.\n"
     ]
    },
    {
     "name": "stderr",
     "output_type": "stream",
     "text": [
      "DEBUG - Connecting AEDT.\n"
     ]
    },
    {
     "name": "stdout",
     "output_type": "stream",
     "text": [
      "PyAEDT INFO: Python version 3.10.11 (tags/v3.10.11:7d4cc5a, Apr  5 2023, 00:38:17) [MSC v.1929 64 bit (AMD64)].\n"
     ]
    },
    {
     "name": "stdout",
     "output_type": "stream",
     "text": [
      "PyAEDT INFO: PyAEDT version 0.16.1.\n"
     ]
    },
    {
     "name": "stdout",
     "output_type": "stream",
     "text": [
      "PyAEDT INFO: Initializing new Desktop session.\n"
     ]
    },
    {
     "name": "stdout",
     "output_type": "stream",
     "text": [
      "PyAEDT INFO: Log on console is enabled.\n"
     ]
    },
    {
     "name": "stdout",
     "output_type": "stream",
     "text": [
      "PyAEDT INFO: Log on file C:\\Users\\ansys\\AppData\\Local\\Temp\\pyaedt_ansys_a6c5ae58-7ff3-4566-9b8d-95eeeda0e356.log is enabled.\n"
     ]
    },
    {
     "name": "stdout",
     "output_type": "stream",
     "text": [
      "PyAEDT INFO: Log on AEDT is disabled.\n"
     ]
    },
    {
     "name": "stdout",
     "output_type": "stream",
     "text": [
      "PyAEDT INFO: Debug logger is disabled. PyAEDT methods will not be logged.\n"
     ]
    },
    {
     "name": "stdout",
     "output_type": "stream",
     "text": [
      "PyAEDT INFO: Launching PyAEDT with gRPC plugin.\n"
     ]
    },
    {
     "name": "stdout",
     "output_type": "stream",
     "text": [
      "PyAEDT INFO: Connecting to AEDT session on gRPC port 61145.\n"
     ]
    },
    {
     "name": "stdout",
     "output_type": "stream",
     "text": [
      "PyAEDT INFO: AEDT installation Path C:\\Program Files\\ANSYS Inc\\v251\\AnsysEM\n"
     ]
    },
    {
     "name": "stderr",
     "output_type": "stream",
     "text": [
      "DEBUG - Toolkit is connected to AEDT.\n"
     ]
    },
    {
     "name": "stdout",
     "output_type": "stream",
     "text": [
      "PyAEDT INFO: Python version 3.10.11 (tags/v3.10.11:7d4cc5a, Apr  5 2023, 00:38:17) [MSC v.1929 64 bit (AMD64)].\n"
     ]
    },
    {
     "name": "stdout",
     "output_type": "stream",
     "text": [
      "PyAEDT INFO: PyAEDT version 0.16.1.\n"
     ]
    },
    {
     "name": "stdout",
     "output_type": "stream",
     "text": [
      "PyAEDT INFO: Returning found Desktop session with PID 5192!\n"
     ]
    },
    {
     "name": "stdout",
     "output_type": "stream",
     "text": [
      "PyAEDT INFO: Project antenna_toolkit set to active.\n"
     ]
    },
    {
     "name": "stdout",
     "output_type": "stream",
     "text": [
      "PyAEDT INFO: Active Design set to HFSS_1NOBYQ\n"
     ]
    },
    {
     "name": "stdout",
     "output_type": "stream",
     "text": [
      "PyAEDT INFO: Aedt Objects correctly read\n"
     ]
    },
    {
     "name": "stderr",
     "output_type": "stream",
     "text": [
      "INFO - Toolkit is connected to AEDT design.\n"
     ]
    },
    {
     "name": "stdout",
     "output_type": "stream",
     "text": [
      "PyAEDT INFO: Project antenna_toolkit Saved correctly\n"
     ]
    },
    {
     "name": "stdout",
     "output_type": "stream",
     "text": [
      "PyAEDT INFO: Parsing C:/Users/ansys/AppData/Local/Temp/tmphnlxaugy_ansys/pyaedt_prj_LE7/antenna_toolkit.aedt.\n"
     ]
    },
    {
     "name": "stdout",
     "output_type": "stream",
     "text": [
      "PyAEDT INFO: File C:/Users/ansys/AppData/Local/Temp/tmphnlxaugy_ansys/pyaedt_prj_LE7/antenna_toolkit.aedt correctly loaded. Elapsed time: 0m 0sec\n"
     ]
    },
    {
     "name": "stdout",
     "output_type": "stream",
     "text": [
      "PyAEDT INFO: aedt file load time 0.04907989501953125\n"
     ]
    },
    {
     "name": "stdout",
     "output_type": "stream",
     "text": [
      "PyAEDT INFO: PostProcessor class has been initialized! Elapsed time: 0m 0sec\n"
     ]
    },
    {
     "name": "stdout",
     "output_type": "stream",
     "text": [
      "PyAEDT INFO: PostProcessor class has been initialized! Elapsed time: 0m 0sec\n"
     ]
    },
    {
     "name": "stdout",
     "output_type": "stream",
     "text": [
      "PyAEDT INFO: Post class has been initialized! Elapsed time: 0m 0sec\n"
     ]
    },
    {
     "name": "stdout",
     "output_type": "stream",
     "text": [
      "PyAEDT WARNING: Argument `export_as_single_objects` is deprecated for method `export_model_obj`; use `export_as_multiple_objects` instead.\n"
     ]
    },
    {
     "name": "stdout",
     "output_type": "stream",
     "text": [
      "PyAEDT INFO: Modeler class has been initialized! Elapsed time: 0m 0sec\n"
     ]
    },
    {
     "name": "stdout",
     "output_type": "stream",
     "text": [
      "PyAEDT INFO: Desktop has been released.\n"
     ]
    },
    {
     "name": "stderr",
     "output_type": "stream",
     "text": [
      "INFO - AEDT is released.\n"
     ]
    }
   ],
   "source": [
    "files = toolkit_api.export_aedt_model(encode=False)"
   ]
  },
  {
   "cell_type": "markdown",
   "id": "8e8f071a",
   "metadata": {},
   "source": [
    "## Release AEDT\n",
    "\n",
    "Release AEDT."
   ]
  },
  {
   "cell_type": "code",
   "execution_count": 36,
   "id": "308868d4",
   "metadata": {
    "execution": {
     "iopub.execute_input": "2025-05-08T20:16:21.548123Z",
     "iopub.status.busy": "2025-05-08T20:16:21.548123Z",
     "iopub.status.idle": "2025-05-08T20:16:30.126620Z",
     "shell.execute_reply": "2025-05-08T20:16:30.126620Z"
    }
   },
   "outputs": [
    {
     "name": "stderr",
     "output_type": "stream",
     "text": [
      "DEBUG - Toolkit is not connected to AEDT.\n"
     ]
    },
    {
     "name": "stderr",
     "output_type": "stream",
     "text": [
      "DEBUG - Connecting AEDT.\n"
     ]
    },
    {
     "name": "stdout",
     "output_type": "stream",
     "text": [
      "PyAEDT INFO: Python version 3.10.11 (tags/v3.10.11:7d4cc5a, Apr  5 2023, 00:38:17) [MSC v.1929 64 bit (AMD64)].\n"
     ]
    },
    {
     "name": "stdout",
     "output_type": "stream",
     "text": [
      "PyAEDT INFO: PyAEDT version 0.16.1.\n"
     ]
    },
    {
     "name": "stdout",
     "output_type": "stream",
     "text": [
      "PyAEDT INFO: Initializing new Desktop session.\n"
     ]
    },
    {
     "name": "stdout",
     "output_type": "stream",
     "text": [
      "PyAEDT INFO: Log on console is enabled.\n"
     ]
    },
    {
     "name": "stdout",
     "output_type": "stream",
     "text": [
      "PyAEDT INFO: Log on file C:\\Users\\ansys\\AppData\\Local\\Temp\\pyaedt_ansys_a6c5ae58-7ff3-4566-9b8d-95eeeda0e356.log is enabled.\n"
     ]
    },
    {
     "name": "stdout",
     "output_type": "stream",
     "text": [
      "PyAEDT INFO: Log on AEDT is disabled.\n"
     ]
    },
    {
     "name": "stdout",
     "output_type": "stream",
     "text": [
      "PyAEDT INFO: Debug logger is disabled. PyAEDT methods will not be logged.\n"
     ]
    },
    {
     "name": "stdout",
     "output_type": "stream",
     "text": [
      "PyAEDT INFO: Launching PyAEDT with gRPC plugin.\n"
     ]
    },
    {
     "name": "stdout",
     "output_type": "stream",
     "text": [
      "PyAEDT INFO: Connecting to AEDT session on gRPC port 61145.\n"
     ]
    },
    {
     "name": "stdout",
     "output_type": "stream",
     "text": [
      "PyAEDT INFO: AEDT installation Path C:\\Program Files\\ANSYS Inc\\v251\\AnsysEM\n"
     ]
    },
    {
     "name": "stderr",
     "output_type": "stream",
     "text": [
      "DEBUG - Toolkit is connected to AEDT.\n"
     ]
    },
    {
     "name": "stdout",
     "output_type": "stream",
     "text": [
      "PyAEDT INFO: Desktop has been released and closed.\n"
     ]
    },
    {
     "name": "stderr",
     "output_type": "stream",
     "text": [
      "INFO - AEDT is released.\n"
     ]
    },
    {
     "data": {
      "text/plain": [
       "True"
      ]
     },
     "execution_count": 36,
     "metadata": {},
     "output_type": "execute_result"
    }
   ],
   "source": [
    "toolkit_api.release_aedt(True, True)"
   ]
  },
  {
   "cell_type": "markdown",
   "id": "5fab1a23",
   "metadata": {},
   "source": [
    "## Plot results"
   ]
  },
  {
   "cell_type": "markdown",
   "id": "529715e7",
   "metadata": {},
   "source": [
    "Plot exported files"
   ]
  },
  {
   "cell_type": "code",
   "execution_count": 37,
   "id": "2abf9c38",
   "metadata": {
    "execution": {
     "iopub.execute_input": "2025-05-08T20:16:30.126620Z",
     "iopub.status.busy": "2025-05-08T20:16:30.126620Z",
     "iopub.status.idle": "2025-05-08T20:16:30.142208Z",
     "shell.execute_reply": "2025-05-08T20:16:30.142208Z"
    }
   },
   "outputs": [],
   "source": [
    "from ansys.aedt.core.visualization.plot.pyvista import ModelPlotter"
   ]
  },
  {
   "cell_type": "code",
   "execution_count": 38,
   "id": "511172bf",
   "metadata": {
    "execution": {
     "iopub.execute_input": "2025-05-08T20:16:30.142208Z",
     "iopub.status.busy": "2025-05-08T20:16:30.142208Z",
     "iopub.status.idle": "2025-05-08T20:16:30.157832Z",
     "shell.execute_reply": "2025-05-08T20:16:30.157832Z"
    }
   },
   "outputs": [],
   "source": [
    "model = ModelPlotter()\n",
    "for file in files:\n",
    "    model.add_object(file[0], file[1], file[2])"
   ]
  },
  {
   "cell_type": "code",
   "execution_count": 39,
   "id": "12c065d7",
   "metadata": {
    "execution": {
     "iopub.execute_input": "2025-05-08T20:16:30.157832Z",
     "iopub.status.busy": "2025-05-08T20:16:30.157832Z",
     "iopub.status.idle": "2025-05-08T20:16:30.267211Z",
     "shell.execute_reply": "2025-05-08T20:16:30.267211Z"
    }
   },
   "outputs": [
    {
     "data": {
      "text/plain": [
       "True"
      ]
     },
     "execution_count": 39,
     "metadata": {},
     "output_type": "execute_result"
    }
   ],
   "source": [
    "model.plot(show=False)"
   ]
  },
  {
   "cell_type": "markdown",
   "id": "2e75f0ef",
   "metadata": {},
   "source": [
    "## Load far field"
   ]
  },
  {
   "cell_type": "code",
   "execution_count": 40,
   "id": "605a99cd",
   "metadata": {
    "execution": {
     "iopub.execute_input": "2025-05-08T20:16:30.267211Z",
     "iopub.status.busy": "2025-05-08T20:16:30.267211Z",
     "iopub.status.idle": "2025-05-08T20:16:30.345335Z",
     "shell.execute_reply": "2025-05-08T20:16:30.345335Z"
    }
   },
   "outputs": [],
   "source": [
    "farfield_data = FfdSolutionData(farfield_metadata)"
   ]
  },
  {
   "cell_type": "markdown",
   "id": "b7e50be5",
   "metadata": {},
   "source": [
    "## Plot far field"
   ]
  },
  {
   "cell_type": "code",
   "execution_count": 41,
   "id": "008c3efa",
   "metadata": {
    "execution": {
     "iopub.execute_input": "2025-05-08T20:16:30.345335Z",
     "iopub.status.busy": "2025-05-08T20:16:30.345335Z",
     "iopub.status.idle": "2025-05-08T20:16:30.486018Z",
     "shell.execute_reply": "2025-05-08T20:16:30.486018Z"
    }
   },
   "outputs": [],
   "source": [
    "data = farfield_data.plot_3d(show=False)"
   ]
  },
  {
   "cell_type": "markdown",
   "id": "6023c9da",
   "metadata": {},
   "source": [
    "## Clean temporary directory"
   ]
  },
  {
   "cell_type": "code",
   "execution_count": 42,
   "id": "08f93f4f",
   "metadata": {
    "execution": {
     "iopub.execute_input": "2025-05-08T20:16:30.486018Z",
     "iopub.status.busy": "2025-05-08T20:16:30.486018Z",
     "iopub.status.idle": "2025-05-08T20:16:30.626603Z",
     "shell.execute_reply": "2025-05-08T20:16:30.626603Z"
    }
   },
   "outputs": [],
   "source": [
    "temp_dir.cleanup()"
   ]
  }
 ],
 "metadata": {
  "jupytext": {
   "cell_metadata_filter": "-all",
   "encoding": "# -*- coding: utf-8 -*-",
   "main_language": "python",
   "notebook_metadata_filter": "-all",
   "text_representation": {
    "extension": ".py",
    "format_name": "light"
   }
  },
  "language_info": {
   "codemirror_mode": {
    "name": "ipython",
    "version": 3
   },
   "file_extension": ".py",
   "mimetype": "text/x-python",
   "name": "python",
   "nbconvert_exporter": "python",
   "pygments_lexer": "ipython3",
   "version": "3.10.11"
  }
 },
 "nbformat": 4,
 "nbformat_minor": 5
}
