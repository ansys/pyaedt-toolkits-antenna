{
 "cells": [
  {
   "cell_type": "markdown",
   "id": "32383067",
   "metadata": {},
   "source": [
    "\n",
    "Copyright (C) 2023 - 2025 ANSYS, Inc. and/or its affiliates.\n",
    "SPDX-License-Identifier: MIT\n",
    "\n",
    "\n",
    "Permission is hereby granted, free of charge, to any person obtaining a copy\n",
    "of this software and associated documentation files (the \"Software\"), to deal\n",
    "in the Software without restriction, including without limitation the rights\n",
    "to use, copy, modify, merge, publish, distribute, sublicense, and/or sell\n",
    "copies of the Software, and to permit persons to whom the Software is\n",
    "furnished to do so, subject to the following conditions:\n",
    "\n",
    "The above copyright notice and this permission notice shall be included in all\n",
    "copies or substantial portions of the Software.\n",
    "\n",
    "THE SOFTWARE IS PROVIDED \"AS IS\", WITHOUT WARRANTY OF ANY KIND, EXPRESS OR\n",
    "IMPLIED, INCLUDING BUT NOT LIMITED TO THE WARRANTIES OF MERCHANTABILITY,\n",
    "FITNESS FOR A PARTICULAR PURPOSE AND NONINFRINGEMENT. IN NO EVENT SHALL THE\n",
    "AUTHORS OR COPYRIGHT HOLDERS BE LIABLE FOR ANY CLAIM, DAMAGES OR OTHER\n",
    "LIABILITY, WHETHER IN AN ACTION OF CONTRACT, TORT OR OTHERWISE, ARISING FROM,\n",
    "OUT OF OR IN CONNECTION WITH THE SOFTWARE OR THE USE OR OTHER DEALINGS IN THE\n",
    "SOFTWARE."
   ]
  },
  {
   "cell_type": "markdown",
   "id": "50943ecf",
   "metadata": {
    "lines_to_next_cell": 2
   },
   "source": [
    "# Bowtie antenna synthesis\n",
    "\n",
    "This example demonstrates how to synthesize a bowtie antenna using the ``BowTieRounded`` class.\n",
    "It initiates AEDT through PyAEDT, sets up an empty HFSS design, and proceeds to create the antenna."
   ]
  },
  {
   "cell_type": "markdown",
   "id": "da83a642",
   "metadata": {},
   "source": [
    "## Perform required imports\n",
    "\n",
    "Import the antenna toolkit class and PyAEDT."
   ]
  },
  {
   "cell_type": "code",
   "execution_count": 1,
   "id": "0b345a38",
   "metadata": {
    "execution": {
     "iopub.execute_input": "2025-05-06T16:02:40.567982Z",
     "iopub.status.busy": "2025-05-06T16:02:40.567982Z",
     "iopub.status.idle": "2025-05-06T16:02:40.599214Z",
     "shell.execute_reply": "2025-05-06T16:02:40.599214Z"
    }
   },
   "outputs": [],
   "source": [
    "import tempfile"
   ]
  },
  {
   "cell_type": "code",
   "execution_count": 2,
   "id": "9b4dffcf",
   "metadata": {
    "execution": {
     "iopub.execute_input": "2025-05-06T16:02:40.599214Z",
     "iopub.status.busy": "2025-05-06T16:02:40.599214Z",
     "iopub.status.idle": "2025-05-06T16:02:41.396111Z",
     "shell.execute_reply": "2025-05-06T16:02:41.396111Z"
    }
   },
   "outputs": [],
   "source": [
    "import ansys.aedt.core"
   ]
  },
  {
   "cell_type": "code",
   "execution_count": 3,
   "id": "5fd12f87",
   "metadata": {
    "execution": {
     "iopub.execute_input": "2025-05-06T16:02:41.396111Z",
     "iopub.status.busy": "2025-05-06T16:02:41.396111Z",
     "iopub.status.idle": "2025-05-06T16:02:41.693045Z",
     "shell.execute_reply": "2025-05-06T16:02:41.693045Z"
    }
   },
   "outputs": [],
   "source": [
    "from ansys.aedt.toolkits.antenna.backend.antenna_models.bowtie import BowTieRounded"
   ]
  },
  {
   "cell_type": "markdown",
   "id": "3baf08cc",
   "metadata": {},
   "source": [
    "##  Set AEDT version\n",
    "\n",
    "Set AEDT version."
   ]
  },
  {
   "cell_type": "code",
   "execution_count": 4,
   "id": "212a117a",
   "metadata": {
    "execution": {
     "iopub.execute_input": "2025-05-06T16:02:41.693045Z",
     "iopub.status.busy": "2025-05-06T16:02:41.693045Z",
     "iopub.status.idle": "2025-05-06T16:02:41.708618Z",
     "shell.execute_reply": "2025-05-06T16:02:41.708618Z"
    }
   },
   "outputs": [],
   "source": [
    "aedt_version = \"2025.1\""
   ]
  },
  {
   "cell_type": "markdown",
   "id": "cb5f9e84",
   "metadata": {},
   "source": [
    "## Set non-graphical mode\n",
    "\n",
    "Set non-graphical mode."
   ]
  },
  {
   "cell_type": "code",
   "execution_count": 5,
   "id": "321bb875",
   "metadata": {
    "execution": {
     "iopub.execute_input": "2025-05-06T16:02:41.708618Z",
     "iopub.status.busy": "2025-05-06T16:02:41.708618Z",
     "iopub.status.idle": "2025-05-06T16:02:41.724236Z",
     "shell.execute_reply": "2025-05-06T16:02:41.724236Z"
    }
   },
   "outputs": [],
   "source": [
    "non_graphical = True"
   ]
  },
  {
   "cell_type": "markdown",
   "id": "d44a9b50",
   "metadata": {},
   "source": [
    "## Create temporary directory"
   ]
  },
  {
   "cell_type": "code",
   "execution_count": 6,
   "id": "69881e48",
   "metadata": {
    "execution": {
     "iopub.execute_input": "2025-05-06T16:02:41.724236Z",
     "iopub.status.busy": "2025-05-06T16:02:41.724236Z",
     "iopub.status.idle": "2025-05-06T16:02:41.739882Z",
     "shell.execute_reply": "2025-05-06T16:02:41.739882Z"
    }
   },
   "outputs": [],
   "source": [
    "temp_dir = tempfile.TemporaryDirectory(suffix=\"_ansys\")\n",
    "project_name = ansys.aedt.core.generate_unique_project_name(root_name=temp_dir.name, project_name=\"bowtie_example\")"
   ]
  },
  {
   "cell_type": "markdown",
   "id": "2bab7e64",
   "metadata": {},
   "source": [
    "## Create antenna object only for synthesis\n",
    "\n",
    "Create antenna object."
   ]
  },
  {
   "cell_type": "code",
   "execution_count": 7,
   "id": "5920854e",
   "metadata": {
    "execution": {
     "iopub.execute_input": "2025-05-06T16:02:41.739882Z",
     "iopub.status.busy": "2025-05-06T16:02:41.739882Z",
     "iopub.status.idle": "2025-05-06T16:02:41.755492Z",
     "shell.execute_reply": "2025-05-06T16:02:41.755492Z"
    }
   },
   "outputs": [
    {
     "name": "stdout",
     "output_type": "stream",
     "text": [
      "Arm length: 3.7mm at 10.0GHz\n"
     ]
    }
   ],
   "source": [
    "oantenna1 = BowTieRounded(None)\n",
    "print(\n",
    "    \"Arm length: {}{} at {}{}\".format(\n",
    "        str(oantenna1.synthesis_parameters.arm_length.value),\n",
    "        oantenna1.length_unit,\n",
    "        oantenna1.frequency,\n",
    "        oantenna1.frequency_unit,\n",
    "    )\n",
    ")"
   ]
  },
  {
   "cell_type": "markdown",
   "id": "c927033f",
   "metadata": {},
   "source": [
    "## Change synthesis frequency\n",
    "\n",
    "Modify resonance frequency and modify parameters."
   ]
  },
  {
   "cell_type": "code",
   "execution_count": 8,
   "id": "79a08d24",
   "metadata": {
    "execution": {
     "iopub.execute_input": "2025-05-06T16:02:41.755492Z",
     "iopub.status.busy": "2025-05-06T16:02:41.755492Z",
     "iopub.status.idle": "2025-05-06T16:02:41.771184Z",
     "shell.execute_reply": "2025-05-06T16:02:41.771184Z"
    }
   },
   "outputs": [
    {
     "name": "stdout",
     "output_type": "stream",
     "text": [
      "Arm length: 3.03mm at 12.0GHz\n"
     ]
    }
   ],
   "source": [
    "oantenna1.frequency = 12.0\n",
    "print(\n",
    "    \"Arm length: {}{} at {}{}\".format(\n",
    "        str(oantenna1.synthesis_parameters.arm_length.value),\n",
    "        oantenna1.length_unit,\n",
    "        oantenna1.frequency,\n",
    "        oantenna1.frequency_unit,\n",
    "    )\n",
    ")"
   ]
  },
  {
   "cell_type": "markdown",
   "id": "c0c654e6",
   "metadata": {},
   "source": [
    "## Create an empty HFSS design\n",
    "\n",
    "Create an empty HFSS design."
   ]
  },
  {
   "cell_type": "code",
   "execution_count": 9,
   "id": "c34978f9",
   "metadata": {
    "execution": {
     "iopub.execute_input": "2025-05-06T16:02:41.771184Z",
     "iopub.status.busy": "2025-05-06T16:02:41.771184Z",
     "iopub.status.idle": "2025-05-06T16:03:19.141645Z",
     "shell.execute_reply": "2025-05-06T16:03:19.141645Z"
    }
   },
   "outputs": [
    {
     "name": "stdout",
     "output_type": "stream",
     "text": [
      "PyAEDT INFO: Python version 3.10.11 (tags/v3.10.11:7d4cc5a, Apr  5 2023, 00:38:17) [MSC v.1929 64 bit (AMD64)].\n"
     ]
    },
    {
     "name": "stdout",
     "output_type": "stream",
     "text": [
      "PyAEDT INFO: PyAEDT version 0.16.1.\n"
     ]
    },
    {
     "name": "stdout",
     "output_type": "stream",
     "text": [
      "PyAEDT INFO: Initializing new Desktop session.\n"
     ]
    },
    {
     "name": "stdout",
     "output_type": "stream",
     "text": [
      "PyAEDT INFO: Log on console is enabled.\n"
     ]
    },
    {
     "name": "stdout",
     "output_type": "stream",
     "text": [
      "PyAEDT INFO: Log on file C:\\Users\\ansys\\AppData\\Local\\Temp\\pyaedt_ansys_ad8fe61f-628d-4a79-9500-c507415b74c7.log is enabled.\n"
     ]
    },
    {
     "name": "stdout",
     "output_type": "stream",
     "text": [
      "PyAEDT INFO: Log on AEDT is disabled.\n"
     ]
    },
    {
     "name": "stdout",
     "output_type": "stream",
     "text": [
      "PyAEDT INFO: Debug logger is disabled. PyAEDT methods will not be logged.\n"
     ]
    },
    {
     "name": "stdout",
     "output_type": "stream",
     "text": [
      "PyAEDT INFO: Launching PyAEDT with gRPC plugin.\n"
     ]
    },
    {
     "name": "stdout",
     "output_type": "stream",
     "text": [
      "PyAEDT INFO: New AEDT session is starting on gRPC port 61260.\n"
     ]
    },
    {
     "name": "stdout",
     "output_type": "stream",
     "text": [
      "PyAEDT INFO: Electronics Desktop started on gRPC port: 61260 after 6.166604518890381 seconds.\n"
     ]
    },
    {
     "name": "stdout",
     "output_type": "stream",
     "text": [
      "PyAEDT INFO: AEDT installation Path C:\\Program Files\\ANSYS Inc\\v251\\AnsysEM\n"
     ]
    },
    {
     "name": "stdout",
     "output_type": "stream",
     "text": [
      "PyAEDT INFO: Ansoft.ElectronicsDesktop.2025.1 version started with process ID 9944.\n"
     ]
    },
    {
     "name": "stdout",
     "output_type": "stream",
     "text": [
      "PyAEDT INFO: Project bowtie_example has been created.\n"
     ]
    },
    {
     "name": "stdout",
     "output_type": "stream",
     "text": [
      "PyAEDT INFO: No design is present. Inserting a new design.\n"
     ]
    },
    {
     "name": "stdout",
     "output_type": "stream",
     "text": [
      "PyAEDT INFO: Added design 'HFSS_L7R' of type HFSS.\n"
     ]
    },
    {
     "name": "stdout",
     "output_type": "stream",
     "text": [
      "PyAEDT INFO: Aedt Objects correctly read\n"
     ]
    }
   ],
   "source": [
    "app = ansys.aedt.core.Hfss(project=project_name, version=aedt_version, non_graphical=non_graphical)"
   ]
  },
  {
   "cell_type": "markdown",
   "id": "d4a928fc",
   "metadata": {},
   "source": [
    "## Create antenna in HFSS\n",
    "\n",
    "Create antenna object, change frequency synthesis, create antenna, and set up in HFSS."
   ]
  },
  {
   "cell_type": "code",
   "execution_count": 10,
   "id": "f15a4127",
   "metadata": {
    "execution": {
     "iopub.execute_input": "2025-05-06T16:03:19.141645Z",
     "iopub.status.busy": "2025-05-06T16:03:19.141645Z",
     "iopub.status.idle": "2025-05-06T16:03:22.477609Z",
     "shell.execute_reply": "2025-05-06T16:03:22.477609Z"
    }
   },
   "outputs": [
    {
     "name": "stdout",
     "output_type": "stream",
     "text": [
      "PyAEDT INFO: Modeler class has been initialized! Elapsed time: 0m 2sec\n"
     ]
    },
    {
     "name": "stdout",
     "output_type": "stream",
     "text": [
      "PyAEDT INFO: Materials class has been initialized! Elapsed time: 0m 0sec\n"
     ]
    }
   ],
   "source": [
    "oantenna1 = BowTieRounded(app)"
   ]
  },
  {
   "cell_type": "code",
   "execution_count": 11,
   "id": "42cfbf8b",
   "metadata": {
    "execution": {
     "iopub.execute_input": "2025-05-06T16:03:22.477609Z",
     "iopub.status.busy": "2025-05-06T16:03:22.477609Z",
     "iopub.status.idle": "2025-05-06T16:03:23.546589Z",
     "shell.execute_reply": "2025-05-06T16:03:23.544308Z"
    }
   },
   "outputs": [
    {
     "name": "stdout",
     "output_type": "stream",
     "text": [
      "PyAEDT WARNING: Property Command is read-only.\n"
     ]
    },
    {
     "name": "stdout",
     "output_type": "stream",
     "text": [
      "PyAEDT INFO: Parsing design objects. This operation can take time\n"
     ]
    },
    {
     "name": "stdout",
     "output_type": "stream",
     "text": [
      "PyAEDT INFO: Refreshing bodies from Object Info\n"
     ]
    },
    {
     "name": "stdout",
     "output_type": "stream",
     "text": [
      "PyAEDT INFO: Bodies Info Refreshed Elapsed time: 0m 0sec\n"
     ]
    },
    {
     "name": "stdout",
     "output_type": "stream",
     "text": [
      "PyAEDT INFO: 3D Modeler objects parsed. Elapsed time: 0m 0sec\n"
     ]
    },
    {
     "name": "stdout",
     "output_type": "stream",
     "text": [
      "PyAEDT INFO: Union of 2 objects has been executed.\n"
     ]
    },
    {
     "name": "stdout",
     "output_type": "stream",
     "text": [
      "PyAEDT WARNING: Property Command is read-only.\n"
     ]
    },
    {
     "name": "stdout",
     "output_type": "stream",
     "text": [
      "PyAEDT WARNING: Property Command is read-only.\n"
     ]
    }
   ],
   "source": [
    "# Create antenna in HFSS.\n",
    "oantenna1.model_hfss()"
   ]
  },
  {
   "cell_type": "markdown",
   "id": "2c391616",
   "metadata": {},
   "source": [
    "Create antenna setup."
   ]
  },
  {
   "cell_type": "code",
   "execution_count": 12,
   "id": "5acdc2fb",
   "metadata": {
    "execution": {
     "iopub.execute_input": "2025-05-06T16:03:23.546589Z",
     "iopub.status.busy": "2025-05-06T16:03:23.546589Z",
     "iopub.status.idle": "2025-05-06T16:03:23.896914Z",
     "shell.execute_reply": "2025-05-06T16:03:23.896914Z"
    }
   },
   "outputs": [
    {
     "name": "stdout",
     "output_type": "stream",
     "text": [
      "PyAEDT INFO: Boundary Perfect E PerfE_ALEH85 has been created.\n"
     ]
    },
    {
     "name": "stdout",
     "output_type": "stream",
     "text": [
      "PyAEDT INFO: Boundary Perfect E PerfE_HYBCJN has been created.\n"
     ]
    },
    {
     "name": "stdout",
     "output_type": "stream",
     "text": [
      "PyAEDT INFO: Boundary AutoIdentify port_Patch_3BMBLR_1 has been created.\n"
     ]
    },
    {
     "data": {
      "text/plain": [
       "True"
      ]
     },
     "execution_count": 12,
     "metadata": {},
     "output_type": "execute_result"
    }
   ],
   "source": [
    "oantenna1.setup_hfss()"
   ]
  },
  {
   "cell_type": "markdown",
   "id": "c363da92",
   "metadata": {},
   "source": [
    "Change default name."
   ]
  },
  {
   "cell_type": "code",
   "execution_count": 13,
   "id": "73f5fccd",
   "metadata": {
    "execution": {
     "iopub.execute_input": "2025-05-06T16:03:23.896914Z",
     "iopub.status.busy": "2025-05-06T16:03:23.896914Z",
     "iopub.status.idle": "2025-05-06T16:03:23.943796Z",
     "shell.execute_reply": "2025-05-06T16:03:23.943796Z"
    }
   },
   "outputs": [],
   "source": [
    "oantenna1.name = \"MyAmazingAntenna\""
   ]
  },
  {
   "cell_type": "markdown",
   "id": "3107fcc2",
   "metadata": {},
   "source": [
    "## Create antenna in HFSS\n",
    "\n",
    "Create antenna object, change origin parameter in the antenna definition, create antenna, and set up in HFSS."
   ]
  },
  {
   "cell_type": "code",
   "execution_count": 14,
   "id": "c6686665",
   "metadata": {
    "execution": {
     "iopub.execute_input": "2025-05-06T16:03:23.943796Z",
     "iopub.status.busy": "2025-05-06T16:03:23.943796Z",
     "iopub.status.idle": "2025-05-06T16:03:25.111820Z",
     "shell.execute_reply": "2025-05-06T16:03:25.110818Z"
    }
   },
   "outputs": [
    {
     "name": "stdout",
     "output_type": "stream",
     "text": [
      "PyAEDT WARNING: Property Command is read-only.\n"
     ]
    },
    {
     "name": "stdout",
     "output_type": "stream",
     "text": [
      "PyAEDT INFO: Parsing design objects. This operation can take time\n"
     ]
    },
    {
     "name": "stdout",
     "output_type": "stream",
     "text": [
      "PyAEDT INFO: Refreshing bodies from Object Info\n"
     ]
    },
    {
     "name": "stdout",
     "output_type": "stream",
     "text": [
      "PyAEDT INFO: Bodies Info Refreshed Elapsed time: 0m 0sec\n"
     ]
    },
    {
     "name": "stdout",
     "output_type": "stream",
     "text": [
      "PyAEDT INFO: 3D Modeler objects parsed. Elapsed time: 0m 0sec\n"
     ]
    },
    {
     "name": "stdout",
     "output_type": "stream",
     "text": [
      "PyAEDT INFO: Union of 2 objects has been executed.\n"
     ]
    },
    {
     "name": "stdout",
     "output_type": "stream",
     "text": [
      "PyAEDT WARNING: Property Command is read-only.\n"
     ]
    },
    {
     "name": "stdout",
     "output_type": "stream",
     "text": [
      "PyAEDT WARNING: Property Command is read-only.\n"
     ]
    },
    {
     "name": "stdout",
     "output_type": "stream",
     "text": [
      "PyAEDT INFO: Boundary Perfect E PerfE_YYNE00 has been created.\n"
     ]
    },
    {
     "name": "stdout",
     "output_type": "stream",
     "text": [
      "PyAEDT INFO: Boundary Perfect E PerfE_QBBWXF has been created.\n"
     ]
    },
    {
     "name": "stdout",
     "output_type": "stream",
     "text": [
      "PyAEDT INFO: Boundary AutoIdentify port_MyAntenna_1 has been created.\n"
     ]
    },
    {
     "data": {
      "text/plain": [
       "True"
      ]
     },
     "execution_count": 14,
     "metadata": {},
     "output_type": "execute_result"
    }
   ],
   "source": [
    "oantenna2 = BowTieRounded(app, origin=[2, 5, 0], name=\"MyAntenna\")\n",
    "oantenna2.model_hfss()\n",
    "oantenna2.setup_hfss()"
   ]
  },
  {
   "cell_type": "markdown",
   "id": "5fe08808",
   "metadata": {},
   "source": [
    "## Plot HFSS model\n",
    "\n",
    "Plot geometry with PyVista."
   ]
  },
  {
   "cell_type": "code",
   "execution_count": 15,
   "id": "853f2100",
   "metadata": {
    "execution": {
     "iopub.execute_input": "2025-05-06T16:03:25.112852Z",
     "iopub.status.busy": "2025-05-06T16:03:25.112852Z",
     "iopub.status.idle": "2025-05-06T16:03:28.928669Z",
     "shell.execute_reply": "2025-05-06T16:03:28.928669Z"
    }
   },
   "outputs": [
    {
     "name": "stdout",
     "output_type": "stream",
     "text": [
      "PyAEDT INFO: Parsing C:/Users/ansys/AppData/Local/Temp/tmpr_2p4rvu_ansys/pyaedt_prj_R68/bowtie_example.aedt.\n"
     ]
    },
    {
     "name": "stdout",
     "output_type": "stream",
     "text": [
      "PyAEDT INFO: File C:/Users/ansys/AppData/Local/Temp/tmpr_2p4rvu_ansys/pyaedt_prj_R68/bowtie_example.aedt correctly loaded. Elapsed time: 0m 0sec\n"
     ]
    },
    {
     "name": "stdout",
     "output_type": "stream",
     "text": [
      "PyAEDT INFO: aedt file load time 0.01557469367980957\n"
     ]
    },
    {
     "name": "stdout",
     "output_type": "stream",
     "text": [
      "PyAEDT INFO: PostProcessor class has been initialized! Elapsed time: 0m 0sec\n"
     ]
    },
    {
     "name": "stdout",
     "output_type": "stream",
     "text": [
      "PyAEDT INFO: PostProcessor class has been initialized! Elapsed time: 0m 0sec\n"
     ]
    },
    {
     "name": "stdout",
     "output_type": "stream",
     "text": [
      "PyAEDT INFO: Post class has been initialized! Elapsed time: 0m 0sec\n"
     ]
    },
    {
     "data": {
      "application/vnd.jupyter.widget-view+json": {
       "model_id": "833901d359284393b63c873af1098c40",
       "version_major": 2,
       "version_minor": 0
      },
      "text/plain": [
       "Widget(value='<iframe src=\"http://localhost:61307/index.html?ui=P_0x1852941c4e0_0&reconnect=auto\" class=\"pyvis…"
      ]
     },
     "metadata": {},
     "output_type": "display_data"
    },
    {
     "data": {
      "text/plain": [
       "<ansys.aedt.core.visualization.plot.pyvista.ModelPlotter at 0x18526e04560>"
      ]
     },
     "execution_count": 15,
     "metadata": {},
     "output_type": "execute_result"
    }
   ],
   "source": [
    "app.plot()"
   ]
  },
  {
   "cell_type": "markdown",
   "id": "bc2bfeec",
   "metadata": {},
   "source": [
    "## Release AEDT\n",
    "\n",
    "Release AEDT."
   ]
  },
  {
   "cell_type": "code",
   "execution_count": 16,
   "id": "fa287c07",
   "metadata": {
    "execution": {
     "iopub.execute_input": "2025-05-06T16:03:28.928669Z",
     "iopub.status.busy": "2025-05-06T16:03:28.928669Z",
     "iopub.status.idle": "2025-05-06T16:03:37.239144Z",
     "shell.execute_reply": "2025-05-06T16:03:37.239144Z"
    }
   },
   "outputs": [
    {
     "name": "stdout",
     "output_type": "stream",
     "text": [
      "PyAEDT INFO: Desktop has been released and closed.\n"
     ]
    },
    {
     "data": {
      "text/plain": [
       "True"
      ]
     },
     "execution_count": 16,
     "metadata": {},
     "output_type": "execute_result"
    }
   ],
   "source": [
    "app.release_desktop(True, True)"
   ]
  },
  {
   "cell_type": "markdown",
   "id": "5ff79b6e",
   "metadata": {},
   "source": [
    "## Clean temporary directory"
   ]
  },
  {
   "cell_type": "code",
   "execution_count": 17,
   "id": "eed1d913",
   "metadata": {
    "execution": {
     "iopub.execute_input": "2025-05-06T16:03:37.239144Z",
     "iopub.status.busy": "2025-05-06T16:03:37.239144Z",
     "iopub.status.idle": "2025-05-06T16:03:37.270383Z",
     "shell.execute_reply": "2025-05-06T16:03:37.270383Z"
    }
   },
   "outputs": [],
   "source": [
    "temp_dir.cleanup()"
   ]
  }
 ],
 "metadata": {
  "jupytext": {
   "cell_metadata_filter": "-all",
   "encoding": "# -*- coding: utf-8 -*-",
   "main_language": "python",
   "notebook_metadata_filter": "-all",
   "text_representation": {
    "extension": ".py",
    "format_name": "light"
   }
  },
  "language_info": {
   "codemirror_mode": {
    "name": "ipython",
    "version": 3
   },
   "file_extension": ".py",
   "mimetype": "text/x-python",
   "name": "python",
   "nbconvert_exporter": "python",
   "pygments_lexer": "ipython3",
   "version": "3.10.11"
  },
  "widgets": {
   "application/vnd.jupyter.widget-state+json": {
    "state": {
     "09ac8c7eb27547b2a353a0ae32ee060a": {
      "model_module": "@jupyter-widgets/controls",
      "model_module_version": "1.5.0",
      "model_name": "DescriptionStyleModel",
      "state": {
       "_model_module": "@jupyter-widgets/controls",
       "_model_module_version": "1.5.0",
       "_model_name": "DescriptionStyleModel",
       "_view_count": null,
       "_view_module": "@jupyter-widgets/base",
       "_view_module_version": "1.2.0",
       "_view_name": "StyleView",
       "description_width": ""
      }
     },
     "833901d359284393b63c873af1098c40": {
      "model_module": "@jupyter-widgets/controls",
      "model_module_version": "1.5.0",
      "model_name": "HTMLModel",
      "state": {
       "_dom_classes": [],
       "_model_module": "@jupyter-widgets/controls",
       "_model_module_version": "1.5.0",
       "_model_name": "HTMLModel",
       "_view_count": null,
       "_view_module": "@jupyter-widgets/controls",
       "_view_module_version": "1.5.0",
       "_view_name": "HTMLView",
       "description": "",
       "description_tooltip": null,
       "layout": "IPY_MODEL_d5adf72e3e734eb298e587c823daaf9d",
       "placeholder": "​",
       "style": "IPY_MODEL_09ac8c7eb27547b2a353a0ae32ee060a",
       "value": "<iframe src=\"http://localhost:61307/index.html?ui=P_0x1852941c4e0_0&reconnect=auto\" class=\"pyvista\" style=\"width: 600px; height: 600px; border: 1px solid rgb(221,221,221);\"></iframe>"
      }
     },
     "d5adf72e3e734eb298e587c823daaf9d": {
      "model_module": "@jupyter-widgets/base",
      "model_module_version": "1.2.0",
      "model_name": "LayoutModel",
      "state": {
       "_model_module": "@jupyter-widgets/base",
       "_model_module_version": "1.2.0",
       "_model_name": "LayoutModel",
       "_view_count": null,
       "_view_module": "@jupyter-widgets/base",
       "_view_module_version": "1.2.0",
       "_view_name": "LayoutView",
       "align_content": null,
       "align_items": null,
       "align_self": null,
       "border": null,
       "bottom": null,
       "display": null,
       "flex": null,
       "flex_flow": null,
       "grid_area": null,
       "grid_auto_columns": null,
       "grid_auto_flow": null,
       "grid_auto_rows": null,
       "grid_column": null,
       "grid_gap": null,
       "grid_row": null,
       "grid_template_areas": null,
       "grid_template_columns": null,
       "grid_template_rows": null,
       "height": null,
       "justify_content": null,
       "justify_items": null,
       "left": null,
       "margin": null,
       "max_height": null,
       "max_width": null,
       "min_height": null,
       "min_width": null,
       "object_fit": null,
       "object_position": null,
       "order": null,
       "overflow": null,
       "overflow_x": null,
       "overflow_y": null,
       "padding": null,
       "right": null,
       "top": null,
       "visibility": null,
       "width": null
      }
     }
    },
    "version_major": 2,
    "version_minor": 0
   }
  }
 },
 "nbformat": 4,
 "nbformat_minor": 5
}
