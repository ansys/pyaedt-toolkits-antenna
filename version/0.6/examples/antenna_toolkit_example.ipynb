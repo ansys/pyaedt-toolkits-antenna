{
 "cells": [
  {
   "cell_type": "markdown",
   "id": "a60e03e3",
   "metadata": {},
   "source": [
    "\n",
    "Copyright (C) 2023 - 2025 ANSYS, Inc. and/or its affiliates.\n",
    "SPDX-License-Identifier: MIT\n",
    "\n",
    "\n",
    "Permission is hereby granted, free of charge, to any person obtaining a copy\n",
    "of this software and associated documentation files (the \"Software\"), to deal\n",
    "in the Software without restriction, including without limitation the rights\n",
    "to use, copy, modify, merge, publish, distribute, sublicense, and/or sell\n",
    "copies of the Software, and to permit persons to whom the Software is\n",
    "furnished to do so, subject to the following conditions:\n",
    "\n",
    "The above copyright notice and this permission notice shall be included in all\n",
    "copies or substantial portions of the Software.\n",
    "\n",
    "THE SOFTWARE IS PROVIDED \"AS IS\", WITHOUT WARRANTY OF ANY KIND, EXPRESS OR\n",
    "IMPLIED, INCLUDING BUT NOT LIMITED TO THE WARRANTIES OF MERCHANTABILITY,\n",
    "FITNESS FOR A PARTICULAR PURPOSE AND NONINFRINGEMENT. IN NO EVENT SHALL THE\n",
    "AUTHORS OR COPYRIGHT HOLDERS BE LIABLE FOR ANY CLAIM, DAMAGES OR OTHER\n",
    "LIABILITY, WHETHER IN AN ACTION OF CONTRACT, TORT OR OTHERWISE, ARISING FROM,\n",
    "OUT OF OR IN CONNECTION WITH THE SOFTWARE OR THE USE OR OTHER DEALINGS IN THE\n",
    "SOFTWARE."
   ]
  },
  {
   "cell_type": "markdown",
   "id": "04f60367",
   "metadata": {
    "lines_to_next_cell": 2
   },
   "source": [
    "# Antenna toolkit example\n",
    "\n",
    "This example demonstrates how to use the ``ToolkitBackend`` class.\n",
    "It initiates AEDT through PyAEDT, sets up an empty HFSS design, and proceeds to create the antenna."
   ]
  },
  {
   "cell_type": "markdown",
   "id": "b0e22a57",
   "metadata": {},
   "source": [
    "## Perform required imports"
   ]
  },
  {
   "cell_type": "code",
   "execution_count": 1,
   "id": "d84a14a0",
   "metadata": {
    "execution": {
     "iopub.execute_input": "2025-05-06T16:00:11.294136Z",
     "iopub.status.busy": "2025-05-06T16:00:11.294136Z",
     "iopub.status.idle": "2025-05-06T16:00:11.325398Z",
     "shell.execute_reply": "2025-05-06T16:00:11.325398Z"
    }
   },
   "outputs": [],
   "source": [
    "import sys\n",
    "import tempfile"
   ]
  },
  {
   "cell_type": "code",
   "execution_count": 2,
   "id": "f7d5b534",
   "metadata": {
    "execution": {
     "iopub.execute_input": "2025-05-06T16:00:11.325398Z",
     "iopub.status.busy": "2025-05-06T16:00:11.325398Z",
     "iopub.status.idle": "2025-05-06T16:00:19.278708Z",
     "shell.execute_reply": "2025-05-06T16:00:19.278708Z"
    }
   },
   "outputs": [],
   "source": [
    "from ansys.aedt.core import generate_unique_project_name\n",
    "from ansys.aedt.core.visualization.advanced.farfield_visualization import FfdSolutionData"
   ]
  },
  {
   "cell_type": "code",
   "execution_count": 3,
   "id": "fd5a53b8",
   "metadata": {
    "execution": {
     "iopub.execute_input": "2025-05-06T16:00:19.278708Z",
     "iopub.status.busy": "2025-05-06T16:00:19.278708Z",
     "iopub.status.idle": "2025-05-06T16:00:19.684911Z",
     "shell.execute_reply": "2025-05-06T16:00:19.684911Z"
    }
   },
   "outputs": [],
   "source": [
    "from ansys.aedt.toolkits.antenna.backend.api import ToolkitBackend\n",
    "from ansys.aedt.toolkits.antenna.backend.models import properties"
   ]
  },
  {
   "cell_type": "markdown",
   "id": "5caaae8b",
   "metadata": {},
   "source": [
    "##  Set AEDT version\n",
    "\n",
    "Set AEDT version."
   ]
  },
  {
   "cell_type": "code",
   "execution_count": 4,
   "id": "24ef423c",
   "metadata": {
    "execution": {
     "iopub.execute_input": "2025-05-06T16:00:19.684911Z",
     "iopub.status.busy": "2025-05-06T16:00:19.684911Z",
     "iopub.status.idle": "2025-05-06T16:00:19.700538Z",
     "shell.execute_reply": "2025-05-06T16:00:19.700538Z"
    }
   },
   "outputs": [],
   "source": [
    "aedt_version = \"2025.1\""
   ]
  },
  {
   "cell_type": "markdown",
   "id": "d27faa1d",
   "metadata": {},
   "source": [
    "## Set non-graphical mode\n",
    "\n",
    "Set non-graphical mode."
   ]
  },
  {
   "cell_type": "code",
   "execution_count": 5,
   "id": "e8e26a06",
   "metadata": {
    "execution": {
     "iopub.execute_input": "2025-05-06T16:00:19.700538Z",
     "iopub.status.busy": "2025-05-06T16:00:19.700538Z",
     "iopub.status.idle": "2025-05-06T16:00:19.716217Z",
     "shell.execute_reply": "2025-05-06T16:00:19.716217Z"
    }
   },
   "outputs": [],
   "source": [
    "non_graphical = True"
   ]
  },
  {
   "cell_type": "markdown",
   "id": "6f3feb08",
   "metadata": {},
   "source": [
    "## Create temporary directory"
   ]
  },
  {
   "cell_type": "code",
   "execution_count": 6,
   "id": "0c2b16c0",
   "metadata": {
    "execution": {
     "iopub.execute_input": "2025-05-06T16:00:19.716217Z",
     "iopub.status.busy": "2025-05-06T16:00:19.716217Z",
     "iopub.status.idle": "2025-05-06T16:00:19.731862Z",
     "shell.execute_reply": "2025-05-06T16:00:19.731862Z"
    }
   },
   "outputs": [],
   "source": [
    "temp_dir = tempfile.TemporaryDirectory(suffix=\"_ansys\")\n",
    "project_name = generate_unique_project_name(root_name=temp_dir.name, project_name=\"antenna_toolkit\")"
   ]
  },
  {
   "cell_type": "markdown",
   "id": "00055930",
   "metadata": {},
   "source": [
    "## Set default properties"
   ]
  },
  {
   "cell_type": "code",
   "execution_count": 7,
   "id": "27af0dd2",
   "metadata": {
    "execution": {
     "iopub.execute_input": "2025-05-06T16:00:19.731862Z",
     "iopub.status.busy": "2025-05-06T16:00:19.731862Z",
     "iopub.status.idle": "2025-05-06T16:00:19.747480Z",
     "shell.execute_reply": "2025-05-06T16:00:19.747480Z"
    }
   },
   "outputs": [],
   "source": [
    "properties.aedt_version = aedt_version\n",
    "properties.non_graphical = non_graphical\n",
    "properties.active_project = project_name"
   ]
  },
  {
   "cell_type": "markdown",
   "id": "17b73ab9",
   "metadata": {},
   "source": [
    "## Initialize toolkit\n",
    "\n",
    "Initialize the toolkit."
   ]
  },
  {
   "cell_type": "code",
   "execution_count": 8,
   "id": "e909df6f",
   "metadata": {
    "execution": {
     "iopub.execute_input": "2025-05-06T16:00:19.747480Z",
     "iopub.status.busy": "2025-05-06T16:00:19.747480Z",
     "iopub.status.idle": "2025-05-06T16:00:19.763105Z",
     "shell.execute_reply": "2025-05-06T16:00:19.763105Z"
    }
   },
   "outputs": [],
   "source": [
    "toolkit_api = ToolkitBackend()"
   ]
  },
  {
   "cell_type": "markdown",
   "id": "38b70016",
   "metadata": {},
   "source": [
    "## Get available_antennas"
   ]
  },
  {
   "cell_type": "code",
   "execution_count": 9,
   "id": "1c8b2c98",
   "metadata": {
    "execution": {
     "iopub.execute_input": "2025-05-06T16:00:19.763105Z",
     "iopub.status.busy": "2025-05-06T16:00:19.763105Z",
     "iopub.status.idle": "2025-05-06T16:00:19.778742Z",
     "shell.execute_reply": "2025-05-06T16:00:19.778742Z"
    }
   },
   "outputs": [
    {
     "name": "stdout",
     "output_type": "stream",
     "text": [
      "['BowTieNormal', 'BowTieRounded', 'BowTieSlot', 'Archimedean', 'Log', 'Sinuous', 'AxialMode', 'Conical', 'Corrugated', 'EPlane', 'Elliptical', 'HPlane', 'Pyramidal', 'PyramidalRidged', 'QuadRidged', 'RectangularPatchEdge', 'RectangularPatchInset', 'RectangularPatchProbe']\n"
     ]
    }
   ],
   "source": [
    "print(toolkit_api.available_antennas)"
   ]
  },
  {
   "cell_type": "markdown",
   "id": "463fce07",
   "metadata": {},
   "source": [
    "## Get default properties"
   ]
  },
  {
   "cell_type": "code",
   "execution_count": 10,
   "id": "15c36501",
   "metadata": {
    "execution": {
     "iopub.execute_input": "2025-05-06T16:00:19.778742Z",
     "iopub.status.busy": "2025-05-06T16:00:19.778742Z",
     "iopub.status.idle": "2025-05-06T16:00:19.794347Z",
     "shell.execute_reply": "2025-05-06T16:00:19.794347Z"
    }
   },
   "outputs": [],
   "source": [
    "backend_properties = toolkit_api.get_properties()\n",
    "frequency = backend_properties[\"antenna\"][\"synthesis\"][\"frequency\"]\n",
    "frequency_units = backend_properties[\"antenna\"][\"synthesis\"][\"frequency_unit\"]\n",
    "length_unit = backend_properties[\"antenna\"][\"synthesis\"][\"length_unit\"]"
   ]
  },
  {
   "cell_type": "markdown",
   "id": "c12ede69",
   "metadata": {},
   "source": [
    "## Modify default length units"
   ]
  },
  {
   "cell_type": "code",
   "execution_count": 11,
   "id": "54d8dea6",
   "metadata": {
    "execution": {
     "iopub.execute_input": "2025-05-06T16:00:19.794347Z",
     "iopub.status.busy": "2025-05-06T16:00:19.794347Z",
     "iopub.status.idle": "2025-05-06T16:00:19.809985Z",
     "shell.execute_reply": "2025-05-06T16:00:19.809985Z"
    }
   },
   "outputs": [],
   "source": [
    "properties.antenna.synthesis.length_unit = \"cm\""
   ]
  },
  {
   "cell_type": "markdown",
   "id": "d3323650",
   "metadata": {},
   "source": [
    "## Create antenna object only for synthesis\n",
    "\n",
    "Create antenna object."
   ]
  },
  {
   "cell_type": "code",
   "execution_count": 12,
   "id": "bce179a6",
   "metadata": {
    "execution": {
     "iopub.execute_input": "2025-05-06T16:00:19.809985Z",
     "iopub.status.busy": "2025-05-06T16:00:19.809985Z",
     "iopub.status.idle": "2025-05-06T16:00:20.013048Z",
     "shell.execute_reply": "2025-05-06T16:00:20.013048Z"
    }
   },
   "outputs": [
    {
     "name": "stderr",
     "output_type": "stream",
     "text": [
      "INFO - AEDT is released.\n"
     ]
    }
   ],
   "source": [
    "antenna_parameters_1 = toolkit_api.get_antenna(\"RectangularPatchProbe\", synth_only=True)"
   ]
  },
  {
   "cell_type": "code",
   "execution_count": 13,
   "id": "7c254e4b",
   "metadata": {
    "execution": {
     "iopub.execute_input": "2025-05-06T16:00:20.013048Z",
     "iopub.status.busy": "2025-05-06T16:00:20.013048Z",
     "iopub.status.idle": "2025-05-06T16:00:20.028732Z",
     "shell.execute_reply": "2025-05-06T16:00:20.028732Z"
    }
   },
   "outputs": [
    {
     "name": "stdout",
     "output_type": "stream",
     "text": [
      "Patch X length: 0.912871meter at 10.0GHz\n"
     ]
    }
   ],
   "source": [
    "print(\n",
    "    \"Patch X length: {}{} at {}{}\".format(\n",
    "        str(antenna_parameters_1[\"patch_x\"]),\n",
    "        length_unit,\n",
    "        frequency,\n",
    "        frequency_units,\n",
    "    )\n",
    ")"
   ]
  },
  {
   "cell_type": "markdown",
   "id": "41425014",
   "metadata": {},
   "source": [
    "## Change synthesis frequency\n",
    "\n",
    "Modify resonance frequency and modify parameters with the ``set_properties()`` method."
   ]
  },
  {
   "cell_type": "code",
   "execution_count": 14,
   "id": "cde6f760",
   "metadata": {
    "execution": {
     "iopub.execute_input": "2025-05-06T16:00:20.028732Z",
     "iopub.status.busy": "2025-05-06T16:00:20.028732Z",
     "iopub.status.idle": "2025-05-06T16:00:20.059986Z",
     "shell.execute_reply": "2025-05-06T16:00:20.059986Z"
    }
   },
   "outputs": [
    {
     "name": "stderr",
     "output_type": "stream",
     "text": [
      "INFO - Updating internal properties.\n"
     ]
    },
    {
     "name": "stderr",
     "output_type": "stream",
     "text": [
      "DEBUG - Updating 'frequency' with value 12.0\n"
     ]
    },
    {
     "name": "stderr",
     "output_type": "stream",
     "text": [
      "DEBUG - Properties were updated successfully.\n"
     ]
    },
    {
     "data": {
      "text/plain": [
       "(True, 'Properties were updated successfully.')"
      ]
     },
     "execution_count": 14,
     "metadata": {},
     "output_type": "execute_result"
    }
   ],
   "source": [
    "new_frequency1 = 12.0\n",
    "new_properties = {\"frequency\": new_frequency1}\n",
    "toolkit_api.set_properties(new_properties)"
   ]
  },
  {
   "cell_type": "code",
   "execution_count": 15,
   "id": "a64e6011",
   "metadata": {
    "execution": {
     "iopub.execute_input": "2025-05-06T16:00:20.059986Z",
     "iopub.status.busy": "2025-05-06T16:00:20.059986Z",
     "iopub.status.idle": "2025-05-06T16:00:20.247526Z",
     "shell.execute_reply": "2025-05-06T16:00:20.247526Z"
    }
   },
   "outputs": [
    {
     "name": "stderr",
     "output_type": "stream",
     "text": [
      "INFO - AEDT is released.\n"
     ]
    }
   ],
   "source": [
    "antenna_parameters_2 = toolkit_api.get_antenna(\"RectangularPatchProbe\", synth_only=True)"
   ]
  },
  {
   "cell_type": "code",
   "execution_count": 16,
   "id": "b46e98ca",
   "metadata": {
    "execution": {
     "iopub.execute_input": "2025-05-06T16:00:20.247526Z",
     "iopub.status.busy": "2025-05-06T16:00:20.247526Z",
     "iopub.status.idle": "2025-05-06T16:00:20.263109Z",
     "shell.execute_reply": "2025-05-06T16:00:20.263109Z"
    }
   },
   "outputs": [
    {
     "name": "stdout",
     "output_type": "stream",
     "text": [
      "Patch X length: 0.760726meter at 12.0GHz\n"
     ]
    }
   ],
   "source": [
    "print(\n",
    "    \"Patch X length: {}{} at {}{}\".format(\n",
    "        str(antenna_parameters_2[\"patch_x\"]),\n",
    "        length_unit,\n",
    "        new_frequency1,\n",
    "        frequency_units,\n",
    "    )\n",
    ")"
   ]
  },
  {
   "cell_type": "markdown",
   "id": "7f07f13d",
   "metadata": {},
   "source": [
    "## Change synthesis frequency\n",
    "\n",
    "Modify resonance frequency with properties directly."
   ]
  },
  {
   "cell_type": "code",
   "execution_count": 17,
   "id": "fb4021be",
   "metadata": {
    "execution": {
     "iopub.execute_input": "2025-05-06T16:00:20.263109Z",
     "iopub.status.busy": "2025-05-06T16:00:20.263109Z",
     "iopub.status.idle": "2025-05-06T16:00:20.278733Z",
     "shell.execute_reply": "2025-05-06T16:00:20.278733Z"
    }
   },
   "outputs": [],
   "source": [
    "new_frequency2 = 15.0\n",
    "properties.antenna.synthesis.frequency = new_frequency2"
   ]
  },
  {
   "cell_type": "code",
   "execution_count": 18,
   "id": "544b788e",
   "metadata": {
    "execution": {
     "iopub.execute_input": "2025-05-06T16:00:20.278733Z",
     "iopub.status.busy": "2025-05-06T16:00:20.278733Z",
     "iopub.status.idle": "2025-05-06T16:00:20.466238Z",
     "shell.execute_reply": "2025-05-06T16:00:20.466238Z"
    }
   },
   "outputs": [
    {
     "name": "stderr",
     "output_type": "stream",
     "text": [
      "INFO - AEDT is released.\n"
     ]
    }
   ],
   "source": [
    "antenna_parameters_3 = toolkit_api.get_antenna(\"RectangularPatchProbe\", synth_only=True)"
   ]
  },
  {
   "cell_type": "code",
   "execution_count": 19,
   "id": "a02caefe",
   "metadata": {
    "execution": {
     "iopub.execute_input": "2025-05-06T16:00:20.466238Z",
     "iopub.status.busy": "2025-05-06T16:00:20.466238Z",
     "iopub.status.idle": "2025-05-06T16:00:20.481863Z",
     "shell.execute_reply": "2025-05-06T16:00:20.481863Z"
    }
   },
   "outputs": [
    {
     "name": "stdout",
     "output_type": "stream",
     "text": [
      "Patch X length: 0.608581meter at 15.0GHz\n"
     ]
    }
   ],
   "source": [
    "print(\n",
    "    \"Patch X length: {}{} at {}{}\".format(\n",
    "        str(antenna_parameters_3[\"patch_x\"]),\n",
    "        length_unit,\n",
    "        new_frequency2,\n",
    "        frequency_units,\n",
    "    )\n",
    ")"
   ]
  },
  {
   "cell_type": "markdown",
   "id": "a6132031",
   "metadata": {},
   "source": [
    "## Initialize AEDT\n",
    "\n",
    "Launch a new AEDT session in a thread."
   ]
  },
  {
   "cell_type": "code",
   "execution_count": 20,
   "id": "faf4c29f",
   "metadata": {
    "execution": {
     "iopub.execute_input": "2025-05-06T16:00:20.481863Z",
     "iopub.status.busy": "2025-05-06T16:00:20.481863Z",
     "iopub.status.idle": "2025-05-06T16:00:20.497434Z",
     "shell.execute_reply": "2025-05-06T16:00:20.497434Z"
    }
   },
   "outputs": [
    {
     "name": "stderr",
     "output_type": "stream",
     "text": [
      "DEBUG - Starting thread: Toolkit_Thread\n"
     ]
    },
    {
     "name": "stderr",
     "output_type": "stream",
     "text": [
      "DEBUG - Toolkit is not connected to AEDT.\n"
     ]
    },
    {
     "name": "stderr",
     "output_type": "stream",
     "text": [
      "DEBUG - Launching AEDT.\n"
     ]
    },
    {
     "name": "stdout",
     "output_type": "stream",
     "text": [
      "PyAEDT INFO: Python version 3.10.11 (tags/v3.10.11:7d4cc5a, Apr  5 2023, 00:38:17) [MSC v.1929 64 bit (AMD64)].\n"
     ]
    }
   ],
   "source": [
    "thread_msg = toolkit_api.launch_thread(toolkit_api.launch_aedt)"
   ]
  },
  {
   "cell_type": "markdown",
   "id": "4df72175",
   "metadata": {},
   "source": [
    "## Wait for the toolkit thread to be idle\n",
    "\n",
    "Wait for the toolkit thread to be idle and ready to accept a new task."
   ]
  },
  {
   "cell_type": "code",
   "execution_count": 21,
   "id": "afbec429",
   "metadata": {
    "execution": {
     "iopub.execute_input": "2025-05-06T16:00:20.497434Z",
     "iopub.status.busy": "2025-05-06T16:00:20.497434Z",
     "iopub.status.idle": "2025-05-06T16:00:28.577515Z",
     "shell.execute_reply": "2025-05-06T16:00:28.577515Z"
    }
   },
   "outputs": [
    {
     "name": "stderr",
     "output_type": "stream",
     "text": [
      "DEBUG - Toolkit is busy and processing a task.\n"
     ]
    },
    {
     "name": "stderr",
     "output_type": "stream",
     "text": [
      "DEBUG - Toolkit is busy and processing a task.\n"
     ]
    },
    {
     "name": "stderr",
     "output_type": "stream",
     "text": [
      "DEBUG - Toolkit is busy and processing a task.\n"
     ]
    },
    {
     "name": "stderr",
     "output_type": "stream",
     "text": [
      "DEBUG - Toolkit is busy and processing a task.\n"
     ]
    },
    {
     "name": "stderr",
     "output_type": "stream",
     "text": [
      "DEBUG - Toolkit is busy and processing a task.\n"
     ]
    },
    {
     "name": "stderr",
     "output_type": "stream",
     "text": [
      "DEBUG - Toolkit is busy and processing a task.\n"
     ]
    },
    {
     "name": "stderr",
     "output_type": "stream",
     "text": [
      "DEBUG - Toolkit is busy and processing a task.\n"
     ]
    },
    {
     "name": "stderr",
     "output_type": "stream",
     "text": [
      "DEBUG - Toolkit is idle and ready to accept a new task.\n"
     ]
    }
   ],
   "source": [
    "idle = toolkit_api.wait_to_be_idle()\n",
    "if not idle:\n",
    "    print(\"AEDT not initialized.\")\n",
    "    sys.exit()"
   ]
  },
  {
   "cell_type": "markdown",
   "id": "2ae407d7",
   "metadata": {},
   "source": [
    "## Connect to HFSS design\n",
    "\n",
    "Create an HFSS design."
   ]
  },
  {
   "cell_type": "code",
   "execution_count": 22,
   "id": "9db5e1ec",
   "metadata": {
    "execution": {
     "iopub.execute_input": "2025-05-06T16:00:28.577515Z",
     "iopub.status.busy": "2025-05-06T16:00:28.577515Z",
     "iopub.status.idle": "2025-05-06T16:01:00.586477Z",
     "shell.execute_reply": "2025-05-06T16:01:00.586477Z"
    }
   },
   "outputs": [
    {
     "name": "stderr",
     "output_type": "stream",
     "text": [
      "DEBUG - Toolkit is not connected to AEDT.\n"
     ]
    },
    {
     "name": "stderr",
     "output_type": "stream",
     "text": [
      "DEBUG - Connecting AEDT.\n"
     ]
    },
    {
     "name": "stdout",
     "output_type": "stream",
     "text": [
      "PyAEDT INFO: Python version 3.10.11 (tags/v3.10.11:7d4cc5a, Apr  5 2023, 00:38:17) [MSC v.1929 64 bit (AMD64)].\n"
     ]
    },
    {
     "name": "stdout",
     "output_type": "stream",
     "text": [
      "PyAEDT INFO: PyAEDT version 0.16.1.\n"
     ]
    },
    {
     "name": "stdout",
     "output_type": "stream",
     "text": [
      "PyAEDT INFO: Initializing new Desktop session.\n"
     ]
    },
    {
     "name": "stdout",
     "output_type": "stream",
     "text": [
      "PyAEDT INFO: Log on console is enabled.\n"
     ]
    },
    {
     "name": "stdout",
     "output_type": "stream",
     "text": [
      "PyAEDT INFO: Log on file C:\\Users\\ansys\\AppData\\Local\\Temp\\pyaedt_ansys_93590931-1aff-4a57-87ce-29a1568b50bc.log is enabled.\n"
     ]
    },
    {
     "name": "stdout",
     "output_type": "stream",
     "text": [
      "PyAEDT INFO: Log on AEDT is disabled.\n"
     ]
    },
    {
     "name": "stdout",
     "output_type": "stream",
     "text": [
      "PyAEDT INFO: Debug logger is disabled. PyAEDT methods will not be logged.\n"
     ]
    },
    {
     "name": "stdout",
     "output_type": "stream",
     "text": [
      "PyAEDT INFO: Launching PyAEDT with gRPC plugin.\n"
     ]
    },
    {
     "name": "stdout",
     "output_type": "stream",
     "text": [
      "PyAEDT INFO: Connecting to AEDT session on gRPC port 60834.\n"
     ]
    },
    {
     "name": "stdout",
     "output_type": "stream",
     "text": [
      "PyAEDT INFO: AEDT installation Path C:\\Program Files\\ANSYS Inc\\v251\\AnsysEM\n"
     ]
    },
    {
     "name": "stderr",
     "output_type": "stream",
     "text": [
      "DEBUG - Toolkit is connected to AEDT.\n"
     ]
    },
    {
     "name": "stdout",
     "output_type": "stream",
     "text": [
      "PyAEDT INFO: Python version 3.10.11 (tags/v3.10.11:7d4cc5a, Apr  5 2023, 00:38:17) [MSC v.1929 64 bit (AMD64)].\n"
     ]
    },
    {
     "name": "stdout",
     "output_type": "stream",
     "text": [
      "PyAEDT INFO: PyAEDT version 0.16.1.\n"
     ]
    },
    {
     "name": "stdout",
     "output_type": "stream",
     "text": [
      "PyAEDT INFO: Returning found Desktop session with PID 7504!\n"
     ]
    },
    {
     "name": "stdout",
     "output_type": "stream",
     "text": [
      "PyAEDT INFO: Project antenna_toolkit has been created.\n"
     ]
    },
    {
     "name": "stdout",
     "output_type": "stream",
     "text": [
      "PyAEDT INFO: Added design 'HFSS_NEMRJ9' of type HFSS.\n"
     ]
    },
    {
     "name": "stdout",
     "output_type": "stream",
     "text": [
      "PyAEDT INFO: Aedt Objects correctly read\n"
     ]
    },
    {
     "name": "stdout",
     "output_type": "stream",
     "text": [
      "PyAEDT INFO: Project antenna_toolkit Saved correctly\n"
     ]
    },
    {
     "name": "stdout",
     "output_type": "stream",
     "text": [
      "PyAEDT INFO: Active Design set to HFSS_NEMRJ9\n"
     ]
    },
    {
     "name": "stderr",
     "output_type": "stream",
     "text": [
      "DEBUG - Project name: antenna_toolkit\n"
     ]
    },
    {
     "name": "stderr",
     "output_type": "stream",
     "text": [
      "INFO - Updating internal properties.\n"
     ]
    },
    {
     "name": "stderr",
     "output_type": "stream",
     "text": [
      "DEBUG - Updating 'project_list' with value ['C:/Users/ansys/AppData/Local/Temp/tmpc7i_2aku_ansys/pyaedt_prj_S7E/antenna_toolkit.aedt']\n"
     ]
    },
    {
     "name": "stderr",
     "output_type": "stream",
     "text": [
      "DEBUG - Updating 'active_design' with value HFSS_NEMRJ9\n"
     ]
    },
    {
     "name": "stderr",
     "output_type": "stream",
     "text": [
      "DEBUG - Updating 'active_project' with value C:/Users/ansys/AppData/Local/Temp/tmpc7i_2aku_ansys/pyaedt_prj_S7E/antenna_toolkit.aedt\n"
     ]
    },
    {
     "name": "stderr",
     "output_type": "stream",
     "text": [
      "DEBUG - Updating 'design_list' with value {'antenna_toolkit': ['HFSS_NEMRJ9']}\n"
     ]
    },
    {
     "name": "stderr",
     "output_type": "stream",
     "text": [
      "DEBUG - Properties were updated successfully.\n"
     ]
    },
    {
     "name": "stderr",
     "output_type": "stream",
     "text": [
      "INFO - Toolkit is connected to AEDT design.\n"
     ]
    },
    {
     "data": {
      "text/plain": [
       "True"
      ]
     },
     "execution_count": 22,
     "metadata": {},
     "output_type": "execute_result"
    }
   ],
   "source": [
    "toolkit_api.connect_design(\"HFSS\")"
   ]
  },
  {
   "cell_type": "markdown",
   "id": "d9aa57da",
   "metadata": {},
   "source": [
    "## Create setup when antenna is created\n",
    "\n",
    "Set ``create_setup`` property."
   ]
  },
  {
   "cell_type": "code",
   "execution_count": 23,
   "id": "6286383f",
   "metadata": {
    "execution": {
     "iopub.execute_input": "2025-05-06T16:01:00.586477Z",
     "iopub.status.busy": "2025-05-06T16:01:00.586477Z",
     "iopub.status.idle": "2025-05-06T16:01:00.602097Z",
     "shell.execute_reply": "2025-05-06T16:01:00.602097Z"
    }
   },
   "outputs": [],
   "source": [
    "properties.antenna.setup.create_setup = True\n",
    "properties.antenna.synthesis.outer_boundary = \"Radiation\""
   ]
  },
  {
   "cell_type": "markdown",
   "id": "556a3a6f",
   "metadata": {},
   "source": [
    "## Create antenna in HFSS\n",
    "\n",
    "Create antenna and set up in HFSS."
   ]
  },
  {
   "cell_type": "code",
   "execution_count": 24,
   "id": "545fd466",
   "metadata": {
    "execution": {
     "iopub.execute_input": "2025-05-06T16:01:00.602097Z",
     "iopub.status.busy": "2025-05-06T16:01:00.602097Z",
     "iopub.status.idle": "2025-05-06T16:01:05.452303Z",
     "shell.execute_reply": "2025-05-06T16:01:05.451144Z"
    }
   },
   "outputs": [
    {
     "name": "stdout",
     "output_type": "stream",
     "text": [
      "PyAEDT INFO: Modeler class has been initialized! Elapsed time: 0m 0sec\n"
     ]
    },
    {
     "name": "stdout",
     "output_type": "stream",
     "text": [
      "PyAEDT INFO: Materials class has been initialized! Elapsed time: 0m 0sec\n"
     ]
    },
    {
     "name": "stdout",
     "output_type": "stream",
     "text": [
      "PyAEDT INFO: Open Region correctly created.\n"
     ]
    },
    {
     "name": "stdout",
     "output_type": "stream",
     "text": [
      "PyAEDT INFO: Project antenna_toolkit Saved correctly\n"
     ]
    },
    {
     "name": "stdout",
     "output_type": "stream",
     "text": [
      "PyAEDT WARNING: Property Command is read-only.\n"
     ]
    },
    {
     "name": "stdout",
     "output_type": "stream",
     "text": [
      "PyAEDT WARNING: Property Command is read-only.\n"
     ]
    },
    {
     "name": "stdout",
     "output_type": "stream",
     "text": [
      "PyAEDT WARNING: Property Command is read-only.\n"
     ]
    },
    {
     "name": "stdout",
     "output_type": "stream",
     "text": [
      "PyAEDT WARNING: Argument `cs_plane` is deprecated for method `create_circle`; use `orientation` instead.\n"
     ]
    },
    {
     "name": "stdout",
     "output_type": "stream",
     "text": [
      "PyAEDT WARNING: Property Command is read-only.\n"
     ]
    },
    {
     "name": "stdout",
     "output_type": "stream",
     "text": [
      "PyAEDT WARNING: Property Command is read-only.\n"
     ]
    },
    {
     "name": "stdout",
     "output_type": "stream",
     "text": [
      "PyAEDT WARNING: Property Command is read-only.\n"
     ]
    },
    {
     "name": "stdout",
     "output_type": "stream",
     "text": [
      "PyAEDT WARNING: Property Command is read-only.\n"
     ]
    },
    {
     "name": "stdout",
     "output_type": "stream",
     "text": [
      "PyAEDT WARNING: Argument `cs_plane` is deprecated for method `create_circle`; use `orientation` instead.\n"
     ]
    },
    {
     "name": "stdout",
     "output_type": "stream",
     "text": [
      "PyAEDT WARNING: Property Command is read-only.\n"
     ]
    },
    {
     "name": "stdout",
     "output_type": "stream",
     "text": [
      "PyAEDT INFO: Parsing design objects. This operation can take time\n"
     ]
    },
    {
     "name": "stdout",
     "output_type": "stream",
     "text": [
      "PyAEDT INFO: Refreshing bodies from Object Info\n"
     ]
    },
    {
     "name": "stdout",
     "output_type": "stream",
     "text": [
      "PyAEDT INFO: Bodies Info Refreshed Elapsed time: 0m 0sec\n"
     ]
    },
    {
     "name": "stdout",
     "output_type": "stream",
     "text": [
      "PyAEDT INFO: 3D Modeler objects parsed. Elapsed time: 0m 0sec\n"
     ]
    },
    {
     "name": "stdout",
     "output_type": "stream",
     "text": [
      "PyAEDT INFO: Boundary Perfect E PerfE_Y54QDF has been created.\n"
     ]
    },
    {
     "name": "stdout",
     "output_type": "stream",
     "text": [
      "PyAEDT INFO: Boundary Perfect E PerfE_IH6O3N has been created.\n"
     ]
    },
    {
     "name": "stdout",
     "output_type": "stream",
     "text": [
      "PyAEDT INFO: Boundary Perfect E PerfE_8WIYPN has been created.\n"
     ]
    },
    {
     "name": "stdout",
     "output_type": "stream",
     "text": [
      "PyAEDT INFO: Boundary AutoIdentify port_Patch_ZNBKJ4_1 has been created.\n"
     ]
    },
    {
     "name": "stdout",
     "output_type": "stream",
     "text": [
      "PyAEDT INFO: Parsing C:/Users/ansys/AppData/Local/Temp/tmpc7i_2aku_ansys/pyaedt_prj_S7E/antenna_toolkit.aedt.\n"
     ]
    },
    {
     "name": "stdout",
     "output_type": "stream",
     "text": [
      "PyAEDT INFO: File C:/Users/ansys/AppData/Local/Temp/tmpc7i_2aku_ansys/pyaedt_prj_S7E/antenna_toolkit.aedt correctly loaded. Elapsed time: 0m 0sec\n"
     ]
    },
    {
     "name": "stdout",
     "output_type": "stream",
     "text": [
      "PyAEDT INFO: aedt file load time 0.01566171646118164\n"
     ]
    },
    {
     "name": "stdout",
     "output_type": "stream",
     "text": [
      "PyAEDT INFO: Project antenna_toolkit Saved correctly\n"
     ]
    },
    {
     "name": "stdout",
     "output_type": "stream",
     "text": [
      "PyAEDT INFO: Desktop has been released.\n"
     ]
    },
    {
     "name": "stderr",
     "output_type": "stream",
     "text": [
      "INFO - AEDT is released.\n"
     ]
    }
   ],
   "source": [
    "antenna_parameter = toolkit_api.get_antenna(\"RectangularPatchProbe\")"
   ]
  },
  {
   "cell_type": "markdown",
   "id": "0085b71e",
   "metadata": {},
   "source": [
    "## Try. to create antenna\n",
    "\n",
    "The AEDT Antenna Toolkit API does not allow the creation of more than one antenna. However, you can use the antenna\n",
    "model's API to create more than one antenna."
   ]
  },
  {
   "cell_type": "code",
   "execution_count": 25,
   "id": "15ab044d",
   "metadata": {
    "execution": {
     "iopub.execute_input": "2025-05-06T16:01:05.453346Z",
     "iopub.status.busy": "2025-05-06T16:01:05.453346Z",
     "iopub.status.idle": "2025-05-06T16:01:05.469154Z",
     "shell.execute_reply": "2025-05-06T16:01:05.469154Z"
    }
   },
   "outputs": [
    {
     "name": "stderr",
     "output_type": "stream",
     "text": [
      "DEBUG - Antenna is already created.\n"
     ]
    }
   ],
   "source": [
    "new_antenna = toolkit_api.get_antenna(\"BowTie\")"
   ]
  },
  {
   "cell_type": "code",
   "execution_count": 26,
   "id": "db31a746",
   "metadata": {
    "execution": {
     "iopub.execute_input": "2025-05-06T16:01:05.469154Z",
     "iopub.status.busy": "2025-05-06T16:01:05.469154Z",
     "iopub.status.idle": "2025-05-06T16:01:05.484702Z",
     "shell.execute_reply": "2025-05-06T16:01:05.484702Z"
    }
   },
   "outputs": [
    {
     "name": "stdout",
     "output_type": "stream",
     "text": [
      "False\n"
     ]
    }
   ],
   "source": [
    "print(new_antenna)"
   ]
  },
  {
   "cell_type": "markdown",
   "id": "fe6d59ea",
   "metadata": {},
   "source": [
    "## Set properties\n",
    "\n",
    "Move antenna X position"
   ]
  },
  {
   "cell_type": "code",
   "execution_count": 27,
   "id": "d9465f9e",
   "metadata": {
    "execution": {
     "iopub.execute_input": "2025-05-06T16:01:05.484702Z",
     "iopub.status.busy": "2025-05-06T16:01:05.484702Z",
     "iopub.status.idle": "2025-05-06T16:01:06.299107Z",
     "shell.execute_reply": "2025-05-06T16:01:06.299107Z"
    }
   },
   "outputs": [
    {
     "name": "stderr",
     "output_type": "stream",
     "text": [
      "DEBUG - Toolkit is not connected to AEDT.\n"
     ]
    },
    {
     "name": "stderr",
     "output_type": "stream",
     "text": [
      "DEBUG - Connecting AEDT.\n"
     ]
    },
    {
     "name": "stdout",
     "output_type": "stream",
     "text": [
      "PyAEDT INFO: Python version 3.10.11 (tags/v3.10.11:7d4cc5a, Apr  5 2023, 00:38:17) [MSC v.1929 64 bit (AMD64)].\n"
     ]
    },
    {
     "name": "stdout",
     "output_type": "stream",
     "text": [
      "PyAEDT INFO: PyAEDT version 0.16.1.\n"
     ]
    },
    {
     "name": "stdout",
     "output_type": "stream",
     "text": [
      "PyAEDT INFO: Initializing new Desktop session.\n"
     ]
    },
    {
     "name": "stdout",
     "output_type": "stream",
     "text": [
      "PyAEDT INFO: Log on console is enabled.\n"
     ]
    },
    {
     "name": "stdout",
     "output_type": "stream",
     "text": [
      "PyAEDT INFO: Log on file C:\\Users\\ansys\\AppData\\Local\\Temp\\pyaedt_ansys_93590931-1aff-4a57-87ce-29a1568b50bc.log is enabled.\n"
     ]
    },
    {
     "name": "stdout",
     "output_type": "stream",
     "text": [
      "PyAEDT INFO: Log on AEDT is disabled.\n"
     ]
    },
    {
     "name": "stdout",
     "output_type": "stream",
     "text": [
      "PyAEDT INFO: Debug logger is disabled. PyAEDT methods will not be logged.\n"
     ]
    },
    {
     "name": "stdout",
     "output_type": "stream",
     "text": [
      "PyAEDT INFO: Launching PyAEDT with gRPC plugin.\n"
     ]
    },
    {
     "name": "stdout",
     "output_type": "stream",
     "text": [
      "PyAEDT INFO: Connecting to AEDT session on gRPC port 60834.\n"
     ]
    },
    {
     "name": "stdout",
     "output_type": "stream",
     "text": [
      "PyAEDT INFO: AEDT installation Path C:\\Program Files\\ANSYS Inc\\v251\\AnsysEM\n"
     ]
    },
    {
     "name": "stderr",
     "output_type": "stream",
     "text": [
      "DEBUG - Toolkit is connected to AEDT.\n"
     ]
    },
    {
     "name": "stdout",
     "output_type": "stream",
     "text": [
      "PyAEDT INFO: Python version 3.10.11 (tags/v3.10.11:7d4cc5a, Apr  5 2023, 00:38:17) [MSC v.1929 64 bit (AMD64)].\n"
     ]
    },
    {
     "name": "stdout",
     "output_type": "stream",
     "text": [
      "PyAEDT INFO: PyAEDT version 0.16.1.\n"
     ]
    },
    {
     "name": "stdout",
     "output_type": "stream",
     "text": [
      "PyAEDT INFO: Returning found Desktop session with PID 7504!\n"
     ]
    },
    {
     "name": "stdout",
     "output_type": "stream",
     "text": [
      "PyAEDT INFO: Project antenna_toolkit set to active.\n"
     ]
    },
    {
     "name": "stdout",
     "output_type": "stream",
     "text": [
      "PyAEDT INFO: Active Design set to HFSS_NEMRJ9\n"
     ]
    },
    {
     "name": "stdout",
     "output_type": "stream",
     "text": [
      "PyAEDT INFO: Aedt Objects correctly read\n"
     ]
    },
    {
     "name": "stderr",
     "output_type": "stream",
     "text": [
      "INFO - Toolkit is connected to AEDT design.\n"
     ]
    },
    {
     "name": "stdout",
     "output_type": "stream",
     "text": [
      "PyAEDT INFO: Desktop has been released.\n"
     ]
    },
    {
     "name": "stderr",
     "output_type": "stream",
     "text": [
      "INFO - AEDT is released.\n"
     ]
    },
    {
     "data": {
      "text/plain": [
       "True"
      ]
     },
     "execution_count": 27,
     "metadata": {},
     "output_type": "execute_result"
    }
   ],
   "source": [
    "toolkit_api.update_hfss_parameters(\"pos_x\", \"20\")"
   ]
  },
  {
   "cell_type": "markdown",
   "id": "9c6811b2",
   "metadata": {},
   "source": [
    "## Fit all"
   ]
  },
  {
   "cell_type": "code",
   "execution_count": 28,
   "id": "b8653d01",
   "metadata": {
    "execution": {
     "iopub.execute_input": "2025-05-06T16:01:06.299107Z",
     "iopub.status.busy": "2025-05-06T16:01:06.299107Z",
     "iopub.status.idle": "2025-05-06T16:01:06.618060Z",
     "shell.execute_reply": "2025-05-06T16:01:06.618060Z"
    }
   },
   "outputs": [
    {
     "name": "stderr",
     "output_type": "stream",
     "text": [
      "DEBUG - Toolkit is not connected to AEDT.\n"
     ]
    },
    {
     "name": "stderr",
     "output_type": "stream",
     "text": [
      "DEBUG - Connecting AEDT.\n"
     ]
    },
    {
     "name": "stdout",
     "output_type": "stream",
     "text": [
      "PyAEDT INFO: Python version 3.10.11 (tags/v3.10.11:7d4cc5a, Apr  5 2023, 00:38:17) [MSC v.1929 64 bit (AMD64)].\n"
     ]
    },
    {
     "name": "stdout",
     "output_type": "stream",
     "text": [
      "PyAEDT INFO: PyAEDT version 0.16.1.\n"
     ]
    },
    {
     "name": "stdout",
     "output_type": "stream",
     "text": [
      "PyAEDT INFO: Initializing new Desktop session.\n"
     ]
    },
    {
     "name": "stdout",
     "output_type": "stream",
     "text": [
      "PyAEDT INFO: Log on console is enabled.\n"
     ]
    },
    {
     "name": "stdout",
     "output_type": "stream",
     "text": [
      "PyAEDT INFO: Log on file C:\\Users\\ansys\\AppData\\Local\\Temp\\pyaedt_ansys_93590931-1aff-4a57-87ce-29a1568b50bc.log is enabled.\n"
     ]
    },
    {
     "name": "stdout",
     "output_type": "stream",
     "text": [
      "PyAEDT INFO: Log on AEDT is disabled.\n"
     ]
    },
    {
     "name": "stdout",
     "output_type": "stream",
     "text": [
      "PyAEDT INFO: Debug logger is disabled. PyAEDT methods will not be logged.\n"
     ]
    },
    {
     "name": "stdout",
     "output_type": "stream",
     "text": [
      "PyAEDT INFO: Launching PyAEDT with gRPC plugin.\n"
     ]
    },
    {
     "name": "stdout",
     "output_type": "stream",
     "text": [
      "PyAEDT INFO: Connecting to AEDT session on gRPC port 60834.\n"
     ]
    },
    {
     "name": "stdout",
     "output_type": "stream",
     "text": [
      "PyAEDT INFO: AEDT installation Path C:\\Program Files\\ANSYS Inc\\v251\\AnsysEM\n"
     ]
    },
    {
     "name": "stderr",
     "output_type": "stream",
     "text": [
      "DEBUG - Toolkit is connected to AEDT.\n"
     ]
    },
    {
     "name": "stdout",
     "output_type": "stream",
     "text": [
      "PyAEDT INFO: Python version 3.10.11 (tags/v3.10.11:7d4cc5a, Apr  5 2023, 00:38:17) [MSC v.1929 64 bit (AMD64)].\n"
     ]
    },
    {
     "name": "stdout",
     "output_type": "stream",
     "text": [
      "PyAEDT INFO: PyAEDT version 0.16.1.\n"
     ]
    },
    {
     "name": "stdout",
     "output_type": "stream",
     "text": [
      "PyAEDT INFO: Returning found Desktop session with PID 7504!\n"
     ]
    },
    {
     "name": "stdout",
     "output_type": "stream",
     "text": [
      "PyAEDT INFO: Project antenna_toolkit set to active.\n"
     ]
    },
    {
     "name": "stdout",
     "output_type": "stream",
     "text": [
      "PyAEDT INFO: Active Design set to HFSS_NEMRJ9\n"
     ]
    },
    {
     "name": "stdout",
     "output_type": "stream",
     "text": [
      "PyAEDT INFO: Aedt Objects correctly read\n"
     ]
    },
    {
     "name": "stderr",
     "output_type": "stream",
     "text": [
      "INFO - Toolkit is connected to AEDT design.\n"
     ]
    },
    {
     "data": {
      "text/plain": [
       "True"
      ]
     },
     "execution_count": 28,
     "metadata": {},
     "output_type": "execute_result"
    }
   ],
   "source": [
    "toolkit_api.connect_design()"
   ]
  },
  {
   "cell_type": "code",
   "execution_count": 29,
   "id": "7a6e4c2f",
   "metadata": {
    "execution": {
     "iopub.execute_input": "2025-05-06T16:01:06.618060Z",
     "iopub.status.busy": "2025-05-06T16:01:06.618060Z",
     "iopub.status.idle": "2025-05-06T16:01:06.649361Z",
     "shell.execute_reply": "2025-05-06T16:01:06.649361Z"
    }
   },
   "outputs": [
    {
     "name": "stdout",
     "output_type": "stream",
     "text": [
      "PyAEDT INFO: Modeler class has been initialized! Elapsed time: 0m 0sec\n"
     ]
    }
   ],
   "source": [
    "toolkit_api.aedtapp.modeler.fit_all()"
   ]
  },
  {
   "cell_type": "code",
   "execution_count": 30,
   "id": "5452c5d1",
   "metadata": {
    "execution": {
     "iopub.execute_input": "2025-05-06T16:01:06.649361Z",
     "iopub.status.busy": "2025-05-06T16:01:06.649361Z",
     "iopub.status.idle": "2025-05-06T16:01:07.052883Z",
     "shell.execute_reply": "2025-05-06T16:01:07.052883Z"
    }
   },
   "outputs": [
    {
     "name": "stdout",
     "output_type": "stream",
     "text": [
      "PyAEDT INFO: Desktop has been released.\n"
     ]
    },
    {
     "name": "stderr",
     "output_type": "stream",
     "text": [
      "INFO - AEDT is released.\n"
     ]
    },
    {
     "data": {
      "text/plain": [
       "True"
      ]
     },
     "execution_count": 30,
     "metadata": {},
     "output_type": "execute_result"
    }
   ],
   "source": [
    "toolkit_api.release_aedt(False, False)"
   ]
  },
  {
   "cell_type": "markdown",
   "id": "dcacadbc",
   "metadata": {},
   "source": [
    "## Set properties\n",
    "\n",
    "Move antenna X position to origin"
   ]
  },
  {
   "cell_type": "code",
   "execution_count": 31,
   "id": "cafa8ea9",
   "metadata": {
    "execution": {
     "iopub.execute_input": "2025-05-06T16:01:07.052883Z",
     "iopub.status.busy": "2025-05-06T16:01:07.052883Z",
     "iopub.status.idle": "2025-05-06T16:01:07.865402Z",
     "shell.execute_reply": "2025-05-06T16:01:07.865402Z"
    }
   },
   "outputs": [
    {
     "name": "stderr",
     "output_type": "stream",
     "text": [
      "DEBUG - Toolkit is not connected to AEDT.\n"
     ]
    },
    {
     "name": "stderr",
     "output_type": "stream",
     "text": [
      "DEBUG - Connecting AEDT.\n"
     ]
    },
    {
     "name": "stdout",
     "output_type": "stream",
     "text": [
      "PyAEDT INFO: Python version 3.10.11 (tags/v3.10.11:7d4cc5a, Apr  5 2023, 00:38:17) [MSC v.1929 64 bit (AMD64)].\n"
     ]
    },
    {
     "name": "stdout",
     "output_type": "stream",
     "text": [
      "PyAEDT INFO: PyAEDT version 0.16.1.\n"
     ]
    },
    {
     "name": "stdout",
     "output_type": "stream",
     "text": [
      "PyAEDT INFO: Initializing new Desktop session.\n"
     ]
    },
    {
     "name": "stdout",
     "output_type": "stream",
     "text": [
      "PyAEDT INFO: Log on console is enabled.\n"
     ]
    },
    {
     "name": "stdout",
     "output_type": "stream",
     "text": [
      "PyAEDT INFO: Log on file C:\\Users\\ansys\\AppData\\Local\\Temp\\pyaedt_ansys_93590931-1aff-4a57-87ce-29a1568b50bc.log is enabled.\n"
     ]
    },
    {
     "name": "stdout",
     "output_type": "stream",
     "text": [
      "PyAEDT INFO: Log on AEDT is disabled.\n"
     ]
    },
    {
     "name": "stdout",
     "output_type": "stream",
     "text": [
      "PyAEDT INFO: Debug logger is disabled. PyAEDT methods will not be logged.\n"
     ]
    },
    {
     "name": "stdout",
     "output_type": "stream",
     "text": [
      "PyAEDT INFO: Launching PyAEDT with gRPC plugin.\n"
     ]
    },
    {
     "name": "stdout",
     "output_type": "stream",
     "text": [
      "PyAEDT INFO: Connecting to AEDT session on gRPC port 60834.\n"
     ]
    },
    {
     "name": "stdout",
     "output_type": "stream",
     "text": [
      "PyAEDT INFO: AEDT installation Path C:\\Program Files\\ANSYS Inc\\v251\\AnsysEM\n"
     ]
    },
    {
     "name": "stderr",
     "output_type": "stream",
     "text": [
      "DEBUG - Toolkit is connected to AEDT.\n"
     ]
    },
    {
     "name": "stdout",
     "output_type": "stream",
     "text": [
      "PyAEDT INFO: Python version 3.10.11 (tags/v3.10.11:7d4cc5a, Apr  5 2023, 00:38:17) [MSC v.1929 64 bit (AMD64)].\n"
     ]
    },
    {
     "name": "stdout",
     "output_type": "stream",
     "text": [
      "PyAEDT INFO: PyAEDT version 0.16.1.\n"
     ]
    },
    {
     "name": "stdout",
     "output_type": "stream",
     "text": [
      "PyAEDT INFO: Returning found Desktop session with PID 7504!\n"
     ]
    },
    {
     "name": "stdout",
     "output_type": "stream",
     "text": [
      "PyAEDT INFO: Project antenna_toolkit set to active.\n"
     ]
    },
    {
     "name": "stdout",
     "output_type": "stream",
     "text": [
      "PyAEDT INFO: Active Design set to HFSS_NEMRJ9\n"
     ]
    },
    {
     "name": "stdout",
     "output_type": "stream",
     "text": [
      "PyAEDT INFO: Aedt Objects correctly read\n"
     ]
    },
    {
     "name": "stderr",
     "output_type": "stream",
     "text": [
      "INFO - Toolkit is connected to AEDT design.\n"
     ]
    },
    {
     "name": "stdout",
     "output_type": "stream",
     "text": [
      "PyAEDT INFO: Desktop has been released.\n"
     ]
    },
    {
     "name": "stderr",
     "output_type": "stream",
     "text": [
      "INFO - AEDT is released.\n"
     ]
    },
    {
     "data": {
      "text/plain": [
       "True"
      ]
     },
     "execution_count": 31,
     "metadata": {},
     "output_type": "execute_result"
    }
   ],
   "source": [
    "toolkit_api.update_hfss_parameters(\"pos_x\", \"0\")"
   ]
  },
  {
   "cell_type": "markdown",
   "id": "3f315e22",
   "metadata": {},
   "source": [
    "## Analyze design in batch mode"
   ]
  },
  {
   "cell_type": "code",
   "execution_count": 32,
   "id": "439fc611",
   "metadata": {
    "execution": {
     "iopub.execute_input": "2025-05-06T16:01:07.865402Z",
     "iopub.status.busy": "2025-05-06T16:01:07.865402Z",
     "iopub.status.idle": "2025-05-06T16:02:15.970195Z",
     "shell.execute_reply": "2025-05-06T16:02:15.970195Z"
    }
   },
   "outputs": [
    {
     "name": "stderr",
     "output_type": "stream",
     "text": [
      "DEBUG - Toolkit is not connected to AEDT.\n"
     ]
    },
    {
     "name": "stderr",
     "output_type": "stream",
     "text": [
      "DEBUG - Connecting AEDT.\n"
     ]
    },
    {
     "name": "stdout",
     "output_type": "stream",
     "text": [
      "PyAEDT INFO: Python version 3.10.11 (tags/v3.10.11:7d4cc5a, Apr  5 2023, 00:38:17) [MSC v.1929 64 bit (AMD64)].\n"
     ]
    },
    {
     "name": "stdout",
     "output_type": "stream",
     "text": [
      "PyAEDT INFO: PyAEDT version 0.16.1.\n"
     ]
    },
    {
     "name": "stdout",
     "output_type": "stream",
     "text": [
      "PyAEDT INFO: Initializing new Desktop session.\n"
     ]
    },
    {
     "name": "stdout",
     "output_type": "stream",
     "text": [
      "PyAEDT INFO: Log on console is enabled.\n"
     ]
    },
    {
     "name": "stdout",
     "output_type": "stream",
     "text": [
      "PyAEDT INFO: Log on file C:\\Users\\ansys\\AppData\\Local\\Temp\\pyaedt_ansys_93590931-1aff-4a57-87ce-29a1568b50bc.log is enabled.\n"
     ]
    },
    {
     "name": "stdout",
     "output_type": "stream",
     "text": [
      "PyAEDT INFO: Log on AEDT is disabled.\n"
     ]
    },
    {
     "name": "stdout",
     "output_type": "stream",
     "text": [
      "PyAEDT INFO: Debug logger is disabled. PyAEDT methods will not be logged.\n"
     ]
    },
    {
     "name": "stdout",
     "output_type": "stream",
     "text": [
      "PyAEDT INFO: Launching PyAEDT with gRPC plugin.\n"
     ]
    },
    {
     "name": "stdout",
     "output_type": "stream",
     "text": [
      "PyAEDT INFO: Connecting to AEDT session on gRPC port 60834.\n"
     ]
    },
    {
     "name": "stdout",
     "output_type": "stream",
     "text": [
      "PyAEDT INFO: AEDT installation Path C:\\Program Files\\ANSYS Inc\\v251\\AnsysEM\n"
     ]
    },
    {
     "name": "stderr",
     "output_type": "stream",
     "text": [
      "DEBUG - Toolkit is connected to AEDT.\n"
     ]
    },
    {
     "name": "stdout",
     "output_type": "stream",
     "text": [
      "PyAEDT INFO: Python version 3.10.11 (tags/v3.10.11:7d4cc5a, Apr  5 2023, 00:38:17) [MSC v.1929 64 bit (AMD64)].\n"
     ]
    },
    {
     "name": "stdout",
     "output_type": "stream",
     "text": [
      "PyAEDT INFO: PyAEDT version 0.16.1.\n"
     ]
    },
    {
     "name": "stdout",
     "output_type": "stream",
     "text": [
      "PyAEDT INFO: Returning found Desktop session with PID 7504!\n"
     ]
    },
    {
     "name": "stdout",
     "output_type": "stream",
     "text": [
      "PyAEDT INFO: Project antenna_toolkit set to active.\n"
     ]
    },
    {
     "name": "stdout",
     "output_type": "stream",
     "text": [
      "PyAEDT INFO: Active Design set to HFSS_NEMRJ9\n"
     ]
    },
    {
     "name": "stdout",
     "output_type": "stream",
     "text": [
      "PyAEDT INFO: Aedt Objects correctly read\n"
     ]
    },
    {
     "name": "stderr",
     "output_type": "stream",
     "text": [
      "INFO - Toolkit is connected to AEDT design.\n"
     ]
    },
    {
     "name": "stdout",
     "output_type": "stream",
     "text": [
      "PyAEDT INFO: Project antenna_toolkit Saved correctly\n"
     ]
    },
    {
     "name": "stdout",
     "output_type": "stream",
     "text": [
      "PyAEDT INFO: Key Desktop/ActiveDSOConfigurations/HFSS correctly changed.\n"
     ]
    },
    {
     "name": "stdout",
     "output_type": "stream",
     "text": [
      "PyAEDT INFO: Solving all design setups.\n"
     ]
    },
    {
     "name": "stdout",
     "output_type": "stream",
     "text": [
      "PyAEDT INFO: Key Desktop/ActiveDSOConfigurations/HFSS correctly changed.\n"
     ]
    },
    {
     "name": "stdout",
     "output_type": "stream",
     "text": [
      "PyAEDT INFO: Design setup None solved correctly in 0.0h 1.0m 7.0s\n"
     ]
    },
    {
     "name": "stdout",
     "output_type": "stream",
     "text": [
      "PyAEDT INFO: Desktop has been released.\n"
     ]
    },
    {
     "name": "stderr",
     "output_type": "stream",
     "text": [
      "INFO - AEDT is released.\n"
     ]
    },
    {
     "data": {
      "text/plain": [
       "True"
      ]
     },
     "execution_count": 32,
     "metadata": {},
     "output_type": "execute_result"
    }
   ],
   "source": [
    "toolkit_api.analyze()"
   ]
  },
  {
   "cell_type": "markdown",
   "id": "0a3d751e",
   "metadata": {},
   "source": [
    "## Get scattering results"
   ]
  },
  {
   "cell_type": "code",
   "execution_count": 33,
   "id": "7ad12433",
   "metadata": {
    "execution": {
     "iopub.execute_input": "2025-05-06T16:02:15.970195Z",
     "iopub.status.busy": "2025-05-06T16:02:15.970195Z",
     "iopub.status.idle": "2025-05-06T16:02:17.145960Z",
     "shell.execute_reply": "2025-05-06T16:02:17.145960Z"
    }
   },
   "outputs": [
    {
     "name": "stderr",
     "output_type": "stream",
     "text": [
      "DEBUG - Toolkit is not connected to AEDT.\n"
     ]
    },
    {
     "name": "stderr",
     "output_type": "stream",
     "text": [
      "DEBUG - Connecting AEDT.\n"
     ]
    },
    {
     "name": "stdout",
     "output_type": "stream",
     "text": [
      "PyAEDT INFO: Python version 3.10.11 (tags/v3.10.11:7d4cc5a, Apr  5 2023, 00:38:17) [MSC v.1929 64 bit (AMD64)].\n"
     ]
    },
    {
     "name": "stdout",
     "output_type": "stream",
     "text": [
      "PyAEDT INFO: PyAEDT version 0.16.1.\n"
     ]
    },
    {
     "name": "stdout",
     "output_type": "stream",
     "text": [
      "PyAEDT INFO: Initializing new Desktop session.\n"
     ]
    },
    {
     "name": "stdout",
     "output_type": "stream",
     "text": [
      "PyAEDT INFO: Log on console is enabled.\n"
     ]
    },
    {
     "name": "stdout",
     "output_type": "stream",
     "text": [
      "PyAEDT INFO: Log on file C:\\Users\\ansys\\AppData\\Local\\Temp\\pyaedt_ansys_93590931-1aff-4a57-87ce-29a1568b50bc.log is enabled.\n"
     ]
    },
    {
     "name": "stdout",
     "output_type": "stream",
     "text": [
      "PyAEDT INFO: Log on AEDT is disabled.\n"
     ]
    },
    {
     "name": "stdout",
     "output_type": "stream",
     "text": [
      "PyAEDT INFO: Debug logger is disabled. PyAEDT methods will not be logged.\n"
     ]
    },
    {
     "name": "stdout",
     "output_type": "stream",
     "text": [
      "PyAEDT INFO: Launching PyAEDT with gRPC plugin.\n"
     ]
    },
    {
     "name": "stdout",
     "output_type": "stream",
     "text": [
      "PyAEDT INFO: Connecting to AEDT session on gRPC port 60834.\n"
     ]
    },
    {
     "name": "stdout",
     "output_type": "stream",
     "text": [
      "PyAEDT INFO: AEDT installation Path C:\\Program Files\\ANSYS Inc\\v251\\AnsysEM\n"
     ]
    },
    {
     "name": "stderr",
     "output_type": "stream",
     "text": [
      "DEBUG - Toolkit is connected to AEDT.\n"
     ]
    },
    {
     "name": "stdout",
     "output_type": "stream",
     "text": [
      "PyAEDT INFO: Python version 3.10.11 (tags/v3.10.11:7d4cc5a, Apr  5 2023, 00:38:17) [MSC v.1929 64 bit (AMD64)].\n"
     ]
    },
    {
     "name": "stdout",
     "output_type": "stream",
     "text": [
      "PyAEDT INFO: PyAEDT version 0.16.1.\n"
     ]
    },
    {
     "name": "stdout",
     "output_type": "stream",
     "text": [
      "PyAEDT INFO: Returning found Desktop session with PID 7504!\n"
     ]
    },
    {
     "name": "stdout",
     "output_type": "stream",
     "text": [
      "PyAEDT INFO: Project antenna_toolkit set to active.\n"
     ]
    },
    {
     "name": "stdout",
     "output_type": "stream",
     "text": [
      "PyAEDT INFO: Active Design set to HFSS_NEMRJ9\n"
     ]
    },
    {
     "name": "stdout",
     "output_type": "stream",
     "text": [
      "PyAEDT INFO: Aedt Objects correctly read\n"
     ]
    },
    {
     "name": "stderr",
     "output_type": "stream",
     "text": [
      "INFO - Toolkit is connected to AEDT design.\n"
     ]
    },
    {
     "name": "stdout",
     "output_type": "stream",
     "text": [
      "PyAEDT INFO: Parsing C:/Users/ansys/AppData/Local/Temp/tmpc7i_2aku_ansys/pyaedt_prj_S7E/antenna_toolkit.aedt.\n"
     ]
    },
    {
     "name": "stdout",
     "output_type": "stream",
     "text": [
      "PyAEDT INFO: File C:/Users/ansys/AppData/Local/Temp/tmpc7i_2aku_ansys/pyaedt_prj_S7E/antenna_toolkit.aedt correctly loaded. Elapsed time: 0m 0sec\n"
     ]
    },
    {
     "name": "stdout",
     "output_type": "stream",
     "text": [
      "PyAEDT INFO: aedt file load time 0.033481597900390625\n"
     ]
    },
    {
     "name": "stdout",
     "output_type": "stream",
     "text": [
      "PyAEDT INFO: PostProcessor class has been initialized! Elapsed time: 0m 0sec\n"
     ]
    },
    {
     "name": "stdout",
     "output_type": "stream",
     "text": [
      "PyAEDT INFO: PostProcessor class has been initialized! Elapsed time: 0m 0sec\n"
     ]
    },
    {
     "name": "stdout",
     "output_type": "stream",
     "text": [
      "PyAEDT INFO: Post class has been initialized! Elapsed time: 0m 0sec\n"
     ]
    },
    {
     "name": "stdout",
     "output_type": "stream",
     "text": [
      "PyAEDT INFO: Solution Data Correctly Loaded.\n"
     ]
    },
    {
     "name": "stdout",
     "output_type": "stream",
     "text": [
      "PyAEDT INFO: Desktop has been released.\n"
     ]
    },
    {
     "name": "stderr",
     "output_type": "stream",
     "text": [
      "INFO - AEDT is released.\n"
     ]
    }
   ],
   "source": [
    "scattering_data = toolkit_api.scattering_results()"
   ]
  },
  {
   "cell_type": "markdown",
   "id": "93ff22c8",
   "metadata": {},
   "source": [
    "## Get farfield results"
   ]
  },
  {
   "cell_type": "code",
   "execution_count": 34,
   "id": "f7b1cde8",
   "metadata": {
    "execution": {
     "iopub.execute_input": "2025-05-06T16:02:17.145960Z",
     "iopub.status.busy": "2025-05-06T16:02:17.145960Z",
     "iopub.status.idle": "2025-05-06T16:02:20.927087Z",
     "shell.execute_reply": "2025-05-06T16:02:20.927087Z"
    }
   },
   "outputs": [
    {
     "name": "stderr",
     "output_type": "stream",
     "text": [
      "DEBUG - Toolkit is not connected to AEDT.\n"
     ]
    },
    {
     "name": "stderr",
     "output_type": "stream",
     "text": [
      "DEBUG - Connecting AEDT.\n"
     ]
    },
    {
     "name": "stdout",
     "output_type": "stream",
     "text": [
      "PyAEDT INFO: Python version 3.10.11 (tags/v3.10.11:7d4cc5a, Apr  5 2023, 00:38:17) [MSC v.1929 64 bit (AMD64)].\n"
     ]
    },
    {
     "name": "stdout",
     "output_type": "stream",
     "text": [
      "PyAEDT INFO: PyAEDT version 0.16.1.\n"
     ]
    },
    {
     "name": "stdout",
     "output_type": "stream",
     "text": [
      "PyAEDT INFO: Initializing new Desktop session.\n"
     ]
    },
    {
     "name": "stdout",
     "output_type": "stream",
     "text": [
      "PyAEDT INFO: Log on console is enabled.\n"
     ]
    },
    {
     "name": "stdout",
     "output_type": "stream",
     "text": [
      "PyAEDT INFO: Log on file C:\\Users\\ansys\\AppData\\Local\\Temp\\pyaedt_ansys_93590931-1aff-4a57-87ce-29a1568b50bc.log is enabled.\n"
     ]
    },
    {
     "name": "stdout",
     "output_type": "stream",
     "text": [
      "PyAEDT INFO: Log on AEDT is disabled.\n"
     ]
    },
    {
     "name": "stdout",
     "output_type": "stream",
     "text": [
      "PyAEDT INFO: Debug logger is disabled. PyAEDT methods will not be logged.\n"
     ]
    },
    {
     "name": "stdout",
     "output_type": "stream",
     "text": [
      "PyAEDT INFO: Launching PyAEDT with gRPC plugin.\n"
     ]
    },
    {
     "name": "stdout",
     "output_type": "stream",
     "text": [
      "PyAEDT INFO: Connecting to AEDT session on gRPC port 60834.\n"
     ]
    },
    {
     "name": "stdout",
     "output_type": "stream",
     "text": [
      "PyAEDT INFO: AEDT installation Path C:\\Program Files\\ANSYS Inc\\v251\\AnsysEM\n"
     ]
    },
    {
     "name": "stderr",
     "output_type": "stream",
     "text": [
      "DEBUG - Toolkit is connected to AEDT.\n"
     ]
    },
    {
     "name": "stdout",
     "output_type": "stream",
     "text": [
      "PyAEDT INFO: Python version 3.10.11 (tags/v3.10.11:7d4cc5a, Apr  5 2023, 00:38:17) [MSC v.1929 64 bit (AMD64)].\n"
     ]
    },
    {
     "name": "stdout",
     "output_type": "stream",
     "text": [
      "PyAEDT INFO: PyAEDT version 0.16.1.\n"
     ]
    },
    {
     "name": "stdout",
     "output_type": "stream",
     "text": [
      "PyAEDT INFO: Returning found Desktop session with PID 7504!\n"
     ]
    },
    {
     "name": "stdout",
     "output_type": "stream",
     "text": [
      "PyAEDT INFO: Project antenna_toolkit set to active.\n"
     ]
    },
    {
     "name": "stdout",
     "output_type": "stream",
     "text": [
      "PyAEDT INFO: Active Design set to HFSS_NEMRJ9\n"
     ]
    },
    {
     "name": "stdout",
     "output_type": "stream",
     "text": [
      "PyAEDT INFO: Aedt Objects correctly read\n"
     ]
    },
    {
     "name": "stderr",
     "output_type": "stream",
     "text": [
      "INFO - Toolkit is connected to AEDT design.\n"
     ]
    },
    {
     "name": "stdout",
     "output_type": "stream",
     "text": [
      "PyAEDT INFO: Project antenna_toolkit Saved correctly\n"
     ]
    },
    {
     "name": "stdout",
     "output_type": "stream",
     "text": [
      "PyAEDT INFO: Far field sphere 3D is assigned\n"
     ]
    },
    {
     "name": "stdout",
     "output_type": "stream",
     "text": [
      "PyAEDT INFO: Exporting antenna metadata...\n"
     ]
    },
    {
     "name": "stdout",
     "output_type": "stream",
     "text": [
      "PyAEDT INFO: Parsing C:/Users/ansys/AppData/Local/Temp/tmpc7i_2aku_ansys/pyaedt_prj_S7E/antenna_toolkit.aedt.\n"
     ]
    },
    {
     "name": "stdout",
     "output_type": "stream",
     "text": [
      "PyAEDT INFO: File C:/Users/ansys/AppData/Local/Temp/tmpc7i_2aku_ansys/pyaedt_prj_S7E/antenna_toolkit.aedt correctly loaded. Elapsed time: 0m 0sec\n"
     ]
    },
    {
     "name": "stdout",
     "output_type": "stream",
     "text": [
      "PyAEDT INFO: aedt file load time 0.0312497615814209\n"
     ]
    },
    {
     "name": "stdout",
     "output_type": "stream",
     "text": [
      "PyAEDT INFO: PostProcessor class has been initialized! Elapsed time: 0m 0sec\n"
     ]
    },
    {
     "name": "stdout",
     "output_type": "stream",
     "text": [
      "PyAEDT INFO: PostProcessor class has been initialized! Elapsed time: 0m 0sec\n"
     ]
    },
    {
     "name": "stdout",
     "output_type": "stream",
     "text": [
      "PyAEDT INFO: Post class has been initialized! Elapsed time: 0m 0sec\n"
     ]
    },
    {
     "name": "stdout",
     "output_type": "stream",
     "text": [
      "PyAEDT INFO: Antenna metadata exported.\n"
     ]
    },
    {
     "name": "stdout",
     "output_type": "stream",
     "text": [
      "PyAEDT INFO: Exporting geometry...\n"
     ]
    },
    {
     "name": "stdout",
     "output_type": "stream",
     "text": [
      "PyAEDT INFO: Modeler class has been initialized! Elapsed time: 0m 0sec\n"
     ]
    },
    {
     "name": "stdout",
     "output_type": "stream",
     "text": [
      "PyAEDT INFO: Exporting embedded element patterns.... Done: 2.314969539642334 seconds\n"
     ]
    },
    {
     "name": "stdout",
     "output_type": "stream",
     "text": [
      "PyAEDT INFO: Desktop has been released.\n"
     ]
    },
    {
     "name": "stderr",
     "output_type": "stream",
     "text": [
      "INFO - AEDT is released.\n"
     ]
    }
   ],
   "source": [
    "frequency_str = [str(properties.antenna.synthesis.frequency) + properties.antenna.synthesis.frequency_unit]\n",
    "farfield_metadata, farfield_frequency = toolkit_api.export_farfield(\n",
    "    frequencies=frequency_str, sphere=\"3D\", encode=False\n",
    ")"
   ]
  },
  {
   "cell_type": "markdown",
   "id": "d86e901e",
   "metadata": {},
   "source": [
    "## Get antenna model"
   ]
  },
  {
   "cell_type": "code",
   "execution_count": 35,
   "id": "26bae589",
   "metadata": {
    "execution": {
     "iopub.execute_input": "2025-05-06T16:02:20.927087Z",
     "iopub.status.busy": "2025-05-06T16:02:20.927087Z",
     "iopub.status.idle": "2025-05-06T16:02:22.122036Z",
     "shell.execute_reply": "2025-05-06T16:02:22.120885Z"
    }
   },
   "outputs": [
    {
     "name": "stderr",
     "output_type": "stream",
     "text": [
      "DEBUG - Toolkit is not connected to AEDT.\n"
     ]
    },
    {
     "name": "stderr",
     "output_type": "stream",
     "text": [
      "DEBUG - Connecting AEDT.\n"
     ]
    },
    {
     "name": "stdout",
     "output_type": "stream",
     "text": [
      "PyAEDT INFO: Python version 3.10.11 (tags/v3.10.11:7d4cc5a, Apr  5 2023, 00:38:17) [MSC v.1929 64 bit (AMD64)].\n"
     ]
    },
    {
     "name": "stdout",
     "output_type": "stream",
     "text": [
      "PyAEDT INFO: PyAEDT version 0.16.1.\n"
     ]
    },
    {
     "name": "stdout",
     "output_type": "stream",
     "text": [
      "PyAEDT INFO: Initializing new Desktop session.\n"
     ]
    },
    {
     "name": "stdout",
     "output_type": "stream",
     "text": [
      "PyAEDT INFO: Log on console is enabled.\n"
     ]
    },
    {
     "name": "stdout",
     "output_type": "stream",
     "text": [
      "PyAEDT INFO: Log on file C:\\Users\\ansys\\AppData\\Local\\Temp\\pyaedt_ansys_93590931-1aff-4a57-87ce-29a1568b50bc.log is enabled.\n"
     ]
    },
    {
     "name": "stdout",
     "output_type": "stream",
     "text": [
      "PyAEDT INFO: Log on AEDT is disabled.\n"
     ]
    },
    {
     "name": "stdout",
     "output_type": "stream",
     "text": [
      "PyAEDT INFO: Debug logger is disabled. PyAEDT methods will not be logged.\n"
     ]
    },
    {
     "name": "stdout",
     "output_type": "stream",
     "text": [
      "PyAEDT INFO: Launching PyAEDT with gRPC plugin.\n"
     ]
    },
    {
     "name": "stdout",
     "output_type": "stream",
     "text": [
      "PyAEDT INFO: Connecting to AEDT session on gRPC port 60834.\n"
     ]
    },
    {
     "name": "stdout",
     "output_type": "stream",
     "text": [
      "PyAEDT INFO: AEDT installation Path C:\\Program Files\\ANSYS Inc\\v251\\AnsysEM\n"
     ]
    },
    {
     "name": "stderr",
     "output_type": "stream",
     "text": [
      "DEBUG - Toolkit is connected to AEDT.\n"
     ]
    },
    {
     "name": "stdout",
     "output_type": "stream",
     "text": [
      "PyAEDT INFO: Python version 3.10.11 (tags/v3.10.11:7d4cc5a, Apr  5 2023, 00:38:17) [MSC v.1929 64 bit (AMD64)].\n"
     ]
    },
    {
     "name": "stdout",
     "output_type": "stream",
     "text": [
      "PyAEDT INFO: PyAEDT version 0.16.1.\n"
     ]
    },
    {
     "name": "stdout",
     "output_type": "stream",
     "text": [
      "PyAEDT INFO: Returning found Desktop session with PID 7504!\n"
     ]
    },
    {
     "name": "stdout",
     "output_type": "stream",
     "text": [
      "PyAEDT INFO: Project antenna_toolkit set to active.\n"
     ]
    },
    {
     "name": "stdout",
     "output_type": "stream",
     "text": [
      "PyAEDT INFO: Active Design set to HFSS_NEMRJ9\n"
     ]
    },
    {
     "name": "stdout",
     "output_type": "stream",
     "text": [
      "PyAEDT INFO: Aedt Objects correctly read\n"
     ]
    },
    {
     "name": "stderr",
     "output_type": "stream",
     "text": [
      "INFO - Toolkit is connected to AEDT design.\n"
     ]
    },
    {
     "name": "stdout",
     "output_type": "stream",
     "text": [
      "PyAEDT INFO: Project antenna_toolkit Saved correctly\n"
     ]
    },
    {
     "name": "stdout",
     "output_type": "stream",
     "text": [
      "PyAEDT INFO: Parsing C:/Users/ansys/AppData/Local/Temp/tmpc7i_2aku_ansys/pyaedt_prj_S7E/antenna_toolkit.aedt.\n"
     ]
    },
    {
     "name": "stdout",
     "output_type": "stream",
     "text": [
      "PyAEDT INFO: File C:/Users/ansys/AppData/Local/Temp/tmpc7i_2aku_ansys/pyaedt_prj_S7E/antenna_toolkit.aedt correctly loaded. Elapsed time: 0m 0sec\n"
     ]
    },
    {
     "name": "stdout",
     "output_type": "stream",
     "text": [
      "PyAEDT INFO: aedt file load time 0.04687309265136719\n"
     ]
    },
    {
     "name": "stdout",
     "output_type": "stream",
     "text": [
      "PyAEDT INFO: PostProcessor class has been initialized! Elapsed time: 0m 0sec\n"
     ]
    },
    {
     "name": "stdout",
     "output_type": "stream",
     "text": [
      "PyAEDT INFO: PostProcessor class has been initialized! Elapsed time: 0m 0sec\n"
     ]
    },
    {
     "name": "stdout",
     "output_type": "stream",
     "text": [
      "PyAEDT INFO: Post class has been initialized! Elapsed time: 0m 0sec\n"
     ]
    },
    {
     "name": "stdout",
     "output_type": "stream",
     "text": [
      "PyAEDT WARNING: Argument `export_as_single_objects` is deprecated for method `export_model_obj`; use `export_as_multiple_objects` instead.\n"
     ]
    },
    {
     "name": "stdout",
     "output_type": "stream",
     "text": [
      "PyAEDT INFO: Modeler class has been initialized! Elapsed time: 0m 0sec\n"
     ]
    },
    {
     "name": "stdout",
     "output_type": "stream",
     "text": [
      "PyAEDT INFO: Desktop has been released.\n"
     ]
    },
    {
     "name": "stderr",
     "output_type": "stream",
     "text": [
      "INFO - AEDT is released.\n"
     ]
    }
   ],
   "source": [
    "files = toolkit_api.export_aedt_model(encode=False)"
   ]
  },
  {
   "cell_type": "markdown",
   "id": "2643a910",
   "metadata": {},
   "source": [
    "## Release AEDT\n",
    "\n",
    "Release AEDT."
   ]
  },
  {
   "cell_type": "code",
   "execution_count": 36,
   "id": "2473d947",
   "metadata": {
    "execution": {
     "iopub.execute_input": "2025-05-06T16:02:22.123080Z",
     "iopub.status.busy": "2025-05-06T16:02:22.123080Z",
     "iopub.status.idle": "2025-05-06T16:02:30.837453Z",
     "shell.execute_reply": "2025-05-06T16:02:30.837453Z"
    }
   },
   "outputs": [
    {
     "name": "stderr",
     "output_type": "stream",
     "text": [
      "DEBUG - Toolkit is not connected to AEDT.\n"
     ]
    },
    {
     "name": "stderr",
     "output_type": "stream",
     "text": [
      "DEBUG - Connecting AEDT.\n"
     ]
    },
    {
     "name": "stdout",
     "output_type": "stream",
     "text": [
      "PyAEDT INFO: Python version 3.10.11 (tags/v3.10.11:7d4cc5a, Apr  5 2023, 00:38:17) [MSC v.1929 64 bit (AMD64)].\n"
     ]
    },
    {
     "name": "stdout",
     "output_type": "stream",
     "text": [
      "PyAEDT INFO: PyAEDT version 0.16.1.\n"
     ]
    },
    {
     "name": "stdout",
     "output_type": "stream",
     "text": [
      "PyAEDT INFO: Initializing new Desktop session.\n"
     ]
    },
    {
     "name": "stdout",
     "output_type": "stream",
     "text": [
      "PyAEDT INFO: Log on console is enabled.\n"
     ]
    },
    {
     "name": "stdout",
     "output_type": "stream",
     "text": [
      "PyAEDT INFO: Log on file C:\\Users\\ansys\\AppData\\Local\\Temp\\pyaedt_ansys_93590931-1aff-4a57-87ce-29a1568b50bc.log is enabled.\n"
     ]
    },
    {
     "name": "stdout",
     "output_type": "stream",
     "text": [
      "PyAEDT INFO: Log on AEDT is disabled.\n"
     ]
    },
    {
     "name": "stdout",
     "output_type": "stream",
     "text": [
      "PyAEDT INFO: Debug logger is disabled. PyAEDT methods will not be logged.\n"
     ]
    },
    {
     "name": "stdout",
     "output_type": "stream",
     "text": [
      "PyAEDT INFO: Launching PyAEDT with gRPC plugin.\n"
     ]
    },
    {
     "name": "stdout",
     "output_type": "stream",
     "text": [
      "PyAEDT INFO: Connecting to AEDT session on gRPC port 60834.\n"
     ]
    },
    {
     "name": "stdout",
     "output_type": "stream",
     "text": [
      "PyAEDT INFO: AEDT installation Path C:\\Program Files\\ANSYS Inc\\v251\\AnsysEM\n"
     ]
    },
    {
     "name": "stderr",
     "output_type": "stream",
     "text": [
      "DEBUG - Toolkit is connected to AEDT.\n"
     ]
    },
    {
     "name": "stdout",
     "output_type": "stream",
     "text": [
      "PyAEDT INFO: Desktop has been released and closed.\n"
     ]
    },
    {
     "name": "stderr",
     "output_type": "stream",
     "text": [
      "INFO - AEDT is released.\n"
     ]
    },
    {
     "data": {
      "text/plain": [
       "True"
      ]
     },
     "execution_count": 36,
     "metadata": {},
     "output_type": "execute_result"
    }
   ],
   "source": [
    "toolkit_api.release_aedt(True, True)"
   ]
  },
  {
   "cell_type": "markdown",
   "id": "8bc90131",
   "metadata": {},
   "source": [
    "## Plot results"
   ]
  },
  {
   "cell_type": "markdown",
   "id": "834b46f3",
   "metadata": {},
   "source": [
    "Plot exported files"
   ]
  },
  {
   "cell_type": "code",
   "execution_count": 37,
   "id": "1ad62a98",
   "metadata": {
    "execution": {
     "iopub.execute_input": "2025-05-06T16:02:30.837453Z",
     "iopub.status.busy": "2025-05-06T16:02:30.837453Z",
     "iopub.status.idle": "2025-05-06T16:02:30.853074Z",
     "shell.execute_reply": "2025-05-06T16:02:30.853074Z"
    }
   },
   "outputs": [],
   "source": [
    "from ansys.aedt.core.visualization.plot.pyvista import ModelPlotter"
   ]
  },
  {
   "cell_type": "code",
   "execution_count": 38,
   "id": "43d4c235",
   "metadata": {
    "execution": {
     "iopub.execute_input": "2025-05-06T16:02:30.853074Z",
     "iopub.status.busy": "2025-05-06T16:02:30.853074Z",
     "iopub.status.idle": "2025-05-06T16:02:30.868708Z",
     "shell.execute_reply": "2025-05-06T16:02:30.868708Z"
    }
   },
   "outputs": [],
   "source": [
    "model = ModelPlotter()\n",
    "for file in files:\n",
    "    model.add_object(file[0], file[1], file[2])"
   ]
  },
  {
   "cell_type": "code",
   "execution_count": 39,
   "id": "8b8c92d9",
   "metadata": {
    "execution": {
     "iopub.execute_input": "2025-05-06T16:02:30.868708Z",
     "iopub.status.busy": "2025-05-06T16:02:30.868708Z",
     "iopub.status.idle": "2025-05-06T16:02:30.978084Z",
     "shell.execute_reply": "2025-05-06T16:02:30.978084Z"
    }
   },
   "outputs": [
    {
     "data": {
      "text/plain": [
       "True"
      ]
     },
     "execution_count": 39,
     "metadata": {},
     "output_type": "execute_result"
    }
   ],
   "source": [
    "model.plot(show=False)"
   ]
  },
  {
   "cell_type": "markdown",
   "id": "03ee4044",
   "metadata": {},
   "source": [
    "## Load far field"
   ]
  },
  {
   "cell_type": "code",
   "execution_count": 40,
   "id": "f408f706",
   "metadata": {
    "execution": {
     "iopub.execute_input": "2025-05-06T16:02:30.978084Z",
     "iopub.status.busy": "2025-05-06T16:02:30.978084Z",
     "iopub.status.idle": "2025-05-06T16:02:31.087465Z",
     "shell.execute_reply": "2025-05-06T16:02:31.087465Z"
    }
   },
   "outputs": [],
   "source": [
    "farfield_data = FfdSolutionData(farfield_metadata)"
   ]
  },
  {
   "cell_type": "markdown",
   "id": "c8e54f25",
   "metadata": {},
   "source": [
    "## Plot far field"
   ]
  },
  {
   "cell_type": "code",
   "execution_count": 41,
   "id": "7824d03d",
   "metadata": {
    "execution": {
     "iopub.execute_input": "2025-05-06T16:02:31.087465Z",
     "iopub.status.busy": "2025-05-06T16:02:31.087465Z",
     "iopub.status.idle": "2025-05-06T16:02:31.228089Z",
     "shell.execute_reply": "2025-05-06T16:02:31.228089Z"
    }
   },
   "outputs": [],
   "source": [
    "data = farfield_data.plot_3d(show=False)"
   ]
  },
  {
   "cell_type": "markdown",
   "id": "b6ce0d90",
   "metadata": {},
   "source": [
    "## Clean temporary directory"
   ]
  },
  {
   "cell_type": "code",
   "execution_count": 42,
   "id": "e3584ae0",
   "metadata": {
    "execution": {
     "iopub.execute_input": "2025-05-06T16:02:31.228089Z",
     "iopub.status.busy": "2025-05-06T16:02:31.228089Z",
     "iopub.status.idle": "2025-05-06T16:02:31.368713Z",
     "shell.execute_reply": "2025-05-06T16:02:31.368713Z"
    }
   },
   "outputs": [],
   "source": [
    "temp_dir.cleanup()"
   ]
  }
 ],
 "metadata": {
  "jupytext": {
   "cell_metadata_filter": "-all",
   "encoding": "# -*- coding: utf-8 -*-",
   "main_language": "python",
   "notebook_metadata_filter": "-all",
   "text_representation": {
    "extension": ".py",
    "format_name": "light"
   }
  },
  "language_info": {
   "codemirror_mode": {
    "name": "ipython",
    "version": 3
   },
   "file_extension": ".py",
   "mimetype": "text/x-python",
   "name": "python",
   "nbconvert_exporter": "python",
   "pygments_lexer": "ipython3",
   "version": "3.10.11"
  }
 },
 "nbformat": 4,
 "nbformat_minor": 5
}
