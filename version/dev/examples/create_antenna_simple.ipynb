{
 "cells": [
  {
   "cell_type": "markdown",
   "id": "ea3fe40f",
   "metadata": {
    "lines_to_next_cell": 2
   },
   "source": [
    "# Bowtie antenna synthesis\n",
    "\n",
    "This example demonstrates how to synthesize a bowtie antenna using the ``BowTieRounded`` class.\n",
    "It initiates AEDT through PyAEDT, sets up an empty HFSS design, and proceeds to create the antenna."
   ]
  },
  {
   "cell_type": "markdown",
   "id": "120b15dd",
   "metadata": {},
   "source": [
    "## Perform required imports\n",
    "\n",
    "Import the antenna toolkit class and PyAEDT."
   ]
  },
  {
   "cell_type": "code",
   "execution_count": 1,
   "id": "3a145e14",
   "metadata": {
    "execution": {
     "iopub.execute_input": "2025-07-19T13:02:55.021029Z",
     "iopub.status.busy": "2025-07-19T13:02:55.021029Z",
     "iopub.status.idle": "2025-07-19T13:02:55.031032Z",
     "shell.execute_reply": "2025-07-19T13:02:55.031032Z"
    }
   },
   "outputs": [],
   "source": [
    "import tempfile"
   ]
  },
  {
   "cell_type": "code",
   "execution_count": 2,
   "id": "79a3fb60",
   "metadata": {
    "execution": {
     "iopub.execute_input": "2025-07-19T13:02:55.031032Z",
     "iopub.status.busy": "2025-07-19T13:02:55.031032Z",
     "iopub.status.idle": "2025-07-19T13:02:57.555595Z",
     "shell.execute_reply": "2025-07-19T13:02:57.555595Z"
    }
   },
   "outputs": [],
   "source": [
    "import ansys.aedt.core"
   ]
  },
  {
   "cell_type": "code",
   "execution_count": 3,
   "id": "315e1d18",
   "metadata": {
    "execution": {
     "iopub.execute_input": "2025-07-19T13:02:57.555595Z",
     "iopub.status.busy": "2025-07-19T13:02:57.555595Z",
     "iopub.status.idle": "2025-07-19T13:02:57.763111Z",
     "shell.execute_reply": "2025-07-19T13:02:57.763111Z"
    }
   },
   "outputs": [],
   "source": [
    "from ansys.aedt.toolkits.antenna.backend.antenna_models.bowtie import BowTieRounded"
   ]
  },
  {
   "cell_type": "markdown",
   "id": "c007df80",
   "metadata": {},
   "source": [
    "##  Set AEDT version\n",
    "\n",
    "Set AEDT version."
   ]
  },
  {
   "cell_type": "code",
   "execution_count": 4,
   "id": "8ca0ebd6",
   "metadata": {
    "execution": {
     "iopub.execute_input": "2025-07-19T13:02:57.763111Z",
     "iopub.status.busy": "2025-07-19T13:02:57.763111Z",
     "iopub.status.idle": "2025-07-19T13:02:57.771536Z",
     "shell.execute_reply": "2025-07-19T13:02:57.771536Z"
    }
   },
   "outputs": [],
   "source": [
    "aedt_version = \"2025.1\""
   ]
  },
  {
   "cell_type": "markdown",
   "id": "c9f863a6",
   "metadata": {},
   "source": [
    "## Set non-graphical mode\n",
    "\n",
    "Set non-graphical mode."
   ]
  },
  {
   "cell_type": "code",
   "execution_count": 5,
   "id": "f7eef765",
   "metadata": {
    "execution": {
     "iopub.execute_input": "2025-07-19T13:02:57.771536Z",
     "iopub.status.busy": "2025-07-19T13:02:57.771536Z",
     "iopub.status.idle": "2025-07-19T13:02:57.778403Z",
     "shell.execute_reply": "2025-07-19T13:02:57.778403Z"
    }
   },
   "outputs": [],
   "source": [
    "non_graphical = True"
   ]
  },
  {
   "cell_type": "markdown",
   "id": "30e81470",
   "metadata": {},
   "source": [
    "## Create temporary directory"
   ]
  },
  {
   "cell_type": "code",
   "execution_count": 6,
   "id": "81b1ed3a",
   "metadata": {
    "execution": {
     "iopub.execute_input": "2025-07-19T13:02:57.778403Z",
     "iopub.status.busy": "2025-07-19T13:02:57.778403Z",
     "iopub.status.idle": "2025-07-19T13:02:57.786621Z",
     "shell.execute_reply": "2025-07-19T13:02:57.786621Z"
    }
   },
   "outputs": [],
   "source": [
    "temp_dir = tempfile.TemporaryDirectory(suffix=\"_ansys\")\n",
    "project_name = ansys.aedt.core.generate_unique_project_name(root_name=temp_dir.name, project_name=\"bowtie_example\")"
   ]
  },
  {
   "cell_type": "markdown",
   "id": "7bf2d824",
   "metadata": {},
   "source": [
    "## Create antenna object only for synthesis\n",
    "\n",
    "Create antenna object."
   ]
  },
  {
   "cell_type": "code",
   "execution_count": 7,
   "id": "cc9430c7",
   "metadata": {
    "execution": {
     "iopub.execute_input": "2025-07-19T13:02:57.786621Z",
     "iopub.status.busy": "2025-07-19T13:02:57.786621Z",
     "iopub.status.idle": "2025-07-19T13:02:57.793801Z",
     "shell.execute_reply": "2025-07-19T13:02:57.793801Z"
    }
   },
   "outputs": [
    {
     "name": "stdout",
     "output_type": "stream",
     "text": [
      "Arm length: 3.7mm at 10.0GHz\n"
     ]
    }
   ],
   "source": [
    "oantenna1 = BowTieRounded(None)\n",
    "print(\n",
    "    \"Arm length: {}{} at {}{}\".format(\n",
    "        str(oantenna1.synthesis_parameters.arm_length.value),\n",
    "        oantenna1.length_unit,\n",
    "        oantenna1.frequency,\n",
    "        oantenna1.frequency_unit,\n",
    "    )\n",
    ")"
   ]
  },
  {
   "cell_type": "markdown",
   "id": "05283941",
   "metadata": {},
   "source": [
    "## Change synthesis frequency\n",
    "\n",
    "Modify resonance frequency and modify parameters."
   ]
  },
  {
   "cell_type": "code",
   "execution_count": 8,
   "id": "5d0c1103",
   "metadata": {
    "execution": {
     "iopub.execute_input": "2025-07-19T13:02:57.793801Z",
     "iopub.status.busy": "2025-07-19T13:02:57.793801Z",
     "iopub.status.idle": "2025-07-19T13:02:57.800626Z",
     "shell.execute_reply": "2025-07-19T13:02:57.800626Z"
    }
   },
   "outputs": [
    {
     "name": "stdout",
     "output_type": "stream",
     "text": [
      "Arm length: 3.03mm at 12.0GHz\n"
     ]
    }
   ],
   "source": [
    "oantenna1.frequency = 12.0\n",
    "print(\n",
    "    \"Arm length: {}{} at {}{}\".format(\n",
    "        str(oantenna1.synthesis_parameters.arm_length.value),\n",
    "        oantenna1.length_unit,\n",
    "        oantenna1.frequency,\n",
    "        oantenna1.frequency_unit,\n",
    "    )\n",
    ")"
   ]
  },
  {
   "cell_type": "markdown",
   "id": "fee5f8a3",
   "metadata": {},
   "source": [
    "## Create an empty HFSS design\n",
    "\n",
    "Create an empty HFSS design."
   ]
  },
  {
   "cell_type": "code",
   "execution_count": 9,
   "id": "adbcc9ff",
   "metadata": {
    "execution": {
     "iopub.execute_input": "2025-07-19T13:02:57.800626Z",
     "iopub.status.busy": "2025-07-19T13:02:57.800626Z",
     "iopub.status.idle": "2025-07-19T13:03:31.578284Z",
     "shell.execute_reply": "2025-07-19T13:03:31.578284Z"
    }
   },
   "outputs": [
    {
     "name": "stdout",
     "output_type": "stream",
     "text": [
      "PyAEDT INFO: Python version 3.12.10 (tags/v3.12.10:0cc8128, Apr  8 2025, 12:21:36) [MSC v.1943 64 bit (AMD64)].\n"
     ]
    },
    {
     "name": "stdout",
     "output_type": "stream",
     "text": [
      "PyAEDT INFO: PyAEDT version 0.18.0.\n"
     ]
    },
    {
     "name": "stdout",
     "output_type": "stream",
     "text": [
      "PyAEDT INFO: Initializing new Desktop session.\n"
     ]
    },
    {
     "name": "stdout",
     "output_type": "stream",
     "text": [
      "PyAEDT INFO: Log on console is enabled.\n"
     ]
    },
    {
     "name": "stdout",
     "output_type": "stream",
     "text": [
      "PyAEDT INFO: Log on file C:\\Users\\ansys\\AppData\\Local\\Temp\\pyaedt_ansys_0feb00ad-4422-4c44-95af-5b34b5c7308c.log is enabled.\n"
     ]
    },
    {
     "name": "stdout",
     "output_type": "stream",
     "text": [
      "PyAEDT INFO: Log on AEDT is disabled.\n"
     ]
    },
    {
     "name": "stdout",
     "output_type": "stream",
     "text": [
      "PyAEDT INFO: Debug logger is disabled. PyAEDT methods will not be logged.\n"
     ]
    },
    {
     "name": "stdout",
     "output_type": "stream",
     "text": [
      "PyAEDT INFO: Launching PyAEDT with gRPC plugin.\n"
     ]
    },
    {
     "name": "stdout",
     "output_type": "stream",
     "text": [
      "PyAEDT INFO: New AEDT session is starting on gRPC port 51382.\n"
     ]
    },
    {
     "name": "stdout",
     "output_type": "stream",
     "text": [
      "PyAEDT INFO: Electronics Desktop started on gRPC port: 51382 after 5.12030816078186 seconds.\n"
     ]
    },
    {
     "name": "stdout",
     "output_type": "stream",
     "text": [
      "PyAEDT INFO: AEDT installation Path C:\\Program Files\\ANSYS Inc\\v251\\AnsysEM\n"
     ]
    },
    {
     "name": "stdout",
     "output_type": "stream",
     "text": [
      "PyAEDT INFO: Ansoft.ElectronicsDesktop.2025.1 version started with process ID 1848.\n"
     ]
    },
    {
     "name": "stdout",
     "output_type": "stream",
     "text": [
      "PyAEDT INFO: Project bowtie_example has been created.\n"
     ]
    },
    {
     "name": "stdout",
     "output_type": "stream",
     "text": [
      "PyAEDT INFO: No design is present. Inserting a new design.\n"
     ]
    },
    {
     "name": "stdout",
     "output_type": "stream",
     "text": [
      "PyAEDT INFO: Added design 'HFSS_Z0J' of type HFSS.\n"
     ]
    },
    {
     "name": "stdout",
     "output_type": "stream",
     "text": [
      "PyAEDT INFO: Aedt Objects correctly read\n"
     ]
    }
   ],
   "source": [
    "app = ansys.aedt.core.Hfss(project=project_name, version=aedt_version, non_graphical=non_graphical)"
   ]
  },
  {
   "cell_type": "markdown",
   "id": "c9da4b23",
   "metadata": {},
   "source": [
    "## Create antenna in HFSS\n",
    "\n",
    "Create antenna object, change frequency synthesis, create antenna, and set up in HFSS."
   ]
  },
  {
   "cell_type": "code",
   "execution_count": 10,
   "id": "e4f3cfac",
   "metadata": {
    "execution": {
     "iopub.execute_input": "2025-07-19T13:03:31.578284Z",
     "iopub.status.busy": "2025-07-19T13:03:31.578284Z",
     "iopub.status.idle": "2025-07-19T13:03:32.700465Z",
     "shell.execute_reply": "2025-07-19T13:03:32.700465Z"
    }
   },
   "outputs": [
    {
     "name": "stdout",
     "output_type": "stream",
     "text": [
      "PyAEDT INFO: Modeler class has been initialized! Elapsed time: 0m 0sec\n"
     ]
    },
    {
     "name": "stdout",
     "output_type": "stream",
     "text": [
      "PyAEDT INFO: Materials class has been initialized! Elapsed time: 0m 0sec\n"
     ]
    }
   ],
   "source": [
    "oantenna1 = BowTieRounded(app)"
   ]
  },
  {
   "cell_type": "code",
   "execution_count": 11,
   "id": "017793ea",
   "metadata": {
    "execution": {
     "iopub.execute_input": "2025-07-19T13:03:32.700465Z",
     "iopub.status.busy": "2025-07-19T13:03:32.700465Z",
     "iopub.status.idle": "2025-07-19T13:03:33.532853Z",
     "shell.execute_reply": "2025-07-19T13:03:33.532853Z"
    }
   },
   "outputs": [
    {
     "name": "stdout",
     "output_type": "stream",
     "text": [
      "PyAEDT WARNING: Property Command is read-only.\n"
     ]
    },
    {
     "name": "stdout",
     "output_type": "stream",
     "text": [
      "PyAEDT INFO: Parsing design objects. This operation can take time\n"
     ]
    },
    {
     "name": "stdout",
     "output_type": "stream",
     "text": [
      "PyAEDT INFO: Refreshing bodies from Object Info\n"
     ]
    },
    {
     "name": "stdout",
     "output_type": "stream",
     "text": [
      "PyAEDT INFO: Bodies Info Refreshed Elapsed time: 0m 0sec\n"
     ]
    },
    {
     "name": "stdout",
     "output_type": "stream",
     "text": [
      "PyAEDT INFO: 3D Modeler objects parsed. Elapsed time: 0m 0sec\n"
     ]
    },
    {
     "name": "stdout",
     "output_type": "stream",
     "text": [
      "PyAEDT INFO: Union of 2 objects has been executed.\n"
     ]
    },
    {
     "name": "stdout",
     "output_type": "stream",
     "text": [
      "PyAEDT WARNING: Property Command is read-only.\n"
     ]
    },
    {
     "name": "stdout",
     "output_type": "stream",
     "text": [
      "PyAEDT WARNING: Property Command is read-only.\n"
     ]
    }
   ],
   "source": [
    "# Create antenna in HFSS.\n",
    "oantenna1.model_hfss()"
   ]
  },
  {
   "cell_type": "markdown",
   "id": "450f4897",
   "metadata": {},
   "source": [
    "Create antenna setup."
   ]
  },
  {
   "cell_type": "code",
   "execution_count": 12,
   "id": "c3345bae",
   "metadata": {
    "execution": {
     "iopub.execute_input": "2025-07-19T13:03:33.532853Z",
     "iopub.status.busy": "2025-07-19T13:03:33.532853Z",
     "iopub.status.idle": "2025-07-19T13:03:33.830921Z",
     "shell.execute_reply": "2025-07-19T13:03:33.830921Z"
    }
   },
   "outputs": [
    {
     "name": "stdout",
     "output_type": "stream",
     "text": [
      "PyAEDT INFO: Boundary Perfect E PerfE_N1X0JC has been created.\n"
     ]
    },
    {
     "name": "stdout",
     "output_type": "stream",
     "text": [
      "PyAEDT INFO: Boundary Perfect E PerfE_26GL3P has been created.\n"
     ]
    },
    {
     "name": "stdout",
     "output_type": "stream",
     "text": [
      "PyAEDT INFO: Boundary AutoIdentify port_Patch_B2SK3C_1 has been created.\n"
     ]
    },
    {
     "data": {
      "text/plain": [
       "True"
      ]
     },
     "execution_count": 12,
     "metadata": {},
     "output_type": "execute_result"
    }
   ],
   "source": [
    "oantenna1.setup_hfss()"
   ]
  },
  {
   "cell_type": "markdown",
   "id": "0c6ed439",
   "metadata": {},
   "source": [
    "Change default name."
   ]
  },
  {
   "cell_type": "code",
   "execution_count": 13,
   "id": "91bf80da",
   "metadata": {
    "execution": {
     "iopub.execute_input": "2025-07-19T13:03:33.830921Z",
     "iopub.status.busy": "2025-07-19T13:03:33.830921Z",
     "iopub.status.idle": "2025-07-19T13:03:33.859958Z",
     "shell.execute_reply": "2025-07-19T13:03:33.859958Z"
    }
   },
   "outputs": [],
   "source": [
    "oantenna1.name = \"MyAmazingAntenna\""
   ]
  },
  {
   "cell_type": "markdown",
   "id": "b87d3c8a",
   "metadata": {},
   "source": [
    "## Create antenna in HFSS\n",
    "\n",
    "Create antenna object, change origin parameter in the antenna definition, create antenna, and set up in HFSS."
   ]
  },
  {
   "cell_type": "code",
   "execution_count": 14,
   "id": "c960edc7",
   "metadata": {
    "execution": {
     "iopub.execute_input": "2025-07-19T13:03:33.859958Z",
     "iopub.status.busy": "2025-07-19T13:03:33.859958Z",
     "iopub.status.idle": "2025-07-19T13:03:34.906129Z",
     "shell.execute_reply": "2025-07-19T13:03:34.906129Z"
    }
   },
   "outputs": [
    {
     "name": "stdout",
     "output_type": "stream",
     "text": [
      "PyAEDT WARNING: Property Command is read-only.\n"
     ]
    },
    {
     "name": "stdout",
     "output_type": "stream",
     "text": [
      "PyAEDT INFO: Parsing design objects. This operation can take time\n"
     ]
    },
    {
     "name": "stdout",
     "output_type": "stream",
     "text": [
      "PyAEDT INFO: Refreshing bodies from Object Info\n"
     ]
    },
    {
     "name": "stdout",
     "output_type": "stream",
     "text": [
      "PyAEDT INFO: Bodies Info Refreshed Elapsed time: 0m 0sec\n"
     ]
    },
    {
     "name": "stdout",
     "output_type": "stream",
     "text": [
      "PyAEDT INFO: 3D Modeler objects parsed. Elapsed time: 0m 0sec\n"
     ]
    },
    {
     "name": "stdout",
     "output_type": "stream",
     "text": [
      "PyAEDT INFO: Union of 2 objects has been executed.\n"
     ]
    },
    {
     "name": "stdout",
     "output_type": "stream",
     "text": [
      "PyAEDT WARNING: Property Command is read-only.\n"
     ]
    },
    {
     "name": "stdout",
     "output_type": "stream",
     "text": [
      "PyAEDT WARNING: Property Command is read-only.\n"
     ]
    },
    {
     "name": "stdout",
     "output_type": "stream",
     "text": [
      "PyAEDT INFO: Boundary Perfect E PerfE_1058C7 has been created.\n"
     ]
    },
    {
     "name": "stdout",
     "output_type": "stream",
     "text": [
      "PyAEDT INFO: Boundary Perfect E PerfE_2EJ4QR has been created.\n"
     ]
    },
    {
     "name": "stdout",
     "output_type": "stream",
     "text": [
      "PyAEDT INFO: Boundary AutoIdentify port_MyAntenna_1 has been created.\n"
     ]
    },
    {
     "data": {
      "text/plain": [
       "True"
      ]
     },
     "execution_count": 14,
     "metadata": {},
     "output_type": "execute_result"
    }
   ],
   "source": [
    "oantenna2 = BowTieRounded(app, origin=[2, 5, 0], name=\"MyAntenna\")\n",
    "oantenna2.model_hfss()\n",
    "oantenna2.setup_hfss()"
   ]
  },
  {
   "cell_type": "markdown",
   "id": "74ec63c2",
   "metadata": {},
   "source": [
    "## Plot HFSS model\n",
    "\n",
    "Plot geometry with PyVista."
   ]
  },
  {
   "cell_type": "code",
   "execution_count": 15,
   "id": "bfced87b",
   "metadata": {
    "execution": {
     "iopub.execute_input": "2025-07-19T13:03:34.906129Z",
     "iopub.status.busy": "2025-07-19T13:03:34.906129Z",
     "iopub.status.idle": "2025-07-19T13:03:35.907468Z",
     "shell.execute_reply": "2025-07-19T13:03:35.907468Z"
    }
   },
   "outputs": [
    {
     "name": "stdout",
     "output_type": "stream",
     "text": [
      "PyAEDT INFO: Parsing C:/Users/ansys/AppData/Local/Temp/tmpjy_zul0m_ansys/pyaedt_prj_X4V/bowtie_example.aedt.\n"
     ]
    },
    {
     "name": "stdout",
     "output_type": "stream",
     "text": [
      "PyAEDT INFO: File C:/Users/ansys/AppData/Local/Temp/tmpjy_zul0m_ansys/pyaedt_prj_X4V/bowtie_example.aedt correctly loaded. Elapsed time: 0m 0sec\n"
     ]
    },
    {
     "name": "stdout",
     "output_type": "stream",
     "text": [
      "PyAEDT INFO: aedt file load time 0.015644073486328125\n"
     ]
    },
    {
     "name": "stdout",
     "output_type": "stream",
     "text": [
      "PyAEDT INFO: PostProcessor class has been initialized! Elapsed time: 0m 0sec\n"
     ]
    },
    {
     "name": "stdout",
     "output_type": "stream",
     "text": [
      "PyAEDT INFO: PostProcessor class has been initialized! Elapsed time: 0m 0sec\n"
     ]
    },
    {
     "name": "stdout",
     "output_type": "stream",
     "text": [
      "PyAEDT INFO: Post class has been initialized! Elapsed time: 0m 0sec\n"
     ]
    },
    {
     "name": "stdout",
     "output_type": "stream",
     "text": [
      "PyAEDT ERROR: **************************************************************\n"
     ]
    },
    {
     "name": "stdout",
     "output_type": "stream",
     "text": [
      "PyAEDT ERROR:   File \"<frozen runpy>\", line 198, in _run_module_as_main\n"
     ]
    },
    {
     "name": "stdout",
     "output_type": "stream",
     "text": [
      "PyAEDT ERROR:   File \"<frozen runpy>\", line 88, in _run_code\n"
     ]
    },
    {
     "name": "stdout",
     "output_type": "stream",
     "text": [
      "PyAEDT ERROR:   File \"C:\\actions-runner\\_work\\pyaedt-toolkits-antenna\\pyaedt-toolkits-antenna\\.venv\\Lib\\site-packages\\ipykernel_launcher.py\", line 18, in <module>\n"
     ]
    },
    {
     "name": "stdout",
     "output_type": "stream",
     "text": [
      "PyAEDT ERROR:     app.launch_new_instance()\n"
     ]
    },
    {
     "name": "stdout",
     "output_type": "stream",
     "text": [
      "PyAEDT ERROR:   File \"C:\\actions-runner\\_work\\pyaedt-toolkits-antenna\\pyaedt-toolkits-antenna\\.venv\\Lib\\site-packages\\traitlets\\config\\application.py\", line 1075, in launch_instance\n"
     ]
    },
    {
     "name": "stdout",
     "output_type": "stream",
     "text": [
      "PyAEDT ERROR:     app.start()\n"
     ]
    },
    {
     "name": "stdout",
     "output_type": "stream",
     "text": [
      "PyAEDT ERROR:   File \"C:\\actions-runner\\_work\\pyaedt-toolkits-antenna\\pyaedt-toolkits-antenna\\.venv\\Lib\\site-packages\\ipykernel\\kernelapp.py\", line 739, in start\n"
     ]
    },
    {
     "name": "stdout",
     "output_type": "stream",
     "text": [
      "PyAEDT ERROR:     self.io_loop.start()\n"
     ]
    },
    {
     "name": "stdout",
     "output_type": "stream",
     "text": [
      "PyAEDT ERROR:   File \"C:\\actions-runner\\_work\\pyaedt-toolkits-antenna\\pyaedt-toolkits-antenna\\.venv\\Lib\\site-packages\\tornado\\platform\\asyncio.py\", line 211, in start\n"
     ]
    },
    {
     "name": "stdout",
     "output_type": "stream",
     "text": [
      "PyAEDT ERROR:     self.asyncio_loop.run_forever()\n"
     ]
    },
    {
     "name": "stdout",
     "output_type": "stream",
     "text": [
      "PyAEDT ERROR:   File \"C:\\actions-runner\\_work\\_tool\\Python\\3.12.10\\x64\\Lib\\asyncio\\base_events.py\", line 645, in run_forever\n"
     ]
    },
    {
     "name": "stdout",
     "output_type": "stream",
     "text": [
      "PyAEDT ERROR:     self._run_once()\n"
     ]
    },
    {
     "name": "stdout",
     "output_type": "stream",
     "text": [
      "PyAEDT ERROR:   File \"C:\\actions-runner\\_work\\_tool\\Python\\3.12.10\\x64\\Lib\\asyncio\\base_events.py\", line 1999, in _run_once\n"
     ]
    },
    {
     "name": "stdout",
     "output_type": "stream",
     "text": [
      "PyAEDT ERROR:     handle._run()\n"
     ]
    },
    {
     "name": "stdout",
     "output_type": "stream",
     "text": [
      "PyAEDT ERROR:   File \"C:\\actions-runner\\_work\\_tool\\Python\\3.12.10\\x64\\Lib\\asyncio\\events.py\", line 88, in _run\n"
     ]
    },
    {
     "name": "stdout",
     "output_type": "stream",
     "text": [
      "PyAEDT ERROR:     self._context.run(self._callback, *self._args)\n"
     ]
    },
    {
     "name": "stdout",
     "output_type": "stream",
     "text": [
      "PyAEDT ERROR:   File \"C:\\actions-runner\\_work\\pyaedt-toolkits-antenna\\pyaedt-toolkits-antenna\\.venv\\Lib\\site-packages\\ipykernel\\kernelbase.py\", line 545, in dispatch_queue\n"
     ]
    },
    {
     "name": "stdout",
     "output_type": "stream",
     "text": [
      "PyAEDT ERROR:     await self.process_one()\n"
     ]
    },
    {
     "name": "stdout",
     "output_type": "stream",
     "text": [
      "PyAEDT ERROR:   File \"C:\\actions-runner\\_work\\pyaedt-toolkits-antenna\\pyaedt-toolkits-antenna\\.venv\\Lib\\site-packages\\ipykernel\\kernelbase.py\", line 534, in process_one\n"
     ]
    },
    {
     "name": "stdout",
     "output_type": "stream",
     "text": [
      "PyAEDT ERROR:     await dispatch(*args)\n"
     ]
    },
    {
     "name": "stdout",
     "output_type": "stream",
     "text": [
      "PyAEDT ERROR:   File \"C:\\actions-runner\\_work\\pyaedt-toolkits-antenna\\pyaedt-toolkits-antenna\\.venv\\Lib\\site-packages\\ipykernel\\kernelbase.py\", line 437, in dispatch_shell\n"
     ]
    },
    {
     "name": "stdout",
     "output_type": "stream",
     "text": [
      "PyAEDT ERROR:     await result\n"
     ]
    },
    {
     "name": "stdout",
     "output_type": "stream",
     "text": [
      "PyAEDT ERROR:   File \"C:\\actions-runner\\_work\\pyaedt-toolkits-antenna\\pyaedt-toolkits-antenna\\.venv\\Lib\\site-packages\\ipykernel\\ipkernel.py\", line 362, in execute_request\n"
     ]
    },
    {
     "name": "stdout",
     "output_type": "stream",
     "text": [
      "PyAEDT ERROR:     await super().execute_request(stream, ident, parent)\n"
     ]
    },
    {
     "name": "stdout",
     "output_type": "stream",
     "text": [
      "PyAEDT ERROR:   File \"C:\\actions-runner\\_work\\pyaedt-toolkits-antenna\\pyaedt-toolkits-antenna\\.venv\\Lib\\site-packages\\ipykernel\\kernelbase.py\", line 778, in execute_request\n"
     ]
    },
    {
     "name": "stdout",
     "output_type": "stream",
     "text": [
      "PyAEDT ERROR:     reply_content = await reply_content\n"
     ]
    },
    {
     "name": "stdout",
     "output_type": "stream",
     "text": [
      "PyAEDT ERROR:   File \"C:\\actions-runner\\_work\\pyaedt-toolkits-antenna\\pyaedt-toolkits-antenna\\.venv\\Lib\\site-packages\\ipykernel\\ipkernel.py\", line 449, in do_execute\n"
     ]
    },
    {
     "name": "stdout",
     "output_type": "stream",
     "text": [
      "PyAEDT ERROR:     res = shell.run_cell(\n"
     ]
    },
    {
     "name": "stdout",
     "output_type": "stream",
     "text": [
      "PyAEDT ERROR:   File \"C:\\actions-runner\\_work\\pyaedt-toolkits-antenna\\pyaedt-toolkits-antenna\\.venv\\Lib\\site-packages\\ipykernel\\zmqshell.py\", line 549, in run_cell\n"
     ]
    },
    {
     "name": "stdout",
     "output_type": "stream",
     "text": [
      "PyAEDT ERROR:     return super().run_cell(*args, **kwargs)\n"
     ]
    },
    {
     "name": "stdout",
     "output_type": "stream",
     "text": [
      "PyAEDT ERROR:   File \"C:\\Users\\ansys\\AppData\\Local\\Temp\\ipykernel_1640\\123557834.py\", line 1, in <module>\n"
     ]
    },
    {
     "name": "stdout",
     "output_type": "stream",
     "text": [
      "PyAEDT ERROR:     app.plot()\n"
     ]
    },
    {
     "name": "stdout",
     "output_type": "stream",
     "text": [
      "PyAEDT ERROR:   File \"C:\\actions-runner\\_work\\pyaedt-toolkits-antenna\\pyaedt-toolkits-antenna\\.venv\\Lib\\site-packages\\ansys\\aedt\\core\\internal\\checks.py\", line 104, in wrapper\n"
     ]
    },
    {
     "name": "stdout",
     "output_type": "stream",
     "text": [
      "PyAEDT ERROR:     return method(self, *args, **kwargs)\n"
     ]
    },
    {
     "name": "stdout",
     "output_type": "stream",
     "text": [
      "PyAEDT ERROR:   File \"C:\\actions-runner\\_work\\pyaedt-toolkits-antenna\\pyaedt-toolkits-antenna\\.venv\\Lib\\site-packages\\ansys\\aedt\\core\\application\\analysis_3d.py\", line 286, in plot\n"
     ]
    },
    {
     "name": "stdout",
     "output_type": "stream",
     "text": [
      "PyAEDT ERROR:     return self.post.plot_model_obj(\n"
     ]
    },
    {
     "name": "stdout",
     "output_type": "stream",
     "text": [
      "PyAEDT ERROR:   File \"C:\\actions-runner\\_work\\pyaedt-toolkits-antenna\\pyaedt-toolkits-antenna\\.venv\\Lib\\site-packages\\ansys\\aedt\\core\\visualization\\post\\post_common_3d.py\", line 2005, in plot_model_obj\n"
     ]
    },
    {
     "name": "stdout",
     "output_type": "stream",
     "text": [
      "PyAEDT ERROR:     model.plot()\n"
     ]
    },
    {
     "name": "stdout",
     "output_type": "stream",
     "text": [
      "PyAEDT ERROR:   File \"C:\\actions-runner\\_work\\pyaedt-toolkits-antenna\\pyaedt-toolkits-antenna\\.venv\\Lib\\site-packages\\ansys\\aedt\\core\\visualization\\plot\\pyvista.py\", line 1365, in plot\n"
     ]
    },
    {
     "name": "stderr",
     "output_type": "stream",
     "text": [
      "C:\\actions-runner\\_work\\pyaedt-toolkits-antenna\\pyaedt-toolkits-antenna\\.venv\\Lib\\site-packages\\ansys\\aedt\\core\\visualization\\plot\\pyvista.py:50: UserWarning: Graphics dependencies are required. Please install the ``graphics`` target to use this method. You can install it by running `pip install pyaedt[graphics]` or `pip install pyaedt[all]`.\n",
      "  warnings.warn(ERROR_GRAPHICS_REQUIRED)\n"
     ]
    },
    {
     "name": "stdout",
     "output_type": "stream",
     "text": [
      "PyAEDT ERROR:     self.populate_pyvista_object()\n"
     ]
    },
    {
     "name": "stdout",
     "output_type": "stream",
     "text": [
      "PyAEDT ERROR:   File \"C:\\actions-runner\\_work\\pyaedt-toolkits-antenna\\pyaedt-toolkits-antenna\\.venv\\Lib\\site-packages\\ansys\\aedt\\core\\visualization\\plot\\pyvista.py\", line 1243, in populate_pyvista_object\n"
     ]
    },
    {
     "name": "stdout",
     "output_type": "stream",
     "text": [
      "PyAEDT ERROR:     self.pv = pv.Plotter(notebook=self.is_notebook, off_screen=self.off_screen, window_size=self.windows_size)\n"
     ]
    },
    {
     "name": "stdout",
     "output_type": "stream",
     "text": [
      "PyAEDT ERROR:               ^^\n"
     ]
    },
    {
     "name": "stdout",
     "output_type": "stream",
     "text": [
      "PyAEDT ERROR: Name 'pv' is not defined on populate_pyvista_object\n"
     ]
    },
    {
     "name": "stdout",
     "output_type": "stream",
     "text": [
      "PyAEDT ERROR: Last Electronics Desktop Message - [error]  script macro error: command is read only. (01:03:34 pm  jul 19, 2025)\n"
     ]
    },
    {
     "name": "stdout",
     "output_type": "stream",
     "text": [
      "PyAEDT ERROR: **************************************************************\n"
     ]
    },
    {
     "name": "stdout",
     "output_type": "stream",
     "text": [
      "PyAEDT ERROR: **************************************************************\n"
     ]
    },
    {
     "name": "stdout",
     "output_type": "stream",
     "text": [
      "PyAEDT ERROR:   File \"<frozen runpy>\", line 198, in _run_module_as_main\n"
     ]
    },
    {
     "name": "stdout",
     "output_type": "stream",
     "text": [
      "PyAEDT ERROR:   File \"<frozen runpy>\", line 88, in _run_code\n"
     ]
    },
    {
     "name": "stdout",
     "output_type": "stream",
     "text": [
      "PyAEDT ERROR:   File \"C:\\actions-runner\\_work\\pyaedt-toolkits-antenna\\pyaedt-toolkits-antenna\\.venv\\Lib\\site-packages\\ipykernel_launcher.py\", line 18, in <module>\n"
     ]
    },
    {
     "name": "stdout",
     "output_type": "stream",
     "text": [
      "PyAEDT ERROR:     app.launch_new_instance()\n"
     ]
    },
    {
     "name": "stdout",
     "output_type": "stream",
     "text": [
      "PyAEDT ERROR:   File \"C:\\actions-runner\\_work\\pyaedt-toolkits-antenna\\pyaedt-toolkits-antenna\\.venv\\Lib\\site-packages\\traitlets\\config\\application.py\", line 1075, in launch_instance\n"
     ]
    },
    {
     "name": "stdout",
     "output_type": "stream",
     "text": [
      "PyAEDT ERROR:     app.start()\n"
     ]
    },
    {
     "name": "stdout",
     "output_type": "stream",
     "text": [
      "PyAEDT ERROR:   File \"C:\\actions-runner\\_work\\pyaedt-toolkits-antenna\\pyaedt-toolkits-antenna\\.venv\\Lib\\site-packages\\ipykernel\\kernelapp.py\", line 739, in start\n"
     ]
    },
    {
     "name": "stdout",
     "output_type": "stream",
     "text": [
      "PyAEDT ERROR:     self.io_loop.start()\n"
     ]
    },
    {
     "name": "stdout",
     "output_type": "stream",
     "text": [
      "PyAEDT ERROR:   File \"C:\\actions-runner\\_work\\pyaedt-toolkits-antenna\\pyaedt-toolkits-antenna\\.venv\\Lib\\site-packages\\tornado\\platform\\asyncio.py\", line 211, in start\n"
     ]
    },
    {
     "name": "stdout",
     "output_type": "stream",
     "text": [
      "PyAEDT ERROR:     self.asyncio_loop.run_forever()\n"
     ]
    },
    {
     "name": "stdout",
     "output_type": "stream",
     "text": [
      "PyAEDT ERROR:   File \"C:\\actions-runner\\_work\\_tool\\Python\\3.12.10\\x64\\Lib\\asyncio\\base_events.py\", line 645, in run_forever\n"
     ]
    },
    {
     "name": "stdout",
     "output_type": "stream",
     "text": [
      "PyAEDT ERROR:     self._run_once()\n"
     ]
    },
    {
     "name": "stdout",
     "output_type": "stream",
     "text": [
      "PyAEDT ERROR:   File \"C:\\actions-runner\\_work\\_tool\\Python\\3.12.10\\x64\\Lib\\asyncio\\base_events.py\", line 1999, in _run_once\n"
     ]
    },
    {
     "name": "stdout",
     "output_type": "stream",
     "text": [
      "PyAEDT ERROR:     handle._run()\n"
     ]
    },
    {
     "name": "stdout",
     "output_type": "stream",
     "text": [
      "PyAEDT ERROR:   File \"C:\\actions-runner\\_work\\_tool\\Python\\3.12.10\\x64\\Lib\\asyncio\\events.py\", line 88, in _run\n"
     ]
    },
    {
     "name": "stdout",
     "output_type": "stream",
     "text": [
      "PyAEDT ERROR:     self._context.run(self._callback, *self._args)\n"
     ]
    },
    {
     "name": "stdout",
     "output_type": "stream",
     "text": [
      "PyAEDT ERROR:   File \"C:\\actions-runner\\_work\\pyaedt-toolkits-antenna\\pyaedt-toolkits-antenna\\.venv\\Lib\\site-packages\\ipykernel\\kernelbase.py\", line 545, in dispatch_queue\n"
     ]
    },
    {
     "name": "stdout",
     "output_type": "stream",
     "text": [
      "PyAEDT ERROR:     await self.process_one()\n"
     ]
    },
    {
     "name": "stdout",
     "output_type": "stream",
     "text": [
      "PyAEDT ERROR:   File \"C:\\actions-runner\\_work\\pyaedt-toolkits-antenna\\pyaedt-toolkits-antenna\\.venv\\Lib\\site-packages\\ipykernel\\kernelbase.py\", line 534, in process_one\n"
     ]
    },
    {
     "name": "stdout",
     "output_type": "stream",
     "text": [
      "PyAEDT ERROR:     await dispatch(*args)\n"
     ]
    },
    {
     "name": "stdout",
     "output_type": "stream",
     "text": [
      "PyAEDT ERROR:   File \"C:\\actions-runner\\_work\\pyaedt-toolkits-antenna\\pyaedt-toolkits-antenna\\.venv\\Lib\\site-packages\\ipykernel\\kernelbase.py\", line 437, in dispatch_shell\n"
     ]
    },
    {
     "name": "stdout",
     "output_type": "stream",
     "text": [
      "PyAEDT ERROR:     await result\n"
     ]
    },
    {
     "name": "stdout",
     "output_type": "stream",
     "text": [
      "PyAEDT ERROR:   File \"C:\\actions-runner\\_work\\pyaedt-toolkits-antenna\\pyaedt-toolkits-antenna\\.venv\\Lib\\site-packages\\ipykernel\\ipkernel.py\", line 362, in execute_request\n"
     ]
    },
    {
     "name": "stdout",
     "output_type": "stream",
     "text": [
      "PyAEDT ERROR:     await super().execute_request(stream, ident, parent)\n"
     ]
    },
    {
     "name": "stdout",
     "output_type": "stream",
     "text": [
      "PyAEDT ERROR:   File \"C:\\actions-runner\\_work\\pyaedt-toolkits-antenna\\pyaedt-toolkits-antenna\\.venv\\Lib\\site-packages\\ipykernel\\kernelbase.py\", line 778, in execute_request\n"
     ]
    },
    {
     "name": "stdout",
     "output_type": "stream",
     "text": [
      "PyAEDT ERROR:     reply_content = await reply_content\n"
     ]
    },
    {
     "name": "stdout",
     "output_type": "stream",
     "text": [
      "PyAEDT ERROR:   File \"C:\\actions-runner\\_work\\pyaedt-toolkits-antenna\\pyaedt-toolkits-antenna\\.venv\\Lib\\site-packages\\ipykernel\\ipkernel.py\", line 449, in do_execute\n"
     ]
    },
    {
     "name": "stdout",
     "output_type": "stream",
     "text": [
      "PyAEDT ERROR:     res = shell.run_cell(\n"
     ]
    },
    {
     "name": "stdout",
     "output_type": "stream",
     "text": [
      "PyAEDT ERROR:   File \"C:\\actions-runner\\_work\\pyaedt-toolkits-antenna\\pyaedt-toolkits-antenna\\.venv\\Lib\\site-packages\\ipykernel\\zmqshell.py\", line 549, in run_cell\n"
     ]
    },
    {
     "name": "stdout",
     "output_type": "stream",
     "text": [
      "PyAEDT ERROR:     return super().run_cell(*args, **kwargs)\n"
     ]
    },
    {
     "name": "stdout",
     "output_type": "stream",
     "text": [
      "PyAEDT ERROR:   File \"C:\\Users\\ansys\\AppData\\Local\\Temp\\ipykernel_1640\\123557834.py\", line 1, in <module>\n"
     ]
    },
    {
     "name": "stdout",
     "output_type": "stream",
     "text": [
      "PyAEDT ERROR:     app.plot()\n"
     ]
    },
    {
     "name": "stdout",
     "output_type": "stream",
     "text": [
      "PyAEDT ERROR:   File \"C:\\actions-runner\\_work\\pyaedt-toolkits-antenna\\pyaedt-toolkits-antenna\\.venv\\Lib\\site-packages\\ansys\\aedt\\core\\internal\\checks.py\", line 104, in wrapper\n"
     ]
    },
    {
     "name": "stdout",
     "output_type": "stream",
     "text": [
      "PyAEDT ERROR:     return method(self, *args, **kwargs)\n"
     ]
    },
    {
     "name": "stdout",
     "output_type": "stream",
     "text": [
      "PyAEDT ERROR:   File \"C:\\actions-runner\\_work\\pyaedt-toolkits-antenna\\pyaedt-toolkits-antenna\\.venv\\Lib\\site-packages\\ansys\\aedt\\core\\application\\analysis_3d.py\", line 286, in plot\n"
     ]
    },
    {
     "name": "stdout",
     "output_type": "stream",
     "text": [
      "PyAEDT ERROR:     return self.post.plot_model_obj(\n"
     ]
    },
    {
     "name": "stdout",
     "output_type": "stream",
     "text": [
      "PyAEDT ERROR:   File \"C:\\actions-runner\\_work\\pyaedt-toolkits-antenna\\pyaedt-toolkits-antenna\\.venv\\Lib\\site-packages\\ansys\\aedt\\core\\visualization\\post\\post_common_3d.py\", line 2005, in plot_model_obj\n"
     ]
    },
    {
     "name": "stdout",
     "output_type": "stream",
     "text": [
      "PyAEDT ERROR:     model.plot()\n"
     ]
    },
    {
     "name": "stdout",
     "output_type": "stream",
     "text": [
      "PyAEDT ERROR:   File \"C:\\actions-runner\\_work\\pyaedt-toolkits-antenna\\pyaedt-toolkits-antenna\\.venv\\Lib\\site-packages\\ansys\\aedt\\core\\visualization\\plot\\pyvista.py\", line 1380, in plot\n"
     ]
    },
    {
     "name": "stdout",
     "output_type": "stream",
     "text": [
      "PyAEDT ERROR:     self.pv.add_key_event(\"s\", s_callback)\n"
     ]
    },
    {
     "name": "stdout",
     "output_type": "stream",
     "text": [
      "PyAEDT ERROR:     ^^^^^^^^^^^^^^^^^^^^^\n"
     ]
    },
    {
     "name": "stdout",
     "output_type": "stream",
     "text": [
      "PyAEDT ERROR: 'nonetype' object has no attribute 'add_key_event' on plot\n"
     ]
    },
    {
     "name": "stdout",
     "output_type": "stream",
     "text": [
      "PyAEDT ERROR: Last Electronics Desktop Message - [error]  script macro error: command is read only. (01:03:34 pm  jul 19, 2025)\n"
     ]
    },
    {
     "name": "stdout",
     "output_type": "stream",
     "text": [
      "PyAEDT ERROR: **************************************************************\n"
     ]
    },
    {
     "data": {
      "text/plain": [
       "<ansys.aedt.core.visualization.plot.pyvista.ModelPlotter at 0x224eef557d0>"
      ]
     },
     "execution_count": 15,
     "metadata": {},
     "output_type": "execute_result"
    }
   ],
   "source": [
    "app.plot()"
   ]
  },
  {
   "cell_type": "markdown",
   "id": "46d027c8",
   "metadata": {},
   "source": [
    "## Release AEDT\n",
    "\n",
    "Release AEDT."
   ]
  },
  {
   "cell_type": "code",
   "execution_count": 16,
   "id": "c435128a",
   "metadata": {
    "execution": {
     "iopub.execute_input": "2025-07-19T13:03:35.907468Z",
     "iopub.status.busy": "2025-07-19T13:03:35.907468Z",
     "iopub.status.idle": "2025-07-19T13:03:41.154194Z",
     "shell.execute_reply": "2025-07-19T13:03:41.154194Z"
    }
   },
   "outputs": [
    {
     "name": "stdout",
     "output_type": "stream",
     "text": [
      "PyAEDT INFO: Desktop has been released and closed.\n"
     ]
    },
    {
     "data": {
      "text/plain": [
       "True"
      ]
     },
     "execution_count": 16,
     "metadata": {},
     "output_type": "execute_result"
    }
   ],
   "source": [
    "app.release_desktop(True, True)"
   ]
  },
  {
   "cell_type": "markdown",
   "id": "6cae4642",
   "metadata": {},
   "source": [
    "## Clean temporary directory"
   ]
  },
  {
   "cell_type": "code",
   "execution_count": 17,
   "id": "dce3e54c",
   "metadata": {
    "execution": {
     "iopub.execute_input": "2025-07-19T13:03:41.154194Z",
     "iopub.status.busy": "2025-07-19T13:03:41.154194Z",
     "iopub.status.idle": "2025-07-19T13:03:41.167785Z",
     "shell.execute_reply": "2025-07-19T13:03:41.167785Z"
    }
   },
   "outputs": [],
   "source": [
    "temp_dir.cleanup()"
   ]
  }
 ],
 "metadata": {
  "jupytext": {
   "cell_metadata_filter": "-all",
   "main_language": "python",
   "notebook_metadata_filter": "-all",
   "text_representation": {
    "extension": ".py",
    "format_name": "light"
   }
  },
  "language_info": {
   "codemirror_mode": {
    "name": "ipython",
    "version": 3
   },
   "file_extension": ".py",
   "mimetype": "text/x-python",
   "name": "python",
   "nbconvert_exporter": "python",
   "pygments_lexer": "ipython3",
   "version": "3.12.10"
  }
 },
 "nbformat": 4,
 "nbformat_minor": 5
}
