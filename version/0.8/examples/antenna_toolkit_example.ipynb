{
 "cells": [
  {
   "cell_type": "markdown",
   "id": "fe49ab0d",
   "metadata": {
    "lines_to_next_cell": 2
   },
   "source": [
    "# Antenna toolkit example\n",
    "\n",
    "This example demonstrates how to use the ``ToolkitBackend`` class.\n",
    "It initiates AEDT through PyAEDT, sets up an empty HFSS design, and proceeds to create the antenna."
   ]
  },
  {
   "cell_type": "markdown",
   "id": "a43fe197",
   "metadata": {},
   "source": [
    "## Perform required imports"
   ]
  },
  {
   "cell_type": "code",
   "execution_count": 1,
   "id": "023872e0",
   "metadata": {
    "execution": {
     "iopub.execute_input": "2025-05-22T07:48:31.291057Z",
     "iopub.status.busy": "2025-05-22T07:48:31.291057Z",
     "iopub.status.idle": "2025-05-22T07:48:31.305525Z",
     "shell.execute_reply": "2025-05-22T07:48:31.305525Z"
    }
   },
   "outputs": [],
   "source": [
    "import sys\n",
    "import tempfile"
   ]
  },
  {
   "cell_type": "code",
   "execution_count": 2,
   "id": "8cc19a8b",
   "metadata": {
    "execution": {
     "iopub.execute_input": "2025-05-22T07:48:31.305525Z",
     "iopub.status.busy": "2025-05-22T07:48:31.305525Z",
     "iopub.status.idle": "2025-05-22T07:48:35.579169Z",
     "shell.execute_reply": "2025-05-22T07:48:35.579169Z"
    }
   },
   "outputs": [
    {
     "name": "stderr",
     "output_type": "stream",
     "text": [
      "C:\\actions-runner\\_work\\pyaedt-toolkits-antenna\\pyaedt-toolkits-antenna\\.venv\\Lib\\site-packages\\ansys\\aedt\\core\\visualization\\plot\\matplotlib.py:54: UserWarning: Graphics dependencies are required. Please install the ``graphics`` target to use this method. You can install it by running `pip install pyaedt[graphics]` or `pip install pyaedt[all]`.\n",
      "  warnings.warn(ERROR_GRAPHICS_REQUIRED)\n",
      "C:\\actions-runner\\_work\\pyaedt-toolkits-antenna\\pyaedt-toolkits-antenna\\.venv\\Lib\\site-packages\\ansys\\aedt\\core\\visualization\\plot\\pyvista.py:56: UserWarning: Graphics dependencies are required. Please install the ``graphics`` target to use this method. You can install it by running `pip install pyaedt[graphics]` or `pip install pyaedt[all]`.\n",
      "  warnings.warn(ERROR_GRAPHICS_REQUIRED)\n"
     ]
    }
   ],
   "source": [
    "from ansys.aedt.core import generate_unique_project_name\n",
    "from ansys.aedt.core.visualization.advanced.farfield_visualization import FfdSolutionData"
   ]
  },
  {
   "cell_type": "code",
   "execution_count": 3,
   "id": "106e1ee4",
   "metadata": {
    "execution": {
     "iopub.execute_input": "2025-05-22T07:48:35.579169Z",
     "iopub.status.busy": "2025-05-22T07:48:35.579169Z",
     "iopub.status.idle": "2025-05-22T07:48:36.397607Z",
     "shell.execute_reply": "2025-05-22T07:48:36.397607Z"
    }
   },
   "outputs": [],
   "source": [
    "from ansys.aedt.toolkits.antenna.backend.api import ToolkitBackend\n",
    "from ansys.aedt.toolkits.antenna.backend.models import properties"
   ]
  },
  {
   "cell_type": "markdown",
   "id": "dffec340",
   "metadata": {},
   "source": [
    "##  Set AEDT version\n",
    "\n",
    "Set AEDT version."
   ]
  },
  {
   "cell_type": "code",
   "execution_count": 4,
   "id": "b51406f8",
   "metadata": {
    "execution": {
     "iopub.execute_input": "2025-05-22T07:48:36.397607Z",
     "iopub.status.busy": "2025-05-22T07:48:36.397607Z",
     "iopub.status.idle": "2025-05-22T07:48:36.405946Z",
     "shell.execute_reply": "2025-05-22T07:48:36.405946Z"
    }
   },
   "outputs": [],
   "source": [
    "aedt_version = \"2025.1\""
   ]
  },
  {
   "cell_type": "markdown",
   "id": "95d8ff6c",
   "metadata": {},
   "source": [
    "## Set non-graphical mode\n",
    "\n",
    "Set non-graphical mode."
   ]
  },
  {
   "cell_type": "code",
   "execution_count": 5,
   "id": "31aaa452",
   "metadata": {
    "execution": {
     "iopub.execute_input": "2025-05-22T07:48:36.405946Z",
     "iopub.status.busy": "2025-05-22T07:48:36.405946Z",
     "iopub.status.idle": "2025-05-22T07:48:36.412932Z",
     "shell.execute_reply": "2025-05-22T07:48:36.412932Z"
    }
   },
   "outputs": [],
   "source": [
    "non_graphical = True"
   ]
  },
  {
   "cell_type": "markdown",
   "id": "6e934569",
   "metadata": {},
   "source": [
    "## Create temporary directory"
   ]
  },
  {
   "cell_type": "code",
   "execution_count": 6,
   "id": "c5bfe5d1",
   "metadata": {
    "execution": {
     "iopub.execute_input": "2025-05-22T07:48:36.412932Z",
     "iopub.status.busy": "2025-05-22T07:48:36.412932Z",
     "iopub.status.idle": "2025-05-22T07:48:36.423422Z",
     "shell.execute_reply": "2025-05-22T07:48:36.423422Z"
    }
   },
   "outputs": [],
   "source": [
    "temp_dir = tempfile.TemporaryDirectory(suffix=\"_ansys\")\n",
    "project_name = generate_unique_project_name(root_name=temp_dir.name, project_name=\"antenna_toolkit\")"
   ]
  },
  {
   "cell_type": "markdown",
   "id": "b311bbef",
   "metadata": {},
   "source": [
    "## Set default properties"
   ]
  },
  {
   "cell_type": "code",
   "execution_count": 7,
   "id": "dbdf5caf",
   "metadata": {
    "execution": {
     "iopub.execute_input": "2025-05-22T07:48:36.423422Z",
     "iopub.status.busy": "2025-05-22T07:48:36.423422Z",
     "iopub.status.idle": "2025-05-22T07:48:36.431138Z",
     "shell.execute_reply": "2025-05-22T07:48:36.431138Z"
    }
   },
   "outputs": [],
   "source": [
    "properties.aedt_version = aedt_version\n",
    "properties.non_graphical = non_graphical\n",
    "properties.active_project = project_name"
   ]
  },
  {
   "cell_type": "markdown",
   "id": "37cadede",
   "metadata": {},
   "source": [
    "## Initialize toolkit\n",
    "\n",
    "Initialize the toolkit."
   ]
  },
  {
   "cell_type": "code",
   "execution_count": 8,
   "id": "289f0dae",
   "metadata": {
    "execution": {
     "iopub.execute_input": "2025-05-22T07:48:36.431138Z",
     "iopub.status.busy": "2025-05-22T07:48:36.431138Z",
     "iopub.status.idle": "2025-05-22T07:48:36.438699Z",
     "shell.execute_reply": "2025-05-22T07:48:36.438699Z"
    }
   },
   "outputs": [],
   "source": [
    "toolkit_api = ToolkitBackend()"
   ]
  },
  {
   "cell_type": "markdown",
   "id": "2a7e7a38",
   "metadata": {},
   "source": [
    "## Get available_antennas"
   ]
  },
  {
   "cell_type": "code",
   "execution_count": 9,
   "id": "97323b36",
   "metadata": {
    "execution": {
     "iopub.execute_input": "2025-05-22T07:48:36.438699Z",
     "iopub.status.busy": "2025-05-22T07:48:36.438699Z",
     "iopub.status.idle": "2025-05-22T07:48:36.446139Z",
     "shell.execute_reply": "2025-05-22T07:48:36.446139Z"
    }
   },
   "outputs": [
    {
     "name": "stdout",
     "output_type": "stream",
     "text": [
      "['BowTieNormal', 'BowTieRounded', 'BowTieSlot', 'Archimedean', 'Log', 'Sinuous', 'AxialMode', 'Conical', 'Corrugated', 'EPlane', 'Elliptical', 'HPlane', 'Pyramidal', 'PyramidalRidged', 'QuadRidged', 'RectangularPatchEdge', 'RectangularPatchInset', 'RectangularPatchProbe']\n"
     ]
    }
   ],
   "source": [
    "print(toolkit_api.available_antennas)"
   ]
  },
  {
   "cell_type": "markdown",
   "id": "66acdf50",
   "metadata": {},
   "source": [
    "## Get default properties"
   ]
  },
  {
   "cell_type": "code",
   "execution_count": 10,
   "id": "58f2a792",
   "metadata": {
    "execution": {
     "iopub.execute_input": "2025-05-22T07:48:36.446139Z",
     "iopub.status.busy": "2025-05-22T07:48:36.446139Z",
     "iopub.status.idle": "2025-05-22T07:48:36.453872Z",
     "shell.execute_reply": "2025-05-22T07:48:36.453872Z"
    }
   },
   "outputs": [],
   "source": [
    "backend_properties = toolkit_api.get_properties()\n",
    "frequency = backend_properties[\"antenna\"][\"synthesis\"][\"frequency\"]\n",
    "frequency_units = backend_properties[\"antenna\"][\"synthesis\"][\"frequency_unit\"]\n",
    "length_unit = backend_properties[\"antenna\"][\"synthesis\"][\"length_unit\"]"
   ]
  },
  {
   "cell_type": "markdown",
   "id": "01c90b8a",
   "metadata": {},
   "source": [
    "## Modify default length units"
   ]
  },
  {
   "cell_type": "code",
   "execution_count": 11,
   "id": "5cd2031a",
   "metadata": {
    "execution": {
     "iopub.execute_input": "2025-05-22T07:48:36.453872Z",
     "iopub.status.busy": "2025-05-22T07:48:36.453872Z",
     "iopub.status.idle": "2025-05-22T07:48:36.461463Z",
     "shell.execute_reply": "2025-05-22T07:48:36.461463Z"
    }
   },
   "outputs": [],
   "source": [
    "properties.antenna.synthesis.length_unit = \"cm\""
   ]
  },
  {
   "cell_type": "markdown",
   "id": "e4d010b9",
   "metadata": {},
   "source": [
    "## Create antenna object only for synthesis\n",
    "\n",
    "Create antenna object."
   ]
  },
  {
   "cell_type": "code",
   "execution_count": 12,
   "id": "e2a8bd50",
   "metadata": {
    "execution": {
     "iopub.execute_input": "2025-05-22T07:48:36.461463Z",
     "iopub.status.busy": "2025-05-22T07:48:36.461463Z",
     "iopub.status.idle": "2025-05-22T07:48:36.629866Z",
     "shell.execute_reply": "2025-05-22T07:48:36.629866Z"
    }
   },
   "outputs": [
    {
     "name": "stderr",
     "output_type": "stream",
     "text": [
      "INFO - AEDT is released.\n"
     ]
    }
   ],
   "source": [
    "antenna_parameters_1 = toolkit_api.get_antenna(\"RectangularPatchProbe\", synth_only=True)"
   ]
  },
  {
   "cell_type": "code",
   "execution_count": 13,
   "id": "af8564cf",
   "metadata": {
    "execution": {
     "iopub.execute_input": "2025-05-22T07:48:36.629866Z",
     "iopub.status.busy": "2025-05-22T07:48:36.629866Z",
     "iopub.status.idle": "2025-05-22T07:48:36.638062Z",
     "shell.execute_reply": "2025-05-22T07:48:36.638062Z"
    }
   },
   "outputs": [
    {
     "name": "stdout",
     "output_type": "stream",
     "text": [
      "Patch X length: 0.912871meter at 10.0GHz\n"
     ]
    }
   ],
   "source": [
    "print(\n",
    "    \"Patch X length: {}{} at {}{}\".format(\n",
    "        str(antenna_parameters_1[\"patch_x\"]),\n",
    "        length_unit,\n",
    "        frequency,\n",
    "        frequency_units,\n",
    "    )\n",
    ")"
   ]
  },
  {
   "cell_type": "markdown",
   "id": "af7e9dc9",
   "metadata": {},
   "source": [
    "## Change synthesis frequency\n",
    "\n",
    "Modify resonance frequency and modify parameters with the ``set_properties()`` method."
   ]
  },
  {
   "cell_type": "code",
   "execution_count": 14,
   "id": "9db3dc66",
   "metadata": {
    "execution": {
     "iopub.execute_input": "2025-05-22T07:48:36.638062Z",
     "iopub.status.busy": "2025-05-22T07:48:36.638062Z",
     "iopub.status.idle": "2025-05-22T07:48:36.652214Z",
     "shell.execute_reply": "2025-05-22T07:48:36.652214Z"
    }
   },
   "outputs": [
    {
     "name": "stderr",
     "output_type": "stream",
     "text": [
      "INFO - Updating internal properties.\n"
     ]
    },
    {
     "name": "stderr",
     "output_type": "stream",
     "text": [
      "DEBUG - Updating 'frequency' with value 12.0\n"
     ]
    },
    {
     "name": "stderr",
     "output_type": "stream",
     "text": [
      "DEBUG - Properties were updated successfully.\n"
     ]
    },
    {
     "data": {
      "text/plain": [
       "(True, 'Properties were updated successfully.')"
      ]
     },
     "execution_count": 14,
     "metadata": {},
     "output_type": "execute_result"
    }
   ],
   "source": [
    "new_frequency1 = 12.0\n",
    "new_properties = {\"frequency\": new_frequency1}\n",
    "toolkit_api.set_properties(new_properties)"
   ]
  },
  {
   "cell_type": "code",
   "execution_count": 15,
   "id": "9f99354b",
   "metadata": {
    "execution": {
     "iopub.execute_input": "2025-05-22T07:48:36.652214Z",
     "iopub.status.busy": "2025-05-22T07:48:36.652214Z",
     "iopub.status.idle": "2025-05-22T07:48:36.818376Z",
     "shell.execute_reply": "2025-05-22T07:48:36.818376Z"
    }
   },
   "outputs": [
    {
     "name": "stderr",
     "output_type": "stream",
     "text": [
      "INFO - AEDT is released.\n"
     ]
    }
   ],
   "source": [
    "antenna_parameters_2 = toolkit_api.get_antenna(\"RectangularPatchProbe\", synth_only=True)"
   ]
  },
  {
   "cell_type": "code",
   "execution_count": 16,
   "id": "14c5c668",
   "metadata": {
    "execution": {
     "iopub.execute_input": "2025-05-22T07:48:36.818376Z",
     "iopub.status.busy": "2025-05-22T07:48:36.818376Z",
     "iopub.status.idle": "2025-05-22T07:48:36.826856Z",
     "shell.execute_reply": "2025-05-22T07:48:36.826856Z"
    }
   },
   "outputs": [
    {
     "name": "stdout",
     "output_type": "stream",
     "text": [
      "Patch X length: 0.760726meter at 12.0GHz\n"
     ]
    }
   ],
   "source": [
    "print(\n",
    "    \"Patch X length: {}{} at {}{}\".format(\n",
    "        str(antenna_parameters_2[\"patch_x\"]),\n",
    "        length_unit,\n",
    "        new_frequency1,\n",
    "        frequency_units,\n",
    "    )\n",
    ")"
   ]
  },
  {
   "cell_type": "markdown",
   "id": "358f7dca",
   "metadata": {},
   "source": [
    "## Change synthesis frequency\n",
    "\n",
    "Modify resonance frequency with properties directly."
   ]
  },
  {
   "cell_type": "code",
   "execution_count": 17,
   "id": "eb38eda3",
   "metadata": {
    "execution": {
     "iopub.execute_input": "2025-05-22T07:48:36.826856Z",
     "iopub.status.busy": "2025-05-22T07:48:36.826856Z",
     "iopub.status.idle": "2025-05-22T07:48:36.833553Z",
     "shell.execute_reply": "2025-05-22T07:48:36.833553Z"
    }
   },
   "outputs": [],
   "source": [
    "new_frequency2 = 15.0\n",
    "properties.antenna.synthesis.frequency = new_frequency2"
   ]
  },
  {
   "cell_type": "code",
   "execution_count": 18,
   "id": "08289787",
   "metadata": {
    "execution": {
     "iopub.execute_input": "2025-05-22T07:48:36.833553Z",
     "iopub.status.busy": "2025-05-22T07:48:36.833553Z",
     "iopub.status.idle": "2025-05-22T07:48:37.001605Z",
     "shell.execute_reply": "2025-05-22T07:48:37.001605Z"
    }
   },
   "outputs": [
    {
     "name": "stderr",
     "output_type": "stream",
     "text": [
      "INFO - AEDT is released.\n"
     ]
    }
   ],
   "source": [
    "antenna_parameters_3 = toolkit_api.get_antenna(\"RectangularPatchProbe\", synth_only=True)"
   ]
  },
  {
   "cell_type": "code",
   "execution_count": 19,
   "id": "ef96f276",
   "metadata": {
    "execution": {
     "iopub.execute_input": "2025-05-22T07:48:37.001605Z",
     "iopub.status.busy": "2025-05-22T07:48:37.001605Z",
     "iopub.status.idle": "2025-05-22T07:48:37.010395Z",
     "shell.execute_reply": "2025-05-22T07:48:37.010395Z"
    }
   },
   "outputs": [
    {
     "name": "stdout",
     "output_type": "stream",
     "text": [
      "Patch X length: 0.608581meter at 15.0GHz\n"
     ]
    }
   ],
   "source": [
    "print(\n",
    "    \"Patch X length: {}{} at {}{}\".format(\n",
    "        str(antenna_parameters_3[\"patch_x\"]),\n",
    "        length_unit,\n",
    "        new_frequency2,\n",
    "        frequency_units,\n",
    "    )\n",
    ")"
   ]
  },
  {
   "cell_type": "markdown",
   "id": "44d83301",
   "metadata": {},
   "source": [
    "## Initialize AEDT\n",
    "\n",
    "Launch a new AEDT session in a thread."
   ]
  },
  {
   "cell_type": "code",
   "execution_count": 20,
   "id": "d0e55193",
   "metadata": {
    "execution": {
     "iopub.execute_input": "2025-05-22T07:48:37.010395Z",
     "iopub.status.busy": "2025-05-22T07:48:37.010395Z",
     "iopub.status.idle": "2025-05-22T07:48:37.027213Z",
     "shell.execute_reply": "2025-05-22T07:48:37.027213Z"
    }
   },
   "outputs": [
    {
     "name": "stderr",
     "output_type": "stream",
     "text": [
      "DEBUG - Starting thread: Toolkit_Thread\n"
     ]
    },
    {
     "name": "stderr",
     "output_type": "stream",
     "text": [
      "DEBUG - Toolkit is not connected to AEDT.\n"
     ]
    },
    {
     "name": "stderr",
     "output_type": "stream",
     "text": [
      "DEBUG - Launching AEDT.\n"
     ]
    },
    {
     "name": "stdout",
     "output_type": "stream",
     "text": [
      "PyAEDT INFO: Python version 3.12.10 (tags/v3.12.10:0cc8128, Apr  8 2025, 12:21:36) [MSC v.1943 64 bit (AMD64)].\n"
     ]
    },
    {
     "name": "stdout",
     "output_type": "stream",
     "text": [
      "PyAEDT INFO: PyAEDT version 0.16.2.\n"
     ]
    },
    {
     "name": "stdout",
     "output_type": "stream",
     "text": [
      "PyAEDT INFO: Initializing new Desktop session.\n"
     ]
    }
   ],
   "source": [
    "thread_msg = toolkit_api.launch_thread(toolkit_api.launch_aedt)"
   ]
  },
  {
   "cell_type": "markdown",
   "id": "d821938d",
   "metadata": {},
   "source": [
    "## Wait for the toolkit thread to be idle\n",
    "\n",
    "Wait for the toolkit thread to be idle and ready to accept a new task."
   ]
  },
  {
   "cell_type": "code",
   "execution_count": 21,
   "id": "adf15e93",
   "metadata": {
    "execution": {
     "iopub.execute_input": "2025-05-22T07:48:37.027213Z",
     "iopub.status.busy": "2025-05-22T07:48:37.027213Z",
     "iopub.status.idle": "2025-05-22T07:48:56.290910Z",
     "shell.execute_reply": "2025-05-22T07:48:56.290910Z"
    }
   },
   "outputs": [
    {
     "name": "stderr",
     "output_type": "stream",
     "text": [
      "DEBUG - Toolkit is busy and processing a task.\n"
     ]
    },
    {
     "name": "stderr",
     "output_type": "stream",
     "text": [
      "DEBUG - Toolkit is busy and processing a task.\n"
     ]
    },
    {
     "name": "stderr",
     "output_type": "stream",
     "text": [
      "DEBUG - Toolkit is busy and processing a task.\n"
     ]
    },
    {
     "name": "stderr",
     "output_type": "stream",
     "text": [
      "DEBUG - Toolkit is busy and processing a task.\n"
     ]
    },
    {
     "name": "stderr",
     "output_type": "stream",
     "text": [
      "DEBUG - Toolkit is busy and processing a task.\n"
     ]
    },
    {
     "name": "stderr",
     "output_type": "stream",
     "text": [
      "DEBUG - Toolkit is busy and processing a task.\n"
     ]
    },
    {
     "name": "stderr",
     "output_type": "stream",
     "text": [
      "DEBUG - Toolkit is busy and processing a task.\n"
     ]
    },
    {
     "name": "stderr",
     "output_type": "stream",
     "text": [
      "DEBUG - Toolkit is busy and processing a task.\n"
     ]
    },
    {
     "name": "stderr",
     "output_type": "stream",
     "text": [
      "DEBUG - Toolkit is busy and processing a task.\n"
     ]
    },
    {
     "name": "stderr",
     "output_type": "stream",
     "text": [
      "DEBUG - Toolkit is busy and processing a task.\n"
     ]
    },
    {
     "name": "stderr",
     "output_type": "stream",
     "text": [
      "DEBUG - Toolkit is busy and processing a task.\n"
     ]
    },
    {
     "name": "stderr",
     "output_type": "stream",
     "text": [
      "DEBUG - Toolkit is busy and processing a task.\n"
     ]
    },
    {
     "name": "stderr",
     "output_type": "stream",
     "text": [
      "DEBUG - Toolkit is busy and processing a task.\n"
     ]
    },
    {
     "name": "stderr",
     "output_type": "stream",
     "text": [
      "DEBUG - Toolkit is busy and processing a task.\n"
     ]
    },
    {
     "name": "stderr",
     "output_type": "stream",
     "text": [
      "DEBUG - Toolkit is busy and processing a task.\n"
     ]
    },
    {
     "name": "stderr",
     "output_type": "stream",
     "text": [
      "DEBUG - Toolkit is busy and processing a task.\n"
     ]
    },
    {
     "name": "stderr",
     "output_type": "stream",
     "text": [
      "DEBUG - Toolkit is busy and processing a task.\n"
     ]
    },
    {
     "name": "stderr",
     "output_type": "stream",
     "text": [
      "DEBUG - Toolkit is busy and processing a task.\n"
     ]
    },
    {
     "name": "stderr",
     "output_type": "stream",
     "text": [
      "DEBUG - Toolkit is idle and ready to accept a new task.\n"
     ]
    }
   ],
   "source": [
    "idle = toolkit_api.wait_to_be_idle()\n",
    "if not idle:\n",
    "    print(\"AEDT not initialized.\")\n",
    "    sys.exit()"
   ]
  },
  {
   "cell_type": "markdown",
   "id": "8b217a5d",
   "metadata": {},
   "source": [
    "## Connect to HFSS design\n",
    "\n",
    "Create an HFSS design."
   ]
  },
  {
   "cell_type": "code",
   "execution_count": 22,
   "id": "b69127b9",
   "metadata": {
    "execution": {
     "iopub.execute_input": "2025-05-22T07:48:56.290910Z",
     "iopub.status.busy": "2025-05-22T07:48:56.290910Z",
     "iopub.status.idle": "2025-05-22T07:49:30.484747Z",
     "shell.execute_reply": "2025-05-22T07:49:30.484747Z"
    }
   },
   "outputs": [
    {
     "name": "stderr",
     "output_type": "stream",
     "text": [
      "DEBUG - Toolkit is not connected to AEDT.\n"
     ]
    },
    {
     "name": "stderr",
     "output_type": "stream",
     "text": [
      "DEBUG - Connecting AEDT.\n"
     ]
    },
    {
     "name": "stdout",
     "output_type": "stream",
     "text": [
      "PyAEDT INFO: Python version 3.12.10 (tags/v3.12.10:0cc8128, Apr  8 2025, 12:21:36) [MSC v.1943 64 bit (AMD64)].\n"
     ]
    },
    {
     "name": "stdout",
     "output_type": "stream",
     "text": [
      "PyAEDT INFO: PyAEDT version 0.16.2.\n"
     ]
    },
    {
     "name": "stdout",
     "output_type": "stream",
     "text": [
      "PyAEDT INFO: Initializing new Desktop session.\n"
     ]
    },
    {
     "name": "stdout",
     "output_type": "stream",
     "text": [
      "PyAEDT INFO: Log on console is enabled.\n"
     ]
    },
    {
     "name": "stdout",
     "output_type": "stream",
     "text": [
      "PyAEDT INFO: Log on file C:\\Users\\ansys\\AppData\\Local\\Temp\\pyaedt_ansys_ca281d9d-94de-445a-8866-6ce9242a93c4.log is enabled.\n"
     ]
    },
    {
     "name": "stdout",
     "output_type": "stream",
     "text": [
      "PyAEDT INFO: Log on AEDT is disabled.\n"
     ]
    },
    {
     "name": "stdout",
     "output_type": "stream",
     "text": [
      "PyAEDT INFO: Debug logger is disabled. PyAEDT methods will not be logged.\n"
     ]
    },
    {
     "name": "stdout",
     "output_type": "stream",
     "text": [
      "PyAEDT INFO: Launching PyAEDT with gRPC plugin.\n"
     ]
    },
    {
     "name": "stdout",
     "output_type": "stream",
     "text": [
      "PyAEDT INFO: Connecting to AEDT session on gRPC port 52533.\n"
     ]
    },
    {
     "name": "stdout",
     "output_type": "stream",
     "text": [
      "PyAEDT INFO: AEDT installation Path C:\\Program Files\\ANSYS Inc\\v251\\AnsysEM\n"
     ]
    },
    {
     "name": "stderr",
     "output_type": "stream",
     "text": [
      "DEBUG - Toolkit is connected to AEDT.\n"
     ]
    },
    {
     "name": "stdout",
     "output_type": "stream",
     "text": [
      "PyAEDT INFO: Python version 3.12.10 (tags/v3.12.10:0cc8128, Apr  8 2025, 12:21:36) [MSC v.1943 64 bit (AMD64)].\n"
     ]
    },
    {
     "name": "stdout",
     "output_type": "stream",
     "text": [
      "PyAEDT INFO: PyAEDT version 0.16.2.\n"
     ]
    },
    {
     "name": "stdout",
     "output_type": "stream",
     "text": [
      "PyAEDT INFO: Returning found Desktop session with PID 9544!\n"
     ]
    },
    {
     "name": "stdout",
     "output_type": "stream",
     "text": [
      "PyAEDT INFO: Project antenna_toolkit has been created.\n"
     ]
    },
    {
     "name": "stdout",
     "output_type": "stream",
     "text": [
      "PyAEDT INFO: Added design 'HFSS_GO01VV' of type HFSS.\n"
     ]
    },
    {
     "name": "stdout",
     "output_type": "stream",
     "text": [
      "PyAEDT INFO: Aedt Objects correctly read\n"
     ]
    },
    {
     "name": "stdout",
     "output_type": "stream",
     "text": [
      "PyAEDT INFO: Project antenna_toolkit Saved correctly\n"
     ]
    },
    {
     "name": "stdout",
     "output_type": "stream",
     "text": [
      "PyAEDT INFO: Active Design set to HFSS_GO01VV\n"
     ]
    },
    {
     "name": "stderr",
     "output_type": "stream",
     "text": [
      "DEBUG - Project name: antenna_toolkit\n"
     ]
    },
    {
     "name": "stderr",
     "output_type": "stream",
     "text": [
      "INFO - Updating internal properties.\n"
     ]
    },
    {
     "name": "stderr",
     "output_type": "stream",
     "text": [
      "DEBUG - Updating 'project_list' with value ['C:/Users/ansys/AppData/Local/Temp/tmpbur7r48h_ansys/pyaedt_prj_NP9/antenna_toolkit.aedt']\n"
     ]
    },
    {
     "name": "stderr",
     "output_type": "stream",
     "text": [
      "DEBUG - Updating 'active_design' with value HFSS_GO01VV\n"
     ]
    },
    {
     "name": "stderr",
     "output_type": "stream",
     "text": [
      "DEBUG - Updating 'active_project' with value C:/Users/ansys/AppData/Local/Temp/tmpbur7r48h_ansys/pyaedt_prj_NP9/antenna_toolkit.aedt\n"
     ]
    },
    {
     "name": "stderr",
     "output_type": "stream",
     "text": [
      "DEBUG - Updating 'design_list' with value {'antenna_toolkit': ['HFSS_GO01VV']}\n"
     ]
    },
    {
     "name": "stderr",
     "output_type": "stream",
     "text": [
      "DEBUG - Properties were updated successfully.\n"
     ]
    },
    {
     "name": "stderr",
     "output_type": "stream",
     "text": [
      "INFO - Toolkit is connected to AEDT design.\n"
     ]
    },
    {
     "data": {
      "text/plain": [
       "True"
      ]
     },
     "execution_count": 22,
     "metadata": {},
     "output_type": "execute_result"
    }
   ],
   "source": [
    "toolkit_api.connect_design(\"HFSS\")"
   ]
  },
  {
   "cell_type": "markdown",
   "id": "7e576592",
   "metadata": {},
   "source": [
    "## Create setup when antenna is created\n",
    "\n",
    "Set ``create_setup`` property."
   ]
  },
  {
   "cell_type": "code",
   "execution_count": 23,
   "id": "d2a45e9f",
   "metadata": {
    "execution": {
     "iopub.execute_input": "2025-05-22T07:49:30.484747Z",
     "iopub.status.busy": "2025-05-22T07:49:30.484747Z",
     "iopub.status.idle": "2025-05-22T07:49:30.491869Z",
     "shell.execute_reply": "2025-05-22T07:49:30.491869Z"
    }
   },
   "outputs": [],
   "source": [
    "properties.antenna.setup.create_setup = True\n",
    "properties.antenna.synthesis.outer_boundary = \"Radiation\""
   ]
  },
  {
   "cell_type": "markdown",
   "id": "27b55f7b",
   "metadata": {},
   "source": [
    "## Create antenna in HFSS\n",
    "\n",
    "Create antenna and set up in HFSS."
   ]
  },
  {
   "cell_type": "code",
   "execution_count": 24,
   "id": "fade1315",
   "metadata": {
    "execution": {
     "iopub.execute_input": "2025-05-22T07:49:30.491869Z",
     "iopub.status.busy": "2025-05-22T07:49:30.491869Z",
     "iopub.status.idle": "2025-05-22T07:49:35.226367Z",
     "shell.execute_reply": "2025-05-22T07:49:35.226367Z"
    }
   },
   "outputs": [
    {
     "name": "stdout",
     "output_type": "stream",
     "text": [
      "PyAEDT INFO: Modeler class has been initialized! Elapsed time: 0m 0sec\n"
     ]
    },
    {
     "name": "stdout",
     "output_type": "stream",
     "text": [
      "PyAEDT INFO: Materials class has been initialized! Elapsed time: 0m 0sec\n"
     ]
    },
    {
     "name": "stdout",
     "output_type": "stream",
     "text": [
      "PyAEDT INFO: Open Region correctly created.\n"
     ]
    },
    {
     "name": "stdout",
     "output_type": "stream",
     "text": [
      "PyAEDT INFO: Project antenna_toolkit Saved correctly\n"
     ]
    },
    {
     "name": "stdout",
     "output_type": "stream",
     "text": [
      "PyAEDT WARNING: Property Command is read-only.\n"
     ]
    },
    {
     "name": "stdout",
     "output_type": "stream",
     "text": [
      "PyAEDT WARNING: Property Command is read-only.\n"
     ]
    },
    {
     "name": "stdout",
     "output_type": "stream",
     "text": [
      "PyAEDT WARNING: Property Command is read-only.\n"
     ]
    },
    {
     "name": "stdout",
     "output_type": "stream",
     "text": [
      "PyAEDT WARNING: Argument `cs_plane` is deprecated for method `create_circle`; use `orientation` instead.\n"
     ]
    },
    {
     "name": "stdout",
     "output_type": "stream",
     "text": [
      "PyAEDT WARNING: Property Command is read-only.\n"
     ]
    },
    {
     "name": "stdout",
     "output_type": "stream",
     "text": [
      "PyAEDT WARNING: Property Command is read-only.\n"
     ]
    },
    {
     "name": "stdout",
     "output_type": "stream",
     "text": [
      "PyAEDT WARNING: Property Command is read-only.\n"
     ]
    },
    {
     "name": "stdout",
     "output_type": "stream",
     "text": [
      "PyAEDT WARNING: Property Command is read-only.\n"
     ]
    },
    {
     "name": "stdout",
     "output_type": "stream",
     "text": [
      "PyAEDT WARNING: Argument `cs_plane` is deprecated for method `create_circle`; use `orientation` instead.\n"
     ]
    },
    {
     "name": "stdout",
     "output_type": "stream",
     "text": [
      "PyAEDT WARNING: Property Command is read-only.\n"
     ]
    },
    {
     "name": "stdout",
     "output_type": "stream",
     "text": [
      "PyAEDT INFO: Parsing design objects. This operation can take time\n"
     ]
    },
    {
     "name": "stdout",
     "output_type": "stream",
     "text": [
      "PyAEDT INFO: Refreshing bodies from Object Info\n"
     ]
    },
    {
     "name": "stdout",
     "output_type": "stream",
     "text": [
      "PyAEDT INFO: Bodies Info Refreshed Elapsed time: 0m 0sec\n"
     ]
    },
    {
     "name": "stdout",
     "output_type": "stream",
     "text": [
      "PyAEDT INFO: 3D Modeler objects parsed. Elapsed time: 0m 0sec\n"
     ]
    },
    {
     "name": "stdout",
     "output_type": "stream",
     "text": [
      "PyAEDT INFO: Boundary Perfect E PerfE_YL75JT has been created.\n"
     ]
    },
    {
     "name": "stdout",
     "output_type": "stream",
     "text": [
      "PyAEDT INFO: Boundary Perfect E PerfE_F2ILTQ has been created.\n"
     ]
    },
    {
     "name": "stdout",
     "output_type": "stream",
     "text": [
      "PyAEDT INFO: Boundary Perfect E PerfE_1VITIN has been created.\n"
     ]
    },
    {
     "name": "stdout",
     "output_type": "stream",
     "text": [
      "PyAEDT INFO: Boundary AutoIdentify port_Patch_1Y2UOL_1 has been created.\n"
     ]
    },
    {
     "name": "stdout",
     "output_type": "stream",
     "text": [
      "PyAEDT INFO: Parsing C:/Users/ansys/AppData/Local/Temp/tmpbur7r48h_ansys/pyaedt_prj_NP9/antenna_toolkit.aedt.\n"
     ]
    },
    {
     "name": "stdout",
     "output_type": "stream",
     "text": [
      "PyAEDT INFO: File C:/Users/ansys/AppData/Local/Temp/tmpbur7r48h_ansys/pyaedt_prj_NP9/antenna_toolkit.aedt correctly loaded. Elapsed time: 0m 0sec\n"
     ]
    },
    {
     "name": "stdout",
     "output_type": "stream",
     "text": [
      "PyAEDT INFO: aedt file load time 0.015642166137695312\n"
     ]
    },
    {
     "name": "stdout",
     "output_type": "stream",
     "text": [
      "PyAEDT INFO: Project antenna_toolkit Saved correctly\n"
     ]
    },
    {
     "name": "stdout",
     "output_type": "stream",
     "text": [
      "PyAEDT INFO: Desktop has been released.\n"
     ]
    },
    {
     "name": "stderr",
     "output_type": "stream",
     "text": [
      "INFO - AEDT is released.\n"
     ]
    }
   ],
   "source": [
    "antenna_parameter = toolkit_api.get_antenna(\"RectangularPatchProbe\")"
   ]
  },
  {
   "cell_type": "markdown",
   "id": "93bd799d",
   "metadata": {},
   "source": [
    "## Try. to create antenna\n",
    "\n",
    "The AEDT Antenna Toolkit API does not allow the creation of more than one antenna. However, you can use the antenna\n",
    "model's API to create more than one antenna."
   ]
  },
  {
   "cell_type": "code",
   "execution_count": 25,
   "id": "853507cc",
   "metadata": {
    "execution": {
     "iopub.execute_input": "2025-05-22T07:49:35.226367Z",
     "iopub.status.busy": "2025-05-22T07:49:35.226367Z",
     "iopub.status.idle": "2025-05-22T07:49:35.235473Z",
     "shell.execute_reply": "2025-05-22T07:49:35.235473Z"
    }
   },
   "outputs": [
    {
     "name": "stderr",
     "output_type": "stream",
     "text": [
      "DEBUG - Antenna is already created.\n"
     ]
    }
   ],
   "source": [
    "new_antenna = toolkit_api.get_antenna(\"BowTie\")"
   ]
  },
  {
   "cell_type": "code",
   "execution_count": 26,
   "id": "97fc3acd",
   "metadata": {
    "execution": {
     "iopub.execute_input": "2025-05-22T07:49:35.235473Z",
     "iopub.status.busy": "2025-05-22T07:49:35.235473Z",
     "iopub.status.idle": "2025-05-22T07:49:35.242559Z",
     "shell.execute_reply": "2025-05-22T07:49:35.242559Z"
    }
   },
   "outputs": [
    {
     "name": "stdout",
     "output_type": "stream",
     "text": [
      "False\n"
     ]
    }
   ],
   "source": [
    "print(new_antenna)"
   ]
  },
  {
   "cell_type": "markdown",
   "id": "1067f92b",
   "metadata": {},
   "source": [
    "## Set properties\n",
    "\n",
    "Move antenna X position"
   ]
  },
  {
   "cell_type": "code",
   "execution_count": 27,
   "id": "1e0e5962",
   "metadata": {
    "execution": {
     "iopub.execute_input": "2025-05-22T07:49:35.242559Z",
     "iopub.status.busy": "2025-05-22T07:49:35.242559Z",
     "iopub.status.idle": "2025-05-22T07:49:35.992390Z",
     "shell.execute_reply": "2025-05-22T07:49:35.992390Z"
    }
   },
   "outputs": [
    {
     "name": "stderr",
     "output_type": "stream",
     "text": [
      "DEBUG - Toolkit is not connected to AEDT.\n"
     ]
    },
    {
     "name": "stderr",
     "output_type": "stream",
     "text": [
      "DEBUG - Connecting AEDT.\n"
     ]
    },
    {
     "name": "stdout",
     "output_type": "stream",
     "text": [
      "PyAEDT INFO: Python version 3.12.10 (tags/v3.12.10:0cc8128, Apr  8 2025, 12:21:36) [MSC v.1943 64 bit (AMD64)].\n"
     ]
    },
    {
     "name": "stdout",
     "output_type": "stream",
     "text": [
      "PyAEDT INFO: PyAEDT version 0.16.2.\n"
     ]
    },
    {
     "name": "stdout",
     "output_type": "stream",
     "text": [
      "PyAEDT INFO: Initializing new Desktop session.\n"
     ]
    },
    {
     "name": "stdout",
     "output_type": "stream",
     "text": [
      "PyAEDT INFO: Log on console is enabled.\n"
     ]
    },
    {
     "name": "stdout",
     "output_type": "stream",
     "text": [
      "PyAEDT INFO: Log on file C:\\Users\\ansys\\AppData\\Local\\Temp\\pyaedt_ansys_ca281d9d-94de-445a-8866-6ce9242a93c4.log is enabled.\n"
     ]
    },
    {
     "name": "stdout",
     "output_type": "stream",
     "text": [
      "PyAEDT INFO: Log on AEDT is disabled.\n"
     ]
    },
    {
     "name": "stdout",
     "output_type": "stream",
     "text": [
      "PyAEDT INFO: Debug logger is disabled. PyAEDT methods will not be logged.\n"
     ]
    },
    {
     "name": "stdout",
     "output_type": "stream",
     "text": [
      "PyAEDT INFO: Launching PyAEDT with gRPC plugin.\n"
     ]
    },
    {
     "name": "stdout",
     "output_type": "stream",
     "text": [
      "PyAEDT INFO: Connecting to AEDT session on gRPC port 52533.\n"
     ]
    },
    {
     "name": "stdout",
     "output_type": "stream",
     "text": [
      "PyAEDT INFO: AEDT installation Path C:\\Program Files\\ANSYS Inc\\v251\\AnsysEM\n"
     ]
    },
    {
     "name": "stderr",
     "output_type": "stream",
     "text": [
      "DEBUG - Toolkit is connected to AEDT.\n"
     ]
    },
    {
     "name": "stdout",
     "output_type": "stream",
     "text": [
      "PyAEDT INFO: Python version 3.12.10 (tags/v3.12.10:0cc8128, Apr  8 2025, 12:21:36) [MSC v.1943 64 bit (AMD64)].\n"
     ]
    },
    {
     "name": "stdout",
     "output_type": "stream",
     "text": [
      "PyAEDT INFO: PyAEDT version 0.16.2.\n"
     ]
    },
    {
     "name": "stdout",
     "output_type": "stream",
     "text": [
      "PyAEDT INFO: Returning found Desktop session with PID 9544!\n"
     ]
    },
    {
     "name": "stdout",
     "output_type": "stream",
     "text": [
      "PyAEDT INFO: Project antenna_toolkit set to active.\n"
     ]
    },
    {
     "name": "stdout",
     "output_type": "stream",
     "text": [
      "PyAEDT INFO: Active Design set to HFSS_GO01VV\n"
     ]
    },
    {
     "name": "stdout",
     "output_type": "stream",
     "text": [
      "PyAEDT INFO: Aedt Objects correctly read\n"
     ]
    },
    {
     "name": "stderr",
     "output_type": "stream",
     "text": [
      "INFO - Toolkit is connected to AEDT design.\n"
     ]
    },
    {
     "name": "stdout",
     "output_type": "stream",
     "text": [
      "PyAEDT INFO: Desktop has been released.\n"
     ]
    },
    {
     "name": "stderr",
     "output_type": "stream",
     "text": [
      "INFO - AEDT is released.\n"
     ]
    },
    {
     "data": {
      "text/plain": [
       "True"
      ]
     },
     "execution_count": 27,
     "metadata": {},
     "output_type": "execute_result"
    }
   ],
   "source": [
    "toolkit_api.update_hfss_parameters(\"pos_x\", \"20\")"
   ]
  },
  {
   "cell_type": "markdown",
   "id": "b0b3bcd5",
   "metadata": {},
   "source": [
    "## Fit all"
   ]
  },
  {
   "cell_type": "code",
   "execution_count": 28,
   "id": "59eee844",
   "metadata": {
    "execution": {
     "iopub.execute_input": "2025-05-22T07:49:35.992390Z",
     "iopub.status.busy": "2025-05-22T07:49:35.992390Z",
     "iopub.status.idle": "2025-05-22T07:49:36.274521Z",
     "shell.execute_reply": "2025-05-22T07:49:36.274521Z"
    }
   },
   "outputs": [
    {
     "name": "stderr",
     "output_type": "stream",
     "text": [
      "DEBUG - Toolkit is not connected to AEDT.\n"
     ]
    },
    {
     "name": "stderr",
     "output_type": "stream",
     "text": [
      "DEBUG - Connecting AEDT.\n"
     ]
    },
    {
     "name": "stdout",
     "output_type": "stream",
     "text": [
      "PyAEDT INFO: Python version 3.12.10 (tags/v3.12.10:0cc8128, Apr  8 2025, 12:21:36) [MSC v.1943 64 bit (AMD64)].\n"
     ]
    },
    {
     "name": "stdout",
     "output_type": "stream",
     "text": [
      "PyAEDT INFO: PyAEDT version 0.16.2.\n"
     ]
    },
    {
     "name": "stdout",
     "output_type": "stream",
     "text": [
      "PyAEDT INFO: Initializing new Desktop session.\n"
     ]
    },
    {
     "name": "stdout",
     "output_type": "stream",
     "text": [
      "PyAEDT INFO: Log on console is enabled.\n"
     ]
    },
    {
     "name": "stdout",
     "output_type": "stream",
     "text": [
      "PyAEDT INFO: Log on file C:\\Users\\ansys\\AppData\\Local\\Temp\\pyaedt_ansys_ca281d9d-94de-445a-8866-6ce9242a93c4.log is enabled.\n"
     ]
    },
    {
     "name": "stdout",
     "output_type": "stream",
     "text": [
      "PyAEDT INFO: Log on AEDT is disabled.\n"
     ]
    },
    {
     "name": "stdout",
     "output_type": "stream",
     "text": [
      "PyAEDT INFO: Debug logger is disabled. PyAEDT methods will not be logged.\n"
     ]
    },
    {
     "name": "stdout",
     "output_type": "stream",
     "text": [
      "PyAEDT INFO: Launching PyAEDT with gRPC plugin.\n"
     ]
    },
    {
     "name": "stdout",
     "output_type": "stream",
     "text": [
      "PyAEDT INFO: Connecting to AEDT session on gRPC port 52533.\n"
     ]
    },
    {
     "name": "stdout",
     "output_type": "stream",
     "text": [
      "PyAEDT INFO: AEDT installation Path C:\\Program Files\\ANSYS Inc\\v251\\AnsysEM\n"
     ]
    },
    {
     "name": "stderr",
     "output_type": "stream",
     "text": [
      "DEBUG - Toolkit is connected to AEDT.\n"
     ]
    },
    {
     "name": "stdout",
     "output_type": "stream",
     "text": [
      "PyAEDT INFO: Python version 3.12.10 (tags/v3.12.10:0cc8128, Apr  8 2025, 12:21:36) [MSC v.1943 64 bit (AMD64)].\n"
     ]
    },
    {
     "name": "stdout",
     "output_type": "stream",
     "text": [
      "PyAEDT INFO: PyAEDT version 0.16.2.\n"
     ]
    },
    {
     "name": "stdout",
     "output_type": "stream",
     "text": [
      "PyAEDT INFO: Returning found Desktop session with PID 9544!\n"
     ]
    },
    {
     "name": "stdout",
     "output_type": "stream",
     "text": [
      "PyAEDT INFO: Project antenna_toolkit set to active.\n"
     ]
    },
    {
     "name": "stdout",
     "output_type": "stream",
     "text": [
      "PyAEDT INFO: Active Design set to HFSS_GO01VV\n"
     ]
    },
    {
     "name": "stdout",
     "output_type": "stream",
     "text": [
      "PyAEDT INFO: Aedt Objects correctly read\n"
     ]
    },
    {
     "name": "stderr",
     "output_type": "stream",
     "text": [
      "INFO - Toolkit is connected to AEDT design.\n"
     ]
    },
    {
     "data": {
      "text/plain": [
       "True"
      ]
     },
     "execution_count": 28,
     "metadata": {},
     "output_type": "execute_result"
    }
   ],
   "source": [
    "toolkit_api.connect_design()"
   ]
  },
  {
   "cell_type": "code",
   "execution_count": 29,
   "id": "6704967a",
   "metadata": {
    "execution": {
     "iopub.execute_input": "2025-05-22T07:49:36.274521Z",
     "iopub.status.busy": "2025-05-22T07:49:36.274521Z",
     "iopub.status.idle": "2025-05-22T07:49:36.300418Z",
     "shell.execute_reply": "2025-05-22T07:49:36.300418Z"
    }
   },
   "outputs": [
    {
     "name": "stdout",
     "output_type": "stream",
     "text": [
      "PyAEDT INFO: Modeler class has been initialized! Elapsed time: 0m 0sec\n"
     ]
    }
   ],
   "source": [
    "toolkit_api.aedtapp.modeler.fit_all()"
   ]
  },
  {
   "cell_type": "code",
   "execution_count": 30,
   "id": "65e6ac20",
   "metadata": {
    "execution": {
     "iopub.execute_input": "2025-05-22T07:49:36.300418Z",
     "iopub.status.busy": "2025-05-22T07:49:36.300418Z",
     "iopub.status.idle": "2025-05-22T07:49:36.655553Z",
     "shell.execute_reply": "2025-05-22T07:49:36.655553Z"
    }
   },
   "outputs": [
    {
     "name": "stdout",
     "output_type": "stream",
     "text": [
      "PyAEDT INFO: Desktop has been released.\n"
     ]
    },
    {
     "name": "stderr",
     "output_type": "stream",
     "text": [
      "INFO - AEDT is released.\n"
     ]
    },
    {
     "data": {
      "text/plain": [
       "True"
      ]
     },
     "execution_count": 30,
     "metadata": {},
     "output_type": "execute_result"
    }
   ],
   "source": [
    "toolkit_api.release_aedt(False, False)"
   ]
  },
  {
   "cell_type": "markdown",
   "id": "59bdbf1e",
   "metadata": {},
   "source": [
    "## Set properties\n",
    "\n",
    "Move antenna X position to origin"
   ]
  },
  {
   "cell_type": "code",
   "execution_count": 31,
   "id": "25dcd510",
   "metadata": {
    "execution": {
     "iopub.execute_input": "2025-05-22T07:49:36.655553Z",
     "iopub.status.busy": "2025-05-22T07:49:36.655553Z",
     "iopub.status.idle": "2025-05-22T07:49:37.405316Z",
     "shell.execute_reply": "2025-05-22T07:49:37.405316Z"
    }
   },
   "outputs": [
    {
     "name": "stderr",
     "output_type": "stream",
     "text": [
      "DEBUG - Toolkit is not connected to AEDT.\n"
     ]
    },
    {
     "name": "stderr",
     "output_type": "stream",
     "text": [
      "DEBUG - Connecting AEDT.\n"
     ]
    },
    {
     "name": "stdout",
     "output_type": "stream",
     "text": [
      "PyAEDT INFO: Python version 3.12.10 (tags/v3.12.10:0cc8128, Apr  8 2025, 12:21:36) [MSC v.1943 64 bit (AMD64)].\n"
     ]
    },
    {
     "name": "stdout",
     "output_type": "stream",
     "text": [
      "PyAEDT INFO: PyAEDT version 0.16.2.\n"
     ]
    },
    {
     "name": "stdout",
     "output_type": "stream",
     "text": [
      "PyAEDT INFO: Initializing new Desktop session.\n"
     ]
    },
    {
     "name": "stdout",
     "output_type": "stream",
     "text": [
      "PyAEDT INFO: Log on console is enabled.\n"
     ]
    },
    {
     "name": "stdout",
     "output_type": "stream",
     "text": [
      "PyAEDT INFO: Log on file C:\\Users\\ansys\\AppData\\Local\\Temp\\pyaedt_ansys_ca281d9d-94de-445a-8866-6ce9242a93c4.log is enabled.\n"
     ]
    },
    {
     "name": "stdout",
     "output_type": "stream",
     "text": [
      "PyAEDT INFO: Log on AEDT is disabled.\n"
     ]
    },
    {
     "name": "stdout",
     "output_type": "stream",
     "text": [
      "PyAEDT INFO: Debug logger is disabled. PyAEDT methods will not be logged.\n"
     ]
    },
    {
     "name": "stdout",
     "output_type": "stream",
     "text": [
      "PyAEDT INFO: Launching PyAEDT with gRPC plugin.\n"
     ]
    },
    {
     "name": "stdout",
     "output_type": "stream",
     "text": [
      "PyAEDT INFO: Connecting to AEDT session on gRPC port 52533.\n"
     ]
    },
    {
     "name": "stdout",
     "output_type": "stream",
     "text": [
      "PyAEDT INFO: AEDT installation Path C:\\Program Files\\ANSYS Inc\\v251\\AnsysEM\n"
     ]
    },
    {
     "name": "stderr",
     "output_type": "stream",
     "text": [
      "DEBUG - Toolkit is connected to AEDT.\n"
     ]
    },
    {
     "name": "stdout",
     "output_type": "stream",
     "text": [
      "PyAEDT INFO: Python version 3.12.10 (tags/v3.12.10:0cc8128, Apr  8 2025, 12:21:36) [MSC v.1943 64 bit (AMD64)].\n"
     ]
    },
    {
     "name": "stdout",
     "output_type": "stream",
     "text": [
      "PyAEDT INFO: PyAEDT version 0.16.2.\n"
     ]
    },
    {
     "name": "stdout",
     "output_type": "stream",
     "text": [
      "PyAEDT INFO: Returning found Desktop session with PID 9544!\n"
     ]
    },
    {
     "name": "stdout",
     "output_type": "stream",
     "text": [
      "PyAEDT INFO: Project antenna_toolkit set to active.\n"
     ]
    },
    {
     "name": "stdout",
     "output_type": "stream",
     "text": [
      "PyAEDT INFO: Active Design set to HFSS_GO01VV\n"
     ]
    },
    {
     "name": "stdout",
     "output_type": "stream",
     "text": [
      "PyAEDT INFO: Aedt Objects correctly read\n"
     ]
    },
    {
     "name": "stderr",
     "output_type": "stream",
     "text": [
      "INFO - Toolkit is connected to AEDT design.\n"
     ]
    },
    {
     "name": "stdout",
     "output_type": "stream",
     "text": [
      "PyAEDT INFO: Desktop has been released.\n"
     ]
    },
    {
     "name": "stderr",
     "output_type": "stream",
     "text": [
      "INFO - AEDT is released.\n"
     ]
    },
    {
     "data": {
      "text/plain": [
       "True"
      ]
     },
     "execution_count": 31,
     "metadata": {},
     "output_type": "execute_result"
    }
   ],
   "source": [
    "toolkit_api.update_hfss_parameters(\"pos_x\", \"0\")"
   ]
  },
  {
   "cell_type": "markdown",
   "id": "e89e041b",
   "metadata": {},
   "source": [
    "## Analyze design in batch mode"
   ]
  },
  {
   "cell_type": "code",
   "execution_count": 32,
   "id": "4725ea93",
   "metadata": {
    "execution": {
     "iopub.execute_input": "2025-05-22T07:49:37.405316Z",
     "iopub.status.busy": "2025-05-22T07:49:37.405316Z",
     "iopub.status.idle": "2025-05-22T07:50:49.372058Z",
     "shell.execute_reply": "2025-05-22T07:50:49.372058Z"
    }
   },
   "outputs": [
    {
     "name": "stderr",
     "output_type": "stream",
     "text": [
      "DEBUG - Toolkit is not connected to AEDT.\n"
     ]
    },
    {
     "name": "stderr",
     "output_type": "stream",
     "text": [
      "DEBUG - Connecting AEDT.\n"
     ]
    },
    {
     "name": "stdout",
     "output_type": "stream",
     "text": [
      "PyAEDT INFO: Python version 3.12.10 (tags/v3.12.10:0cc8128, Apr  8 2025, 12:21:36) [MSC v.1943 64 bit (AMD64)].\n"
     ]
    },
    {
     "name": "stdout",
     "output_type": "stream",
     "text": [
      "PyAEDT INFO: PyAEDT version 0.16.2.\n"
     ]
    },
    {
     "name": "stdout",
     "output_type": "stream",
     "text": [
      "PyAEDT INFO: Initializing new Desktop session.\n"
     ]
    },
    {
     "name": "stdout",
     "output_type": "stream",
     "text": [
      "PyAEDT INFO: Log on console is enabled.\n"
     ]
    },
    {
     "name": "stdout",
     "output_type": "stream",
     "text": [
      "PyAEDT INFO: Log on file C:\\Users\\ansys\\AppData\\Local\\Temp\\pyaedt_ansys_ca281d9d-94de-445a-8866-6ce9242a93c4.log is enabled.\n"
     ]
    },
    {
     "name": "stdout",
     "output_type": "stream",
     "text": [
      "PyAEDT INFO: Log on AEDT is disabled.\n"
     ]
    },
    {
     "name": "stdout",
     "output_type": "stream",
     "text": [
      "PyAEDT INFO: Debug logger is disabled. PyAEDT methods will not be logged.\n"
     ]
    },
    {
     "name": "stdout",
     "output_type": "stream",
     "text": [
      "PyAEDT INFO: Launching PyAEDT with gRPC plugin.\n"
     ]
    },
    {
     "name": "stdout",
     "output_type": "stream",
     "text": [
      "PyAEDT INFO: Connecting to AEDT session on gRPC port 52533.\n"
     ]
    },
    {
     "name": "stdout",
     "output_type": "stream",
     "text": [
      "PyAEDT INFO: AEDT installation Path C:\\Program Files\\ANSYS Inc\\v251\\AnsysEM\n"
     ]
    },
    {
     "name": "stderr",
     "output_type": "stream",
     "text": [
      "DEBUG - Toolkit is connected to AEDT.\n"
     ]
    },
    {
     "name": "stdout",
     "output_type": "stream",
     "text": [
      "PyAEDT INFO: Python version 3.12.10 (tags/v3.12.10:0cc8128, Apr  8 2025, 12:21:36) [MSC v.1943 64 bit (AMD64)].\n"
     ]
    },
    {
     "name": "stdout",
     "output_type": "stream",
     "text": [
      "PyAEDT INFO: PyAEDT version 0.16.2.\n"
     ]
    },
    {
     "name": "stdout",
     "output_type": "stream",
     "text": [
      "PyAEDT INFO: Returning found Desktop session with PID 9544!\n"
     ]
    },
    {
     "name": "stdout",
     "output_type": "stream",
     "text": [
      "PyAEDT INFO: Project antenna_toolkit set to active.\n"
     ]
    },
    {
     "name": "stdout",
     "output_type": "stream",
     "text": [
      "PyAEDT INFO: Active Design set to HFSS_GO01VV\n"
     ]
    },
    {
     "name": "stdout",
     "output_type": "stream",
     "text": [
      "PyAEDT INFO: Aedt Objects correctly read\n"
     ]
    },
    {
     "name": "stderr",
     "output_type": "stream",
     "text": [
      "INFO - Toolkit is connected to AEDT design.\n"
     ]
    },
    {
     "name": "stdout",
     "output_type": "stream",
     "text": [
      "PyAEDT INFO: Project antenna_toolkit Saved correctly\n"
     ]
    },
    {
     "name": "stdout",
     "output_type": "stream",
     "text": [
      "PyAEDT INFO: Key Desktop/ActiveDSOConfigurations/HFSS correctly changed.\n"
     ]
    },
    {
     "name": "stdout",
     "output_type": "stream",
     "text": [
      "PyAEDT INFO: Solving all design setups.\n"
     ]
    },
    {
     "name": "stdout",
     "output_type": "stream",
     "text": [
      "PyAEDT INFO: Key Desktop/ActiveDSOConfigurations/HFSS correctly changed.\n"
     ]
    },
    {
     "name": "stdout",
     "output_type": "stream",
     "text": [
      "PyAEDT INFO: Design setup None solved correctly in 0.0h 1.0m 11.0s\n"
     ]
    },
    {
     "name": "stdout",
     "output_type": "stream",
     "text": [
      "PyAEDT INFO: Desktop has been released.\n"
     ]
    },
    {
     "name": "stderr",
     "output_type": "stream",
     "text": [
      "INFO - AEDT is released.\n"
     ]
    },
    {
     "data": {
      "text/plain": [
       "True"
      ]
     },
     "execution_count": 32,
     "metadata": {},
     "output_type": "execute_result"
    }
   ],
   "source": [
    "toolkit_api.analyze()"
   ]
  },
  {
   "cell_type": "markdown",
   "id": "edc922bd",
   "metadata": {},
   "source": [
    "## Get scattering results"
   ]
  },
  {
   "cell_type": "code",
   "execution_count": 33,
   "id": "58d15b5d",
   "metadata": {
    "execution": {
     "iopub.execute_input": "2025-05-22T07:50:49.372058Z",
     "iopub.status.busy": "2025-05-22T07:50:49.372058Z",
     "iopub.status.idle": "2025-05-22T07:50:50.470874Z",
     "shell.execute_reply": "2025-05-22T07:50:50.470874Z"
    }
   },
   "outputs": [
    {
     "name": "stderr",
     "output_type": "stream",
     "text": [
      "DEBUG - Toolkit is not connected to AEDT.\n"
     ]
    },
    {
     "name": "stderr",
     "output_type": "stream",
     "text": [
      "DEBUG - Connecting AEDT.\n"
     ]
    },
    {
     "name": "stdout",
     "output_type": "stream",
     "text": [
      "PyAEDT INFO: Python version 3.12.10 (tags/v3.12.10:0cc8128, Apr  8 2025, 12:21:36) [MSC v.1943 64 bit (AMD64)].\n"
     ]
    },
    {
     "name": "stdout",
     "output_type": "stream",
     "text": [
      "PyAEDT INFO: PyAEDT version 0.16.2.\n"
     ]
    },
    {
     "name": "stdout",
     "output_type": "stream",
     "text": [
      "PyAEDT INFO: Initializing new Desktop session.\n"
     ]
    },
    {
     "name": "stdout",
     "output_type": "stream",
     "text": [
      "PyAEDT INFO: Log on console is enabled.\n"
     ]
    },
    {
     "name": "stdout",
     "output_type": "stream",
     "text": [
      "PyAEDT INFO: Log on file C:\\Users\\ansys\\AppData\\Local\\Temp\\pyaedt_ansys_ca281d9d-94de-445a-8866-6ce9242a93c4.log is enabled.\n"
     ]
    },
    {
     "name": "stdout",
     "output_type": "stream",
     "text": [
      "PyAEDT INFO: Log on AEDT is disabled.\n"
     ]
    },
    {
     "name": "stdout",
     "output_type": "stream",
     "text": [
      "PyAEDT INFO: Debug logger is disabled. PyAEDT methods will not be logged.\n"
     ]
    },
    {
     "name": "stdout",
     "output_type": "stream",
     "text": [
      "PyAEDT INFO: Launching PyAEDT with gRPC plugin.\n"
     ]
    },
    {
     "name": "stdout",
     "output_type": "stream",
     "text": [
      "PyAEDT INFO: Connecting to AEDT session on gRPC port 52533.\n"
     ]
    },
    {
     "name": "stdout",
     "output_type": "stream",
     "text": [
      "PyAEDT INFO: AEDT installation Path C:\\Program Files\\ANSYS Inc\\v251\\AnsysEM\n"
     ]
    },
    {
     "name": "stderr",
     "output_type": "stream",
     "text": [
      "DEBUG - Toolkit is connected to AEDT.\n"
     ]
    },
    {
     "name": "stdout",
     "output_type": "stream",
     "text": [
      "PyAEDT INFO: Python version 3.12.10 (tags/v3.12.10:0cc8128, Apr  8 2025, 12:21:36) [MSC v.1943 64 bit (AMD64)].\n"
     ]
    },
    {
     "name": "stdout",
     "output_type": "stream",
     "text": [
      "PyAEDT INFO: PyAEDT version 0.16.2.\n"
     ]
    },
    {
     "name": "stdout",
     "output_type": "stream",
     "text": [
      "PyAEDT INFO: Returning found Desktop session with PID 9544!\n"
     ]
    },
    {
     "name": "stdout",
     "output_type": "stream",
     "text": [
      "PyAEDT INFO: Project antenna_toolkit set to active.\n"
     ]
    },
    {
     "name": "stdout",
     "output_type": "stream",
     "text": [
      "PyAEDT INFO: Active Design set to HFSS_GO01VV\n"
     ]
    },
    {
     "name": "stdout",
     "output_type": "stream",
     "text": [
      "PyAEDT INFO: Aedt Objects correctly read\n"
     ]
    },
    {
     "name": "stderr",
     "output_type": "stream",
     "text": [
      "INFO - Toolkit is connected to AEDT design.\n"
     ]
    },
    {
     "name": "stdout",
     "output_type": "stream",
     "text": [
      "PyAEDT INFO: Parsing C:/Users/ansys/AppData/Local/Temp/tmpbur7r48h_ansys/pyaedt_prj_NP9/antenna_toolkit.aedt.\n"
     ]
    },
    {
     "name": "stdout",
     "output_type": "stream",
     "text": [
      "PyAEDT INFO: File C:/Users/ansys/AppData/Local/Temp/tmpbur7r48h_ansys/pyaedt_prj_NP9/antenna_toolkit.aedt correctly loaded. Elapsed time: 0m 0sec\n"
     ]
    },
    {
     "name": "stdout",
     "output_type": "stream",
     "text": [
      "PyAEDT INFO: aedt file load time 0.031255483627319336\n"
     ]
    },
    {
     "name": "stdout",
     "output_type": "stream",
     "text": [
      "PyAEDT INFO: PostProcessor class has been initialized! Elapsed time: 0m 0sec\n"
     ]
    },
    {
     "name": "stdout",
     "output_type": "stream",
     "text": [
      "PyAEDT INFO: PostProcessor class has been initialized! Elapsed time: 0m 0sec\n"
     ]
    },
    {
     "name": "stdout",
     "output_type": "stream",
     "text": [
      "PyAEDT INFO: Post class has been initialized! Elapsed time: 0m 0sec\n"
     ]
    },
    {
     "name": "stdout",
     "output_type": "stream",
     "text": [
      "PyAEDT INFO: Solution Data Correctly Loaded.\n"
     ]
    },
    {
     "name": "stdout",
     "output_type": "stream",
     "text": [
      "PyAEDT INFO: Desktop has been released.\n"
     ]
    },
    {
     "name": "stderr",
     "output_type": "stream",
     "text": [
      "INFO - AEDT is released.\n"
     ]
    }
   ],
   "source": [
    "scattering_data = toolkit_api.scattering_results()"
   ]
  },
  {
   "cell_type": "markdown",
   "id": "d11a63f2",
   "metadata": {},
   "source": [
    "## Get farfield results"
   ]
  },
  {
   "cell_type": "code",
   "execution_count": 34,
   "id": "360e18d2",
   "metadata": {
    "execution": {
     "iopub.execute_input": "2025-05-22T07:50:50.470874Z",
     "iopub.status.busy": "2025-05-22T07:50:50.470874Z",
     "iopub.status.idle": "2025-05-22T07:50:53.484552Z",
     "shell.execute_reply": "2025-05-22T07:50:53.484552Z"
    }
   },
   "outputs": [
    {
     "name": "stderr",
     "output_type": "stream",
     "text": [
      "DEBUG - Toolkit is not connected to AEDT.\n"
     ]
    },
    {
     "name": "stderr",
     "output_type": "stream",
     "text": [
      "DEBUG - Connecting AEDT.\n"
     ]
    },
    {
     "name": "stdout",
     "output_type": "stream",
     "text": [
      "PyAEDT INFO: Python version 3.12.10 (tags/v3.12.10:0cc8128, Apr  8 2025, 12:21:36) [MSC v.1943 64 bit (AMD64)].\n"
     ]
    },
    {
     "name": "stdout",
     "output_type": "stream",
     "text": [
      "PyAEDT INFO: PyAEDT version 0.16.2.\n"
     ]
    },
    {
     "name": "stdout",
     "output_type": "stream",
     "text": [
      "PyAEDT INFO: Initializing new Desktop session.\n"
     ]
    },
    {
     "name": "stdout",
     "output_type": "stream",
     "text": [
      "PyAEDT INFO: Log on console is enabled.\n"
     ]
    },
    {
     "name": "stdout",
     "output_type": "stream",
     "text": [
      "PyAEDT INFO: Log on file C:\\Users\\ansys\\AppData\\Local\\Temp\\pyaedt_ansys_ca281d9d-94de-445a-8866-6ce9242a93c4.log is enabled.\n"
     ]
    },
    {
     "name": "stdout",
     "output_type": "stream",
     "text": [
      "PyAEDT INFO: Log on AEDT is disabled.\n"
     ]
    },
    {
     "name": "stdout",
     "output_type": "stream",
     "text": [
      "PyAEDT INFO: Debug logger is disabled. PyAEDT methods will not be logged.\n"
     ]
    },
    {
     "name": "stdout",
     "output_type": "stream",
     "text": [
      "PyAEDT INFO: Launching PyAEDT with gRPC plugin.\n"
     ]
    },
    {
     "name": "stdout",
     "output_type": "stream",
     "text": [
      "PyAEDT INFO: Connecting to AEDT session on gRPC port 52533.\n"
     ]
    },
    {
     "name": "stdout",
     "output_type": "stream",
     "text": [
      "PyAEDT INFO: AEDT installation Path C:\\Program Files\\ANSYS Inc\\v251\\AnsysEM\n"
     ]
    },
    {
     "name": "stderr",
     "output_type": "stream",
     "text": [
      "DEBUG - Toolkit is connected to AEDT.\n"
     ]
    },
    {
     "name": "stdout",
     "output_type": "stream",
     "text": [
      "PyAEDT INFO: Python version 3.12.10 (tags/v3.12.10:0cc8128, Apr  8 2025, 12:21:36) [MSC v.1943 64 bit (AMD64)].\n"
     ]
    },
    {
     "name": "stdout",
     "output_type": "stream",
     "text": [
      "PyAEDT INFO: PyAEDT version 0.16.2.\n"
     ]
    },
    {
     "name": "stdout",
     "output_type": "stream",
     "text": [
      "PyAEDT INFO: Returning found Desktop session with PID 9544!\n"
     ]
    },
    {
     "name": "stdout",
     "output_type": "stream",
     "text": [
      "PyAEDT INFO: Project antenna_toolkit set to active.\n"
     ]
    },
    {
     "name": "stdout",
     "output_type": "stream",
     "text": [
      "PyAEDT INFO: Active Design set to HFSS_GO01VV\n"
     ]
    },
    {
     "name": "stdout",
     "output_type": "stream",
     "text": [
      "PyAEDT INFO: Aedt Objects correctly read\n"
     ]
    },
    {
     "name": "stderr",
     "output_type": "stream",
     "text": [
      "INFO - Toolkit is connected to AEDT design.\n"
     ]
    },
    {
     "name": "stdout",
     "output_type": "stream",
     "text": [
      "PyAEDT INFO: Project antenna_toolkit Saved correctly\n"
     ]
    },
    {
     "name": "stdout",
     "output_type": "stream",
     "text": [
      "PyAEDT INFO: Far field sphere 3D is assigned\n"
     ]
    },
    {
     "name": "stdout",
     "output_type": "stream",
     "text": [
      "PyAEDT INFO: Exporting antenna metadata...\n"
     ]
    },
    {
     "name": "stdout",
     "output_type": "stream",
     "text": [
      "PyAEDT INFO: Parsing C:/Users/ansys/AppData/Local/Temp/tmpbur7r48h_ansys/pyaedt_prj_NP9/antenna_toolkit.aedt.\n"
     ]
    },
    {
     "name": "stdout",
     "output_type": "stream",
     "text": [
      "PyAEDT INFO: File C:/Users/ansys/AppData/Local/Temp/tmpbur7r48h_ansys/pyaedt_prj_NP9/antenna_toolkit.aedt correctly loaded. Elapsed time: 0m 0sec\n"
     ]
    },
    {
     "name": "stdout",
     "output_type": "stream",
     "text": [
      "PyAEDT INFO: aedt file load time 0.03127431869506836\n"
     ]
    },
    {
     "name": "stdout",
     "output_type": "stream",
     "text": [
      "PyAEDT INFO: PostProcessor class has been initialized! Elapsed time: 0m 0sec\n"
     ]
    },
    {
     "name": "stdout",
     "output_type": "stream",
     "text": [
      "PyAEDT INFO: PostProcessor class has been initialized! Elapsed time: 0m 0sec\n"
     ]
    },
    {
     "name": "stdout",
     "output_type": "stream",
     "text": [
      "PyAEDT INFO: Post class has been initialized! Elapsed time: 0m 0sec\n"
     ]
    },
    {
     "name": "stdout",
     "output_type": "stream",
     "text": [
      "PyAEDT INFO: Antenna metadata exported.\n"
     ]
    },
    {
     "name": "stdout",
     "output_type": "stream",
     "text": [
      "PyAEDT INFO: Exporting geometry...\n"
     ]
    },
    {
     "name": "stdout",
     "output_type": "stream",
     "text": [
      "PyAEDT INFO: Modeler class has been initialized! Elapsed time: 0m 0sec\n"
     ]
    },
    {
     "name": "stdout",
     "output_type": "stream",
     "text": [
      "PyAEDT ERROR: **************************************************************\n"
     ]
    },
    {
     "name": "stdout",
     "output_type": "stream",
     "text": [
      "PyAEDT ERROR:   File \"<frozen runpy>\", line 198, in _run_module_as_main\n"
     ]
    },
    {
     "name": "stdout",
     "output_type": "stream",
     "text": [
      "PyAEDT ERROR:   File \"<frozen runpy>\", line 88, in _run_code\n"
     ]
    },
    {
     "name": "stdout",
     "output_type": "stream",
     "text": [
      "PyAEDT ERROR:   File \"C:\\actions-runner\\_work\\pyaedt-toolkits-antenna\\pyaedt-toolkits-antenna\\.venv\\Lib\\site-packages\\ipykernel_launcher.py\", line 18, in <module>\n"
     ]
    },
    {
     "name": "stdout",
     "output_type": "stream",
     "text": [
      "PyAEDT ERROR:     app.launch_new_instance()\n"
     ]
    },
    {
     "name": "stdout",
     "output_type": "stream",
     "text": [
      "PyAEDT ERROR:   File \"C:\\actions-runner\\_work\\pyaedt-toolkits-antenna\\pyaedt-toolkits-antenna\\.venv\\Lib\\site-packages\\traitlets\\config\\application.py\", line 1075, in launch_instance\n"
     ]
    },
    {
     "name": "stdout",
     "output_type": "stream",
     "text": [
      "PyAEDT ERROR:     app.start()\n"
     ]
    },
    {
     "name": "stdout",
     "output_type": "stream",
     "text": [
      "PyAEDT ERROR:   File \"C:\\actions-runner\\_work\\pyaedt-toolkits-antenna\\pyaedt-toolkits-antenna\\.venv\\Lib\\site-packages\\ipykernel\\kernelapp.py\", line 739, in start\n"
     ]
    },
    {
     "name": "stdout",
     "output_type": "stream",
     "text": [
      "PyAEDT ERROR:     self.io_loop.start()\n"
     ]
    },
    {
     "name": "stdout",
     "output_type": "stream",
     "text": [
      "PyAEDT ERROR:   File \"C:\\actions-runner\\_work\\pyaedt-toolkits-antenna\\pyaedt-toolkits-antenna\\.venv\\Lib\\site-packages\\tornado\\platform\\asyncio.py\", line 211, in start\n"
     ]
    },
    {
     "name": "stdout",
     "output_type": "stream",
     "text": [
      "PyAEDT ERROR:     self.asyncio_loop.run_forever()\n"
     ]
    },
    {
     "name": "stdout",
     "output_type": "stream",
     "text": [
      "PyAEDT ERROR:   File \"C:\\actions-runner\\_work\\_tool\\Python\\3.12.10\\x64\\Lib\\asyncio\\base_events.py\", line 645, in run_forever\n"
     ]
    },
    {
     "name": "stdout",
     "output_type": "stream",
     "text": [
      "PyAEDT ERROR:     self._run_once()\n"
     ]
    },
    {
     "name": "stdout",
     "output_type": "stream",
     "text": [
      "PyAEDT ERROR:   File \"C:\\actions-runner\\_work\\_tool\\Python\\3.12.10\\x64\\Lib\\asyncio\\base_events.py\", line 1999, in _run_once\n"
     ]
    },
    {
     "name": "stdout",
     "output_type": "stream",
     "text": [
      "PyAEDT ERROR:     handle._run()\n"
     ]
    },
    {
     "name": "stdout",
     "output_type": "stream",
     "text": [
      "PyAEDT ERROR:   File \"C:\\actions-runner\\_work\\_tool\\Python\\3.12.10\\x64\\Lib\\asyncio\\events.py\", line 88, in _run\n"
     ]
    },
    {
     "name": "stdout",
     "output_type": "stream",
     "text": [
      "PyAEDT ERROR:     self._context.run(self._callback, *self._args)\n"
     ]
    },
    {
     "name": "stdout",
     "output_type": "stream",
     "text": [
      "PyAEDT ERROR:   File \"C:\\actions-runner\\_work\\pyaedt-toolkits-antenna\\pyaedt-toolkits-antenna\\.venv\\Lib\\site-packages\\ipykernel\\kernelbase.py\", line 545, in dispatch_queue\n"
     ]
    },
    {
     "name": "stdout",
     "output_type": "stream",
     "text": [
      "PyAEDT ERROR:     await self.process_one()\n"
     ]
    },
    {
     "name": "stdout",
     "output_type": "stream",
     "text": [
      "PyAEDT ERROR:   File \"C:\\actions-runner\\_work\\pyaedt-toolkits-antenna\\pyaedt-toolkits-antenna\\.venv\\Lib\\site-packages\\ipykernel\\kernelbase.py\", line 534, in process_one\n"
     ]
    },
    {
     "name": "stdout",
     "output_type": "stream",
     "text": [
      "PyAEDT ERROR:     await dispatch(*args)\n"
     ]
    },
    {
     "name": "stdout",
     "output_type": "stream",
     "text": [
      "PyAEDT ERROR:   File \"C:\\actions-runner\\_work\\pyaedt-toolkits-antenna\\pyaedt-toolkits-antenna\\.venv\\Lib\\site-packages\\ipykernel\\kernelbase.py\", line 437, in dispatch_shell\n"
     ]
    },
    {
     "name": "stdout",
     "output_type": "stream",
     "text": [
      "PyAEDT ERROR:     await result\n"
     ]
    },
    {
     "name": "stdout",
     "output_type": "stream",
     "text": [
      "PyAEDT ERROR:   File \"C:\\actions-runner\\_work\\pyaedt-toolkits-antenna\\pyaedt-toolkits-antenna\\.venv\\Lib\\site-packages\\ipykernel\\ipkernel.py\", line 362, in execute_request\n"
     ]
    },
    {
     "name": "stdout",
     "output_type": "stream",
     "text": [
      "PyAEDT ERROR:     await super().execute_request(stream, ident, parent)\n"
     ]
    },
    {
     "name": "stdout",
     "output_type": "stream",
     "text": [
      "PyAEDT ERROR:   File \"C:\\actions-runner\\_work\\pyaedt-toolkits-antenna\\pyaedt-toolkits-antenna\\.venv\\Lib\\site-packages\\ipykernel\\kernelbase.py\", line 778, in execute_request\n"
     ]
    },
    {
     "name": "stdout",
     "output_type": "stream",
     "text": [
      "PyAEDT ERROR:     reply_content = await reply_content\n"
     ]
    },
    {
     "name": "stdout",
     "output_type": "stream",
     "text": [
      "PyAEDT ERROR:   File \"C:\\actions-runner\\_work\\pyaedt-toolkits-antenna\\pyaedt-toolkits-antenna\\.venv\\Lib\\site-packages\\ipykernel\\ipkernel.py\", line 449, in do_execute\n"
     ]
    },
    {
     "name": "stdout",
     "output_type": "stream",
     "text": [
      "PyAEDT ERROR:     res = shell.run_cell(\n"
     ]
    },
    {
     "name": "stdout",
     "output_type": "stream",
     "text": [
      "PyAEDT ERROR:   File \"C:\\actions-runner\\_work\\pyaedt-toolkits-antenna\\pyaedt-toolkits-antenna\\.venv\\Lib\\site-packages\\ipykernel\\zmqshell.py\", line 549, in run_cell\n"
     ]
    },
    {
     "name": "stdout",
     "output_type": "stream",
     "text": [
      "PyAEDT ERROR:     return super().run_cell(*args, **kwargs)\n"
     ]
    },
    {
     "name": "stdout",
     "output_type": "stream",
     "text": [
      "PyAEDT ERROR:   File \"C:\\Users\\ansys\\AppData\\Local\\Temp\\ipykernel_8412\\1978182973.py\", line 2, in <module>\n"
     ]
    },
    {
     "name": "stdout",
     "output_type": "stream",
     "text": [
      "PyAEDT ERROR:     farfield_metadata, farfield_frequency = toolkit_api.export_farfield(\n"
     ]
    },
    {
     "name": "stdout",
     "output_type": "stream",
     "text": [
      "PyAEDT ERROR:   File \"C:\\actions-runner\\_work\\pyaedt-toolkits-antenna\\pyaedt-toolkits-antenna\\.venv\\Lib\\site-packages\\ansys\\aedt\\toolkits\\antenna\\backend\\api.py\", line 336, in export_farfield\n"
     ]
    },
    {
     "name": "stdout",
     "output_type": "stream",
     "text": [
      "PyAEDT ERROR:     farfield_exporter = self.aedtapp.get_antenna_data(\n"
     ]
    },
    {
     "name": "stdout",
     "output_type": "stream",
     "text": [
      "PyAEDT ERROR:   File \"C:\\actions-runner\\_work\\pyaedt-toolkits-antenna\\pyaedt-toolkits-antenna\\.venv\\Lib\\site-packages\\ansys\\aedt\\core\\hfss.py\", line 6358, in get_antenna_data\n"
     ]
    },
    {
     "name": "stdout",
     "output_type": "stream",
     "text": [
      "PyAEDT ERROR:     metadata_file = ffd.export_farfield()\n"
     ]
    },
    {
     "name": "stdout",
     "output_type": "stream",
     "text": [
      "PyAEDT ERROR:   File \"C:\\actions-runner\\_work\\pyaedt-toolkits-antenna\\pyaedt-toolkits-antenna\\.venv\\Lib\\site-packages\\ansys\\aedt\\core\\visualization\\post\\farfield_exporter.py\", line 223, in export_farfield\n"
     ]
    },
    {
     "name": "stdout",
     "output_type": "stream",
     "text": [
      "PyAEDT ERROR:     obj_list = self.__create_geometries(geometry_path)\n"
     ]
    },
    {
     "name": "stdout",
     "output_type": "stream",
     "text": [
      "PyAEDT ERROR:   File \"C:\\actions-runner\\_work\\pyaedt-toolkits-antenna\\pyaedt-toolkits-antenna\\.venv\\Lib\\site-packages\\ansys\\aedt\\core\\visualization\\post\\farfield_exporter.py\", line 338, in __create_geometries\n"
     ]
    },
    {
     "name": "stdout",
     "output_type": "stream",
     "text": [
      "PyAEDT ERROR:     model_pv = self.__app.post.get_model_plotter_geometries(plot_air_objects=False)\n"
     ]
    },
    {
     "name": "stdout",
     "output_type": "stream",
     "text": [
      "PyAEDT ERROR:   File \"C:\\actions-runner\\_work\\pyaedt-toolkits-antenna\\pyaedt-toolkits-antenna\\.venv\\Lib\\site-packages\\ansys\\aedt\\core\\visualization\\post\\post_common_3d.py\", line 1927, in get_model_plotter_geometries\n"
     ]
    },
    {
     "name": "stdout",
     "output_type": "stream",
     "text": [
      "PyAEDT ERROR:     model.generate_geometry_mesh()\n"
     ]
    },
    {
     "name": "stdout",
     "output_type": "stream",
     "text": [
      "PyAEDT ERROR:   File \"C:\\actions-runner\\_work\\pyaedt-toolkits-antenna\\pyaedt-toolkits-antenna\\.venv\\Lib\\site-packages\\ansys\\aedt\\core\\visualization\\plot\\pyvista.py\", line 1619, in generate_geometry_mesh\n"
     ]
    },
    {
     "name": "stdout",
     "output_type": "stream",
     "text": [
      "PyAEDT ERROR:     self.pv = pv.Plotter(notebook=self.is_notebook, window_size=self.windows_size)\n"
     ]
    },
    {
     "name": "stdout",
     "output_type": "stream",
     "text": [
      "PyAEDT ERROR:               ^^\n"
     ]
    },
    {
     "name": "stdout",
     "output_type": "stream",
     "text": [
      "PyAEDT ERROR: Name 'pv' is not defined on generate_geometry_mesh\n"
     ]
    },
    {
     "name": "stdout",
     "output_type": "stream",
     "text": [
      "PyAEDT ERROR: Last Electronics Desktop Message - [error]  script macro error: command is read only. (07:49:34 am  may 22, 2025)\n"
     ]
    },
    {
     "name": "stdout",
     "output_type": "stream",
     "text": [
      "PyAEDT ERROR: **************************************************************\n"
     ]
    },
    {
     "name": "stdout",
     "output_type": "stream",
     "text": [
      "PyAEDT INFO: Exporting embedded element patterns.... Done: 0.9561047554016113 seconds\n"
     ]
    },
    {
     "name": "stdout",
     "output_type": "stream",
     "text": [
      "PyAEDT INFO: Desktop has been released.\n"
     ]
    },
    {
     "name": "stderr",
     "output_type": "stream",
     "text": [
      "INFO - AEDT is released.\n"
     ]
    }
   ],
   "source": [
    "frequency_str = [str(properties.antenna.synthesis.frequency) + properties.antenna.synthesis.frequency_unit]\n",
    "farfield_metadata, farfield_frequency = toolkit_api.export_farfield(\n",
    "    frequencies=frequency_str, sphere=\"3D\", encode=False\n",
    ")"
   ]
  },
  {
   "cell_type": "markdown",
   "id": "fae66e52",
   "metadata": {},
   "source": [
    "## Get antenna model"
   ]
  },
  {
   "cell_type": "code",
   "execution_count": 35,
   "id": "dda24ef2",
   "metadata": {
    "execution": {
     "iopub.execute_input": "2025-05-22T07:50:53.484552Z",
     "iopub.status.busy": "2025-05-22T07:50:53.484552Z",
     "iopub.status.idle": "2025-05-22T07:50:54.597124Z",
     "shell.execute_reply": "2025-05-22T07:50:54.597124Z"
    }
   },
   "outputs": [
    {
     "name": "stderr",
     "output_type": "stream",
     "text": [
      "DEBUG - Toolkit is not connected to AEDT.\n"
     ]
    },
    {
     "name": "stderr",
     "output_type": "stream",
     "text": [
      "DEBUG - Connecting AEDT.\n"
     ]
    },
    {
     "name": "stdout",
     "output_type": "stream",
     "text": [
      "PyAEDT INFO: Python version 3.12.10 (tags/v3.12.10:0cc8128, Apr  8 2025, 12:21:36) [MSC v.1943 64 bit (AMD64)].\n"
     ]
    },
    {
     "name": "stdout",
     "output_type": "stream",
     "text": [
      "PyAEDT INFO: PyAEDT version 0.16.2.\n"
     ]
    },
    {
     "name": "stdout",
     "output_type": "stream",
     "text": [
      "PyAEDT INFO: Initializing new Desktop session.\n"
     ]
    },
    {
     "name": "stdout",
     "output_type": "stream",
     "text": [
      "PyAEDT INFO: Log on console is enabled.\n"
     ]
    },
    {
     "name": "stdout",
     "output_type": "stream",
     "text": [
      "PyAEDT INFO: Log on file C:\\Users\\ansys\\AppData\\Local\\Temp\\pyaedt_ansys_ca281d9d-94de-445a-8866-6ce9242a93c4.log is enabled.\n"
     ]
    },
    {
     "name": "stdout",
     "output_type": "stream",
     "text": [
      "PyAEDT INFO: Log on AEDT is disabled.\n"
     ]
    },
    {
     "name": "stdout",
     "output_type": "stream",
     "text": [
      "PyAEDT INFO: Debug logger is disabled. PyAEDT methods will not be logged.\n"
     ]
    },
    {
     "name": "stdout",
     "output_type": "stream",
     "text": [
      "PyAEDT INFO: Launching PyAEDT with gRPC plugin.\n"
     ]
    },
    {
     "name": "stdout",
     "output_type": "stream",
     "text": [
      "PyAEDT INFO: Connecting to AEDT session on gRPC port 52533.\n"
     ]
    },
    {
     "name": "stdout",
     "output_type": "stream",
     "text": [
      "PyAEDT INFO: AEDT installation Path C:\\Program Files\\ANSYS Inc\\v251\\AnsysEM\n"
     ]
    },
    {
     "name": "stderr",
     "output_type": "stream",
     "text": [
      "DEBUG - Toolkit is connected to AEDT.\n"
     ]
    },
    {
     "name": "stdout",
     "output_type": "stream",
     "text": [
      "PyAEDT INFO: Python version 3.12.10 (tags/v3.12.10:0cc8128, Apr  8 2025, 12:21:36) [MSC v.1943 64 bit (AMD64)].\n"
     ]
    },
    {
     "name": "stdout",
     "output_type": "stream",
     "text": [
      "PyAEDT INFO: PyAEDT version 0.16.2.\n"
     ]
    },
    {
     "name": "stdout",
     "output_type": "stream",
     "text": [
      "PyAEDT INFO: Returning found Desktop session with PID 9544!\n"
     ]
    },
    {
     "name": "stdout",
     "output_type": "stream",
     "text": [
      "PyAEDT INFO: Project antenna_toolkit set to active.\n"
     ]
    },
    {
     "name": "stdout",
     "output_type": "stream",
     "text": [
      "PyAEDT INFO: Active Design set to HFSS_GO01VV\n"
     ]
    },
    {
     "name": "stdout",
     "output_type": "stream",
     "text": [
      "PyAEDT INFO: Aedt Objects correctly read\n"
     ]
    },
    {
     "name": "stderr",
     "output_type": "stream",
     "text": [
      "INFO - Toolkit is connected to AEDT design.\n"
     ]
    },
    {
     "name": "stdout",
     "output_type": "stream",
     "text": [
      "PyAEDT INFO: Project antenna_toolkit Saved correctly\n"
     ]
    },
    {
     "name": "stdout",
     "output_type": "stream",
     "text": [
      "PyAEDT INFO: Parsing C:/Users/ansys/AppData/Local/Temp/tmpbur7r48h_ansys/pyaedt_prj_NP9/antenna_toolkit.aedt.\n"
     ]
    },
    {
     "name": "stdout",
     "output_type": "stream",
     "text": [
      "PyAEDT INFO: File C:/Users/ansys/AppData/Local/Temp/tmpbur7r48h_ansys/pyaedt_prj_NP9/antenna_toolkit.aedt correctly loaded. Elapsed time: 0m 0sec\n"
     ]
    },
    {
     "name": "stdout",
     "output_type": "stream",
     "text": [
      "PyAEDT INFO: aedt file load time 0.05015277862548828\n"
     ]
    },
    {
     "name": "stdout",
     "output_type": "stream",
     "text": [
      "PyAEDT INFO: PostProcessor class has been initialized! Elapsed time: 0m 0sec\n"
     ]
    },
    {
     "name": "stdout",
     "output_type": "stream",
     "text": [
      "PyAEDT INFO: PostProcessor class has been initialized! Elapsed time: 0m 0sec\n"
     ]
    },
    {
     "name": "stdout",
     "output_type": "stream",
     "text": [
      "PyAEDT INFO: Post class has been initialized! Elapsed time: 0m 0sec\n"
     ]
    },
    {
     "name": "stdout",
     "output_type": "stream",
     "text": [
      "PyAEDT WARNING: Argument `export_as_single_objects` is deprecated for method `export_model_obj`; use `export_as_multiple_objects` instead.\n"
     ]
    },
    {
     "name": "stdout",
     "output_type": "stream",
     "text": [
      "PyAEDT INFO: Modeler class has been initialized! Elapsed time: 0m 0sec\n"
     ]
    },
    {
     "name": "stdout",
     "output_type": "stream",
     "text": [
      "PyAEDT INFO: Desktop has been released.\n"
     ]
    },
    {
     "name": "stderr",
     "output_type": "stream",
     "text": [
      "INFO - AEDT is released.\n"
     ]
    }
   ],
   "source": [
    "files = toolkit_api.export_aedt_model(encode=False)"
   ]
  },
  {
   "cell_type": "markdown",
   "id": "4825e93c",
   "metadata": {},
   "source": [
    "## Release AEDT\n",
    "\n",
    "Release AEDT."
   ]
  },
  {
   "cell_type": "code",
   "execution_count": 36,
   "id": "79004895",
   "metadata": {
    "execution": {
     "iopub.execute_input": "2025-05-22T07:50:54.597124Z",
     "iopub.status.busy": "2025-05-22T07:50:54.597124Z",
     "iopub.status.idle": "2025-05-22T07:51:00.233523Z",
     "shell.execute_reply": "2025-05-22T07:51:00.233523Z"
    }
   },
   "outputs": [
    {
     "name": "stderr",
     "output_type": "stream",
     "text": [
      "DEBUG - Toolkit is not connected to AEDT.\n"
     ]
    },
    {
     "name": "stderr",
     "output_type": "stream",
     "text": [
      "DEBUG - Connecting AEDT.\n"
     ]
    },
    {
     "name": "stdout",
     "output_type": "stream",
     "text": [
      "PyAEDT INFO: Python version 3.12.10 (tags/v3.12.10:0cc8128, Apr  8 2025, 12:21:36) [MSC v.1943 64 bit (AMD64)].\n"
     ]
    },
    {
     "name": "stdout",
     "output_type": "stream",
     "text": [
      "PyAEDT INFO: PyAEDT version 0.16.2.\n"
     ]
    },
    {
     "name": "stdout",
     "output_type": "stream",
     "text": [
      "PyAEDT INFO: Initializing new Desktop session.\n"
     ]
    },
    {
     "name": "stdout",
     "output_type": "stream",
     "text": [
      "PyAEDT INFO: Log on console is enabled.\n"
     ]
    },
    {
     "name": "stdout",
     "output_type": "stream",
     "text": [
      "PyAEDT INFO: Log on file C:\\Users\\ansys\\AppData\\Local\\Temp\\pyaedt_ansys_ca281d9d-94de-445a-8866-6ce9242a93c4.log is enabled.\n"
     ]
    },
    {
     "name": "stdout",
     "output_type": "stream",
     "text": [
      "PyAEDT INFO: Log on AEDT is disabled.\n"
     ]
    },
    {
     "name": "stdout",
     "output_type": "stream",
     "text": [
      "PyAEDT INFO: Debug logger is disabled. PyAEDT methods will not be logged.\n"
     ]
    },
    {
     "name": "stdout",
     "output_type": "stream",
     "text": [
      "PyAEDT INFO: Launching PyAEDT with gRPC plugin.\n"
     ]
    },
    {
     "name": "stdout",
     "output_type": "stream",
     "text": [
      "PyAEDT INFO: Connecting to AEDT session on gRPC port 52533.\n"
     ]
    },
    {
     "name": "stdout",
     "output_type": "stream",
     "text": [
      "PyAEDT INFO: AEDT installation Path C:\\Program Files\\ANSYS Inc\\v251\\AnsysEM\n"
     ]
    },
    {
     "name": "stderr",
     "output_type": "stream",
     "text": [
      "DEBUG - Toolkit is connected to AEDT.\n"
     ]
    },
    {
     "name": "stdout",
     "output_type": "stream",
     "text": [
      "PyAEDT INFO: Desktop has been released and closed.\n"
     ]
    },
    {
     "name": "stderr",
     "output_type": "stream",
     "text": [
      "INFO - AEDT is released.\n"
     ]
    },
    {
     "data": {
      "text/plain": [
       "True"
      ]
     },
     "execution_count": 36,
     "metadata": {},
     "output_type": "execute_result"
    }
   ],
   "source": [
    "toolkit_api.release_aedt(True, True)"
   ]
  },
  {
   "cell_type": "markdown",
   "id": "86de29f1",
   "metadata": {},
   "source": [
    "## Plot results"
   ]
  },
  {
   "cell_type": "markdown",
   "id": "d15da801",
   "metadata": {},
   "source": [
    "Plot exported files"
   ]
  },
  {
   "cell_type": "code",
   "execution_count": 37,
   "id": "afa5401b",
   "metadata": {
    "execution": {
     "iopub.execute_input": "2025-05-22T07:51:00.233523Z",
     "iopub.status.busy": "2025-05-22T07:51:00.233523Z",
     "iopub.status.idle": "2025-05-22T07:51:00.240572Z",
     "shell.execute_reply": "2025-05-22T07:51:00.240572Z"
    }
   },
   "outputs": [],
   "source": [
    "from ansys.aedt.core.visualization.plot.pyvista import ModelPlotter"
   ]
  },
  {
   "cell_type": "code",
   "execution_count": 38,
   "id": "48c4de15",
   "metadata": {
    "execution": {
     "iopub.execute_input": "2025-05-22T07:51:00.240572Z",
     "iopub.status.busy": "2025-05-22T07:51:00.240572Z",
     "iopub.status.idle": "2025-05-22T07:51:00.247453Z",
     "shell.execute_reply": "2025-05-22T07:51:00.247453Z"
    }
   },
   "outputs": [],
   "source": [
    "model = ModelPlotter()\n",
    "for file in files:\n",
    "    model.add_object(file[0], file[1], file[2])"
   ]
  },
  {
   "cell_type": "code",
   "execution_count": 39,
   "id": "abde1dd9",
   "metadata": {
    "execution": {
     "iopub.execute_input": "2025-05-22T07:51:00.247453Z",
     "iopub.status.busy": "2025-05-22T07:51:00.247453Z",
     "iopub.status.idle": "2025-05-22T07:51:00.328898Z",
     "shell.execute_reply": "2025-05-22T07:51:00.328898Z"
    }
   },
   "outputs": [
    {
     "name": "stdout",
     "output_type": "stream",
     "text": [
      "PyAEDT ERROR: **************************************************************\n"
     ]
    },
    {
     "name": "stdout",
     "output_type": "stream",
     "text": [
      "PyAEDT ERROR:   File \"<frozen runpy>\", line 198, in _run_module_as_main\n"
     ]
    },
    {
     "name": "stdout",
     "output_type": "stream",
     "text": [
      "PyAEDT ERROR:   File \"<frozen runpy>\", line 88, in _run_code\n"
     ]
    },
    {
     "name": "stdout",
     "output_type": "stream",
     "text": [
      "PyAEDT ERROR:   File \"C:\\actions-runner\\_work\\pyaedt-toolkits-antenna\\pyaedt-toolkits-antenna\\.venv\\Lib\\site-packages\\ipykernel_launcher.py\", line 18, in <module>\n"
     ]
    },
    {
     "name": "stdout",
     "output_type": "stream",
     "text": [
      "PyAEDT ERROR:     app.launch_new_instance()\n"
     ]
    },
    {
     "name": "stdout",
     "output_type": "stream",
     "text": [
      "PyAEDT ERROR:   File \"C:\\actions-runner\\_work\\pyaedt-toolkits-antenna\\pyaedt-toolkits-antenna\\.venv\\Lib\\site-packages\\traitlets\\config\\application.py\", line 1075, in launch_instance\n"
     ]
    },
    {
     "name": "stdout",
     "output_type": "stream",
     "text": [
      "PyAEDT ERROR:     app.start()\n"
     ]
    },
    {
     "name": "stdout",
     "output_type": "stream",
     "text": [
      "PyAEDT ERROR:   File \"C:\\actions-runner\\_work\\pyaedt-toolkits-antenna\\pyaedt-toolkits-antenna\\.venv\\Lib\\site-packages\\ipykernel\\kernelapp.py\", line 739, in start\n"
     ]
    },
    {
     "name": "stdout",
     "output_type": "stream",
     "text": [
      "PyAEDT ERROR:     self.io_loop.start()\n"
     ]
    },
    {
     "name": "stdout",
     "output_type": "stream",
     "text": [
      "PyAEDT ERROR:   File \"C:\\actions-runner\\_work\\pyaedt-toolkits-antenna\\pyaedt-toolkits-antenna\\.venv\\Lib\\site-packages\\tornado\\platform\\asyncio.py\", line 211, in start\n"
     ]
    },
    {
     "name": "stdout",
     "output_type": "stream",
     "text": [
      "PyAEDT ERROR:     self.asyncio_loop.run_forever()\n"
     ]
    },
    {
     "name": "stdout",
     "output_type": "stream",
     "text": [
      "PyAEDT ERROR:   File \"C:\\actions-runner\\_work\\_tool\\Python\\3.12.10\\x64\\Lib\\asyncio\\base_events.py\", line 645, in run_forever\n"
     ]
    },
    {
     "name": "stdout",
     "output_type": "stream",
     "text": [
      "PyAEDT ERROR:     self._run_once()\n"
     ]
    },
    {
     "name": "stdout",
     "output_type": "stream",
     "text": [
      "PyAEDT ERROR:   File \"C:\\actions-runner\\_work\\_tool\\Python\\3.12.10\\x64\\Lib\\asyncio\\base_events.py\", line 1999, in _run_once\n"
     ]
    },
    {
     "name": "stdout",
     "output_type": "stream",
     "text": [
      "PyAEDT ERROR:     handle._run()\n"
     ]
    },
    {
     "name": "stdout",
     "output_type": "stream",
     "text": [
      "PyAEDT ERROR:   File \"C:\\actions-runner\\_work\\_tool\\Python\\3.12.10\\x64\\Lib\\asyncio\\events.py\", line 88, in _run\n"
     ]
    },
    {
     "name": "stdout",
     "output_type": "stream",
     "text": [
      "PyAEDT ERROR:     self._context.run(self._callback, *self._args)\n"
     ]
    },
    {
     "name": "stdout",
     "output_type": "stream",
     "text": [
      "PyAEDT ERROR:   File \"C:\\actions-runner\\_work\\pyaedt-toolkits-antenna\\pyaedt-toolkits-antenna\\.venv\\Lib\\site-packages\\ipykernel\\kernelbase.py\", line 545, in dispatch_queue\n"
     ]
    },
    {
     "name": "stdout",
     "output_type": "stream",
     "text": [
      "PyAEDT ERROR:     await self.process_one()\n"
     ]
    },
    {
     "name": "stdout",
     "output_type": "stream",
     "text": [
      "PyAEDT ERROR:   File \"C:\\actions-runner\\_work\\pyaedt-toolkits-antenna\\pyaedt-toolkits-antenna\\.venv\\Lib\\site-packages\\ipykernel\\kernelbase.py\", line 534, in process_one\n"
     ]
    },
    {
     "name": "stdout",
     "output_type": "stream",
     "text": [
      "PyAEDT ERROR:     await dispatch(*args)\n"
     ]
    },
    {
     "name": "stdout",
     "output_type": "stream",
     "text": [
      "PyAEDT ERROR:   File \"C:\\actions-runner\\_work\\pyaedt-toolkits-antenna\\pyaedt-toolkits-antenna\\.venv\\Lib\\site-packages\\ipykernel\\kernelbase.py\", line 437, in dispatch_shell\n"
     ]
    },
    {
     "name": "stdout",
     "output_type": "stream",
     "text": [
      "PyAEDT ERROR:     await result\n"
     ]
    },
    {
     "name": "stdout",
     "output_type": "stream",
     "text": [
      "PyAEDT ERROR:   File \"C:\\actions-runner\\_work\\pyaedt-toolkits-antenna\\pyaedt-toolkits-antenna\\.venv\\Lib\\site-packages\\ipykernel\\ipkernel.py\", line 362, in execute_request\n"
     ]
    },
    {
     "name": "stdout",
     "output_type": "stream",
     "text": [
      "PyAEDT ERROR:     await super().execute_request(stream, ident, parent)\n"
     ]
    },
    {
     "name": "stdout",
     "output_type": "stream",
     "text": [
      "PyAEDT ERROR:   File \"C:\\actions-runner\\_work\\pyaedt-toolkits-antenna\\pyaedt-toolkits-antenna\\.venv\\Lib\\site-packages\\ipykernel\\kernelbase.py\", line 778, in execute_request\n"
     ]
    },
    {
     "name": "stdout",
     "output_type": "stream",
     "text": [
      "PyAEDT ERROR:     reply_content = await reply_content\n"
     ]
    },
    {
     "name": "stdout",
     "output_type": "stream",
     "text": [
      "PyAEDT ERROR:   File \"C:\\actions-runner\\_work\\pyaedt-toolkits-antenna\\pyaedt-toolkits-antenna\\.venv\\Lib\\site-packages\\ipykernel\\ipkernel.py\", line 449, in do_execute\n"
     ]
    },
    {
     "name": "stdout",
     "output_type": "stream",
     "text": [
      "PyAEDT ERROR:     res = shell.run_cell(\n"
     ]
    },
    {
     "name": "stdout",
     "output_type": "stream",
     "text": [
      "PyAEDT ERROR:   File \"C:\\actions-runner\\_work\\pyaedt-toolkits-antenna\\pyaedt-toolkits-antenna\\.venv\\Lib\\site-packages\\ipykernel\\zmqshell.py\", line 549, in run_cell\n"
     ]
    },
    {
     "name": "stdout",
     "output_type": "stream",
     "text": [
      "PyAEDT ERROR:     return super().run_cell(*args, **kwargs)\n"
     ]
    },
    {
     "name": "stdout",
     "output_type": "stream",
     "text": [
      "PyAEDT ERROR:   File \"C:\\Users\\ansys\\AppData\\Local\\Temp\\ipykernel_8412\\1893892073.py\", line 1, in <module>\n"
     ]
    },
    {
     "name": "stdout",
     "output_type": "stream",
     "text": [
      "PyAEDT ERROR:     model.plot(show=False)\n"
     ]
    },
    {
     "name": "stdout",
     "output_type": "stream",
     "text": [
      "PyAEDT ERROR:   File \"C:\\actions-runner\\_work\\pyaedt-toolkits-antenna\\pyaedt-toolkits-antenna\\.venv\\Lib\\site-packages\\ansys\\aedt\\core\\visualization\\plot\\pyvista.py\", line 1370, in plot\n"
     ]
    },
    {
     "name": "stdout",
     "output_type": "stream",
     "text": [
      "PyAEDT ERROR:     self.populate_pyvista_object()\n"
     ]
    },
    {
     "name": "stdout",
     "output_type": "stream",
     "text": [
      "PyAEDT ERROR:   File \"C:\\actions-runner\\_work\\pyaedt-toolkits-antenna\\pyaedt-toolkits-antenna\\.venv\\Lib\\site-packages\\ansys\\aedt\\core\\visualization\\plot\\pyvista.py\", line 1248, in populate_pyvista_object\n"
     ]
    },
    {
     "name": "stdout",
     "output_type": "stream",
     "text": [
      "PyAEDT ERROR:     self.pv = pv.Plotter(notebook=self.is_notebook, off_screen=self.off_screen, window_size=self.windows_size)\n"
     ]
    },
    {
     "name": "stdout",
     "output_type": "stream",
     "text": [
      "PyAEDT ERROR:               ^^\n"
     ]
    },
    {
     "name": "stdout",
     "output_type": "stream",
     "text": [
      "PyAEDT ERROR: Name 'pv' is not defined on populate_pyvista_object\n"
     ]
    },
    {
     "name": "stdout",
     "output_type": "stream",
     "text": [
      "PyAEDT ERROR: **************************************************************\n"
     ]
    },
    {
     "name": "stdout",
     "output_type": "stream",
     "text": [
      "PyAEDT ERROR: **************************************************************\n"
     ]
    },
    {
     "name": "stdout",
     "output_type": "stream",
     "text": [
      "PyAEDT ERROR:   File \"<frozen runpy>\", line 198, in _run_module_as_main\n"
     ]
    },
    {
     "name": "stdout",
     "output_type": "stream",
     "text": [
      "PyAEDT ERROR:   File \"<frozen runpy>\", line 88, in _run_code\n"
     ]
    },
    {
     "name": "stdout",
     "output_type": "stream",
     "text": [
      "PyAEDT ERROR:   File \"C:\\actions-runner\\_work\\pyaedt-toolkits-antenna\\pyaedt-toolkits-antenna\\.venv\\Lib\\site-packages\\ipykernel_launcher.py\", line 18, in <module>\n"
     ]
    },
    {
     "name": "stdout",
     "output_type": "stream",
     "text": [
      "PyAEDT ERROR:     app.launch_new_instance()\n"
     ]
    },
    {
     "name": "stdout",
     "output_type": "stream",
     "text": [
      "PyAEDT ERROR:   File \"C:\\actions-runner\\_work\\pyaedt-toolkits-antenna\\pyaedt-toolkits-antenna\\.venv\\Lib\\site-packages\\traitlets\\config\\application.py\", line 1075, in launch_instance\n"
     ]
    },
    {
     "name": "stdout",
     "output_type": "stream",
     "text": [
      "PyAEDT ERROR:     app.start()\n"
     ]
    },
    {
     "name": "stdout",
     "output_type": "stream",
     "text": [
      "PyAEDT ERROR:   File \"C:\\actions-runner\\_work\\pyaedt-toolkits-antenna\\pyaedt-toolkits-antenna\\.venv\\Lib\\site-packages\\ipykernel\\kernelapp.py\", line 739, in start\n"
     ]
    },
    {
     "name": "stdout",
     "output_type": "stream",
     "text": [
      "PyAEDT ERROR:     self.io_loop.start()\n"
     ]
    },
    {
     "name": "stdout",
     "output_type": "stream",
     "text": [
      "PyAEDT ERROR:   File \"C:\\actions-runner\\_work\\pyaedt-toolkits-antenna\\pyaedt-toolkits-antenna\\.venv\\Lib\\site-packages\\tornado\\platform\\asyncio.py\", line 211, in start\n"
     ]
    },
    {
     "name": "stdout",
     "output_type": "stream",
     "text": [
      "PyAEDT ERROR:     self.asyncio_loop.run_forever()\n"
     ]
    },
    {
     "name": "stdout",
     "output_type": "stream",
     "text": [
      "PyAEDT ERROR:   File \"C:\\actions-runner\\_work\\_tool\\Python\\3.12.10\\x64\\Lib\\asyncio\\base_events.py\", line 645, in run_forever\n"
     ]
    },
    {
     "name": "stdout",
     "output_type": "stream",
     "text": [
      "PyAEDT ERROR:     self._run_once()\n"
     ]
    },
    {
     "name": "stdout",
     "output_type": "stream",
     "text": [
      "PyAEDT ERROR:   File \"C:\\actions-runner\\_work\\_tool\\Python\\3.12.10\\x64\\Lib\\asyncio\\base_events.py\", line 1999, in _run_once\n"
     ]
    },
    {
     "name": "stdout",
     "output_type": "stream",
     "text": [
      "PyAEDT ERROR:     handle._run()\n"
     ]
    },
    {
     "name": "stdout",
     "output_type": "stream",
     "text": [
      "PyAEDT ERROR:   File \"C:\\actions-runner\\_work\\_tool\\Python\\3.12.10\\x64\\Lib\\asyncio\\events.py\", line 88, in _run\n"
     ]
    },
    {
     "name": "stdout",
     "output_type": "stream",
     "text": [
      "PyAEDT ERROR:     self._context.run(self._callback, *self._args)\n"
     ]
    },
    {
     "name": "stdout",
     "output_type": "stream",
     "text": [
      "PyAEDT ERROR:   File \"C:\\actions-runner\\_work\\pyaedt-toolkits-antenna\\pyaedt-toolkits-antenna\\.venv\\Lib\\site-packages\\ipykernel\\kernelbase.py\", line 545, in dispatch_queue\n"
     ]
    },
    {
     "name": "stdout",
     "output_type": "stream",
     "text": [
      "PyAEDT ERROR:     await self.process_one()\n"
     ]
    },
    {
     "name": "stdout",
     "output_type": "stream",
     "text": [
      "PyAEDT ERROR:   File \"C:\\actions-runner\\_work\\pyaedt-toolkits-antenna\\pyaedt-toolkits-antenna\\.venv\\Lib\\site-packages\\ipykernel\\kernelbase.py\", line 534, in process_one\n"
     ]
    },
    {
     "name": "stdout",
     "output_type": "stream",
     "text": [
      "PyAEDT ERROR:     await dispatch(*args)\n"
     ]
    },
    {
     "name": "stdout",
     "output_type": "stream",
     "text": [
      "PyAEDT ERROR:   File \"C:\\actions-runner\\_work\\pyaedt-toolkits-antenna\\pyaedt-toolkits-antenna\\.venv\\Lib\\site-packages\\ipykernel\\kernelbase.py\", line 437, in dispatch_shell\n"
     ]
    },
    {
     "name": "stdout",
     "output_type": "stream",
     "text": [
      "PyAEDT ERROR:     await result\n"
     ]
    },
    {
     "name": "stdout",
     "output_type": "stream",
     "text": [
      "PyAEDT ERROR:   File \"C:\\actions-runner\\_work\\pyaedt-toolkits-antenna\\pyaedt-toolkits-antenna\\.venv\\Lib\\site-packages\\ipykernel\\ipkernel.py\", line 362, in execute_request\n"
     ]
    },
    {
     "name": "stdout",
     "output_type": "stream",
     "text": [
      "PyAEDT ERROR:     await super().execute_request(stream, ident, parent)\n"
     ]
    },
    {
     "name": "stdout",
     "output_type": "stream",
     "text": [
      "PyAEDT ERROR:   File \"C:\\actions-runner\\_work\\pyaedt-toolkits-antenna\\pyaedt-toolkits-antenna\\.venv\\Lib\\site-packages\\ipykernel\\kernelbase.py\", line 778, in execute_request\n"
     ]
    },
    {
     "name": "stdout",
     "output_type": "stream",
     "text": [
      "PyAEDT ERROR:     reply_content = await reply_content\n"
     ]
    },
    {
     "name": "stdout",
     "output_type": "stream",
     "text": [
      "PyAEDT ERROR:   File \"C:\\actions-runner\\_work\\pyaedt-toolkits-antenna\\pyaedt-toolkits-antenna\\.venv\\Lib\\site-packages\\ipykernel\\ipkernel.py\", line 449, in do_execute\n"
     ]
    },
    {
     "name": "stdout",
     "output_type": "stream",
     "text": [
      "PyAEDT ERROR:     res = shell.run_cell(\n"
     ]
    },
    {
     "name": "stdout",
     "output_type": "stream",
     "text": [
      "PyAEDT ERROR:   File \"C:\\actions-runner\\_work\\pyaedt-toolkits-antenna\\pyaedt-toolkits-antenna\\.venv\\Lib\\site-packages\\ipykernel\\zmqshell.py\", line 549, in run_cell\n"
     ]
    },
    {
     "name": "stdout",
     "output_type": "stream",
     "text": [
      "PyAEDT ERROR:     return super().run_cell(*args, **kwargs)\n"
     ]
    },
    {
     "name": "stdout",
     "output_type": "stream",
     "text": [
      "PyAEDT ERROR:   File \"C:\\Users\\ansys\\AppData\\Local\\Temp\\ipykernel_8412\\1893892073.py\", line 1, in <module>\n"
     ]
    },
    {
     "name": "stdout",
     "output_type": "stream",
     "text": [
      "PyAEDT ERROR:     model.plot(show=False)\n"
     ]
    },
    {
     "name": "stdout",
     "output_type": "stream",
     "text": [
      "PyAEDT ERROR:   File \"C:\\actions-runner\\_work\\pyaedt-toolkits-antenna\\pyaedt-toolkits-antenna\\.venv\\Lib\\site-packages\\ansys\\aedt\\core\\visualization\\plot\\pyvista.py\", line 1385, in plot\n"
     ]
    },
    {
     "name": "stdout",
     "output_type": "stream",
     "text": [
      "PyAEDT ERROR:     self.pv.add_key_event(\"s\", s_callback)\n"
     ]
    },
    {
     "name": "stdout",
     "output_type": "stream",
     "text": [
      "PyAEDT ERROR:     ^^^^^^^^^^^^^^^^^^^^^\n"
     ]
    },
    {
     "name": "stdout",
     "output_type": "stream",
     "text": [
      "PyAEDT ERROR: 'nonetype' object has no attribute 'add_key_event' on plot\n"
     ]
    },
    {
     "name": "stdout",
     "output_type": "stream",
     "text": [
      "PyAEDT ERROR: **************************************************************\n"
     ]
    },
    {
     "data": {
      "text/plain": [
       "False"
      ]
     },
     "execution_count": 39,
     "metadata": {},
     "output_type": "execute_result"
    }
   ],
   "source": [
    "model.plot(show=False)"
   ]
  },
  {
   "cell_type": "markdown",
   "id": "99361d3d",
   "metadata": {},
   "source": [
    "## Load far field"
   ]
  },
  {
   "cell_type": "code",
   "execution_count": 40,
   "id": "a02ae6c1",
   "metadata": {
    "execution": {
     "iopub.execute_input": "2025-05-22T07:51:00.328898Z",
     "iopub.status.busy": "2025-05-22T07:51:00.328898Z",
     "iopub.status.idle": "2025-05-22T07:51:00.402103Z",
     "shell.execute_reply": "2025-05-22T07:51:00.402103Z"
    }
   },
   "outputs": [],
   "source": [
    "farfield_data = FfdSolutionData(farfield_metadata)"
   ]
  },
  {
   "cell_type": "markdown",
   "id": "8540596d",
   "metadata": {},
   "source": [
    "## Plot far field"
   ]
  },
  {
   "cell_type": "code",
   "execution_count": 41,
   "id": "b005d6c2",
   "metadata": {
    "execution": {
     "iopub.execute_input": "2025-05-22T07:51:00.402103Z",
     "iopub.status.busy": "2025-05-22T07:51:00.402103Z",
     "iopub.status.idle": "2025-05-22T07:51:00.474853Z",
     "shell.execute_reply": "2025-05-22T07:51:00.474853Z"
    }
   },
   "outputs": [
    {
     "name": "stdout",
     "output_type": "stream",
     "text": [
      "PyAEDT ERROR: **************************************************************\n"
     ]
    },
    {
     "name": "stdout",
     "output_type": "stream",
     "text": [
      "PyAEDT ERROR:   File \"<frozen runpy>\", line 198, in _run_module_as_main\n"
     ]
    },
    {
     "name": "stdout",
     "output_type": "stream",
     "text": [
      "PyAEDT ERROR:   File \"<frozen runpy>\", line 88, in _run_code\n"
     ]
    },
    {
     "name": "stdout",
     "output_type": "stream",
     "text": [
      "PyAEDT ERROR:   File \"C:\\actions-runner\\_work\\pyaedt-toolkits-antenna\\pyaedt-toolkits-antenna\\.venv\\Lib\\site-packages\\ipykernel_launcher.py\", line 18, in <module>\n"
     ]
    },
    {
     "name": "stdout",
     "output_type": "stream",
     "text": [
      "PyAEDT ERROR:     app.launch_new_instance()\n"
     ]
    },
    {
     "name": "stdout",
     "output_type": "stream",
     "text": [
      "PyAEDT ERROR:   File \"C:\\actions-runner\\_work\\pyaedt-toolkits-antenna\\pyaedt-toolkits-antenna\\.venv\\Lib\\site-packages\\traitlets\\config\\application.py\", line 1075, in launch_instance\n"
     ]
    },
    {
     "name": "stdout",
     "output_type": "stream",
     "text": [
      "PyAEDT ERROR:     app.start()\n"
     ]
    },
    {
     "name": "stdout",
     "output_type": "stream",
     "text": [
      "PyAEDT ERROR:   File \"C:\\actions-runner\\_work\\pyaedt-toolkits-antenna\\pyaedt-toolkits-antenna\\.venv\\Lib\\site-packages\\ipykernel\\kernelapp.py\", line 739, in start\n"
     ]
    },
    {
     "name": "stdout",
     "output_type": "stream",
     "text": [
      "PyAEDT ERROR:     self.io_loop.start()\n"
     ]
    },
    {
     "name": "stdout",
     "output_type": "stream",
     "text": [
      "PyAEDT ERROR:   File \"C:\\actions-runner\\_work\\pyaedt-toolkits-antenna\\pyaedt-toolkits-antenna\\.venv\\Lib\\site-packages\\tornado\\platform\\asyncio.py\", line 211, in start\n"
     ]
    },
    {
     "name": "stdout",
     "output_type": "stream",
     "text": [
      "PyAEDT ERROR:     self.asyncio_loop.run_forever()\n"
     ]
    },
    {
     "name": "stdout",
     "output_type": "stream",
     "text": [
      "PyAEDT ERROR:   File \"C:\\actions-runner\\_work\\_tool\\Python\\3.12.10\\x64\\Lib\\asyncio\\base_events.py\", line 645, in run_forever\n"
     ]
    },
    {
     "name": "stdout",
     "output_type": "stream",
     "text": [
      "PyAEDT ERROR:     self._run_once()\n"
     ]
    },
    {
     "name": "stdout",
     "output_type": "stream",
     "text": [
      "PyAEDT ERROR:   File \"C:\\actions-runner\\_work\\_tool\\Python\\3.12.10\\x64\\Lib\\asyncio\\base_events.py\", line 1999, in _run_once\n"
     ]
    },
    {
     "name": "stdout",
     "output_type": "stream",
     "text": [
      "PyAEDT ERROR:     handle._run()\n"
     ]
    },
    {
     "name": "stdout",
     "output_type": "stream",
     "text": [
      "PyAEDT ERROR:   File \"C:\\actions-runner\\_work\\_tool\\Python\\3.12.10\\x64\\Lib\\asyncio\\events.py\", line 88, in _run\n"
     ]
    },
    {
     "name": "stdout",
     "output_type": "stream",
     "text": [
      "PyAEDT ERROR:     self._context.run(self._callback, *self._args)\n"
     ]
    },
    {
     "name": "stdout",
     "output_type": "stream",
     "text": [
      "PyAEDT ERROR:   File \"C:\\actions-runner\\_work\\pyaedt-toolkits-antenna\\pyaedt-toolkits-antenna\\.venv\\Lib\\site-packages\\ipykernel\\kernelbase.py\", line 545, in dispatch_queue\n"
     ]
    },
    {
     "name": "stdout",
     "output_type": "stream",
     "text": [
      "PyAEDT ERROR:     await self.process_one()\n"
     ]
    },
    {
     "name": "stdout",
     "output_type": "stream",
     "text": [
      "PyAEDT ERROR:   File \"C:\\actions-runner\\_work\\pyaedt-toolkits-antenna\\pyaedt-toolkits-antenna\\.venv\\Lib\\site-packages\\ipykernel\\kernelbase.py\", line 534, in process_one\n"
     ]
    },
    {
     "name": "stdout",
     "output_type": "stream",
     "text": [
      "PyAEDT ERROR:     await dispatch(*args)\n"
     ]
    },
    {
     "name": "stdout",
     "output_type": "stream",
     "text": [
      "PyAEDT ERROR:   File \"C:\\actions-runner\\_work\\pyaedt-toolkits-antenna\\pyaedt-toolkits-antenna\\.venv\\Lib\\site-packages\\ipykernel\\kernelbase.py\", line 437, in dispatch_shell\n"
     ]
    },
    {
     "name": "stdout",
     "output_type": "stream",
     "text": [
      "PyAEDT ERROR:     await result\n"
     ]
    },
    {
     "name": "stdout",
     "output_type": "stream",
     "text": [
      "PyAEDT ERROR:   File \"C:\\actions-runner\\_work\\pyaedt-toolkits-antenna\\pyaedt-toolkits-antenna\\.venv\\Lib\\site-packages\\ipykernel\\ipkernel.py\", line 362, in execute_request\n"
     ]
    },
    {
     "name": "stdout",
     "output_type": "stream",
     "text": [
      "PyAEDT ERROR:     await super().execute_request(stream, ident, parent)\n"
     ]
    },
    {
     "name": "stdout",
     "output_type": "stream",
     "text": [
      "PyAEDT ERROR:   File \"C:\\actions-runner\\_work\\pyaedt-toolkits-antenna\\pyaedt-toolkits-antenna\\.venv\\Lib\\site-packages\\ipykernel\\kernelbase.py\", line 778, in execute_request\n"
     ]
    },
    {
     "name": "stdout",
     "output_type": "stream",
     "text": [
      "PyAEDT ERROR:     reply_content = await reply_content\n"
     ]
    },
    {
     "name": "stdout",
     "output_type": "stream",
     "text": [
      "PyAEDT ERROR:   File \"C:\\actions-runner\\_work\\pyaedt-toolkits-antenna\\pyaedt-toolkits-antenna\\.venv\\Lib\\site-packages\\ipykernel\\ipkernel.py\", line 449, in do_execute\n"
     ]
    },
    {
     "name": "stdout",
     "output_type": "stream",
     "text": [
      "PyAEDT ERROR:     res = shell.run_cell(\n"
     ]
    },
    {
     "name": "stdout",
     "output_type": "stream",
     "text": [
      "PyAEDT ERROR:   File \"C:\\actions-runner\\_work\\pyaedt-toolkits-antenna\\pyaedt-toolkits-antenna\\.venv\\Lib\\site-packages\\ipykernel\\zmqshell.py\", line 549, in run_cell\n"
     ]
    },
    {
     "name": "stdout",
     "output_type": "stream",
     "text": [
      "PyAEDT ERROR:     return super().run_cell(*args, **kwargs)\n"
     ]
    },
    {
     "name": "stdout",
     "output_type": "stream",
     "text": [
      "PyAEDT ERROR:   File \"C:\\Users\\ansys\\AppData\\Local\\Temp\\ipykernel_8412\\2321922880.py\", line 1, in <module>\n"
     ]
    },
    {
     "name": "stdout",
     "output_type": "stream",
     "text": [
      "PyAEDT ERROR:     data = farfield_data.plot_3d(show=False)\n"
     ]
    },
    {
     "name": "stdout",
     "output_type": "stream",
     "text": [
      "PyAEDT ERROR:   File \"C:\\actions-runner\\_work\\pyaedt-toolkits-antenna\\pyaedt-toolkits-antenna\\.venv\\Lib\\site-packages\\ansys\\aedt\\core\\internal\\checks.py\", line 157, in aedt_graphics_decorator\n"
     ]
    },
    {
     "name": "stdout",
     "output_type": "stream",
     "text": [
      "PyAEDT ERROR:     check_graphics_available()\n"
     ]
    },
    {
     "name": "stdout",
     "output_type": "stream",
     "text": [
      "PyAEDT ERROR:   File \"C:\\actions-runner\\_work\\pyaedt-toolkits-antenna\\pyaedt-toolkits-antenna\\.venv\\Lib\\site-packages\\ansys\\aedt\\core\\internal\\checks.py\", line 139, in check_graphics_available\n"
     ]
    },
    {
     "name": "stdout",
     "output_type": "stream",
     "text": [
      "PyAEDT ERROR:     raise ImportError(ERROR_GRAPHICS_REQUIRED)\n"
     ]
    },
    {
     "name": "stdout",
     "output_type": "stream",
     "text": [
      "PyAEDT ERROR: Graphics dependencies are required. please install the ``graphics`` target to use this method. you can install it by running `pip install pyaedt[graphics]` or `pip install pyaedt[all]`. on aedt_graphics_decorator\n"
     ]
    },
    {
     "name": "stdout",
     "output_type": "stream",
     "text": [
      "PyAEDT ERROR: **************************************************************\n"
     ]
    }
   ],
   "source": [
    "data = farfield_data.plot_3d(show=False)"
   ]
  },
  {
   "cell_type": "markdown",
   "id": "74fa57a9",
   "metadata": {},
   "source": [
    "## Clean temporary directory"
   ]
  },
  {
   "cell_type": "code",
   "execution_count": 42,
   "id": "1d214f44",
   "metadata": {
    "execution": {
     "iopub.execute_input": "2025-05-22T07:51:00.474853Z",
     "iopub.status.busy": "2025-05-22T07:51:00.474853Z",
     "iopub.status.idle": "2025-05-22T07:51:00.614278Z",
     "shell.execute_reply": "2025-05-22T07:51:00.614278Z"
    }
   },
   "outputs": [],
   "source": [
    "temp_dir.cleanup()"
   ]
  }
 ],
 "metadata": {
  "jupytext": {
   "cell_metadata_filter": "-all",
   "main_language": "python",
   "notebook_metadata_filter": "-all",
   "text_representation": {
    "extension": ".py",
    "format_name": "light"
   }
  },
  "language_info": {
   "codemirror_mode": {
    "name": "ipython",
    "version": 3
   },
   "file_extension": ".py",
   "mimetype": "text/x-python",
   "name": "python",
   "nbconvert_exporter": "python",
   "pygments_lexer": "ipython3",
   "version": "3.12.10"
  }
 },
 "nbformat": 4,
 "nbformat_minor": 5
}
