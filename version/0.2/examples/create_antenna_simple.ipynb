{
 "cells": [
  {
   "cell_type": "markdown",
   "id": "c54b24bd",
   "metadata": {
    "lines_to_next_cell": 2
   },
   "source": [
    "# Bowtie antenna synthesis\n",
    "\n",
    "This example demonstrates how to synthesize a bowtie antenna using the ``BowTieRounded`` class.\n",
    "It initiates AEDT through PyAEDT, sets up an empty HFSS design, and proceeds to create the antenna."
   ]
  },
  {
   "cell_type": "markdown",
   "id": "42456210",
   "metadata": {},
   "source": [
    "## Perform required imports\n",
    "\n",
    "Import the antenna toolkit class and PyAEDT."
   ]
  },
  {
   "cell_type": "code",
   "execution_count": 1,
   "id": "c54a8752",
   "metadata": {
    "execution": {
     "iopub.execute_input": "2024-06-07T09:31:44.961828Z",
     "iopub.status.busy": "2024-06-07T09:31:44.961828Z",
     "iopub.status.idle": "2024-06-07T09:31:44.977470Z",
     "shell.execute_reply": "2024-06-07T09:31:44.977470Z"
    }
   },
   "outputs": [],
   "source": [
    "import tempfile"
   ]
  },
  {
   "cell_type": "code",
   "execution_count": 2,
   "id": "8eb90bcb",
   "metadata": {
    "execution": {
     "iopub.execute_input": "2024-06-07T09:31:44.977470Z",
     "iopub.status.busy": "2024-06-07T09:31:44.977470Z",
     "iopub.status.idle": "2024-06-07T09:31:45.008766Z",
     "shell.execute_reply": "2024-06-07T09:31:45.008766Z"
    }
   },
   "outputs": [],
   "source": [
    "import pyaedt"
   ]
  },
  {
   "cell_type": "code",
   "execution_count": 3,
   "id": "cd3fe957",
   "metadata": {
    "execution": {
     "iopub.execute_input": "2024-06-07T09:31:45.008766Z",
     "iopub.status.busy": "2024-06-07T09:31:45.008766Z",
     "iopub.status.idle": "2024-06-07T09:31:45.243149Z",
     "shell.execute_reply": "2024-06-07T09:31:45.243149Z"
    }
   },
   "outputs": [],
   "source": [
    "from ansys.aedt.toolkits.antenna.backend.antenna_models.bowtie import BowTieRounded"
   ]
  },
  {
   "cell_type": "markdown",
   "id": "183c08f0",
   "metadata": {},
   "source": [
    "##  Set AEDT version\n",
    "\n",
    "Set AEDT version."
   ]
  },
  {
   "cell_type": "code",
   "execution_count": 4,
   "id": "5c3624d7",
   "metadata": {
    "execution": {
     "iopub.execute_input": "2024-06-07T09:31:45.243149Z",
     "iopub.status.busy": "2024-06-07T09:31:45.243149Z",
     "iopub.status.idle": "2024-06-07T09:31:45.258798Z",
     "shell.execute_reply": "2024-06-07T09:31:45.258798Z"
    }
   },
   "outputs": [],
   "source": [
    "aedt_version = \"2024.1\""
   ]
  },
  {
   "cell_type": "markdown",
   "id": "68b7e819",
   "metadata": {},
   "source": [
    "## Set non-graphical mode\n",
    "\n",
    "Set non-graphical mode."
   ]
  },
  {
   "cell_type": "code",
   "execution_count": 5,
   "id": "f25d72ac",
   "metadata": {
    "execution": {
     "iopub.execute_input": "2024-06-07T09:31:45.258798Z",
     "iopub.status.busy": "2024-06-07T09:31:45.258798Z",
     "iopub.status.idle": "2024-06-07T09:31:45.274453Z",
     "shell.execute_reply": "2024-06-07T09:31:45.274453Z"
    }
   },
   "outputs": [],
   "source": [
    "non_graphical = True"
   ]
  },
  {
   "cell_type": "markdown",
   "id": "e996bbdc",
   "metadata": {},
   "source": [
    "## Create temporary directory"
   ]
  },
  {
   "cell_type": "code",
   "execution_count": 6,
   "id": "a07e1575",
   "metadata": {
    "execution": {
     "iopub.execute_input": "2024-06-07T09:31:45.274453Z",
     "iopub.status.busy": "2024-06-07T09:31:45.274453Z",
     "iopub.status.idle": "2024-06-07T09:31:45.290048Z",
     "shell.execute_reply": "2024-06-07T09:31:45.290048Z"
    }
   },
   "outputs": [],
   "source": [
    "temp_dir = tempfile.TemporaryDirectory(suffix=\"_ansys\")\n",
    "project_name = pyaedt.generate_unique_project_name(rootname=temp_dir.name, project_name=\"bowtie_example\")"
   ]
  },
  {
   "cell_type": "markdown",
   "id": "7071acda",
   "metadata": {},
   "source": [
    "## Create antenna object only for synthesis\n",
    "\n",
    "Create antenna object."
   ]
  },
  {
   "cell_type": "code",
   "execution_count": 7,
   "id": "7caa46bf",
   "metadata": {
    "execution": {
     "iopub.execute_input": "2024-06-07T09:31:45.290048Z",
     "iopub.status.busy": "2024-06-07T09:31:45.290048Z",
     "iopub.status.idle": "2024-06-07T09:31:45.305648Z",
     "shell.execute_reply": "2024-06-07T09:31:45.305648Z"
    }
   },
   "outputs": [
    {
     "name": "stdout",
     "output_type": "stream",
     "text": [
      "Arm length: 0.27cm at 10.0GHz\n"
     ]
    }
   ],
   "source": [
    "oantenna1 = BowTieRounded(None)\n",
    "print(\n",
    "    \"Arm length: {}{} at {}{}\".format(\n",
    "        str(oantenna1.synthesis_parameters.arm_length.value),\n",
    "        oantenna1.length_unit,\n",
    "        oantenna1.frequency,\n",
    "        oantenna1.frequency_unit,\n",
    "    )\n",
    ")"
   ]
  },
  {
   "cell_type": "markdown",
   "id": "19f57c5f",
   "metadata": {},
   "source": [
    "## Change synthesis frequency\n",
    "\n",
    "Modify resonance frequency and modify parameters."
   ]
  },
  {
   "cell_type": "code",
   "execution_count": 8,
   "id": "28bf9e30",
   "metadata": {
    "execution": {
     "iopub.execute_input": "2024-06-07T09:31:45.305648Z",
     "iopub.status.busy": "2024-06-07T09:31:45.305648Z",
     "iopub.status.idle": "2024-06-07T09:31:45.321278Z",
     "shell.execute_reply": "2024-06-07T09:31:45.321278Z"
    }
   },
   "outputs": [
    {
     "name": "stdout",
     "output_type": "stream",
     "text": [
      "Arm length: 0.22cm at 12.0GHz\n"
     ]
    }
   ],
   "source": [
    "oantenna1.frequency = 12.0\n",
    "print(\n",
    "    \"Arm length: {}{} at {}{}\".format(\n",
    "        str(oantenna1.synthesis_parameters.arm_length.value),\n",
    "        oantenna1.length_unit,\n",
    "        oantenna1.frequency,\n",
    "        oantenna1.frequency_unit,\n",
    "    )\n",
    ")"
   ]
  },
  {
   "cell_type": "markdown",
   "id": "9b1e0fdc",
   "metadata": {},
   "source": [
    "## Create an empty HFSS design\n",
    "\n",
    "Create an empty HFSS design."
   ]
  },
  {
   "cell_type": "code",
   "execution_count": 9,
   "id": "8d059231",
   "metadata": {
    "execution": {
     "iopub.execute_input": "2024-06-07T09:31:45.321278Z",
     "iopub.status.busy": "2024-06-07T09:31:45.321278Z",
     "iopub.status.idle": "2024-06-07T09:32:22.943223Z",
     "shell.execute_reply": "2024-06-07T09:32:22.943223Z"
    }
   },
   "outputs": [
    {
     "name": "stdout",
     "output_type": "stream",
     "text": [
      "PyAEDT INFO: Initializing new Desktop session.\n"
     ]
    },
    {
     "name": "stdout",
     "output_type": "stream",
     "text": [
      "PyAEDT INFO: StdOut is enabled\n"
     ]
    },
    {
     "name": "stdout",
     "output_type": "stream",
     "text": [
      "PyAEDT INFO: Log on file is enabled\n"
     ]
    },
    {
     "name": "stdout",
     "output_type": "stream",
     "text": [
      "PyAEDT INFO: Log on Desktop Message Manager is enabled\n"
     ]
    },
    {
     "name": "stdout",
     "output_type": "stream",
     "text": [
      "PyAEDT INFO: Debug logger is disabled. PyAEDT methods will not be logged.\n"
     ]
    },
    {
     "name": "stdout",
     "output_type": "stream",
     "text": [
      "PyAEDT INFO: Launching PyAEDT outside AEDT with gRPC plugin.\n"
     ]
    },
    {
     "name": "stdout",
     "output_type": "stream",
     "text": [
      "PyAEDT INFO: New AEDT session is starting on gRPC port 58749\n"
     ]
    },
    {
     "name": "stdout",
     "output_type": "stream",
     "text": [
      "PyAEDT INFO: AEDT installation Path C:\\Program Files\\AnsysEM\\v241\\Win64\n"
     ]
    },
    {
     "name": "stdout",
     "output_type": "stream",
     "text": [
      "PyAEDT INFO: Ansoft.ElectronicsDesktop.2024.1 version started with process ID 6756.\n"
     ]
    },
    {
     "name": "stdout",
     "output_type": "stream",
     "text": [
      "PyAEDT INFO: pyaedt v0.9.3\n"
     ]
    },
    {
     "name": "stdout",
     "output_type": "stream",
     "text": [
      "PyAEDT INFO: Python version 3.10.11 (tags/v3.10.11:7d4cc5a, Apr  5 2023, 00:38:17) [MSC v.1929 64 bit (AMD64)]\n"
     ]
    },
    {
     "name": "stdout",
     "output_type": "stream",
     "text": [
      "PyAEDT INFO: AEDT 2024.1.0 Build Date 2023-11-27 22:16:18\n"
     ]
    },
    {
     "name": "stdout",
     "output_type": "stream",
     "text": [
      "PyAEDT INFO: Project bowtie_example has been created.\n"
     ]
    },
    {
     "name": "stdout",
     "output_type": "stream",
     "text": [
      "PyAEDT INFO: No design is present. Inserting a new design.\n"
     ]
    },
    {
     "name": "stdout",
     "output_type": "stream",
     "text": [
      "PyAEDT INFO: Added design 'HFSS_34X' of type HFSS.\n"
     ]
    },
    {
     "name": "stdout",
     "output_type": "stream",
     "text": [
      "PyAEDT INFO: Aedt Objects correctly read\n"
     ]
    }
   ],
   "source": [
    "app = pyaedt.Hfss(projectname=project_name, specified_version=aedt_version, non_graphical=non_graphical)"
   ]
  },
  {
   "cell_type": "markdown",
   "id": "b8b68702",
   "metadata": {},
   "source": [
    "## Create antenna in HFSS\n",
    "\n",
    "Create antenna object, change frequency synthesis, create antenna, and set up in HFSS."
   ]
  },
  {
   "cell_type": "code",
   "execution_count": 10,
   "id": "1f4b94c7",
   "metadata": {
    "execution": {
     "iopub.execute_input": "2024-06-07T09:32:22.943223Z",
     "iopub.status.busy": "2024-06-07T09:32:22.943223Z",
     "iopub.status.idle": "2024-06-07T09:32:24.615074Z",
     "shell.execute_reply": "2024-06-07T09:32:24.615074Z"
    }
   },
   "outputs": [
    {
     "name": "stdout",
     "output_type": "stream",
     "text": [
      "PyAEDT INFO: Parsing C:/Users/ansys/AppData/Local/Temp/tmp77vild_9_ansys/pyaedt_prj_M8S/bowtie_example.aedt.\n"
     ]
    },
    {
     "name": "stdout",
     "output_type": "stream",
     "text": [
      "PyAEDT INFO: File C:/Users/ansys/AppData/Local/Temp/tmp77vild_9_ansys/pyaedt_prj_M8S/bowtie_example.aedt correctly loaded. Elapsed time: 0m 0sec\n"
     ]
    },
    {
     "name": "stdout",
     "output_type": "stream",
     "text": [
      "PyAEDT INFO: aedt file load time 0.015625476837158203\n"
     ]
    },
    {
     "name": "stdout",
     "output_type": "stream",
     "text": [
      "PyAEDT INFO: Modeler class has been initialized! Elapsed time: 0m 0sec\n"
     ]
    },
    {
     "name": "stdout",
     "output_type": "stream",
     "text": [
      "PyAEDT INFO: Materials class has been initialized! Elapsed time: 0m 0sec\n"
     ]
    }
   ],
   "source": [
    "oantenna1 = BowTieRounded(app)"
   ]
  },
  {
   "cell_type": "code",
   "execution_count": 11,
   "id": "0f3aed81",
   "metadata": {
    "execution": {
     "iopub.execute_input": "2024-06-07T09:32:24.615074Z",
     "iopub.status.busy": "2024-06-07T09:32:24.615074Z",
     "iopub.status.idle": "2024-06-07T09:32:25.569492Z",
     "shell.execute_reply": "2024-06-07T09:32:25.569492Z"
    }
   },
   "outputs": [
    {
     "name": "stdout",
     "output_type": "stream",
     "text": [
      "PyAEDT WARNING: Argument `position` is deprecated for method `create_box`; use `origin` instead.\n"
     ]
    },
    {
     "name": "stdout",
     "output_type": "stream",
     "text": [
      "PyAEDT WARNING: Argument `dimensions_list` is deprecated for method `create_box`; use `sizes` instead.\n"
     ]
    },
    {
     "name": "stdout",
     "output_type": "stream",
     "text": [
      "PyAEDT WARNING: Argument `matname` is deprecated for method `create_box`; use `material` instead.\n"
     ]
    },
    {
     "name": "stdout",
     "output_type": "stream",
     "text": [
      "PyAEDT INFO: Parsing design objects. This operation can take time\n"
     ]
    },
    {
     "name": "stdout",
     "output_type": "stream",
     "text": [
      "PyAEDT INFO: 3D Modeler objects parsed. Elapsed time: 0m 0sec\n"
     ]
    },
    {
     "name": "stdout",
     "output_type": "stream",
     "text": [
      "PyAEDT INFO: Union of 2 objects has been executed.\n"
     ]
    },
    {
     "name": "stdout",
     "output_type": "stream",
     "text": [
      "PyAEDT WARNING: Argument `csPlane` is deprecated for method `create_rectangle`; use `orientation` instead.\n"
     ]
    },
    {
     "name": "stdout",
     "output_type": "stream",
     "text": [
      "PyAEDT WARNING: Argument `position` is deprecated for method `create_rectangle`; use `origin` instead.\n"
     ]
    },
    {
     "name": "stdout",
     "output_type": "stream",
     "text": [
      "PyAEDT WARNING: Argument `dimension_list` is deprecated for method `create_rectangle`; use `sizes` instead.\n"
     ]
    }
   ],
   "source": [
    "# Create antenna in HFSS.\n",
    "oantenna1.model_hfss()"
   ]
  },
  {
   "cell_type": "markdown",
   "id": "28e49caa",
   "metadata": {},
   "source": [
    "Create antenna setup."
   ]
  },
  {
   "cell_type": "code",
   "execution_count": 12,
   "id": "d21bf046",
   "metadata": {
    "execution": {
     "iopub.execute_input": "2024-06-07T09:32:25.569492Z",
     "iopub.status.busy": "2024-06-07T09:32:25.569492Z",
     "iopub.status.idle": "2024-06-07T09:32:25.725765Z",
     "shell.execute_reply": "2024-06-07T09:32:25.725765Z"
    }
   },
   "outputs": [
    {
     "name": "stdout",
     "output_type": "stream",
     "text": [
      "PyAEDT INFO: Boundary Perfect E PerfE_65YZ5T has been correctly created.\n"
     ]
    },
    {
     "name": "stdout",
     "output_type": "stream",
     "text": [
      "PyAEDT INFO: Boundary Perfect E PerfE_3IWGTO has been correctly created.\n"
     ]
    },
    {
     "name": "stdout",
     "output_type": "stream",
     "text": [
      "PyAEDT INFO: Boundary AutoIdentify port_Patch_GFUSWN_1 has been correctly created.\n"
     ]
    },
    {
     "data": {
      "text/plain": [
       "True"
      ]
     },
     "execution_count": 12,
     "metadata": {},
     "output_type": "execute_result"
    }
   ],
   "source": [
    "oantenna1.setup_hfss()"
   ]
  },
  {
   "cell_type": "markdown",
   "id": "62b133b7",
   "metadata": {},
   "source": [
    "Change default name."
   ]
  },
  {
   "cell_type": "code",
   "execution_count": 13,
   "id": "09a5173a",
   "metadata": {
    "execution": {
     "iopub.execute_input": "2024-06-07T09:32:25.725765Z",
     "iopub.status.busy": "2024-06-07T09:32:25.725765Z",
     "iopub.status.idle": "2024-06-07T09:32:25.756969Z",
     "shell.execute_reply": "2024-06-07T09:32:25.756969Z"
    }
   },
   "outputs": [],
   "source": [
    "oantenna1.name = \"MyAmazingAntenna\""
   ]
  },
  {
   "cell_type": "markdown",
   "id": "2bed57de",
   "metadata": {},
   "source": [
    "## Create antenna in HFSS\n",
    "\n",
    "Create antenna object, change origin parameter in the antenna definition, create antenna, and set up in HFSS."
   ]
  },
  {
   "cell_type": "code",
   "execution_count": 14,
   "id": "316ccd04",
   "metadata": {
    "execution": {
     "iopub.execute_input": "2024-06-07T09:32:25.756969Z",
     "iopub.status.busy": "2024-06-07T09:32:25.756969Z",
     "iopub.status.idle": "2024-06-07T09:32:26.600754Z",
     "shell.execute_reply": "2024-06-07T09:32:26.600754Z"
    }
   },
   "outputs": [
    {
     "name": "stdout",
     "output_type": "stream",
     "text": [
      "PyAEDT WARNING: Argument `position` is deprecated for method `create_box`; use `origin` instead.\n"
     ]
    },
    {
     "name": "stdout",
     "output_type": "stream",
     "text": [
      "PyAEDT WARNING: Argument `dimensions_list` is deprecated for method `create_box`; use `sizes` instead.\n"
     ]
    },
    {
     "name": "stdout",
     "output_type": "stream",
     "text": [
      "PyAEDT WARNING: Argument `matname` is deprecated for method `create_box`; use `material` instead.\n"
     ]
    },
    {
     "name": "stdout",
     "output_type": "stream",
     "text": [
      "PyAEDT INFO: Union of 2 objects has been executed.\n"
     ]
    },
    {
     "name": "stdout",
     "output_type": "stream",
     "text": [
      "PyAEDT WARNING: Argument `csPlane` is deprecated for method `create_rectangle`; use `orientation` instead.\n"
     ]
    },
    {
     "name": "stdout",
     "output_type": "stream",
     "text": [
      "PyAEDT WARNING: Argument `position` is deprecated for method `create_rectangle`; use `origin` instead.\n"
     ]
    },
    {
     "name": "stdout",
     "output_type": "stream",
     "text": [
      "PyAEDT WARNING: Argument `dimension_list` is deprecated for method `create_rectangle`; use `sizes` instead.\n"
     ]
    },
    {
     "name": "stdout",
     "output_type": "stream",
     "text": [
      "PyAEDT INFO: Boundary Perfect E PerfE_X7D3RA has been correctly created.\n"
     ]
    },
    {
     "name": "stdout",
     "output_type": "stream",
     "text": [
      "PyAEDT INFO: Boundary Perfect E PerfE_XZORYU has been correctly created.\n"
     ]
    },
    {
     "name": "stdout",
     "output_type": "stream",
     "text": [
      "PyAEDT INFO: Boundary AutoIdentify port_MyAntenna_1 has been correctly created.\n"
     ]
    },
    {
     "data": {
      "text/plain": [
       "True"
      ]
     },
     "execution_count": 14,
     "metadata": {},
     "output_type": "execute_result"
    }
   ],
   "source": [
    "oantenna2 = BowTieRounded(app, origin=[2, 5, 0], name=\"MyAntenna\")\n",
    "oantenna2.model_hfss()\n",
    "oantenna2.setup_hfss()"
   ]
  },
  {
   "cell_type": "markdown",
   "id": "cc88f948",
   "metadata": {},
   "source": [
    "## Plot HFSS model\n",
    "\n",
    "Plot geometry with PyVista."
   ]
  },
  {
   "cell_type": "code",
   "execution_count": 15,
   "id": "e5dda93f",
   "metadata": {
    "execution": {
     "iopub.execute_input": "2024-06-07T09:32:26.600754Z",
     "iopub.status.busy": "2024-06-07T09:32:26.600754Z",
     "iopub.status.idle": "2024-06-07T09:32:29.633354Z",
     "shell.execute_reply": "2024-06-07T09:32:29.633354Z"
    }
   },
   "outputs": [
    {
     "name": "stdout",
     "output_type": "stream",
     "text": [
      "PyAEDT INFO: PostProcessor class has been initialized! Elapsed time: 0m 0sec\n"
     ]
    },
    {
     "name": "stdout",
     "output_type": "stream",
     "text": [
      "PyAEDT INFO: Post class has been initialized! Elapsed time: 0m 0sec\n"
     ]
    },
    {
     "name": "stderr",
     "output_type": "stream",
     "text": [
      "C:\\Users\\Public\\actions-runner\\_work\\pyaedt-toolkits-antenna\\pyaedt-toolkits-antenna\\.venv\\lib\\site-packages\\pyvista\\jupyter\\notebook.py:34: UserWarning: Failed to use notebook backend: \n",
      "\n",
      "No module named 'trame'\n",
      "\n",
      "Falling back to a static output.\n",
      "  warnings.warn(\n"
     ]
    },
    {
     "data": {
      "image/jpeg": "[encoded data removed]",
      "image/png": "[encoded data removed]",
      "text/plain": [
       "<PIL.Image.Image image mode=RGB size=600x600>"
      ]
     },
     "metadata": {},
     "output_type": "display_data"
    },
    {
     "data": {
      "text/plain": [
       "<pyaedt.generic.plot.ModelPlotter at 0x184edb69670>"
      ]
     },
     "execution_count": 15,
     "metadata": {},
     "output_type": "execute_result"
    }
   ],
   "source": [
    "app.plot()"
   ]
  },
  {
   "cell_type": "markdown",
   "id": "0b1f9fe8",
   "metadata": {},
   "source": [
    "## Release AEDT\n",
    "\n",
    "Release AEDT."
   ]
  },
  {
   "cell_type": "code",
   "execution_count": 16,
   "id": "dd14f772",
   "metadata": {
    "execution": {
     "iopub.execute_input": "2024-06-07T09:32:29.633354Z",
     "iopub.status.busy": "2024-06-07T09:32:29.633354Z",
     "iopub.status.idle": "2024-06-07T09:32:32.510229Z",
     "shell.execute_reply": "2024-06-07T09:32:32.510229Z"
    }
   },
   "outputs": [
    {
     "name": "stdout",
     "output_type": "stream",
     "text": [
      "PyAEDT INFO: Desktop has been released and closed.\n"
     ]
    },
    {
     "data": {
      "text/plain": [
       "True"
      ]
     },
     "execution_count": 16,
     "metadata": {},
     "output_type": "execute_result"
    }
   ],
   "source": [
    "app.release_desktop(True, True)"
   ]
  },
  {
   "cell_type": "markdown",
   "id": "6aa0be5d",
   "metadata": {},
   "source": [
    "## Clean temporary directory"
   ]
  },
  {
   "cell_type": "code",
   "execution_count": 17,
   "id": "98170fba",
   "metadata": {
    "execution": {
     "iopub.execute_input": "2024-06-07T09:32:32.510229Z",
     "iopub.status.busy": "2024-06-07T09:32:32.510229Z",
     "iopub.status.idle": "2024-06-07T09:32:32.525802Z",
     "shell.execute_reply": "2024-06-07T09:32:32.525802Z"
    }
   },
   "outputs": [],
   "source": [
    "temp_dir.cleanup()"
   ]
  }
 ],
 "metadata": {
  "jupytext": {
   "cell_metadata_filter": "-all",
   "main_language": "python",
   "notebook_metadata_filter": "-all",
   "text_representation": {
    "extension": ".py",
    "format_name": "light"
   }
  },
  "language_info": {
   "codemirror_mode": {
    "name": "ipython",
    "version": 3
   },
   "file_extension": ".py",
   "mimetype": "text/x-python",
   "name": "python",
   "nbconvert_exporter": "python",
   "pygments_lexer": "ipython3",
   "version": "3.10.11"
  }
 },
 "nbformat": 4,
 "nbformat_minor": 5
}
